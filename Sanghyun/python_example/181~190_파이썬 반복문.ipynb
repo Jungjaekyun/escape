{
 "cells": [
  {
   "cell_type": "markdown",
   "source": [
    "## 181\r\n",
    "아래 표에서 하나의 행을 하나의 리스트로, 총 3개의 리스트를 갖는 이차원 리스트 apart를 정의하라.\r\n",
    "\r\n",
    "101호\t102호\r\n",
    "\r\n",
    "201호\t202호\r\n",
    "\r\n",
    "301호\t302호"
   ],
   "metadata": {}
  },
  {
   "cell_type": "code",
   "execution_count": 3,
   "source": [
    "apart = [[\"101호\",\"102호\"],[\"201호\",\"202호\"],[\"301호\",\"302호\"]]\r\n",
    "print(apart[1])"
   ],
   "outputs": [
    {
     "output_type": "stream",
     "name": "stdout",
     "text": [
      "['201호', '202호']\n"
     ]
    }
   ],
   "metadata": {}
  },
  {
   "cell_type": "markdown",
   "source": [
    "## 182\r\n",
    "아래 표에서 하나의 열을 하나의 리스트로, 총 2개의 리스트를 갖는 이차원 리스트 stock을 정의하라.\r\n",
    "\r\n",
    "시가\t종가\r\n",
    "\r\n",
    "100\t    80\r\n",
    "\r\n",
    "200 \t210\r\n",
    "\r\n",
    "300\t    330"
   ],
   "metadata": {}
  },
  {
   "cell_type": "code",
   "execution_count": 11,
   "source": [
    "stock = [ [\"시가\",100,200,300],[\"종가\",80,210,330] ]\r\n",
    "print(stock[0][0])\r\n",
    "print(stock[1][0])\r\n"
   ],
   "outputs": [
    {
     "output_type": "stream",
     "name": "stdout",
     "text": [
      "시가\n",
      "종가\n"
     ]
    }
   ],
   "metadata": {}
  },
  {
   "cell_type": "markdown",
   "source": [
    "## 183\r\n",
    "아래 표를 stock 이름의 딕셔너리로 표현하라.시가를 key로 저장하고, 나머지 같은 열의 데이터를 리스트로 저장해서 value로 저장한다. 종가 역시 key로 저장하고 나머지 같은 열의 데이터를 리스트로 저장해서 value로 저장한다.\r\n",
    "\r\n",
    "시가\t종가\r\n",
    "\r\n",
    "100\t    80\r\n",
    "\r\n",
    "200 \t210\r\n",
    "\r\n",
    "300\t    330"
   ],
   "metadata": {}
  },
  {
   "cell_type": "code",
   "execution_count": 14,
   "source": [
    "stock = {\"시가\":[100,200,300],\"종가\":[80,210,330]}\r\n",
    "print(stock[\"시가\"])"
   ],
   "outputs": [
    {
     "output_type": "stream",
     "name": "stdout",
     "text": [
      "[100, 200, 300]\n"
     ]
    }
   ],
   "metadata": {}
  },
  {
   "cell_type": "markdown",
   "source": [
    "## 184\r\n",
    "아래 표를 stock 이라는 이름의 딕셔너리로 표현하라. 날짜를 key로 저장하고, 나머지 같은 행의 데이터를 리스트로 저장해서 value로 저장한다. 첫 열이 날짜이다.\r\n",
    "\r\n",
    "10/10 | 80 | 110 | 70 | 90\r\n",
    "\r\n",
    "10/11 |210|\t230\t| 190 |\t200"
   ],
   "metadata": {}
  },
  {
   "cell_type": "code",
   "execution_count": 19,
   "source": [
    "stock = {\"10/10\":[80,110,70,90],\"10/11\":[210,230,190,200]}\r\n",
    "print(stock[\"10/10\"])\r\n"
   ],
   "outputs": [
    {
     "output_type": "stream",
     "name": "stdout",
     "text": [
      "[80, 110, 70, 90]\n"
     ]
    }
   ],
   "metadata": {}
  },
  {
   "cell_type": "markdown",
   "source": [
    "185\r\n",
    "리스트에 저장된 데이터를 아래와 같이 출력하라.\r\n",
    "\r\n",
    "apart = [ [101, 102], [201, 202], [301, 302] ]\r\n",
    "\r\n",
    "\r\n",
    "101 호\r\n",
    "\r\n",
    "102 호\r\n",
    "\r\n",
    "201 호\r\n",
    "\r\n",
    "202 호\r\n",
    "\r\n",
    "301 호\r\n",
    "\r\n",
    "302 호"
   ],
   "metadata": {}
  },
  {
   "cell_type": "code",
   "execution_count": 26,
   "source": [
    "apart = [ [101, 102], [201, 202], [301, 302] ]\r\n",
    "\r\n",
    "for row in apart:\r\n",
    "    for col in row:\r\n",
    "        print(col,\"호\")"
   ],
   "outputs": [
    {
     "output_type": "stream",
     "name": "stdout",
     "text": [
      "101 호\n",
      "102 호\n",
      "201 호\n",
      "202 호\n",
      "301 호\n",
      "302 호\n"
     ]
    }
   ],
   "metadata": {}
  },
  {
   "cell_type": "markdown",
   "source": [
    "## 186\r\n",
    "리스트에 저장된 데이터를 아래와 같이 출력하라.\r\n",
    "\r\n",
    "apart = [ [101, 102], [201, 202], [301, 302] ]\r\n",
    "\r\n",
    "301 호\r\n",
    "\r\n",
    "302 호\r\n",
    "\r\n",
    "201 호\r\n",
    "\r\n",
    "202 호\r\n",
    "\r\n",
    "101 호\r\n",
    "\r\n",
    "102 호"
   ],
   "metadata": {}
  },
  {
   "cell_type": "code",
   "execution_count": 28,
   "source": [
    "apart = [ [101, 102], [201, 202], [301, 302] ]\r\n",
    "\r\n",
    "for row in apart[::-1]:\r\n",
    "    for col in row:\r\n",
    "        print(col, \"호\")"
   ],
   "outputs": [
    {
     "output_type": "stream",
     "name": "stdout",
     "text": [
      "301 호\n",
      "302 호\n",
      "201 호\n",
      "202 호\n",
      "101 호\n",
      "102 호\n"
     ]
    }
   ],
   "metadata": {}
  },
  {
   "cell_type": "markdown",
   "source": [
    "## 187\r\n",
    "리스트에 저장된 데이터를 아래와 같이 출력하라.\r\n",
    "\r\n",
    "apart = [ [101, 102], [201, 202], [301, 302] ]\r\n",
    "\r\n",
    "302 호\r\n",
    "\r\n",
    "301 호\r\n",
    "\r\n",
    "202 호\r\n",
    "\r\n",
    "201 호\r\n",
    "\r\n",
    "102 호\r\n",
    "\r\n",
    "101 호"
   ],
   "metadata": {}
  },
  {
   "cell_type": "code",
   "execution_count": 29,
   "source": [
    "apart = [ [101, 102], [201, 202], [301, 302] ]\r\n",
    "\r\n",
    "for row in apart[::-1]:\r\n",
    "    for col in row[::-1]:\r\n",
    "        print(col, \"호\")"
   ],
   "outputs": [
    {
     "output_type": "stream",
     "name": "stdout",
     "text": [
      "302 호\n",
      "301 호\n",
      "202 호\n",
      "201 호\n",
      "102 호\n",
      "101 호\n"
     ]
    }
   ],
   "metadata": {}
  },
  {
   "cell_type": "markdown",
   "source": [
    "## 188\r\n",
    "리스트에 저장된 데이터를 아래와 같이 출력하라.\r\n",
    "\r\n",
    "apart = [ [101, 102], [201, 202], [301, 302] ]\r\n",
    "\r\n",
    "101 호\r\n",
    "### -----\r\n",
    "102 호\r\n",
    "### -----\r\n",
    "201 호\r\n",
    "### -----\r\n",
    "202 호\r\n",
    "### -----\r\n",
    "301 호\r\n",
    "### -----\r\n",
    "302 호\r\n",
    "### -----"
   ],
   "metadata": {}
  },
  {
   "cell_type": "code",
   "execution_count": 33,
   "source": [
    "apart = [ [101, 102], [201, 202], [301, 302] ]\r\n",
    "\r\n",
    "for row in apart:\r\n",
    "    for col in row:\r\n",
    "        print(col,\"호\")\r\n",
    "        print(\"-\"*5)"
   ],
   "outputs": [
    {
     "output_type": "stream",
     "name": "stdout",
     "text": [
      "101 호\n",
      "-----\n",
      "102 호\n",
      "-----\n",
      "201 호\n",
      "-----\n",
      "202 호\n",
      "-----\n",
      "301 호\n",
      "-----\n",
      "302 호\n",
      "-----\n"
     ]
    }
   ],
   "metadata": {}
  },
  {
   "cell_type": "markdown",
   "source": [
    "## 189\r\n",
    "리스트에 저장된 데이터를 아래와 같이 출력하라.\r\n",
    "\r\n",
    "apart = [ [101, 102], [201, 202], [301, 302] ]\r\n",
    "\r\n",
    "101 호\r\n",
    "\r\n",
    "102 호\r\n",
    "### -----\r\n",
    "201 호\r\n",
    "\r\n",
    "202 호\r\n",
    "### -----\r\n",
    "301 호\r\n",
    "\r\n",
    "302 호\r\n",
    "### -----"
   ],
   "metadata": {}
  },
  {
   "cell_type": "code",
   "execution_count": 34,
   "source": [
    "apart = [ [101, 102], [201, 202], [301, 302] ]\r\n",
    "\r\n",
    "for row in apart:\r\n",
    "    for col in row:\r\n",
    "        print(col,\"호\")\r\n",
    "    print(\"-\"*5)"
   ],
   "outputs": [
    {
     "output_type": "stream",
     "name": "stdout",
     "text": [
      "101 호\n",
      "102 호\n",
      "-----\n",
      "201 호\n",
      "202 호\n",
      "-----\n",
      "301 호\n",
      "302 호\n",
      "-----\n"
     ]
    }
   ],
   "metadata": {}
  },
  {
   "cell_type": "markdown",
   "source": [
    "## 190\r\n",
    "리스트에 저장된 데이터를 아래와 같이 출력하라.\r\n",
    "\r\n",
    "apart = [ [101, 102], [201, 202], [301, 302] ]\r\n",
    "\r\n",
    "101 호\r\n",
    "\r\n",
    "102 호\r\n",
    "\r\n",
    "201 호\r\n",
    "\r\n",
    "202 호\r\n",
    "\r\n",
    "301 호\r\n",
    "\r\n",
    "302 호\r\n",
    "\r\n",
    "### -----"
   ],
   "metadata": {}
  },
  {
   "cell_type": "code",
   "execution_count": 35,
   "source": [
    "apart = [ [101, 102], [201, 202], [301, 302] ]\r\n",
    "\r\n",
    "for row in apart:\r\n",
    "    for col in row:\r\n",
    "        print(col,\"호\")\r\n",
    "print(\"-\"*5)"
   ],
   "outputs": [
    {
     "output_type": "stream",
     "name": "stdout",
     "text": [
      "101 호\n",
      "102 호\n",
      "201 호\n",
      "202 호\n",
      "301 호\n",
      "302 호\n",
      "-----\n"
     ]
    }
   ],
   "metadata": {}
  },
  {
   "cell_type": "code",
   "execution_count": null,
   "source": [],
   "outputs": [],
   "metadata": {}
  }
 ],
 "metadata": {
  "orig_nbformat": 4,
  "language_info": {
   "name": "python",
   "version": "3.7.8rc1",
   "mimetype": "text/x-python",
   "codemirror_mode": {
    "name": "ipython",
    "version": 3
   },
   "pygments_lexer": "ipython3",
   "nbconvert_exporter": "python",
   "file_extension": ".py"
  },
  "kernelspec": {
   "name": "python3",
   "display_name": "Python 3.7.8rc1 64-bit"
  },
  "interpreter": {
   "hash": "cc07735d28a0d4da7c204b7621a4e8051814cf7e137f5c0f118b7d9ce33f12a9"
  }
 },
 "nbformat": 4,
 "nbformat_minor": 2
}