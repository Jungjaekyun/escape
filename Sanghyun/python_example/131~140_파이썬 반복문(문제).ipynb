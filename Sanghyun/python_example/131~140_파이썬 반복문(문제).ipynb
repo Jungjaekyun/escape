{
 "cells": [
  {
   "cell_type": "markdown",
   "source": [
    "https://wikidocs.net/78562\r\n"
   ],
   "metadata": {}
  },
  {
   "cell_type": "markdown",
   "source": [
    "## 131\r\n",
    "for문의 실행결과를 예측하라.\r\n"
   ],
   "metadata": {}
  },
  {
   "cell_type": "code",
   "execution_count": 2,
   "source": [
    "\r\n",
    "과일 = [\"사과\", \"귤\", \"수박\"]\r\n",
    "for 변수 in 과일:\r\n",
    "    print(변수)"
   ],
   "outputs": [
    {
     "output_type": "stream",
     "name": "stdout",
     "text": [
      "사과\n",
      "귤\n",
      "수박\n"
     ]
    }
   ],
   "metadata": {}
  },
  {
   "cell_type": "markdown",
   "source": [
    "리스트에 들어있는 문자열이 한 라인에 하나씩 출력됩니다.\r\n",
    "사과\r\n",
    "귤\r\n",
    "수박"
   ],
   "metadata": {}
  },
  {
   "cell_type": "markdown",
   "source": [
    "## 132\r\n",
    "for문의 실행결과를 예측하라.\r\n"
   ],
   "metadata": {}
  },
  {
   "cell_type": "code",
   "execution_count": 4,
   "source": [
    "\r\n",
    "과일 = [\"사과\", \"귤\", \"수박\"]\r\n",
    "for 변수 in 과일:\r\n",
    "  print(\"#####\")\r\n"
   ],
   "outputs": [
    {
     "output_type": "stream",
     "name": "stdout",
     "text": [
      "#####\n",
      "#####\n",
      "#####\n"
     ]
    }
   ],
   "metadata": {}
  },
  {
   "cell_type": "markdown",
   "source": [
    "기초문법 배우기-1에서 for문의 핵심은 \"들여쓰기된 코드가 자료구조에 저장된 데이터 개수만큼 반복된다\"라고 설명했습니다. 과일 = [\"사과\", \"귤\", \"수박\"] 에는 세 개의 데이터가 저장돼 있으므로 들여쓰기된 print(\"####\")코드가 세 번 실행됩니다.\r\n",
    "#####\r\n",
    "#####\r\n",
    "#####"
   ],
   "metadata": {}
  },
  {
   "cell_type": "markdown",
   "source": [
    "## 133\r\n",
    "다음 for 문과 동일한 기능을 수행하는 코드를 작성하세요.\r\n"
   ],
   "metadata": {}
  },
  {
   "cell_type": "code",
   "execution_count": null,
   "source": [
    "\r\n",
    "for 변수 in [\"A\", \"B\", \"C\"]:\r\n",
    "  print(변수)"
   ],
   "outputs": [],
   "metadata": {}
  },
  {
   "cell_type": "markdown",
   "source": [
    "<!-- 파이썬 인터프리터가 어떤 순서로 코드를 실행하는지를 떠올려 보세요. \"변수 바인딩(라인 1) -> 변수 출력 (라인 2)\" 과정을 자료구조 데이터 개수 만큼 반복합니다. -->\r\n",
    "변수 = \"A\"\r\n",
    "print(변수)\r\n",
    "변수 = \"B\"\r\n",
    "print(변수)\r\n",
    "변수 = \"C\"\r\n",
    "print(변수)\r\n",
    "<!-- 간단해서 변수의 바인딩없이 다음과 같이 코드를 작성해도 됩니다. 모두 동일한 결과를 출력합니다. -->\r\n",
    "\r\n",
    "print(\"A\")\r\n",
    "print(\"B\")\r\n",
    "print(\"C\")"
   ],
   "metadata": {}
  },
  {
   "cell_type": "markdown",
   "source": [
    "## 134\r\n",
    "for문을 풀어서 동일한 동작을하는 코드를 작성하라.\r\n"
   ],
   "metadata": {}
  },
  {
   "cell_type": "code",
   "execution_count": 5,
   "source": [
    "\r\n",
    "for 변수 in [\"A\", \"B\", \"C\"]:\r\n",
    "  print(\"출력:\", 변수)"
   ],
   "outputs": [
    {
     "output_type": "stream",
     "name": "stdout",
     "text": [
      "출력: A\n",
      "출력: B\n",
      "출력: C\n"
     ]
    }
   ],
   "metadata": {}
  },
  {
   "cell_type": "code",
   "execution_count": 7,
   "source": [
    "변수 = \"A\"\r\n",
    "print(\"출력:\", 변수)\r\n",
    "변수 = \"B\"\r\n",
    "print(\"출력:\", 변수)\r\n",
    "변수 = \"C\"\r\n",
    "print(\"출력:\", 변수)\r\n",
    "print(\"출력:\", \"A\")\r\n",
    "print(\"출력:\", \"B\")\r\n",
    "print(\"출력:\", \"C\")"
   ],
   "outputs": [
    {
     "output_type": "stream",
     "name": "stdout",
     "text": [
      "출력: A\n",
      "출력: B\n",
      "출력: C\n",
      "출력: A\n",
      "출력: B\n",
      "출력: C\n"
     ]
    }
   ],
   "metadata": {}
  },
  {
   "cell_type": "markdown",
   "source": [
    "## 135\r\n",
    "for문을 풀어서 동일한 동작을 하는 코드를 작성하라.\r\n",
    "\r\n",
    "\r\n",
    "#### for 변수 in [\"A\", \"B\", \"C\"]:\r\n",
    "####  b = 변수.lower()\r\n",
    "####  print(\"변환:\", b)"
   ],
   "metadata": {}
  },
  {
   "cell_type": "code",
   "execution_count": 8,
   "source": [
    "# 들여쓰기된 코드의 내용은 중요하지 않습니다. 파이썬 인터프리터가 코드를 해석하는 순서를 익히는 것이 중요합니다. 라인1의 for문이 실행되면 변수에 첫 번재 데이터를 바인딩합니다. 그리고 들여쓰기된 라인 2의 코드를 실행합니다.\r\n",
    "변수 = \"A\"\r\n",
    "b = 변수.lower()\r\n",
    "print(\"변환:\", b)\r\n",
    "# 들여쓰기된 코드의 실행이 끝나면 라인 1로 이동해서 변수에 두 번재 데이터를 바인딩합니다. 그리고 들여쓰기된 코드를 실행합니다.\r\n",
    "\r\n",
    "변수 = \"B\"\r\n",
    "b = 변수.lower()\r\n",
    "print(\"변환:\", b)\r\n",
    "# 다음으로 변수 \"C\"를 바인딩하고 출력하면 되겠죠? for문을 풀어쓴 전체 코드는 다음과 같습니다.\r\n",
    "\r\n",
    "변수 = \"A\"\r\n",
    "b = 변수.lower()\r\n",
    "print(\"변환:\", b)\r\n",
    "변수 = \"B\"\r\n",
    "b = 변수.lower()\r\n",
    "print(\"변환:\", b)\r\n",
    "변수 = \"C\"\r\n",
    "b = 변수.lower()\r\n",
    "print(\"변환:\", b)"
   ],
   "outputs": [
    {
     "output_type": "stream",
     "name": "stdout",
     "text": [
      "변환: a\n",
      "변환: b\n",
      "변환: a\n",
      "변환: b\n",
      "변환: c\n"
     ]
    }
   ],
   "metadata": {}
  },
  {
   "cell_type": "markdown",
   "source": [
    "\r\n",
    "## 136\r\n",
    " 다음 코드를 for문으로 작성하라.\r\n"
   ],
   "metadata": {}
  },
  {
   "cell_type": "code",
   "execution_count": 9,
   "source": [
    "변수 = 10\r\n",
    "print(변수)\r\n",
    "변수 = 20\r\n",
    "print(변수)\r\n",
    "변수 = 30\r\n",
    "print(변수)"
   ],
   "outputs": [
    {
     "output_type": "stream",
     "name": "stdout",
     "text": [
      "10\n",
      "20\n",
      "30\n"
     ]
    }
   ],
   "metadata": {}
  },
  {
   "cell_type": "code",
   "execution_count": 11,
   "source": [
    "변수 = { 10, 20, 30 }\r\n",
    "\r\n",
    "for s in 변수 :\r\n",
    "    print(s)"
   ],
   "outputs": [
    {
     "output_type": "stream",
     "name": "stdout",
     "text": [
      "10\n",
      "20\n",
      "30\n"
     ]
    }
   ],
   "metadata": {}
  },
  {
   "cell_type": "code",
   "execution_count": 12,
   "source": [
    "# for문은 동일한 루틴을 반복해서 실행하는 문법이었습니다. 우선 문제에서 변하지 않고 반복되는 코드를 찾아보세요. print(변수) 부분이죠? 변하는 부분은 변수에 값을 대입하는 코드입니다.\r\n",
    "변수 = 10\r\n",
    "print(변수)\r\n",
    "변수 = 20\r\n",
    "print(변수)\r\n",
    "변수 = 30\r\n",
    "print(변수)\r\n",
    "\r\n",
    "# 반복되는 코드는 들여쓰기로 표현하고 for문에서 변하는 부분을 기술해 줍니다.\r\n",
    "\r\n",
    "for 변수 in [10, 20, 30]:\r\n",
    "  print(변수)\r\n",
    "# 다음과 같이 리스트 변수에 데이터를 바인딩하고, 변수를 for문의 자료구조 자리에 넣어줘도 됩니다.\r\n",
    "\r\n",
    "리스트 = [10, 20, 30]\r\n",
    "for 변수 in 리스트:\r\n",
    "  print(변수)"
   ],
   "outputs": [
    {
     "output_type": "stream",
     "name": "stdout",
     "text": [
      "10\n",
      "20\n",
      "30\n",
      "10\n",
      "20\n",
      "30\n",
      "10\n",
      "20\n",
      "30\n"
     ]
    }
   ],
   "metadata": {}
  },
  {
   "cell_type": "markdown",
   "source": [
    "## 137\r\n",
    "다음 코드를 for문으로 작성하라.\r\n",
    "\r\n",
    "#### print(10)\r\n",
    "#### print(20)\r\n",
    "#### print(30)\r\n",
    "\r\n"
   ],
   "metadata": {}
  },
  {
   "cell_type": "code",
   "execution_count": 13,
   "source": [
    "# 값을 바인딩하는 코드가 생략된 코드입니다. 그렇다해도 for문으로 변경할 수 있어야합니다. 변하는 부분은 값 10, 20, 30입니다. 변하지 않는 부분은 print() 코드입니다.\r\n",
    "변수 = 10\r\n",
    "print(변수)\r\n",
    "변수 = 20\r\n",
    "print(변수)\r\n",
    "변수 = 30\r\n",
    "print(변수)\r\n",
    "# 변하는 부분은 for문과 함께 리스트로 처리하고 변하지 않는 코드는 들여쓰기와 함께 적어줍니다.\r\n",
    "\r\n",
    "for 변수 in [10, 20, 30]:\r\n",
    "  print(변수)\r\n",
    "# 006번과 동일한 코드입니다."
   ],
   "outputs": [
    {
     "output_type": "stream",
     "name": "stdout",
     "text": [
      "10\n",
      "20\n",
      "30\n",
      "10\n",
      "20\n",
      "30\n"
     ]
    }
   ],
   "metadata": {}
  },
  {
   "cell_type": "markdown",
   "source": [
    "## 138\r\n",
    " 다음 코드를 for문으로 작성하라.\r\n"
   ],
   "metadata": {}
  },
  {
   "cell_type": "code",
   "execution_count": 15,
   "source": [
    "print(10)\r\n",
    "print(\"-------\")\r\n",
    "print(20)\r\n",
    "print(\"-------\")\r\n",
    "print(30)\r\n",
    "print(\"-------\")"
   ],
   "outputs": [
    {
     "output_type": "stream",
     "name": "stdout",
     "text": [
      "10\n",
      "-------\n",
      "20\n",
      "-------\n",
      "30\n",
      "-------\n"
     ]
    }
   ],
   "metadata": {}
  },
  {
   "cell_type": "code",
   "execution_count": 16,
   "source": [
    "# 변하는 값을 변수에 바인딩하고, 변수를 사용해서 나머지 코드를 작성합니다.\r\n",
    "변수 = 10\r\n",
    "print(변수)\r\n",
    "print(\"-------\")\r\n",
    "\r\n",
    "변수 = 20\r\n",
    "print(변수)\r\n",
    "print(\"-------\")\r\n",
    "\r\n",
    "변수 = 30\r\n",
    "print(변수)\r\n",
    "print(\"-------\")\r\n",
    "# 변하는 부분은 for문과 함께 리스트로 처리하고 변하지 않는 코드는 들여쓰기와 함께 적어줍니다.\r\n",
    "\r\n",
    "for 변수 in [10, 20, 30]:\r\n",
    "  print(변수)\r\n",
    "  print(\"-------\")"
   ],
   "outputs": [
    {
     "output_type": "stream",
     "name": "stdout",
     "text": [
      "10\n",
      "-------\n",
      "20\n",
      "-------\n",
      "30\n",
      "-------\n",
      "10\n",
      "-------\n",
      "20\n",
      "-------\n",
      "30\n",
      "-------\n"
     ]
    }
   ],
   "metadata": {}
  },
  {
   "cell_type": "markdown",
   "source": [
    "## 139\r\n",
    "다음 코드를 for문으로 작성하라.\r\n"
   ],
   "metadata": {}
  },
  {
   "cell_type": "code",
   "execution_count": 20,
   "source": [
    "\r\n",
    "print(\"++++\")\r\n",
    "print(10)\r\n",
    "print(20)\r\n",
    "print(30)"
   ],
   "outputs": [
    {
     "output_type": "stream",
     "name": "stdout",
     "text": [
      "++++\n",
      "10\n",
      "20\n",
      "30\n"
     ]
    }
   ],
   "metadata": {}
  },
  {
   "cell_type": "code",
   "execution_count": 21,
   "source": [
    "# 정답확인\r\n",
    "# print(\"++++\") 코드가 함정입니다. 파이썬 for문은 반복되는 코드에만 사용합니다.\r\n",
    "\r\n",
    "print(\"++++\")\r\n",
    "for 변수 in [10, 20, 30]:\r\n",
    "  print(변수)"
   ],
   "outputs": [
    {
     "output_type": "stream",
     "name": "stdout",
     "text": [
      "++++\n",
      "10\n",
      "20\n",
      "30\n"
     ]
    }
   ],
   "metadata": {}
  },
  {
   "cell_type": "markdown",
   "source": [
    "## 140\r\n",
    "다음 코드를 for문으로 작성하라."
   ],
   "metadata": {}
  },
  {
   "cell_type": "code",
   "execution_count": 22,
   "source": [
    "print(\"-------\")\r\n",
    "print(\"-------\")\r\n",
    "print(\"-------\")\r\n",
    "print(\"-------\")"
   ],
   "outputs": [
    {
     "output_type": "stream",
     "name": "stdout",
     "text": [
      "-------\n",
      "-------\n",
      "-------\n",
      "-------\n"
     ]
    }
   ],
   "metadata": {}
  },
  {
   "cell_type": "code",
   "execution_count": 26,
   "source": [
    "for 변수 in [1,2,3,4]:\r\n",
    "  print(\"-------\")\r\n"
   ],
   "outputs": [
    {
     "output_type": "stream",
     "name": "stdout",
     "text": [
      "-------\n",
      "-------\n",
      "-------\n",
      "-------\n"
     ]
    }
   ],
   "metadata": {}
  },
  {
   "cell_type": "code",
   "execution_count": 28,
   "source": [
    "# 네 번 반복 출력하는 코드를 작성하는 문제입니다.\r\n",
    "# - 변하는 값 : 없음\r\n",
    "# - 변하지 않는 코드 : print(\"-------\")\r\n",
    "# 지금까지 정리한 내용을 코드로 작성하면 아래와 같습니다. \"????\" 부분을 어떻게 채워야 할까요?\r\n",
    "\r\n",
    "# for 변수 in ?????:\r\n",
    "#   print(\"-------\")\r\n",
    "# 파이썬 문법에서 강조했던 내용을 떠올려 봅시다.\r\n",
    "\r\n",
    "# 파이썬 for문은 들여쓰기된 코드가 자료구조의 데이터 개수만큼 반복된다는 사실이 중요합니다.\r\n",
    "\r\n",
    "# 문제에서 원하는 것은 들여쓰기된 코드가 4번 실행되는 것입니다. 그렇다면 for문의 자료구조자리에 데이터가 4개저장된 리스트가 들어가면 어떻게 될까요?\r\n",
    "\r\n",
    "for 변수 in [\"가\", \"나\", \"다\", \"라\"]:\r\n",
    "  print(\"-------\")\r\n",
    "# 변수에 값이 바인딩되지만 사용되지 않을뿐 실행해보면 들여쓰기된 코드가 4번 실행됩니다. 위 예제에서는 자료구조에 \"가나다라\" 문자열 값을 넣었지만 아래와 같이 1,2,3,4 숫자 값을 넣어도 동일한 동작을 합니다. 자료구조에 네 개의 데이터가 들어있으면 됩니다.\r\n",
    "\r\n",
    "for 변수 in [1, 2, 3, 4]:\r\n",
    "  print(\"-------\")"
   ],
   "outputs": [
    {
     "output_type": "stream",
     "name": "stdout",
     "text": [
      "-------\n",
      "-------\n",
      "-------\n",
      "-------\n",
      "-------\n",
      "-------\n",
      "-------\n",
      "-------\n"
     ]
    }
   ],
   "metadata": {}
  },
  {
   "cell_type": "code",
   "execution_count": null,
   "source": [],
   "outputs": [],
   "metadata": {}
  }
 ],
 "metadata": {
  "orig_nbformat": 4,
  "language_info": {
   "name": "python",
   "version": "3.7.8rc1",
   "mimetype": "text/x-python",
   "codemirror_mode": {
    "name": "ipython",
    "version": 3
   },
   "pygments_lexer": "ipython3",
   "nbconvert_exporter": "python",
   "file_extension": ".py"
  },
  "kernelspec": {
   "name": "python3",
   "display_name": "Python 3.7.8rc1 64-bit"
  },
  "interpreter": {
   "hash": "cc07735d28a0d4da7c204b7621a4e8051814cf7e137f5c0f118b7d9ce33f12a9"
  }
 },
 "nbformat": 4,
 "nbformat_minor": 2
}