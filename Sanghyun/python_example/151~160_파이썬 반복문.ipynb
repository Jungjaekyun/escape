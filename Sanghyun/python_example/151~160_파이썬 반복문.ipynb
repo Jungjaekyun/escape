{
 "cells": [
  {
   "cell_type": "markdown",
   "source": [
    "\r\n",
    "## 151\r\n",
    "리스트에는 네 개의 정수가 저장돼 있다.\r\n",
    "\r\n",
    "리스트 = [3, -20, -3, 44]\r\n",
    "for문을 사용해서 리스트의 음수를 출력하라.\r\n",
    "\r\n",
    "-20\r\n",
    "\r\n",
    "-3"
   ],
   "metadata": {}
  },
  {
   "cell_type": "code",
   "execution_count": 1,
   "source": [
    "리스트 = [3, -20, -3, 44]\r\n",
    "\r\n",
    "for 음수 in 리스트:\r\n",
    "    if 음수<0:\r\n",
    "        print(음수)"
   ],
   "outputs": [
    {
     "output_type": "stream",
     "name": "stdout",
     "text": [
      "-20\n",
      "-3\n"
     ]
    }
   ],
   "metadata": {}
  },
  {
   "cell_type": "markdown",
   "source": [
    "## 152\r\n",
    "for문을 사용해서 3의 배수만을 출력하라.\r\n",
    "\r\n",
    "리스트 = [3, 100, 23, 44]\r\n",
    "\r\n",
    "3"
   ],
   "metadata": {}
  },
  {
   "cell_type": "code",
   "execution_count": 4,
   "source": [
    "리스트 = [3, 100, 23, 44]\r\n",
    "\r\n",
    "for i in 리스트:\r\n",
    "\r\n",
    "    if i%3 == 0:\r\n",
    "        print(i)"
   ],
   "outputs": [
    {
     "output_type": "stream",
     "name": "stdout",
     "text": [
      "3\n"
     ]
    }
   ],
   "metadata": {}
  },
  {
   "cell_type": "markdown",
   "source": [
    "## 153\r\n",
    "리스트에서 20 보다 작은 3의 배수를 출력하라\r\n",
    "\r\n",
    "리스트 = [13, 21, 12, 14, 30, 18]\r\n",
    "\r\n",
    "12\r\n",
    "\r\n",
    "18"
   ],
   "metadata": {}
  },
  {
   "cell_type": "code",
   "execution_count": 7,
   "source": [
    "리스트 = [13, 21, 12, 14, 30, 18]\r\n",
    "\r\n",
    "# 하나 이상의 조건을 비교할 때는 논리 연산자를 사용해야겠죠?\r\n",
    "for 변수 in 리스트:\r\n",
    "    if (변수 < 20) and (변수 % 3 == 0): # 두 조건이 모두 참일 때만 실행돼야 하므로 and 연산자를 사용\r\n",
    "        print(변수)\r\n"
   ],
   "outputs": [
    {
     "output_type": "stream",
     "name": "stdout",
     "text": [
      "12\n",
      "18\n"
     ]
    }
   ],
   "metadata": {}
  },
  {
   "cell_type": "markdown",
   "source": [
    "## 154\r\n",
    "리스트에서 세 글자 이상의 문자를 화면에 출력하라\r\n",
    "\r\n",
    "리스트 = [\"I\", \"study\", \"python\", \"language\", \"!\"]"
   ],
   "metadata": {}
  },
  {
   "cell_type": "code",
   "execution_count": 10,
   "source": [
    "리스트 = [\"I\", \"study\", \"python\", \"language\", \"!\"]\r\n",
    "\r\n",
    "for 변수 in 리스트:\r\n",
    "    if len(변수) >= 3 :\r\n",
    "        print(변수)"
   ],
   "outputs": [
    {
     "output_type": "stream",
     "name": "stdout",
     "text": [
      "study\n",
      "python\n",
      "language\n"
     ]
    }
   ],
   "metadata": {}
  },
  {
   "cell_type": "markdown",
   "source": [
    "# 155\r\n",
    "리스트에서 대문자만 화면에 출력하라.\r\n",
    "\r\n",
    "리스트 = [\"A\", \"b\", \"c\", \"D\"]\r\n",
    "\r\n",
    "A\r\n",
    "\r\n",
    "D"
   ],
   "metadata": {}
  },
  {
   "cell_type": "code",
   "execution_count": 14,
   "source": [
    "리스트 = [\"A\", \"b\", \"c\", \"D\"]\r\n",
    "\r\n",
    "for 변수 in 리스트:\r\n",
    "    if 변수.isupper() == True:\r\n",
    "        print(변수)"
   ],
   "outputs": [
    {
     "output_type": "stream",
     "name": "stdout",
     "text": [
      "A\n",
      "D\n"
     ]
    }
   ],
   "metadata": {}
  },
  {
   "cell_type": "markdown",
   "source": [
    "## 156\r\n",
    "리스트에서 소문자만 화면에 출력하라.\r\n",
    "\r\n",
    "리스트 = [\"A\", \"b\", \"c\", \"D\"]\r\n",
    "\r\n",
    "b\r\n",
    "\r\n",
    "c"
   ],
   "metadata": {}
  },
  {
   "cell_type": "code",
   "execution_count": 18,
   "source": [
    "\r\n",
    "리스트 = [\"A\", \"b\", \"c\", \"D\"]\r\n",
    "\r\n",
    "\r\n",
    "for 변수 in 리스트:\r\n",
    "    if 변수.isupper() == False:\r\n",
    "        print(변수)\r\n",
    "\r\n",
    "\r\n",
    "# 논리 연산자 not을 사용할 수도 있습니다.\r\n",
    "# for 변수 in 리스트:\r\n",
    "#     if not 변수.isupper():\r\n",
    "#         print(변수)\r\n"
   ],
   "outputs": [
    {
     "output_type": "stream",
     "name": "stdout",
     "text": [
      "b\n",
      "c\n",
      "b\n",
      "c\n"
     ]
    }
   ],
   "metadata": {}
  },
  {
   "cell_type": "markdown",
   "source": [
    "## 157\r\n",
    "이름의 첫 글자를 대문자로 변경해서 출력하라.\r\n",
    "\r\n",
    "리스트 = ['dog', 'cat', 'parrot']\r\n",
    "\r\n",
    "Dog\r\n",
    "\r\n",
    "Cat\r\n",
    "\r\n",
    "Parrot"
   ],
   "metadata": {}
  },
  {
   "cell_type": "code",
   "execution_count": 24,
   "source": [
    "리스트 = ['dog', 'cat', 'parrot']\r\n",
    "\r\n",
    "for 변수 in 리스트:\r\n",
    "    첫글자대문자 = 변수[0].upper()\r\n",
    "\r\n",
    "    print(첫글자대문자+변수[1:])\r\n",
    "\r\n",
    "# for 변수 in 리스트:\r\n",
    "#   print(변수[0].upper() + 변수[1:])\r\n"
   ],
   "outputs": [
    {
     "output_type": "stream",
     "name": "stdout",
     "text": [
      "Dog\n",
      "Cat\n",
      "Parrot\n"
     ]
    }
   ],
   "metadata": {}
  },
  {
   "cell_type": "markdown",
   "source": [
    "## 158\r\n",
    "파일 이름이 저장된 리스트에서 확장자를 제거하고 파일 이름만 화면에 출력하라. (힌트: split() 메서드)\r\n",
    "\r\n",
    "리스트 = ['hello.py', 'ex01.py', 'intro.hwp']\r\n",
    "\r\n",
    "hello\r\n",
    "\r\n",
    "ex01\r\n",
    "\r\n",
    "intro\r\n"
   ],
   "metadata": {}
  },
  {
   "cell_type": "code",
   "execution_count": 27,
   "source": [
    "리스트 = ['hello.py', 'ex01.py', 'intro.hwp']\r\n",
    "\r\n",
    "for 변수 in 리스트:\r\n",
    "    \r\n",
    "\r\n",
    "    print(변수.split(\".\")[0])\r\n",
    "\r\n",
    "\r\n",
    "# 리스트 = ['hello.py', 'ex01.py', 'intro.hwp']\r\n",
    "# for 변수 in 리스트:\r\n",
    "#   split = 변수.split(\".\")\r\n",
    "#   print(split[0])  "
   ],
   "outputs": [
    {
     "output_type": "stream",
     "name": "stdout",
     "text": [
      "hello\n",
      "ex01\n",
      "intro\n"
     ]
    }
   ],
   "metadata": {}
  },
  {
   "cell_type": "markdown",
   "source": [
    "## 159\r\n",
    "파일 이름이 저장된 리스트에서 확장자가 .h인 파일 이름을 출력하라.\r\n",
    "\r\n",
    "리스트 = ['intra.h', 'intra.c', 'define.h', 'run.py']\r\n",
    "\r\n",
    "intra.h\r\n",
    "\r\n",
    "define.h"
   ],
   "metadata": {}
  },
  {
   "cell_type": "code",
   "execution_count": 32,
   "source": [
    "리스트 = ['intra.h', 'intra.c', 'define.h', 'run.py']\r\n",
    "\r\n",
    "for 변수 in 리스트:\r\n",
    "    split = 변수.split(\".\")[1]\r\n",
    "\r\n",
    "    if split == \"h\":\r\n",
    "        print(변수)"
   ],
   "outputs": [
    {
     "output_type": "stream",
     "name": "stdout",
     "text": [
      "intra.h\n",
      "define.h\n"
     ]
    }
   ],
   "metadata": {}
  },
  {
   "cell_type": "markdown",
   "source": [
    "## 160\r\n",
    "파일 이름이 저장된 리스트에서 확장자가 .h나 .c인 파일을 화면에 출력하라.\r\n",
    "\r\n",
    "리스트 = ['intra.h', 'intra.c', 'define.h', 'run.py']\r\n",
    "\r\n",
    "intra.h\r\n",
    "\r\n",
    "intra.c\r\n",
    "\r\n",
    "define.h"
   ],
   "metadata": {}
  },
  {
   "cell_type": "code",
   "execution_count": 31,
   "source": [
    "리스트 = ['intra.h', 'intra.c', 'define.h', 'run.py']\r\n",
    "\r\n",
    "for 변수 in 리스트:\r\n",
    "    split = 변수.split(\".\")[1]\r\n",
    "    if (split == \"c\") or (split == \"h\") :\r\n",
    "        print(변수)\r\n"
   ],
   "outputs": [
    {
     "output_type": "stream",
     "name": "stdout",
     "text": [
      "intra.h\n",
      "intra.c\n",
      "define.h\n"
     ]
    }
   ],
   "metadata": {}
  },
  {
   "cell_type": "code",
   "execution_count": null,
   "source": [],
   "outputs": [],
   "metadata": {}
  }
 ],
 "metadata": {
  "orig_nbformat": 4,
  "language_info": {
   "name": "python",
   "version": "3.7.8",
   "mimetype": "text/x-python",
   "codemirror_mode": {
    "name": "ipython",
    "version": 3
   },
   "pygments_lexer": "ipython3",
   "nbconvert_exporter": "python",
   "file_extension": ".py"
  },
  "kernelspec": {
   "name": "python3",
   "display_name": "Python 3.7.8rc1 64-bit"
  },
  "interpreter": {
   "hash": "cc07735d28a0d4da7c204b7621a4e8051814cf7e137f5c0f118b7d9ce33f12a9"
  }
 },
 "nbformat": 4,
 "nbformat_minor": 2
}