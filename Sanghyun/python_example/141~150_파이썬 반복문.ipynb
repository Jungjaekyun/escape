{
 "cells": [
  {
   "cell_type": "markdown",
   "source": [
    "https://wikidocs.net/7020\r\n"
   ],
   "metadata": {}
  },
  {
   "cell_type": "markdown",
   "source": [
    "## 141\r\n",
    "다음과 같이 판매가가 저장된 리스트가 있을 때 부가세가 포함된 가격을 for 문을 사용해서 화면에 출력하라. 단 부가세는 10원으로 가정한다."
   ],
   "metadata": {}
  },
  {
   "cell_type": "code",
   "execution_count": 5,
   "source": [
    "리스트 = [100, 200, 300]\r\n",
    "\r\n",
    "for a in 리스트:\r\n",
    "    print(a + 10)"
   ],
   "outputs": [
    {
     "output_type": "stream",
     "name": "stdout",
     "text": [
      "110\n",
      "210\n",
      "310\n"
     ]
    }
   ],
   "metadata": {}
  },
  {
   "cell_type": "markdown",
   "source": [
    "## 142\r\n",
    "for 문을 사용해서 리스트에 저장된 값을 다음과 같이 출력하라.\r\n",
    "\r\n",
    "리스트 = [\"김밥\", \"라면\", \"튀김\"]\r\n",
    "\r\n",
    "##### 오늘의 메뉴: 김밥\r\n",
    "##### 오늘의 메뉴: 라면\r\n",
    "##### 오늘의 메뉴: 튀김"
   ],
   "metadata": {}
  },
  {
   "cell_type": "code",
   "execution_count": 7,
   "source": [
    "리스트 = [\"김밥\",\"라면\",\"튀김\"]\r\n",
    "\r\n",
    "for 변수 in 리스트:\r\n",
    "    print(\"오늘의 메뉴:\",변수)"
   ],
   "outputs": [
    {
     "output_type": "stream",
     "name": "stdout",
     "text": [
      "오늘의 메뉴: 김밥\n",
      "오늘의 메뉴: 라면\n",
      "오늘의 메뉴: 튀김\n"
     ]
    }
   ],
   "metadata": {}
  },
  {
   "cell_type": "markdown",
   "source": [
    "## 143\r\n",
    "리스트에 주식 종목이름이 저장돼 있다.\r\n",
    "\r\n",
    "리스트 = [\"SK하이닉스\", \"삼성전자\", \"LG전자\"]\r\n",
    "저장된 문자열의 길이를 다음과 같이 출력하라.\r\n",
    "##### 6\r\n",
    "##### 4\r\n",
    "##### 4"
   ],
   "metadata": {}
  },
  {
   "cell_type": "code",
   "execution_count": 9,
   "source": [
    "리스트 = [\"SK하이닉스\", \"삼성전자\", \"LG전자\"]\r\n",
    "\r\n",
    "for 주식 in 리스트:\r\n",
    "    print(len(주식)) "
   ],
   "outputs": [
    {
     "output_type": "stream",
     "name": "stdout",
     "text": [
      "6\n",
      "4\n",
      "4\n"
     ]
    }
   ],
   "metadata": {}
  },
  {
   "cell_type": "markdown",
   "source": [
    "## 144\r\n",
    "리스트에는 동물이름이 문자열로 저장돼 있다.\r\n",
    "\r\n",
    "#### 리스트 = ['dog', 'cat', 'parrot']\r\n",
    "#### 동물 이름과 글자수를 다음과 같이 출력하라."
   ],
   "metadata": {}
  },
  {
   "cell_type": "code",
   "execution_count": 10,
   "source": [
    "리스트 = ['dog', 'cat', 'parrot']\r\n",
    "\r\n",
    "for 이름 in 리스트:\r\n",
    "    print( 이름, len(이름) )"
   ],
   "outputs": [
    {
     "output_type": "stream",
     "name": "stdout",
     "text": [
      "dog 3\n",
      "cat 3\n",
      "parrot 6\n"
     ]
    }
   ],
   "metadata": {}
  },
  {
   "cell_type": "markdown",
   "source": [
    "## 145\r\n",
    "리스트에 동물 이름 저장돼 있다.\r\n",
    "\r\n",
    "리스트 = ['dog', 'cat', 'parrot']\r\n",
    "for문을 사용해서 동물 이름의 첫 글자만 출력하라.\r\n",
    "\r\n",
    "#### d\r\n",
    "#### c\r\n",
    "#### p"
   ],
   "metadata": {}
  },
  {
   "cell_type": "code",
   "execution_count": 11,
   "source": [
    "리스트 = ['dog', 'cat', 'parrot']\r\n",
    "\r\n",
    "for A in 리스트:\r\n",
    "    print(A[0])"
   ],
   "outputs": [
    {
     "output_type": "stream",
     "name": "stdout",
     "text": [
      "d\n",
      "c\n",
      "p\n"
     ]
    }
   ],
   "metadata": {}
  },
  {
   "cell_type": "markdown",
   "source": [
    "# 146\r\n",
    "리스트에는 세 개의 숫자가 바인딩돼 있다.\r\n",
    "\r\n",
    "리스트 = [1, 2, 3]\r\n",
    "for문을 사용해서 다음과 같이 출력하라.\r\n",
    "\r\n",
    "3 x 1\r\n",
    "\r\n",
    "3 x 2\r\n",
    "\r\n",
    "3 x 3"
   ],
   "metadata": {}
  },
  {
   "cell_type": "code",
   "execution_count": 14,
   "source": [
    "리스트 = [1,2,3]\r\n",
    "\r\n",
    "for i in 리스트:\r\n",
    "    print(\"3 x\", i, \"=\", 3*i)"
   ],
   "outputs": [
    {
     "output_type": "stream",
     "name": "stdout",
     "text": [
      "3 x 1 = 3\n",
      "3 x 2 = 6\n",
      "3 x 3 = 9\n"
     ]
    }
   ],
   "metadata": {}
  },
  {
   "cell_type": "code",
   "execution_count": 15,
   "source": [
    "for i in 리스트:\r\n",
    "    print(\"3 x {} = {}\".format(i, 3*i))"
   ],
   "outputs": [
    {
     "output_type": "stream",
     "name": "stdout",
     "text": [
      "3 x 1 = 3\n",
      "3 x 2 = 6\n",
      "3 x 3 = 9\n"
     ]
    }
   ],
   "metadata": {}
  },
  {
   "cell_type": "markdown",
   "source": [
    "## 148\r\n",
    "리스트에는 네 개의 문자열이 바인딩돼 있다.\r\n",
    "\r\n",
    "리스트 = [\"가\", \"나\", \"다\", \"라\"]\r\n",
    "for문을 사용해서 다음과 같이 출력하라.\r\n",
    "\r\n",
    "나\r\n",
    "\r\n",
    "다\r\n",
    "\r\n",
    "라"
   ],
   "metadata": {}
  },
  {
   "cell_type": "code",
   "execution_count": 17,
   "source": [
    "리스트 = [\"가\", \"나\", \"다\", \"라\"]\r\n",
    "\r\n",
    "for i in 리스트[::2]:\r\n",
    "    print(i)"
   ],
   "outputs": [
    {
     "output_type": "stream",
     "name": "stdout",
     "text": [
      "가\n",
      "다\n"
     ]
    }
   ],
   "metadata": {}
  },
  {
   "cell_type": "markdown",
   "source": [
    "## 150\r\n",
    "리스트에는 네 개의 문자열이 바인딩돼 있다.\r\n",
    "\r\n",
    "리스트 = [\"가\", \"나\", \"다\", \"라\"]\r\n",
    "for문을 사용해서 다음과 같이 출력하라.\r\n",
    "\r\n",
    "라\r\n",
    "\r\n",
    "다\r\n",
    "\r\n",
    "나\r\n",
    "\r\n",
    "가"
   ],
   "metadata": {}
  },
  {
   "cell_type": "code",
   "execution_count": 23,
   "source": [
    "리스트 = [\"가\", \"나\", \"다\", \"라\"]\r\n",
    "\r\n",
    "\r\n",
    "# 증감폭을 음수로 설정하면 끝에서 앞방향으로 값을 슬라이싱합니다.\r\n",
    "for i in 리스트[::-1]:\r\n",
    "    print(i)\r\n"
   ],
   "outputs": [
    {
     "output_type": "stream",
     "name": "stdout",
     "text": [
      "라\n",
      "다\n",
      "나\n",
      "가\n"
     ]
    }
   ],
   "metadata": {}
  }
 ],
 "metadata": {
  "orig_nbformat": 4,
  "language_info": {
   "name": "python",
   "version": "3.7.8rc1",
   "mimetype": "text/x-python",
   "codemirror_mode": {
    "name": "ipython",
    "version": 3
   },
   "pygments_lexer": "ipython3",
   "nbconvert_exporter": "python",
   "file_extension": ".py"
  },
  "kernelspec": {
   "name": "python3",
   "display_name": "Python 3.7.8rc1 64-bit"
  },
  "interpreter": {
   "hash": "cc07735d28a0d4da7c204b7621a4e8051814cf7e137f5c0f118b7d9ce33f12a9"
  }
 },
 "nbformat": 4,
 "nbformat_minor": 2
}