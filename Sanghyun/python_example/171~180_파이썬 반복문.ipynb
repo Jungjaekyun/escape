{
 "cells": [
  {
   "cell_type": "markdown",
   "source": [
    "## 171\r\n",
    "아래와 같이 리스트의 데이터를 출력하라. 단, for문과 range문을 사용하라.\r\n",
    "\r\n",
    "price_list = [32100, 32150, 32000, 32500]\r\n",
    "\r\n",
    "32100\r\n",
    "\r\n",
    "32150\r\n",
    "\r\n",
    "32000\r\n",
    "\r\n",
    "32500\r\n"
   ],
   "metadata": {}
  },
  {
   "cell_type": "code",
   "execution_count": 4,
   "source": [
    "price_list = [32100, 32150, 32000, 32500]\r\n",
    "\r\n",
    "for i in range(4):\r\n",
    "    print(price_list[i])\r\n",
    "\r\n",
    "# 더 좋은 코드\r\n",
    "# for i in range(len(price_list)):\r\n",
    "#     print(price_list[i])"
   ],
   "outputs": [
    {
     "output_type": "stream",
     "name": "stdout",
     "text": [
      "32100\n",
      "32150\n",
      "32000\n",
      "32500\n"
     ]
    }
   ],
   "metadata": {}
  },
  {
   "cell_type": "markdown",
   "source": [
    "## 172\r\n",
    "아래와 같이 리스트의 데이터를 출력하라. 단, for문과 range문을 사용하라.\r\n",
    "\r\n",
    "price_list = [32100, 32150, 32000, 32500]\r\n",
    "\r\n",
    "0 32100\r\n",
    "\r\n",
    "1 32150\r\n",
    "\r\n",
    "2 32000\r\n",
    "\r\n",
    "3 32500"
   ],
   "metadata": {}
  },
  {
   "cell_type": "code",
   "execution_count": 8,
   "source": [
    "for i,data in enumerate(price_list):\r\n",
    "    print(i, data)\r\n",
    "\r\n",
    "    enumerate"
   ],
   "outputs": [
    {
     "output_type": "stream",
     "name": "stdout",
     "text": [
      "0 32100\n",
      "1 32150\n",
      "2 32000\n",
      "3 32500\n"
     ]
    }
   ],
   "metadata": {}
  },
  {
   "cell_type": "markdown",
   "source": [
    "## 173\r\n",
    "아래와 같이 리스트의 데이터를 출력하라. 단, for문과 range문을 사용하라.\r\n",
    "\r\n",
    "price_list = [32100, 32150, 32000, 32500]\r\n",
    "\r\n",
    "3 32100\r\n",
    "\r\n",
    "2 32150\r\n",
    "\r\n",
    "1 32000\r\n",
    "\r\n",
    "0 32500"
   ],
   "metadata": {}
  },
  {
   "cell_type": "code",
   "execution_count": 14,
   "source": [
    "price_list = [32100, 32150, 32000, 32500]\r\n",
    "\r\n",
    "for i in range(len(price_list)):\r\n",
    "    print(3-i, price_list[i])\r\n",
    "\r\n",
    "# for i in range(len(price_list)):\r\n",
    "#     print((len(price_list) - 1) - i, price_list[i])"
   ],
   "outputs": [
    {
     "output_type": "stream",
     "name": "stdout",
     "text": [
      "3 32100\n",
      "2 32150\n",
      "1 32000\n",
      "0 32500\n"
     ]
    }
   ],
   "metadata": {}
  },
  {
   "cell_type": "markdown",
   "source": [
    "## 174\r\n",
    "아래와 같이 리스트의 데이터를 출력하라. 단, for문과 range문을 사용하라.\r\n",
    "\r\n",
    "price_list = [32100, 32150, 32000, 32500]\r\n",
    "\r\n",
    "100 32150\r\n",
    "\r\n",
    "110 32000\r\n",
    "\r\n",
    "120 32500"
   ],
   "metadata": {}
  },
  {
   "cell_type": "code",
   "execution_count": 15,
   "source": [
    "price_list = [32100, 32150, 32000, 32500]\r\n",
    "\r\n",
    "for i in range(1,4):\r\n",
    "    print(90+10*i, price_list[i])"
   ],
   "outputs": [
    {
     "output_type": "stream",
     "name": "stdout",
     "text": [
      "100 32150\n",
      "110 32000\n",
      "120 32500\n"
     ]
    }
   ],
   "metadata": {}
  },
  {
   "cell_type": "markdown",
   "source": [
    "## 175\r\n",
    "my_list를 아래와 같이 출력하라.\r\n",
    "\r\n",
    "my_list = [\"가\", \"나\", \"다\", \"라\"]\r\n",
    "\r\n",
    "가 나\r\n",
    "\r\n",
    "나 다\r\n",
    "\r\n",
    "다 라"
   ],
   "metadata": {}
  },
  {
   "cell_type": "code",
   "execution_count": 17,
   "source": [
    "my_list = [\"가\", \"나\", \"다\", \"라\"]\r\n",
    "\r\n",
    "for i in range( len(my_list) - 1 ) :\r\n",
    "  print(my_list[i], my_list[i+1])\r\n",
    "\r\n",
    "# for i in range( 1, len(my_list) ) :\r\n",
    "#   print(my_list[i-1], my_list[i])"
   ],
   "outputs": [
    {
     "output_type": "stream",
     "name": "stdout",
     "text": [
      "가 나\n",
      "나 다\n",
      "다 라\n"
     ]
    }
   ],
   "metadata": {}
  },
  {
   "cell_type": "code",
   "execution_count": 19,
   "source": [
    "for i in [0,1,2]:\r\n",
    "    print(my_list[i],my_list[i+1])"
   ],
   "outputs": [
    {
     "output_type": "stream",
     "name": "stdout",
     "text": [
      "가 나\n",
      "나 다\n",
      "다 라\n"
     ]
    }
   ],
   "metadata": {}
  },
  {
   "cell_type": "markdown",
   "source": [
    "## 176\r\n",
    "리스트를 아래와 같이 출력하라.\r\n",
    "\r\n",
    "my_list = [\"가\", \"나\", \"다\", \"라\", \"마\"]\r\n",
    "\r\n",
    "라 다\r\n",
    "\r\n",
    "다 나\r\n",
    "\r\n",
    "나 가"
   ],
   "metadata": {}
  },
  {
   "cell_type": "code",
   "execution_count": 24,
   "source": [
    "my_list = [\"가\", \"나\", \"다\", \"라\"]\r\n",
    "\r\n",
    "for i in range( len(my_list)-1 , 0, -1 ):\r\n",
    "\r\n",
    "    print(my_list[i],my_list[i-1])\r\n",
    "\r\n",
    "# for i in range(len(my_list) - 1):\r\n",
    "#     print(my_list[len(my_list) - 1 - i], my_list[len(my_list) - 2 - i])\r\n",
    "\r\n",
    "\r\n"
   ],
   "outputs": [
    {
     "output_type": "stream",
     "name": "stdout",
     "text": [
      "라 다\n",
      "다 나\n",
      "나 가\n"
     ]
    }
   ],
   "metadata": {}
  },
  {
   "cell_type": "code",
   "execution_count": 25,
   "source": [
    "for i in [3, 2, 1] :\r\n",
    "    print(my_list[i], my_list[i-1])\r\n",
    "\r\n",
    "# for i in [2, 1, 0] :\r\n",
    "#     print(my_list[i+1], my_list[i])"
   ],
   "outputs": [
    {
     "output_type": "stream",
     "name": "stdout",
     "text": [
      "라 다\n",
      "다 나\n",
      "나 가\n"
     ]
    }
   ],
   "metadata": {}
  },
  {
   "cell_type": "markdown",
   "source": [
    "## 178\r\n",
    "리스트에는 네 개의 정수가 저장되어 있다. 각각의 데이터에 대해서 자신과 우측값과의 차분값을 화면에 출력하라.\r\n",
    "\r\n",
    "my_list = [100, 200, 400, 800]\r\n",
    "\r\n",
    "예를들어 100을 기준으로 우측에 위치한 200과의 차분 값를 화면에 출력하고, 200을 기준으로 우측에 위치한 400과의 차분값을 화면에 출력한다. 이어서 400을 기준으로 우측에 위치한 800과의 차분값을 화면에 출력한다.\r\n",
    "\r\n",
    "100\r\n",
    "\r\n",
    "200\r\n",
    "\r\n",
    "400"
   ],
   "metadata": {}
  },
  {
   "cell_type": "code",
   "execution_count": 33,
   "source": [
    "my_list = [100, 200, 400, 800]\r\n",
    "\r\n",
    "for i in range(len(my_list)-1):\r\n",
    "    print(abs(my_list[i+1] - my_list[i]))\r\n",
    "\r\n",
    "\r\n",
    "# for i in [0, 1, 2]:\r\n",
    "#     print(abs(my_list[i+1] - my_list[i]))"
   ],
   "outputs": [
    {
     "output_type": "stream",
     "name": "stdout",
     "text": [
      "100\n",
      "200\n",
      "400\n"
     ]
    }
   ],
   "metadata": {}
  },
  {
   "cell_type": "code",
   "execution_count": 44,
   "source": [
    "my_list = [100, 200, 400, 800, 1000, 1300]\r\n",
    "\r\n",
    "# print(abs(my_list[0]+my_list[1]+my_list[2])/3)\r\n",
    "\r\n",
    "# for i in range(0,7):\r\n",
    "#     print(abs(my_list[i] + my_list[i+1] +my_list[i+2])/3)\r\n",
    "\r\n",
    "\r\n",
    "for i in range(1, len(my_list) - 1):\r\n",
    "    print(abs(my_list[i-1] + my_list[i] + my_list[i+1]) / 3)"
   ],
   "outputs": [
    {
     "output_type": "stream",
     "name": "stdout",
     "text": [
      "233.33333333333334\n",
      "466.6666666666667\n",
      "733.3333333333334\n",
      "1033.3333333333333\n"
     ]
    }
   ],
   "metadata": {}
  },
  {
   "cell_type": "markdown",
   "source": [
    "## 180\r\n",
    "리스트에 5일간의 저가, 고가 정보가 저장돼 있다. 고가와 저가의 차를 변동폭이라고 정의할 때, low, high 두 개의 리스트를 사용해서 5일간의 변동폭을 volatility 리스트에 저장하라.\r\n",
    "\r\n",
    "low_prices  = [100, 200, 400, 800, 1000]\r\n",
    "high_prices = [150, 300, 430, 880, 1000]"
   ],
   "metadata": {}
  },
  {
   "cell_type": "code",
   "execution_count": 53,
   "source": [
    "low_prices  = [100, 200, 400, 800, 1000]\r\n",
    "high_prices = [150, 300, 430, 880, 1000]\r\n",
    "\r\n",
    "volatility = []\r\n",
    "\r\n",
    "for i in range(len(low_prices)):\r\n",
    "    volatility.append(high_prices[i] - low_prices[i])\r\n",
    "print(volatility)"
   ],
   "outputs": [
    {
     "output_type": "stream",
     "name": "stdout",
     "text": [
      "[50, 100, 30, 80, 0]\n"
     ]
    }
   ],
   "metadata": {}
  },
  {
   "cell_type": "markdown",
   "source": [],
   "metadata": {}
  },
  {
   "cell_type": "code",
   "execution_count": null,
   "source": [],
   "outputs": [],
   "metadata": {}
  }
 ],
 "metadata": {
  "orig_nbformat": 4,
  "language_info": {
   "name": "python",
   "version": "3.7.8",
   "mimetype": "text/x-python",
   "codemirror_mode": {
    "name": "ipython",
    "version": 3
   },
   "pygments_lexer": "ipython3",
   "nbconvert_exporter": "python",
   "file_extension": ".py"
  },
  "kernelspec": {
   "name": "python3",
   "display_name": "Python 3.7.8rc1 64-bit"
  },
  "interpreter": {
   "hash": "cc07735d28a0d4da7c204b7621a4e8051814cf7e137f5c0f118b7d9ce33f12a9"
  }
 },
 "nbformat": 4,
 "nbformat_minor": 2
}