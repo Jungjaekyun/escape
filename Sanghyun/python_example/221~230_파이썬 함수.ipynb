{
 "cells": [
  {
   "cell_type": "markdown",
   "source": [
    "## 221\r\n",
    "입력된 문자열을 역순으로 출력하는 print_reverse 함수를 정의하라."
   ],
   "metadata": {}
  },
  {
   "cell_type": "code",
   "execution_count": 2,
   "source": [
    "def print_reverse(str):\r\n",
    "    print(str[::-1])\r\n",
    "\r\n",
    "\r\n",
    "print_reverse(\"python\")"
   ],
   "outputs": [
    {
     "output_type": "stream",
     "name": "stdout",
     "text": [
      "nohtyp\n"
     ]
    }
   ],
   "metadata": {}
  },
  {
   "cell_type": "markdown",
   "source": [
    "## 222\r\n",
    "성적 리스트를 입력 받아 평균을 출력하는 print_score 함수를 정의하라."
   ],
   "metadata": {}
  },
  {
   "cell_type": "code",
   "execution_count": 11,
   "source": [
    "def print_score(sore_list):\r\n",
    "    print(sum(sore_list)/len(sore_list))\r\n",
    "\r\n",
    "\r\n",
    "print_score([1, 2, 3])"
   ],
   "outputs": [
    {
     "output_type": "stream",
     "name": "stdout",
     "text": [
      "2.0\n"
     ]
    }
   ],
   "metadata": {}
  },
  {
   "cell_type": "markdown",
   "source": [
    "## 223\r\n",
    "하나의 리스트를 입력받아 짝수만 화면에 출력하는 print_even 함수를 정의하라.\r\n",
    "\r\n",
    ">> print_even ([1, 3, 2, 10, 12, 11, 15])"
   ],
   "metadata": {}
  },
  {
   "cell_type": "code",
   "execution_count": 16,
   "source": [
    "def print_even(my_list):\r\n",
    "    for i in my_list:\r\n",
    "    # 짝수 일 경우를 판별별\r\n",
    "        if i % 2 == 0 :\r\n",
    "            print(i)\r\n",
    "\r\n",
    "\r\n",
    "print_even([1,3,2,10,12,11,15])"
   ],
   "outputs": [
    {
     "output_type": "stream",
     "name": "stdout",
     "text": [
      "2\n",
      "10\n",
      "12\n"
     ]
    }
   ],
   "metadata": {}
  },
  {
   "cell_type": "markdown",
   "source": [
    "## 224\r\n",
    "하나의 딕셔너리를 입력받아 딕셔너리의 key 값을 화면에 출력하는 print_keys 함수를 정의하라.\r\n",
    "\r\n",
    ">> print_keys ({\"이름\":\"김말똥\", \"나이\":30, \"성별\":0})\r\n",
    "\r\n",
    "이름\r\n",
    "\r\n",
    "나이\r\n",
    "\r\n",
    "성별"
   ],
   "metadata": {}
  },
  {
   "cell_type": "code",
   "execution_count": 24,
   "source": [
    "def print_keys(dic):\r\n",
    "    for keys in dic.keys():\r\n",
    "        print(keys)\r\n",
    "\r\n",
    "print_keys({\"이름\":\"김말똥\", \"나이\":30,\"성별\":0})"
   ],
   "outputs": [
    {
     "output_type": "stream",
     "name": "stdout",
     "text": [
      "이름\n",
      "나이\n",
      "성별\n"
     ]
    }
   ],
   "metadata": {}
  },
  {
   "cell_type": "markdown",
   "source": [
    "## 225\r\n",
    "my_dict에는 날짜를 키값으로 OHLC가 리스트로 저장돼 있다.\r\n",
    "\r\n",
    "my_dict = {\"10/26\" : [100, 130, 100, 100],\r\n",
    "\r\n",
    "           \"10/27\" : [10, 12, 10, 11]}\r\n",
    "\r\n",
    "my_dict와 날짜 키값을 입력받아 OHLC 리스트를 출력하는 print_value_by_key 함수를 정의하라.\r\n",
    "\r\n",
    "print_value_by_key  (my_dict, \"10/26\")\r\n",
    "\r\n",
    "[100, 130, 100, 100]"
   ],
   "metadata": {}
  },
  {
   "cell_type": "code",
   "execution_count": 29,
   "source": [
    "my_dict = {\"10/26\" : [100, 130, 100, 100],\r\n",
    "           \"10/27\" : [10, 12, 10, 11]}\r\n",
    "\r\n",
    "def print_value_by_key(dict, days):\r\n",
    "    print(dict[days])\r\n",
    "\r\n",
    "print_value_by_key  (my_dict, \"10/26\")"
   ],
   "outputs": [
    {
     "output_type": "stream",
     "name": "stdout",
     "text": [
      "[100, 130, 100, 100]\n"
     ]
    }
   ],
   "metadata": {}
  },
  {
   "cell_type": "markdown",
   "source": [
    "## 226\r\n",
    "입력 문자열을 한 줄에 다섯글자씩 출력하는 print_5xn(string) 함수를 작성하라.\r\n",
    "\r\n",
    ">> print_5xn(\"아이엠어보이유알어걸\")\r\n",
    "\r\n",
    "아이엠어보\r\n",
    "\r\n",
    "이유알어걸\r\n"
   ],
   "metadata": {}
  },
  {
   "cell_type": "code",
   "execution_count": 37,
   "source": [
    "def print_5xn(str):\r\n",
    "    print(str[0:5:1])\r\n",
    "    print(str[5:10:1])\r\n",
    "print_5xn(\"아이엠어보이유알어걸\")"
   ],
   "outputs": [
    {
     "output_type": "stream",
     "name": "stdout",
     "text": [
      "아이엠어보\n",
      "이유알어걸\n"
     ]
    }
   ],
   "metadata": {}
  },
  {
   "cell_type": "code",
   "execution_count": 41,
   "source": [
    "def print_5xn(line):\r\n",
    "    chunk_num = int(len(line)/5)\r\n",
    "    for x in range(chunk_num + 1 ) :\r\n",
    "        print(line[x * 5 : x * 5 + 5 ])\r\n",
    "\r\n",
    "print_5xn(\"아이엠어보이유알어걸\") "
   ],
   "outputs": [
    {
     "output_type": "stream",
     "name": "stdout",
     "text": [
      "아이엠어보\n",
      "이유알어걸\n",
      "\n"
     ]
    }
   ],
   "metadata": {}
  },
  {
   "cell_type": "markdown",
   "source": [
    "## 227\r\n",
    "문자열과 한줄에 출력될 글자 수를 입력을 받아 한 줄에 입력된 글자 수만큼 출력하는 print_mxn(string) 함수를 작성하라.\r\n",
    "\r\n",
    ">> printmxn(\"아이엠어보이유알어걸\", 3)"
   ],
   "metadata": {}
  },
  {
   "cell_type": "code",
   "execution_count": 42,
   "source": [
    "def print_5xn(line):\r\n",
    "    chunk_num = int(len(line)/3)\r\n",
    "    for x in range(chunk_num + 1 ) :\r\n",
    "        print(line[x * 3 : x * 3 +3 ])\r\n",
    "\r\n",
    "print_5xn(\"아이엠어보이유알어걸\") "
   ],
   "outputs": [
    {
     "output_type": "stream",
     "name": "stdout",
     "text": [
      "아이엠\n",
      "어보이\n",
      "유알어\n",
      "걸\n"
     ]
    }
   ],
   "metadata": {}
  },
  {
   "cell_type": "markdown",
   "source": [
    "## 228\r\n",
    "연봉을 입력받아 월급을 계산하는 calc_monthly_salary(annual_salary) 함수를 정의하라. 회사는 연봉을 12개월로 나누어 분할 지급하며, 이 때 1원 미만은 버림한다.\r\n",
    "\r\n",
    ">> calc_monthly_salary(12000000)\r\n",
    "\r\n",
    "1000000"
   ],
   "metadata": {}
  },
  {
   "cell_type": "code",
   "execution_count": 44,
   "source": [
    "def calc_monthly_salary(annual_pay) :\r\n",
    "    monthly_pay = int(annual_pay / 12)\r\n",
    "    return monthly_pay\r\n",
    "\r\n",
    "calc_monthly_salary(12000000)"
   ],
   "outputs": [
    {
     "output_type": "execute_result",
     "data": {
      "text/plain": [
       "1000000"
      ]
     },
     "metadata": {},
     "execution_count": 44
    }
   ],
   "metadata": {}
  },
  {
   "cell_type": "markdown",
   "source": [
    "## 229\r\n",
    "아래 코드의 실행 결과를 예측하라."
   ],
   "metadata": {}
  },
  {
   "cell_type": "code",
   "execution_count": 45,
   "source": [
    "def my_print (a, b) :\r\n",
    "    print(\"왼쪽:\", a)\r\n",
    "    print(\"오른쪽:\", b)\r\n",
    "\r\n",
    "my_print(a=100, b=200)"
   ],
   "outputs": [
    {
     "output_type": "stream",
     "name": "stdout",
     "text": [
      "왼쪽: 100\n",
      "오른쪽: 200\n"
     ]
    }
   ],
   "metadata": {}
  },
  {
   "cell_type": "markdown",
   "source": [
    "## 230\r\n",
    "아래 코드의 실행 결과를 예측하라.\r\n"
   ],
   "metadata": {}
  },
  {
   "cell_type": "code",
   "execution_count": 46,
   "source": [
    "def my_print (a, b) :\r\n",
    "    print(\"왼쪽:\", a)\r\n",
    "    print(\"오른쪽:\", b)\r\n",
    "\r\n",
    "my_print(b=100, a=200)"
   ],
   "outputs": [
    {
     "output_type": "stream",
     "name": "stdout",
     "text": [
      "왼쪽: 200\n",
      "오른쪽: 100\n"
     ]
    }
   ],
   "metadata": {}
  }
 ],
 "metadata": {
  "orig_nbformat": 4,
  "language_info": {
   "name": "python",
   "version": "3.7.8",
   "mimetype": "text/x-python",
   "codemirror_mode": {
    "name": "ipython",
    "version": 3
   },
   "pygments_lexer": "ipython3",
   "nbconvert_exporter": "python",
   "file_extension": ".py"
  },
  "kernelspec": {
   "name": "python3",
   "display_name": "Python 3.7.8rc1 64-bit"
  },
  "interpreter": {
   "hash": "cc07735d28a0d4da7c204b7621a4e8051814cf7e137f5c0f118b7d9ce33f12a9"
  }
 },
 "nbformat": 4,
 "nbformat_minor": 2
}