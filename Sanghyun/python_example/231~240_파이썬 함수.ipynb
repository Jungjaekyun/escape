{
 "cells": [
  {
   "cell_type": "markdown",
   "source": [
    "# 231\r\n",
    "아래 코드를 실행한 결과를 예상하라.\r\n"
   ],
   "metadata": {}
  },
  {
   "cell_type": "code",
   "execution_count": null,
   "source": [
    "\r\n",
    "def n_plus_1 (n) :\r\n",
    "    result = n + 1\r\n",
    "\r\n",
    "n_plus_1(3)\r\n",
    "print(result)\r\n"
   ],
   "outputs": [],
   "metadata": {}
  },
  {
   "cell_type": "code",
   "execution_count": null,
   "source": [
    "# 정답확인 : 에러가 발생합니다."
   ],
   "outputs": [],
   "metadata": {}
  },
  {
   "cell_type": "markdown",
   "source": [
    "# 232\r\n",
    "문자열 하나를 입력받아 인터넷 주소를 반환하는 make_url 함수를 정의하라.\r\n",
    "\r\n",
    "### make_url(\"naver\")\r\n",
    "### www.naver.com"
   ],
   "metadata": {}
  },
  {
   "cell_type": "code",
   "execution_count": 4,
   "source": [
    "# 정답확인\r\n",
    "def make_url(string) :\r\n",
    "    url = \"www.\" + string + \".com\"\r\n",
    "    return url\r\n",
    "\r\n",
    "make_url(\"naver\")"
   ],
   "outputs": [
    {
     "output_type": "execute_result",
     "data": {
      "text/plain": [
       "'www.naver.com'"
      ]
     },
     "metadata": {},
     "execution_count": 4
    }
   ],
   "metadata": {}
  },
  {
   "cell_type": "markdown",
   "source": [
    "# 233\r\n",
    "문자열을 입력받아 각 문자들로 구성된 리스트로 반환하는 make_list 함수를 정의하라.\r\n",
    "\r\n",
    "make_list(\"abcd\")\r\n",
    "\r\n",
    "['a', 'b', 'c', 'd']\r\n"
   ],
   "metadata": {}
  },
  {
   "cell_type": "code",
   "execution_count": 12,
   "source": [
    "# 정답확인\r\n",
    "\r\n",
    "def make_list(string):\r\n",
    "    my_list = []\r\n",
    "    for i in string :\r\n",
    "        my_list.append(i)\r\n",
    "    return my_list\r\n",
    "\r\n",
    "make_list(\"abcd\")   "
   ],
   "outputs": [
    {
     "output_type": "execute_result",
     "data": {
      "text/plain": [
       "['a', 'b', 'c', 'd']"
      ]
     },
     "metadata": {},
     "execution_count": 12
    }
   ],
   "metadata": {}
  },
  {
   "cell_type": "code",
   "execution_count": 14,
   "source": [
    "def make_list(string):\r\n",
    "    return list(string)\r\n",
    "make_list(\"abcd\")   "
   ],
   "outputs": [
    {
     "output_type": "execute_result",
     "data": {
      "text/plain": [
       "['a', 'b', 'c', 'd']"
      ]
     },
     "metadata": {},
     "execution_count": 14
    }
   ],
   "metadata": {}
  },
  {
   "cell_type": "markdown",
   "source": [
    "# 234\r\n",
    "숫자로 구성된 하나의 리스트를 입력받아, 짝수들을 추출하여 리스트로 반환하는 pickup_even 함수를 구현하라.\r\n",
    "\r\n",
    "pickup_even([3, 4, 5, 6, 7, 8])\r\n",
    "\r\n",
    "[4, 6, 8]\r\n"
   ],
   "metadata": {}
  },
  {
   "cell_type": "code",
   "execution_count": 20,
   "source": [
    "def pickup_even(list):\r\n",
    "    pick_list = []\r\n",
    "    for i in list:\r\n",
    "        if i % 2 == 0:\r\n",
    "            pick_list.append(i)\r\n",
    "    return pick_list\r\n",
    "\r\n",
    "pickup_even([3,4,5,6,7,8])"
   ],
   "outputs": [
    {
     "output_type": "execute_result",
     "data": {
      "text/plain": [
       "[4, 6, 8]"
      ]
     },
     "metadata": {},
     "execution_count": 20
    }
   ],
   "metadata": {}
  },
  {
   "cell_type": "markdown",
   "source": [
    "# 235\r\n",
    "콤마가 포함된 문자열 숫자를 입력받아 정수로 변환하는 convert_int 함수를 정의하라.\r\n",
    "\r\n",
    "convert_int(\"1,234,567\")\r\n",
    "\r\n",
    "1234567\r\n"
   ],
   "metadata": {}
  },
  {
   "cell_type": "code",
   "execution_count": 22,
   "source": [
    "#정답확인\r\n",
    "def convert_int(string):\r\n",
    "    return int(string.replace(',',''))\r\n",
    "\r\n",
    "convert_int(\"1,234,567\")"
   ],
   "outputs": [
    {
     "output_type": "execute_result",
     "data": {
      "text/plain": [
       "1234567"
      ]
     },
     "metadata": {},
     "execution_count": 22
    }
   ],
   "metadata": {}
  },
  {
   "cell_type": "markdown",
   "source": [
    "# 236\r\n",
    "아래 코드의 실행 결과를 예측하라.\r\n"
   ],
   "metadata": {}
  },
  {
   "cell_type": "code",
   "execution_count": 33,
   "source": [
    "def 함수(num) :\r\n",
    "    return num + 4\r\n",
    "\r\n",
    "a = 함수(10)\r\n",
    "b = 함수(a)\r\n",
    "c = 함수(b)\r\n",
    "print(c)\r\n",
    "\r\n",
    "# 정답확인 : 22"
   ],
   "outputs": [
    {
     "output_type": "stream",
     "name": "stdout",
     "text": [
      "22\n"
     ]
    }
   ],
   "metadata": {}
  },
  {
   "cell_type": "markdown",
   "source": [
    "# 237\r\n",
    "아래 코드의 실행 결과를 예측하라.\r\n"
   ],
   "metadata": {}
  },
  {
   "cell_type": "code",
   "execution_count": 32,
   "source": [
    "\r\n",
    "def 함수(num) :\r\n",
    "    return num + 4\r\n",
    "\r\n",
    "c = 함수(함수(함수(10)))\r\n",
    "print(c)\r\n",
    "\r\n",
    "# 정답확인 : 22\r\n"
   ],
   "outputs": [
    {
     "output_type": "stream",
     "name": "stdout",
     "text": [
      "22\n"
     ]
    }
   ],
   "metadata": {}
  },
  {
   "cell_type": "markdown",
   "source": [
    "# 238\r\n",
    "아래 코드의 실행 결과를 예측하라.\r\n"
   ],
   "metadata": {}
  },
  {
   "cell_type": "code",
   "execution_count": 30,
   "source": [
    "def 함수1(num) :\r\n",
    "    return num + 4\r\n",
    "\r\n",
    "def 함수2(num) :\r\n",
    "    return num * 10\r\n",
    "\r\n",
    "a = 함수1(10) #14 \r\n",
    "c = 함수2(a) # 140\r\n",
    "print(c)\r\n",
    "\r\n",
    "# 정답확인 : 140\r\n"
   ],
   "outputs": [
    {
     "output_type": "stream",
     "name": "stdout",
     "text": [
      "140\n"
     ]
    }
   ],
   "metadata": {}
  },
  {
   "cell_type": "markdown",
   "source": [
    "# 239\r\n",
    "아래 코드의 실행 결과를 예측하라.\r\n"
   ],
   "metadata": {}
  },
  {
   "cell_type": "code",
   "execution_count": 29,
   "source": [
    "def 함수1(num) :\r\n",
    "    return num + 4\r\n",
    "\r\n",
    "def 함수2(num) :\r\n",
    "    num = num + 2\r\n",
    "    return 함수1(num)\r\n",
    "\r\n",
    "c = 함수2(10)\r\n",
    "print(c)\r\n",
    "\r\n",
    "# 정답 확인 : 16"
   ],
   "outputs": [
    {
     "output_type": "stream",
     "name": "stdout",
     "text": [
      "16\n"
     ]
    }
   ],
   "metadata": {}
  },
  {
   "cell_type": "markdown",
   "source": [
    "# 240\r\n",
    "아래 코드의 실행 결과를 예측하라.\r\n"
   ],
   "metadata": {}
  },
  {
   "cell_type": "code",
   "execution_count": 28,
   "source": [
    "def 함수0(num) :\r\n",
    "    return num * 2\r\n",
    "\r\n",
    "def 함수1(num) :\r\n",
    "    return 함수0(num + 2)\r\n",
    "\r\n",
    "def 함수2(num) :\r\n",
    "    num = num + 10\r\n",
    "    return 함수1(num)\r\n",
    "\r\n",
    "c = 함수2(2)\r\n",
    "print(c)\r\n",
    "\r\n",
    "# 정답확인  : 28\r\n"
   ],
   "outputs": [
    {
     "output_type": "stream",
     "name": "stdout",
     "text": [
      "28\n"
     ]
    }
   ],
   "metadata": {}
  }
 ],
 "metadata": {
  "orig_nbformat": 4,
  "language_info": {
   "name": "python",
   "version": "3.7.8rc1",
   "mimetype": "text/x-python",
   "codemirror_mode": {
    "name": "ipython",
    "version": 3
   },
   "pygments_lexer": "ipython3",
   "nbconvert_exporter": "python",
   "file_extension": ".py"
  },
  "kernelspec": {
   "name": "python3",
   "display_name": "Python 3.7.8rc1 64-bit"
  },
  "interpreter": {
   "hash": "cc07735d28a0d4da7c204b7621a4e8051814cf7e137f5c0f118b7d9ce33f12a9"
  }
 },
 "nbformat": 4,
 "nbformat_minor": 2
}