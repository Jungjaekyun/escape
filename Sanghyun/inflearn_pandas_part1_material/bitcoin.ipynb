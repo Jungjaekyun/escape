{
 "cells": [
  {
   "cell_type": "code",
   "execution_count": 2,
   "metadata": {},
   "outputs": [],
   "source": [
    "import requests \n",
    "url = \"https://api.upbit.com/v1/market/all\"\n",
    "querystring = {\"isDetails\":\"false\"} \n",
    "response = requests.request(\"GET\", url, params=querystring)\n",
    "#print(response.json()[1]['korean_name'])\n"
   ]
  },
  {
   "cell_type": "code",
   "execution_count": 4,
   "metadata": {},
   "outputs": [],
   "source": [
    "\n",
    "import requests \n",
    "url = \"https://api.upbit.com/v1/market/all\" \n",
    "coinname = requests.get(url) #api 데이터 호출 \n",
    "coinname = coinname.json() # coinname으로 가져온 json 데이터를 list로 저장 print(coinname)\n",
    "# print(coinname)\n"
   ]
  },
  {
   "cell_type": "code",
   "execution_count": 5,
   "metadata": {},
   "outputs": [
    {
     "data": {
      "text/html": [
       "<div>\n",
       "<style scoped>\n",
       "    .dataframe tbody tr th:only-of-type {\n",
       "        vertical-align: middle;\n",
       "    }\n",
       "\n",
       "    .dataframe tbody tr th {\n",
       "        vertical-align: top;\n",
       "    }\n",
       "\n",
       "    .dataframe thead th {\n",
       "        text-align: right;\n",
       "    }\n",
       "</style>\n",
       "<table border=\"1\" class=\"dataframe\">\n",
       "  <thead>\n",
       "    <tr style=\"text-align: right;\">\n",
       "      <th></th>\n",
       "      <th>market</th>\n",
       "      <th>korean_name</th>\n",
       "      <th>english_name</th>\n",
       "    </tr>\n",
       "  </thead>\n",
       "  <tbody>\n",
       "    <tr>\n",
       "      <th>0</th>\n",
       "      <td>KRW-BTC</td>\n",
       "      <td>비트코인</td>\n",
       "      <td>Bitcoin</td>\n",
       "    </tr>\n",
       "    <tr>\n",
       "      <th>58</th>\n",
       "      <td>KRW-BTG</td>\n",
       "      <td>비트코인골드</td>\n",
       "      <td>Bitcoin Gold</td>\n",
       "    </tr>\n",
       "    <tr>\n",
       "      <th>80</th>\n",
       "      <td>KRW-BCH</td>\n",
       "      <td>비트코인캐시</td>\n",
       "      <td>Bitcoin Cash</td>\n",
       "    </tr>\n",
       "    <tr>\n",
       "      <th>108</th>\n",
       "      <td>KRW-BSV</td>\n",
       "      <td>비트코인에스브이</td>\n",
       "      <td>Bitcoin SV</td>\n",
       "    </tr>\n",
       "    <tr>\n",
       "      <th>115</th>\n",
       "      <td>KRW-BTT</td>\n",
       "      <td>비트토렌트</td>\n",
       "      <td>BitTorrent</td>\n",
       "    </tr>\n",
       "  </tbody>\n",
       "</table>\n",
       "</div>"
      ],
      "text/plain": [
       "      market korean_name  english_name\n",
       "0    KRW-BTC        비트코인       Bitcoin\n",
       "58   KRW-BTG      비트코인골드  Bitcoin Gold\n",
       "80   KRW-BCH      비트코인캐시  Bitcoin Cash\n",
       "108  KRW-BSV    비트코인에스브이    Bitcoin SV\n",
       "115  KRW-BTT       비트토렌트    BitTorrent"
      ]
     },
     "execution_count": 5,
     "metadata": {},
     "output_type": "execute_result"
    }
   ],
   "source": [
    "import pandas as pd\n",
    "coinname_df = pd.DataFrame(coinname)\n",
    "#print(coinname_df)\n",
    "\n",
    "coinkrw_df = coinname_df.loc[coinname_df['market'].str.contains('KRW')] \n",
    "coinkrw_df\n",
    "\n",
    "coinname_full = '폴카닷' \n",
    "# 찾고 싶은 코인 이름(한글) 전체 \n",
    "\n",
    "coinkrw_df.loc[coinkrw_df['korean_name'] == coinname_full]\n",
    "\n",
    "\n",
    "coinname_part = '비트' # 찾고 싶은 코인 이름(한글) 일부 \n",
    "coinkrw_df.loc[coinkrw_df['korean_name'].str.contains(coinname_part)]\n"
   ]
  },
  {
   "cell_type": "code",
   "execution_count": 6,
   "metadata": {},
   "outputs": [
    {
     "name": "stdout",
     "output_type": "stream",
     "text": [
      "                           open        high         low       close  \\\n",
      "2021-10-31 09:00:00  73428000.0  74502000.0  71551000.0  72391000.0   \n",
      "2021-11-01 09:00:00  72325000.0  73800000.0  71003000.0  73598000.0   \n",
      "\n",
      "                          volume         value  \n",
      "2021-10-31 09:00:00  7515.247720  5.476247e+11  \n",
      "2021-11-01 09:00:00  2778.366105  2.009504e+11  \n"
     ]
    }
   ],
   "source": [
    "\n",
    "import time \n",
    "import pyupbit \n",
    "import datetime\n",
    "\n",
    "\n",
    "def get_target_price(ticker, k): \n",
    "    df = pyupbit.get_ohlcv(ticker, interval=\"day\", count=2) \n",
    "    target_price = df.iloc[0]['close'] + (df.iloc[0]['high'] - df.iloc[0]['low']) * k \n",
    "    return target_price\n",
    "\n",
    "df = pyupbit.get_ohlcv(\"KRW-BTC\", interval=\"day\", count=2) \n",
    "print(df)\n"
   ]
  },
  {
   "cell_type": "code",
   "execution_count": 7,
   "metadata": {},
   "outputs": [],
   "source": [
    "# 시작 시간 정의 하기, 1일 매매 기준 \n",
    "def get_start_time(ticker): \n",
    "    df = pyupbit.get_ohlcv(ticker, interval=\"day\", count=1) \n",
    "    start_time = df.index[0] \n",
    "    return start_time\n"
   ]
  },
  {
   "cell_type": "code",
   "execution_count": 9,
   "metadata": {},
   "outputs": [
    {
     "name": "stdout",
     "output_type": "stream",
     "text": [
      "                           open        high         low       close  \\\n",
      "2021-11-01 09:00:00  72325000.0  73800000.0  71003000.0  73609000.0   \n",
      "\n",
      "                          volume         value  \n",
      "2021-11-01 09:00:00  2788.516326  2.016975e+11  \n",
      "2021-11-01 09:00:00\n"
     ]
    }
   ],
   "source": [
    "df = pyupbit.get_ohlcv(\"KRW-BTC\", interval=\"day\", count=1) \n",
    "print (df) \n",
    "\n",
    "start_time = df.index[0] \n",
    "print (start_time)\n",
    "\n"
   ]
  },
  {
   "cell_type": "code",
   "execution_count": 17,
   "metadata": {},
   "outputs": [],
   "source": [
    "def get_balance(ticker): \n",
    "    balances = upbit.get_balances() \n",
    "    for b in balances: \n",
    "        if b['currency'] == ticker: \n",
    "            if b['balance'] is not None: \n",
    "                return float(b['balance']) \n",
    "        else: \n",
    "            return 0\n"
   ]
  },
  {
   "cell_type": "code",
   "execution_count": 18,
   "metadata": {},
   "outputs": [],
   "source": [
    "def get_current_price(ticker): \n",
    "    return pyupbit.get_orderbook(tickers=ticker)[0][\"orderbook_units\"][0][\"ask_price\"]"
   ]
  },
  {
   "cell_type": "code",
   "execution_count": 19,
   "metadata": {},
   "outputs": [
    {
     "ename": "TypeError",
     "evalue": "get_orderbook() got an unexpected keyword argument 'tickers'",
     "output_type": "error",
     "traceback": [
      "\u001b[1;31m---------------------------------------------------------------------------\u001b[0m",
      "\u001b[1;31mTypeError\u001b[0m                                 Traceback (most recent call last)",
      "\u001b[1;32mC:\\Users\\TESTWO~1\\AppData\\Local\\Temp/ipykernel_31576/1119561284.py\u001b[0m in \u001b[0;36m<module>\u001b[1;34m\u001b[0m\n\u001b[1;32m----> 1\u001b[1;33m \u001b[0mpd\u001b[0m\u001b[1;33m.\u001b[0m\u001b[0mDataFrame\u001b[0m\u001b[1;33m(\u001b[0m\u001b[0mpyupbit\u001b[0m\u001b[1;33m.\u001b[0m\u001b[0mget_orderbook\u001b[0m\u001b[1;33m(\u001b[0m\u001b[0mtickers\u001b[0m\u001b[1;33m=\u001b[0m\u001b[1;34m\"KRW-BTC\"\u001b[0m\u001b[1;33m)\u001b[0m\u001b[1;33m[\u001b[0m\u001b[1;36m0\u001b[0m\u001b[1;33m]\u001b[0m\u001b[1;33m[\u001b[0m\u001b[1;34m\"orderbook_units\"\u001b[0m\u001b[1;33m]\u001b[0m\u001b[1;33m)\u001b[0m\u001b[1;33m\u001b[0m\u001b[1;33m\u001b[0m\u001b[0m\n\u001b[0m",
      "\u001b[1;31mTypeError\u001b[0m: get_orderbook() got an unexpected keyword argument 'tickers'"
     ]
    }
   ],
   "source": [
    "\n",
    "pd.DataFrame(pyupbit.get_orderbook(tickers=\"KRW-BTC\")[0][\"orderbook_units\"])\n"
   ]
  },
  {
   "cell_type": "code",
   "execution_count": 20,
   "metadata": {},
   "outputs": [
    {
     "ename": "TypeError",
     "evalue": "get_orderbook() got an unexpected keyword argument 'tickers'",
     "output_type": "error",
     "traceback": [
      "\u001b[1;31m---------------------------------------------------------------------------\u001b[0m",
      "\u001b[1;31mTypeError\u001b[0m                                 Traceback (most recent call last)",
      "\u001b[1;32mC:\\Users\\TESTWO~1\\AppData\\Local\\Temp/ipykernel_31576/2968746569.py\u001b[0m in \u001b[0;36m<module>\u001b[1;34m\u001b[0m\n\u001b[1;32m----> 1\u001b[1;33m \u001b[0mpyupbit\u001b[0m\u001b[1;33m.\u001b[0m\u001b[0mget_orderbook\u001b[0m\u001b[1;33m(\u001b[0m\u001b[0mtickers\u001b[0m\u001b[1;33m=\u001b[0m\u001b[1;34m\"KRW-BTC\"\u001b[0m\u001b[1;33m)\u001b[0m\u001b[1;33m[\u001b[0m\u001b[1;36m0\u001b[0m\u001b[1;33m]\u001b[0m\u001b[1;33m[\u001b[0m\u001b[1;34m\"orderbook_units\"\u001b[0m\u001b[1;33m]\u001b[0m\u001b[1;33m[\u001b[0m\u001b[1;36m0\u001b[0m\u001b[1;33m]\u001b[0m\u001b[1;33m[\u001b[0m\u001b[1;34m\"ask_price\"\u001b[0m\u001b[1;33m]\u001b[0m\u001b[1;33m\u001b[0m\u001b[1;33m\u001b[0m\u001b[0m\n\u001b[0m",
      "\u001b[1;31mTypeError\u001b[0m: get_orderbook() got an unexpected keyword argument 'tickers'"
     ]
    }
   ],
   "source": [
    "pyupbit.get_orderbook(tickers=\"KRW-BTC\")[0][\"orderbook_units\"][0][\"ask_price\"]\n"
   ]
  }
 ],
 "metadata": {
  "interpreter": {
   "hash": "cc07735d28a0d4da7c204b7621a4e8051814cf7e137f5c0f118b7d9ce33f12a9"
  },
  "kernelspec": {
   "display_name": "Python 3.7.8rc1 64-bit",
   "name": "python3"
  },
  "language_info": {
   "codemirror_mode": {
    "name": "ipython",
    "version": 3
   },
   "file_extension": ".py",
   "mimetype": "text/x-python",
   "name": "python",
   "nbconvert_exporter": "python",
   "pygments_lexer": "ipython3",
   "version": "3.7.8"
  },
  "orig_nbformat": 4
 },
 "nbformat": 4,
 "nbformat_minor": 2
}
