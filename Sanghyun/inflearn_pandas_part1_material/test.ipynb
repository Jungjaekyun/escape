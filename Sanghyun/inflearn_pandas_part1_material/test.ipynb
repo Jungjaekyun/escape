{
 "cells": [
  {
   "cell_type": "code",
   "execution_count": 84,
   "metadata": {},
   "outputs": [
    {
     "name": "stdout",
     "output_type": "stream",
     "text": [
      "vg4f5H6kQlRc+XE/JDqbj8zdovedYu5rln5dL2j9ivIRtSksuLS7Bnxpl86F7dAOkunw9BBwugQaSjGAcH15eUPstM5idlTRqNcdFN5GeXstBgM+EFJCxYg3zco1gIgRZqIo4cIzoURnTI8+MmkJ4m8vFLhSKmM794gFu+ThsO31lY4woqehX8j6OlXFDcfHdV4NbYo4+D2Rwcfj24VnU3Zpq3ik/Dyw3FdyOXhJkBI=\n"
     ]
    }
   ],
   "source": [
    "import requests as rq\n",
    "from io import BytesIO\n",
    "import pandas as pd\n",
    "\n",
    "gen_otp_url = 'http://data.krx.co.kr/comm/fileDn/GenerateOTP/generate.cmd'\n",
    "gen_otp_data = {\n",
    "  'mktId': 'STK',\n",
    "  'trdDd': '20211028',\n",
    "  'money': '1',\n",
    "  'csvxls_isNo': 'false',\n",
    "  'name': 'fileDown',\n",
    "  'url': 'dbms/MDC/STAT/standard/MDCSTAT03901'\n",
    "}\n",
    "headers = {'Referer': 'http://data.krx.co.kr/contents/MDC/MDI/mdiLoader'}\n",
    "otp = rq.post(gen_otp_url, gen_otp_data, headers=headers).text\n",
    "\n",
    "print(otp)"
   ]
  },
  {
   "cell_type": "code",
   "execution_count": 85,
   "metadata": {},
   "outputs": [],
   "source": [
    "down_url = 'http://data.krx.co.kr/comm/fileDn/download_csv/download.cmd'\n",
    "down_sector_KS  = rq.post(down_url, {'code':otp}, headers=headers)\n",
    "sector_KS = pd.read_csv(BytesIO(down_sector_KS.content), encoding='EUC-KR')"
   ]
  },
  {
   "cell_type": "code",
   "execution_count": 86,
   "metadata": {},
   "outputs": [
    {
     "data": {
      "text/html": [
       "<div>\n",
       "<style scoped>\n",
       "    .dataframe tbody tr th:only-of-type {\n",
       "        vertical-align: middle;\n",
       "    }\n",
       "\n",
       "    .dataframe tbody tr th {\n",
       "        vertical-align: top;\n",
       "    }\n",
       "\n",
       "    .dataframe thead th {\n",
       "        text-align: right;\n",
       "    }\n",
       "</style>\n",
       "<table border=\"1\" class=\"dataframe\">\n",
       "  <thead>\n",
       "    <tr style=\"text-align: right;\">\n",
       "      <th></th>\n",
       "      <th>종목코드</th>\n",
       "      <th>종목명</th>\n",
       "      <th>시장구분</th>\n",
       "      <th>업종명</th>\n",
       "      <th>종가</th>\n",
       "      <th>대비</th>\n",
       "      <th>등락률</th>\n",
       "      <th>시가총액</th>\n",
       "    </tr>\n",
       "  </thead>\n",
       "  <tbody>\n",
       "    <tr>\n",
       "      <td>0</td>\n",
       "      <td>095570</td>\n",
       "      <td>AJ네트웍스</td>\n",
       "      <td>KOSPI</td>\n",
       "      <td>서비스업</td>\n",
       "      <td>5460</td>\n",
       "      <td>-90</td>\n",
       "      <td>-1.620</td>\n",
       "      <td>255649730700</td>\n",
       "    </tr>\n",
       "    <tr>\n",
       "      <td>1</td>\n",
       "      <td>006840</td>\n",
       "      <td>AK홀딩스</td>\n",
       "      <td>KOSPI</td>\n",
       "      <td>기타금융</td>\n",
       "      <td>27050</td>\n",
       "      <td>-500</td>\n",
       "      <td>-1.810</td>\n",
       "      <td>358346525050</td>\n",
       "    </tr>\n",
       "    <tr>\n",
       "      <td>2</td>\n",
       "      <td>027410</td>\n",
       "      <td>BGF</td>\n",
       "      <td>KOSPI</td>\n",
       "      <td>기타금융</td>\n",
       "      <td>5750</td>\n",
       "      <td>-20</td>\n",
       "      <td>-0.350</td>\n",
       "      <td>550371548250</td>\n",
       "    </tr>\n",
       "    <tr>\n",
       "      <td>3</td>\n",
       "      <td>282330</td>\n",
       "      <td>BGF리테일</td>\n",
       "      <td>KOSPI</td>\n",
       "      <td>유통업</td>\n",
       "      <td>162500</td>\n",
       "      <td>-6000</td>\n",
       "      <td>-3.560</td>\n",
       "      <td>2808634725000</td>\n",
       "    </tr>\n",
       "    <tr>\n",
       "      <td>4</td>\n",
       "      <td>138930</td>\n",
       "      <td>BNK금융지주</td>\n",
       "      <td>KOSPI</td>\n",
       "      <td>기타금융</td>\n",
       "      <td>8910</td>\n",
       "      <td>-220</td>\n",
       "      <td>-2.410</td>\n",
       "      <td>2904083041860</td>\n",
       "    </tr>\n",
       "    <tr>\n",
       "      <td>...</td>\n",
       "      <td>...</td>\n",
       "      <td>...</td>\n",
       "      <td>...</td>\n",
       "      <td>...</td>\n",
       "      <td>...</td>\n",
       "      <td>...</td>\n",
       "      <td>...</td>\n",
       "      <td>...</td>\n",
       "    </tr>\n",
       "    <tr>\n",
       "      <td>934</td>\n",
       "      <td>069260</td>\n",
       "      <td>휴켐스</td>\n",
       "      <td>KOSPI</td>\n",
       "      <td>화학</td>\n",
       "      <td>26200</td>\n",
       "      <td>50</td>\n",
       "      <td>0.190</td>\n",
       "      <td>1071019005600</td>\n",
       "    </tr>\n",
       "    <tr>\n",
       "      <td>935</td>\n",
       "      <td>000540</td>\n",
       "      <td>흥국화재</td>\n",
       "      <td>KOSPI</td>\n",
       "      <td>보험</td>\n",
       "      <td>3870</td>\n",
       "      <td>-65</td>\n",
       "      <td>-1.650</td>\n",
       "      <td>248619036150</td>\n",
       "    </tr>\n",
       "    <tr>\n",
       "      <td>936</td>\n",
       "      <td>000547</td>\n",
       "      <td>흥국화재2우B</td>\n",
       "      <td>KOSPI</td>\n",
       "      <td>보험</td>\n",
       "      <td>28250</td>\n",
       "      <td>100</td>\n",
       "      <td>0.360</td>\n",
       "      <td>4339200000</td>\n",
       "    </tr>\n",
       "    <tr>\n",
       "      <td>937</td>\n",
       "      <td>000545</td>\n",
       "      <td>흥국화재우</td>\n",
       "      <td>KOSPI</td>\n",
       "      <td>보험</td>\n",
       "      <td>8570</td>\n",
       "      <td>60</td>\n",
       "      <td>0.710</td>\n",
       "      <td>6581760000</td>\n",
       "    </tr>\n",
       "    <tr>\n",
       "      <td>938</td>\n",
       "      <td>003280</td>\n",
       "      <td>흥아해운</td>\n",
       "      <td>KOSPI</td>\n",
       "      <td>운수창고업</td>\n",
       "      <td>3785</td>\n",
       "      <td>155</td>\n",
       "      <td>4.270</td>\n",
       "      <td>909990373730</td>\n",
       "    </tr>\n",
       "  </tbody>\n",
       "</table>\n",
       "<p>939 rows × 8 columns</p>\n",
       "</div>"
      ],
      "text/plain": [
       "       종목코드      종목명   시장구분    업종명      종가    대비    등락률           시가총액\n",
       "0    095570   AJ네트웍스  KOSPI   서비스업    5460   -90 -1.620   255649730700\n",
       "1    006840    AK홀딩스  KOSPI   기타금융   27050  -500 -1.810   358346525050\n",
       "2    027410      BGF  KOSPI   기타금융    5750   -20 -0.350   550371548250\n",
       "3    282330   BGF리테일  KOSPI    유통업  162500 -6000 -3.560  2808634725000\n",
       "4    138930  BNK금융지주  KOSPI   기타금융    8910  -220 -2.410  2904083041860\n",
       "..      ...      ...    ...    ...     ...   ...    ...            ...\n",
       "934  069260      휴켐스  KOSPI     화학   26200    50  0.190  1071019005600\n",
       "935  000540     흥국화재  KOSPI     보험    3870   -65 -1.650   248619036150\n",
       "936  000547  흥국화재2우B  KOSPI     보험   28250   100  0.360     4339200000\n",
       "937  000545    흥국화재우  KOSPI     보험    8570    60  0.710     6581760000\n",
       "938  003280     흥아해운  KOSPI  운수창고업    3785   155  4.270   909990373730\n",
       "\n",
       "[939 rows x 8 columns]"
      ]
     },
     "execution_count": 86,
     "metadata": {},
     "output_type": "execute_result"
    }
   ],
   "source": [
    "sector_KS"
   ]
  },
  {
   "cell_type": "code",
   "execution_count": 87,
   "metadata": {},
   "outputs": [],
   "source": [
    "gen_otp_data = {\n",
    "  'mktId': 'KSQ', # 코스닥 입력\n",
    "  'trdDd': '20211028',\n",
    "  'money': '1',\n",
    "  'csvxls_isNo': 'false',\n",
    "  'name': 'fileDown',\n",
    "  'url': 'dbms/MDC/STAT/standard/MDCSTAT03901'\n",
    "}\n",
    "otp = rq.post(gen_otp_url, gen_otp_data, headers=headers).text         \n",
    "\n",
    "down_sector_KQ  = rq.post(down_url, {'code':otp}, headers=headers)\n",
    "sector_KQ = pd.read_csv(BytesIO(down_sector_KQ.content), encoding='EUC-KR')"
   ]
  },
  {
   "cell_type": "code",
   "execution_count": 88,
   "metadata": {},
   "outputs": [],
   "source": [
    "down_sector = pd.concat([sector_KS, sector_KQ]).reset_index(drop=True)\n",
    "down_sector['종목명'] = down_sector['종목명'].str.strip()"
   ]
  },
  {
   "cell_type": "code",
   "execution_count": 89,
   "metadata": {},
   "outputs": [],
   "source": [
    "import os\n",
    "if not os.path.exists('data'):\n",
    "    os.makedirs('data')\n",
    "\n",
    "down_sector.to_csv('data/krx_sector.csv')"
   ]
  },
  {
   "cell_type": "code",
   "execution_count": 90,
   "metadata": {},
   "outputs": [],
   "source": [
    "import requests as rq\n",
    "from io import BytesIO\n",
    "import pandas as pd\n",
    "\n",
    "gen_otp_url = 'http://data.krx.co.kr/comm/fileDn/GenerateOTP/generate.cmd'\n",
    "gen_otp_data = {\n",
    "  'searchType' : '1',\n",
    "  'mktId' : 'ALL',\n",
    "  'trdDd' : '20211028',\n",
    "  'csvxls_isNo' : 'false',\n",
    "  'name' : 'fileDown',\n",
    "  'url' : 'dbms/MDC/STAT/standard/MDCSTAT03501'\n",
    "}\n",
    "headers = {'Referer': 'http://data.krx.co.kr/contents/MDC/MDI/mdiLoader'}           \n",
    "otp = rq.post(gen_otp_url, gen_otp_data, headers=headers).text         \n",
    "\n",
    "down_url = 'http://data.krx.co.kr/comm/fileDn/download_csv/download.cmd'\n",
    "down_ind  = rq.post(down_url, {'code':otp}, headers=headers)\n",
    "\n",
    "down_ind = pd.read_csv(BytesIO(down_ind.content), encoding='EUC-KR')\n",
    "down_ind['종목명'] = down_ind['종목명'].str.strip()"
   ]
  },
  {
   "cell_type": "code",
   "execution_count": 91,
   "metadata": {},
   "outputs": [
    {
     "data": {
      "text/html": [
       "<div>\n",
       "<style scoped>\n",
       "    .dataframe tbody tr th:only-of-type {\n",
       "        vertical-align: middle;\n",
       "    }\n",
       "\n",
       "    .dataframe tbody tr th {\n",
       "        vertical-align: top;\n",
       "    }\n",
       "\n",
       "    .dataframe thead th {\n",
       "        text-align: right;\n",
       "    }\n",
       "</style>\n",
       "<table border=\"1\" class=\"dataframe\">\n",
       "  <thead>\n",
       "    <tr style=\"text-align: right;\">\n",
       "      <th></th>\n",
       "      <th>종목코드</th>\n",
       "      <th>종목명</th>\n",
       "      <th>종가</th>\n",
       "      <th>대비</th>\n",
       "      <th>등락률</th>\n",
       "      <th>EPS</th>\n",
       "      <th>PER</th>\n",
       "      <th>BPS</th>\n",
       "      <th>PBR</th>\n",
       "      <th>주당배당금</th>\n",
       "      <th>배당수익률</th>\n",
       "    </tr>\n",
       "  </thead>\n",
       "  <tbody>\n",
       "    <tr>\n",
       "      <td>0</td>\n",
       "      <td>060310</td>\n",
       "      <td>3S</td>\n",
       "      <td>4250</td>\n",
       "      <td>-65</td>\n",
       "      <td>-1.510</td>\n",
       "      <td>16.000</td>\n",
       "      <td>265.630</td>\n",
       "      <td>792.000</td>\n",
       "      <td>5.370</td>\n",
       "      <td>0</td>\n",
       "      <td>0.000</td>\n",
       "    </tr>\n",
       "    <tr>\n",
       "      <td>1</td>\n",
       "      <td>095570</td>\n",
       "      <td>AJ네트웍스</td>\n",
       "      <td>5460</td>\n",
       "      <td>-90</td>\n",
       "      <td>-1.620</td>\n",
       "      <td>nan</td>\n",
       "      <td>nan</td>\n",
       "      <td>6089.000</td>\n",
       "      <td>0.900</td>\n",
       "      <td>210</td>\n",
       "      <td>3.850</td>\n",
       "    </tr>\n",
       "    <tr>\n",
       "      <td>2</td>\n",
       "      <td>006840</td>\n",
       "      <td>AK홀딩스</td>\n",
       "      <td>27050</td>\n",
       "      <td>-500</td>\n",
       "      <td>-1.810</td>\n",
       "      <td>nan</td>\n",
       "      <td>nan</td>\n",
       "      <td>50471.000</td>\n",
       "      <td>0.540</td>\n",
       "      <td>400</td>\n",
       "      <td>1.480</td>\n",
       "    </tr>\n",
       "    <tr>\n",
       "      <td>3</td>\n",
       "      <td>054620</td>\n",
       "      <td>APS홀딩스</td>\n",
       "      <td>18100</td>\n",
       "      <td>-100</td>\n",
       "      <td>-0.550</td>\n",
       "      <td>nan</td>\n",
       "      <td>nan</td>\n",
       "      <td>8135.000</td>\n",
       "      <td>2.220</td>\n",
       "      <td>0</td>\n",
       "      <td>0.000</td>\n",
       "    </tr>\n",
       "    <tr>\n",
       "      <td>4</td>\n",
       "      <td>265520</td>\n",
       "      <td>AP시스템</td>\n",
       "      <td>24300</td>\n",
       "      <td>450</td>\n",
       "      <td>1.890</td>\n",
       "      <td>1736.000</td>\n",
       "      <td>14.000</td>\n",
       "      <td>9041.000</td>\n",
       "      <td>2.690</td>\n",
       "      <td>120</td>\n",
       "      <td>0.490</td>\n",
       "    </tr>\n",
       "  </tbody>\n",
       "</table>\n",
       "</div>"
      ],
      "text/plain": [
       "     종목코드     종목명     종가   대비    등락률      EPS     PER       BPS   PBR  주당배당금  \\\n",
       "0  060310      3S   4250  -65 -1.510   16.000 265.630   792.000 5.370      0   \n",
       "1  095570  AJ네트웍스   5460  -90 -1.620      nan     nan  6089.000 0.900    210   \n",
       "2  006840   AK홀딩스  27050 -500 -1.810      nan     nan 50471.000 0.540    400   \n",
       "3  054620  APS홀딩스  18100 -100 -0.550      nan     nan  8135.000 2.220      0   \n",
       "4  265520   AP시스템  24300  450  1.890 1736.000  14.000  9041.000 2.690    120   \n",
       "\n",
       "   배당수익률  \n",
       "0  0.000  \n",
       "1  3.850  \n",
       "2  1.480  \n",
       "3  0.000  \n",
       "4  0.490  "
      ]
     },
     "execution_count": 91,
     "metadata": {},
     "output_type": "execute_result"
    }
   ],
   "source": [
    "down_ind.head()"
   ]
  },
  {
   "cell_type": "code",
   "execution_count": 92,
   "metadata": {},
   "outputs": [
    {
     "name": "stdout",
     "output_type": "stream",
     "text": [
      "  |  2021.10.26\n"
     ]
    }
   ],
   "source": [
    "import requests as rq\n",
    "from bs4 import BeautifulSoup\n",
    "\n",
    "url = 'https://finance.naver.com/sise/sise_deposit.nhn'\n",
    "data = rq.get(url)\n",
    "data_html = BeautifulSoup(data.content)\n",
    "parse_day = data_html.select_one('div.subtop_sise_graph2 > ul.subtop_chart_note > li > span.tah').text\n",
    "\n",
    "print(parse_day)"
   ]
  },
  {
   "cell_type": "code",
   "execution_count": 93,
   "metadata": {},
   "outputs": [
    {
     "name": "stdout",
     "output_type": "stream",
     "text": [
      "20211026\n"
     ]
    }
   ],
   "source": [
    "import re\n",
    "biz_day = re.findall(\"[0-9]+\", parse_day)\n",
    "biz_day = \"\".join(biz_day)\n",
    "\n",
    "print(biz_day)"
   ]
  },
  {
   "cell_type": "code",
   "execution_count": 94,
   "metadata": {},
   "outputs": [
    {
     "ename": "FeatureNotFound",
     "evalue": "Couldn't find a tree builder with the features you requested: html5lib. Do you need to install a parser library?",
     "output_type": "error",
     "traceback": [
      "\u001b[1;31m---------------------------------------------------------------------------\u001b[0m",
      "\u001b[1;31mFeatureNotFound\u001b[0m                           Traceback (most recent call last)",
      "\u001b[1;32mC:\\Users\\TESTWO~1\\AppData\\Local\\Temp/ipykernel_17232/2340512691.py\u001b[0m in \u001b[0;36m<module>\u001b[1;34m\u001b[0m\n\u001b[0;32m     12\u001b[0m \u001b[0murl\u001b[0m \u001b[1;33m=\u001b[0m \u001b[1;34m'https://finance.naver.com/sise/sise_deposit.nhn'\u001b[0m\u001b[1;33m\u001b[0m\u001b[1;33m\u001b[0m\u001b[0m\n\u001b[0;32m     13\u001b[0m \u001b[0mdata\u001b[0m \u001b[1;33m=\u001b[0m \u001b[0mrq\u001b[0m\u001b[1;33m.\u001b[0m\u001b[0mget\u001b[0m\u001b[1;33m(\u001b[0m\u001b[0murl\u001b[0m\u001b[1;33m)\u001b[0m\u001b[1;33m\u001b[0m\u001b[1;33m\u001b[0m\u001b[0m\n\u001b[1;32m---> 14\u001b[1;33m \u001b[0mdata_html\u001b[0m \u001b[1;33m=\u001b[0m \u001b[0mBeautifulSoup\u001b[0m\u001b[1;33m(\u001b[0m\u001b[0mdata\u001b[0m\u001b[1;33m.\u001b[0m\u001b[0mcontent\u001b[0m\u001b[1;33m,\u001b[0m \u001b[1;34m\"html5lib\"\u001b[0m\u001b[1;33m)\u001b[0m\u001b[1;33m\u001b[0m\u001b[1;33m\u001b[0m\u001b[0m\n\u001b[0m\u001b[0;32m     15\u001b[0m \u001b[0mparse_day\u001b[0m \u001b[1;33m=\u001b[0m \u001b[0mdata_html\u001b[0m\u001b[1;33m.\u001b[0m\u001b[0mselect_one\u001b[0m\u001b[1;33m(\u001b[0m\u001b[1;34m'div.subtop_sise_graph2 > ul.subtop_chart_note > li > span.tah'\u001b[0m\u001b[1;33m)\u001b[0m\u001b[1;33m.\u001b[0m\u001b[0mtext\u001b[0m\u001b[1;33m\u001b[0m\u001b[1;33m\u001b[0m\u001b[0m\n\u001b[0;32m     16\u001b[0m \u001b[0mbiz_day\u001b[0m \u001b[1;33m=\u001b[0m \u001b[0mre\u001b[0m\u001b[1;33m.\u001b[0m\u001b[0mfindall\u001b[0m\u001b[1;33m(\u001b[0m\u001b[1;34m\"[0-9]+\"\u001b[0m\u001b[1;33m,\u001b[0m \u001b[0mparse_day\u001b[0m\u001b[1;33m)\u001b[0m\u001b[1;33m\u001b[0m\u001b[1;33m\u001b[0m\u001b[0m\n",
      "\u001b[1;32m~\\AppData\\Local\\Programs\\Python\\Python37\\lib\\site-packages\\bs4\\__init__.py\u001b[0m in \u001b[0;36m__init__\u001b[1;34m(self, markup, features, builder, parse_only, from_encoding, exclude_encodings, element_classes, **kwargs)\u001b[0m\n\u001b[0;32m    246\u001b[0m                     \u001b[1;34m\"Couldn't find a tree builder with the features you \"\u001b[0m\u001b[1;33m\u001b[0m\u001b[1;33m\u001b[0m\u001b[0m\n\u001b[0;32m    247\u001b[0m                     \u001b[1;34m\"requested: %s. Do you need to install a parser library?\"\u001b[0m\u001b[1;33m\u001b[0m\u001b[1;33m\u001b[0m\u001b[0m\n\u001b[1;32m--> 248\u001b[1;33m                     % \",\".join(features))\n\u001b[0m\u001b[0;32m    249\u001b[0m \u001b[1;33m\u001b[0m\u001b[0m\n\u001b[0;32m    250\u001b[0m         \u001b[1;31m# At this point either we have a TreeBuilder instance in\u001b[0m\u001b[1;33m\u001b[0m\u001b[1;33m\u001b[0m\u001b[1;33m\u001b[0m\u001b[0m\n",
      "\u001b[1;31mFeatureNotFound\u001b[0m: Couldn't find a tree builder with the features you requested: html5lib. Do you need to install a parser library?"
     ]
    }
   ],
   "source": [
    "import requests as rq\n",
    "from bs4 import BeautifulSoup\n",
    "import re\n",
    "from io import BytesIO\n",
    "import pandas as pd\n",
    "import os\n",
    "\n",
    "if not os.path.exists('data'):\n",
    "    os.makedirs('data')\n",
    "\n",
    "# 최근 영업일 구하기\n",
    "url = 'https://finance.naver.com/sise/sise_deposit.nhn'\n",
    "data = rq.get(url)\n",
    "data_html = BeautifulSoup(data.content, \"html5lib\")\n",
    "parse_day = data_html.select_one('div.subtop_sise_graph2 > ul.subtop_chart_note > li > span.tah').text\n",
    "biz_day = re.findall(\"[0-9]+\", parse_day)\n",
    "biz_day = \"\".join(biz_day)\n",
    "\n",
    "# 코스피 업종분류 데이터 다운로드\n",
    "gen_otp_url = 'http://data.krx.co.kr/comm/fileDn/GenerateOTP/generate.cmd'\n",
    "\n",
    "gen_otp_data = {\n",
    "  'mktId': 'STK',\n",
    "  'trdDd': '20211126',\n",
    "  'money': '1',\n",
    "  'csvxls_isNo': 'false',\n",
    "  'name': 'fileDown',\n",
    "  'url': 'dbms/MDC/STAT/standard/MDCSTAT03901'\n",
    "}\n",
    "\n",
    "headers = {'Referer': 'http://data.krx.co.kr/contents/MDC/MDI/mdiLoader'}           \n",
    "\n",
    "otp = rq.post(gen_otp_url, gen_otp_data, headers=headers).text   \n",
    "\n",
    "down_url = 'http://data.krx.co.kr/comm/fileDn/download_csv/download.cmd'\n",
    "down_sector_KS  = rq.post(down_url, {'code':otp}, headers=headers)\n",
    "\n",
    "sector_KS = pd.read_csv(BytesIO(down_sector_KS.content), encoding='EUC-KR')\n",
    "\n",
    "# 코스닥 업종분류 데이터 다운로드\n",
    "gen_otp_data = {\n",
    "  'mktId': 'KSQ',\n",
    "  'trdDd': biz_day,\n",
    "  'money': '1',\n",
    "  'csvxls_isNo': 'false',\n",
    "  'name': 'fileDown',\n",
    "  'url': 'dbms/MDC/STAT/standard/MDCSTAT03901'\n",
    "}\n",
    "\n",
    "otp = rq.post(gen_otp_url, gen_otp_data, headers=headers).text         \n",
    "\n",
    "down_sector_KQ  = rq.post(down_url, {'code':otp}, headers=headers)\n",
    "sector_KQ = pd.read_csv(BytesIO(down_sector_KQ.content), encoding='EUC-KR')\n",
    "\n",
    "# 합치기\n",
    "down_sector = pd.concat([sector_KS, sector_KQ]).reset_index(drop=True)\n",
    "down_sector['종목명'] = down_sector['종목명'].str.strip()\n",
    "\n",
    "# 저장하기\n",
    "down_sector.to_csv('data/krx_sector.csv')\n",
    "\n",
    "# 개별종목 지표 OTP 발급\n",
    "gen_otp_url = 'http://data.krx.co.kr/comm/fileDn/GenerateOTP/generate.cmd'\n",
    "\n",
    "gen_otp_data = {\n",
    "  'searchType' : '1',\n",
    "  'mktId' : 'ALL',\n",
    "  'trdDd' : biz_day,\n",
    "  'csvxls_isNo' : 'false',\n",
    "  'name' : 'fileDown',\n",
    "  'url' : 'dbms/MDC/STAT/standard/MDCSTAT03501'\n",
    "}\n",
    "\n",
    "otp = rq.post(gen_otp_url, gen_otp_data, headers=headers).text         \n",
    "\n",
    "down_url = 'http://data.krx.co.kr/comm/fileDn/download_csv/download.cmd'\n",
    "down_ind  = rq.post(down_url, {'code':otp}, headers=headers)\n",
    "\n",
    "down_ind = pd.read_csv(BytesIO(down_ind.content), encoding='EUC-KR')\n",
    "down_ind['종목명'] = down_ind['종목명'].str.strip()\n",
    "\n",
    "# 저장하기\n",
    "down_ind.to_csv('data/krx_ind.csv')"
   ]
  },
  {
   "cell_type": "code",
   "execution_count": null,
   "metadata": {},
   "outputs": [],
   "source": [
    "down_ind.to_csv('data/krx_ind.csv')"
   ]
  },
  {
   "cell_type": "code",
   "execution_count": null,
   "metadata": {},
   "outputs": [],
   "source": [
    "down_sector = pd.read_csv('data/krx_sector.csv', index_col = 0)\n",
    "down_ind = pd.read_csv('data/krx_ind.csv', index_col = 0)"
   ]
  },
  {
   "cell_type": "code",
   "execution_count": null,
   "metadata": {},
   "outputs": [
    {
     "data": {
      "text/plain": [
       "Index(['종목코드', '종목명', '종가', '대비', '등락률'], dtype='object')"
      ]
     },
     "execution_count": 54,
     "metadata": {},
     "output_type": "execute_result"
    }
   ],
   "source": [
    "down_sector.columns & down_ind.columns"
   ]
  },
  {
   "cell_type": "code",
   "execution_count": null,
   "metadata": {},
   "outputs": [
    {
     "name": "stdout",
     "output_type": "stream",
     "text": [
      "{'롯데리츠', '디자인', '뉴지랩파마', '지아이텍', '초록뱀', 'SNK', '삼영에스앤씨', '메탈라이프', '대호특수강', '디와이디대양', '감성코퍼레이션', 'RF머트리얼즈', '우림피티에스', '코렌', '오가닉티코스메틱', 'KH 일렉트론', '원익피앤이', '유진스팩4호', '엠씨넥스', 'IBKS제15호스팩', '이지스밸류리츠', '세영디앤씨', '하이골드12호', '윙입푸드', '협진', '에이치앤비디자인', 'ESR켄달스퀘어리츠', '원준', '싸이버원', '삼성스팩4호', '현대에버다임', '유일에너테크', '얍엑스', '아이에이네트웍스', '중앙디앤엠', '미래에셋대우스팩4호', '감마누', '엔에이치스팩21호', '대호특수강우', '쿠콘', '경남바이오파마', '바이오다인', '포커스에이치엔에스', '피엔에이치테크', '하나머스트7호스팩', '엔에이치스팩14호', '디에스티', '베트남개발1', '프로이천', '미래에셋맵스리츠', '프롬바이오', '제낙스', '블러썸엠앤씨', '아모센스', '라이프시맨틱스', '하나머스트제6호스팩', '파마리서치', '오비고', '피에이치씨', '케이탑리츠', '씨티케이코스메틱스', '하이골드3호', '실리콘웍스', '에이씨티', '대호피앤씨', '로스웰', '헝셩그룹', '차백신연구소', 'KTH', '맥스트', '센트럴바이오', '네오이뮨텍(Reg.S)', '필로시스헬스케어', '큐브앤컴퍼니', 'HK이노엔', '미래SCI', '럭슬', '초록뱀미디어', 'THQ', '뉴지랩', '스타모빌리티', 'MP한강', '포비스티앤씨', '미래테크놀로지', '청보산업', '씨티케이', '잉글우드랩', '일승', '제이시스메디칼', '한국제7호스팩', '오로스테크놀로지', '이엔코퍼레이션', '블루베리 NFT', '액트', '씨앤투스성진', '한주케미칼앤홀딩스', 'PI첨단소재', '한국ANKOR유전', '에이디엠코리아', '맵스리얼티1', '휴온스블러썸', '넥스턴바이오', '자이언트스텝', '원티드랩', '글로스퍼랩스', 'SBI핀테크솔루션즈', '이엠네트웍스', '스포츠서울', '이에스에이', '프레스티지바이오로직스', '파마리서치프로덕트', '교보8호스팩', '원바이오젠', '평화정공', '인피니티엔티', '소마젠', 'KH E&T', '와이엠텍', 'W홀딩컴퍼니', '엑세스바이오', '핑거', '이스트아시아홀딩스', '폴라리스웍스', 'HB솔루션', 'GS홈쇼핑', '유진스팩6호', '이리츠코크렙', '에스제이케이', '맘스터치', '키움제5호스팩', '이매진아시아', '누리텔레콤', '세미콘라이트', '유안타제8호스팩', '피에이치에이', '제이알글로벌리츠', '한국아트라스비엑스', '삼성스팩2호', '지와이커머스', 'COWON', '에이치피오', '아이엠텍', '맥쿼리인프라', '우림기계', '유진스팩5호', '휴먼엔', '코닉글로리', '브레인콘텐츠', '실리콘투', '엘비루셈', '에스엘바이오닉스', '삼성머스트스팩5호', '초록뱀컴퍼니', '인프라웨어', '포스링크', '해성티피씨', '엠로', '팍스넷', '에버다임', '엔에이치스팩16호', '한국패러랠', 'SK4호스팩', '엔피', '에브리봇', '모비릭스', '아스플로', '에이리츠', '현대에이치티', '미투젠', '엔비티', '바이젠셀', '바다로19호', '컬러레이', '한류타임즈', '넥스턴', '애머릿지', '에스앤디', '하나금융17호스팩', '디오스텍', 'DB금융스팩9호', '바이오플러스', 'CBI', '이엑스티', '씨케이에이치', '유진스팩7호', 'ES큐브', '우노앤컴퍼니', '뷰노', '퓨전', '시티랩스', '에코프로에이치엔', '골드앤에스', '엔에이치스팩13호', '코아시아옵틱스', '해마로푸드서비스', 'LX세미콘', '와이더플래닛', '다보링크', '누리플렉스', '코람코에너지리츠', '수성이노베이션', '삼본전자', '에이아이비트', '딥노이드', 'MP그룹', '이지웰', '브레인즈컴퍼니', '선진뷰티사이언스', '연이비앤티', '코너스톤네트웍스', '버추얼텍', '제노코', '이그잭스', '아이엠이연이', '에이비온', '전파기지국', '데일리블록체인', '맥스로텍', '씨유테크', '케이맥', '자안', 'NH프라임리츠', '엘브이엠씨홀딩스', '대호피앤씨우', '이노뎁', '모두투어리츠', '이노와이즈', '엔에이치스팩20호', '유안타제6호스팩', '한화플러스제2호스팩', '라이브플렉스', '신한알파리츠', '플래티어', '현대이지웰', '네스엠', '피앤이솔루션', 'IBKS제16호스팩', 'CNT85', '위메이드맥스', '현대통신', '네오리진', '행남사', '나노씨엠에스', '휴센텍', '진시스템', '케이티알파', '조이맥스', '해덕파워웨이', '자안바이오', '샘씨엔에스', '제주맥주', '수성', '참존글로벌', 'GRT', '엔시스', '폴라리스오피스', '이브이첨단소재', '하이제6호스팩', '현대무벡스', '레인보우로보틱스', 'FSN', '유안타제3호스팩', '폴라리스우노', '라온테크', '지나인제약', 'JTC', '씨앤씨인터내셔널', '크리스탈신소재', '휴럼', '클라우드에어', '한국9호스팩', '와이어블', '엠피대산', '하나금융19호스팩', '아이패밀리에스씨', '엘이티', '이지스레지던스리츠', '퓨쳐스트림네트웍스', '글로벌에스엠', '더블유에프엠', '코오롱티슈진', '신한제7호스팩', '에이팸', '이디티', '이삭엔지니어링', '아이퀘스트', '라이브파이낸셜', '신한제8호스팩', '씨이랩', '대신밸런스제10호스팩', '골든센츄리', '큐라클'}\n"
     ]
    }
   ],
   "source": [
    "print( set(down_sector['종목명']).symmetric_difference(set(down_ind['종목명'])) )"
   ]
  },
  {
   "cell_type": "code",
   "execution_count": null,
   "metadata": {},
   "outputs": [],
   "source": [
    "KOR_ticker = pd.merge(down_sector, down_ind,\n",
    "                      on = (down_sector.columns & down_ind.columns).tolist(), how = 'inner')"
   ]
  },
  {
   "cell_type": "code",
   "execution_count": null,
   "metadata": {},
   "outputs": [
    {
     "data": {
      "text/html": [
       "<div>\n",
       "<style scoped>\n",
       "    .dataframe tbody tr th:only-of-type {\n",
       "        vertical-align: middle;\n",
       "    }\n",
       "\n",
       "    .dataframe tbody tr th {\n",
       "        vertical-align: top;\n",
       "    }\n",
       "\n",
       "    .dataframe thead th {\n",
       "        text-align: right;\n",
       "    }\n",
       "</style>\n",
       "<table border=\"1\" class=\"dataframe\">\n",
       "  <thead>\n",
       "    <tr style=\"text-align: right;\">\n",
       "      <th></th>\n",
       "      <th>종목코드</th>\n",
       "      <th>종목명</th>\n",
       "      <th>시장구분</th>\n",
       "      <th>업종명</th>\n",
       "      <th>종가</th>\n",
       "      <th>대비</th>\n",
       "      <th>등락률</th>\n",
       "      <th>시가총액</th>\n",
       "      <th>EPS</th>\n",
       "      <th>PER</th>\n",
       "      <th>BPS</th>\n",
       "      <th>PBR</th>\n",
       "      <th>주당배당금</th>\n",
       "      <th>배당수익률</th>\n",
       "    </tr>\n",
       "  </thead>\n",
       "  <tbody>\n",
       "    <tr>\n",
       "      <td>401</td>\n",
       "      <td>005930</td>\n",
       "      <td>삼성전자</td>\n",
       "      <td>KOSPI</td>\n",
       "      <td>전기전자</td>\n",
       "      <td>88800</td>\n",
       "      <td>5900</td>\n",
       "      <td>7.120</td>\n",
       "      <td>530116690440000</td>\n",
       "      <td>3166.000</td>\n",
       "      <td>28.050</td>\n",
       "      <td>37528.000</td>\n",
       "      <td>2.370</td>\n",
       "      <td>1416</td>\n",
       "      <td>1.590</td>\n",
       "    </tr>\n",
       "    <tr>\n",
       "      <td>132</td>\n",
       "      <td>000660</td>\n",
       "      <td>SK하이닉스</td>\n",
       "      <td>KOSPI</td>\n",
       "      <td>전기전자</td>\n",
       "      <td>138000</td>\n",
       "      <td>3500</td>\n",
       "      <td>2.600</td>\n",
       "      <td>100464326370000</td>\n",
       "      <td>2943.000</td>\n",
       "      <td>46.890</td>\n",
       "      <td>65836.000</td>\n",
       "      <td>2.100</td>\n",
       "      <td>1000</td>\n",
       "      <td>0.720</td>\n",
       "    </tr>\n",
       "    <tr>\n",
       "      <td>81</td>\n",
       "      <td>051910</td>\n",
       "      <td>LG화학</td>\n",
       "      <td>KOSPI</td>\n",
       "      <td>화학</td>\n",
       "      <td>999000</td>\n",
       "      <td>37000</td>\n",
       "      <td>3.850</td>\n",
       "      <td>70521750657000</td>\n",
       "      <td>4085.000</td>\n",
       "      <td>244.550</td>\n",
       "      <td>217230.000</td>\n",
       "      <td>4.600</td>\n",
       "      <td>2000</td>\n",
       "      <td>0.200</td>\n",
       "    </tr>\n",
       "    <tr>\n",
       "      <td>402</td>\n",
       "      <td>005935</td>\n",
       "      <td>삼성전자우</td>\n",
       "      <td>KOSPI</td>\n",
       "      <td>전기전자</td>\n",
       "      <td>77800</td>\n",
       "      <td>3500</td>\n",
       "      <td>4.710</td>\n",
       "      <td>64020585260000</td>\n",
       "      <td>nan</td>\n",
       "      <td>nan</td>\n",
       "      <td>nan</td>\n",
       "      <td>nan</td>\n",
       "      <td>1417</td>\n",
       "      <td>1.820</td>\n",
       "    </tr>\n",
       "    <tr>\n",
       "      <td>395</td>\n",
       "      <td>207940</td>\n",
       "      <td>삼성바이오로직스</td>\n",
       "      <td>KOSPI</td>\n",
       "      <td>의약품</td>\n",
       "      <td>837000</td>\n",
       "      <td>18000</td>\n",
       "      <td>2.200</td>\n",
       "      <td>55380105000000</td>\n",
       "      <td>3067.000</td>\n",
       "      <td>272.910</td>\n",
       "      <td>65812.000</td>\n",
       "      <td>12.720</td>\n",
       "      <td>0</td>\n",
       "      <td>0.000</td>\n",
       "    </tr>\n",
       "  </tbody>\n",
       "</table>\n",
       "</div>"
      ],
      "text/plain": [
       "       종목코드       종목명   시장구분   업종명      종가     대비   등락률             시가총액  \\\n",
       "401  005930      삼성전자  KOSPI  전기전자   88800   5900 7.120  530116690440000   \n",
       "132  000660    SK하이닉스  KOSPI  전기전자  138000   3500 2.600  100464326370000   \n",
       "81   051910      LG화학  KOSPI    화학  999000  37000 3.850   70521750657000   \n",
       "402  005935     삼성전자우  KOSPI  전기전자   77800   3500 4.710   64020585260000   \n",
       "395  207940  삼성바이오로직스  KOSPI   의약품  837000  18000 2.200   55380105000000   \n",
       "\n",
       "         EPS     PER        BPS    PBR  주당배당금  배당수익률  \n",
       "401 3166.000  28.050  37528.000  2.370   1416  1.590  \n",
       "132 2943.000  46.890  65836.000  2.100   1000  0.720  \n",
       "81  4085.000 244.550 217230.000  4.600   2000  0.200  \n",
       "402      nan     nan        nan    nan   1417  1.820  \n",
       "395 3067.000 272.910  65812.000 12.720      0  0.000  "
      ]
     },
     "execution_count": 57,
     "metadata": {},
     "output_type": "execute_result"
    }
   ],
   "source": [
    "KOR_ticker = KOR_ticker.sort_values(by = ['시가총액'], ascending = False)\n",
    "\n",
    "KOR_ticker.head()\n"
   ]
  },
  {
   "cell_type": "code",
   "execution_count": null,
   "metadata": {},
   "outputs": [
    {
     "name": "stdout",
     "output_type": "stream",
     "text": [
      "[]\n"
     ]
    }
   ],
   "source": [
    "print( KOR_ticker[KOR_ticker['종목명'].str.contains('스팩')]['종목명'].values )"
   ]
  },
  {
   "cell_type": "code",
   "execution_count": null,
   "metadata": {},
   "outputs": [
    {
     "name": "stdout",
     "output_type": "stream",
     "text": [
      "[]\n"
     ]
    }
   ],
   "source": [
    "print( KOR_ticker[KOR_ticker['종목명'].str.contains('[0-9]+호')]['종목명'].values )"
   ]
  },
  {
   "cell_type": "code",
   "execution_count": null,
   "metadata": {},
   "outputs": [
    {
     "name": "stdout",
     "output_type": "stream",
     "text": [
      "['삼성전자우' '현대차2우B' 'LG화학우' '현대차우' 'LG생활건강우' 'LG전자우' '삼성SDI우' '아모레퍼시픽우'\n",
      " '미래에셋대우2우B' '삼성화재우' '한국금융지주우' '신영증권우' 'CJ4우(전환)' '한화3우B' '삼성전기우' '신풍제약우'\n",
      " '아모레G3우(전환)' '대신증권우' 'SK케미칼우' 'LG우' 'CJ제일제당 우' '현대차3우B' 'SK이노베이션우'\n",
      " '삼성물산우B' '두산퓨얼셀1우' '대림산업우' '금호석유우' 'S-Oil우' '두산우' 'NH투자증권우' 'SK우' 'CJ우'\n",
      " '아모레G우' '솔루스첨단소재1우' '녹십자홀딩스2우' '대신증권2우B' '유한양행우' '한화솔루션우' 'SK디스커버리우'\n",
      " '미래에셋대우우' '롯데지주우' '코오롱인더우' '호텔신라우' '두산2우B' '두산퓨얼셀2우B' '부국증권우' 'GS우'\n",
      " '솔루스첨단소재2우B' '대교우B' '롯데칠성우' '대한항공우' '유화증권우' '삼성중공우' 'LG하우시스우' 'BYC우'\n",
      " '유안타증권우' '티와이홀딩스우' '일양약품우' '세방우' '한진칼우' '남양유업우' '대상우' '하이트진로2우B' '코리아써우'\n",
      " '한화우' 'SK증권우' '덕성우' '한화투자증권우' '대덕전자1우' '현대건설우' '태영건설우' '넥센타이어1우B' '삼양사우'\n",
      " '코오롱우' '유유제약1우' '삼양홀딩스우' 'DB하이텍1우' '남선알미우' 'SK네트웍스우' 'NPC우' '서울식품우' '넥센우'\n",
      " '대덕1우' '계양전기우' '대한제당우' '금호산업우' '코오롱글로벌우' '태양금속우' '한양증권우' '성신양회우'\n",
      " '동원시스템즈우' 'CJ씨푸드1우' '크라운제과우' '대상홀딩스우' '대원전선우' '크라운해태홀딩스우' '현대비앤지스틸우'\n",
      " '깨끗한나라우' '금강공업우' 'JW중외제약우' '하이트진로홀딩스우' 'KG동부제철우' '흥국화재우' '노루페인트우'\n",
      " '진흥기업우B' '코리아써키트2우B' '동부건설우' '유유제약2우B' 'JW중외제약2우B' '성문전자우' '동양우' '동양2우B'\n",
      " '진흥기업2우B' '신원우' '노루홀딩스우' '흥국화재2우B' '동양3우B']\n"
     ]
    }
   ],
   "source": [
    "print( KOR_ticker[KOR_ticker['종목코드'].str[-1:] != '0']['종목명'].values )"
   ]
  },
  {
   "cell_type": "code",
   "execution_count": null,
   "metadata": {},
   "outputs": [],
   "source": [
    "KOR_ticker = KOR_ticker[~KOR_ticker['종목명'].str.contains('스팩')]\n",
    "KOR_ticker = KOR_ticker[~KOR_ticker['종목명'].str.contains('[0-9]+호')]\n",
    "KOR_ticker = KOR_ticker[KOR_ticker['종목코드'].str[-1:] == '0']\n"
   ]
  },
  {
   "cell_type": "code",
   "execution_count": null,
   "metadata": {},
   "outputs": [],
   "source": [
    "KOR_ticker = KOR_ticker.reset_index(drop=True)\n",
    "KOR_ticker.to_csv('data/KOR_ticker.csv')"
   ]
  },
  {
   "cell_type": "code",
   "execution_count": null,
   "metadata": {},
   "outputs": [
    {
     "data": {
      "text/html": [
       "<div>\n",
       "<style scoped>\n",
       "    .dataframe tbody tr th:only-of-type {\n",
       "        vertical-align: middle;\n",
       "    }\n",
       "\n",
       "    .dataframe tbody tr th {\n",
       "        vertical-align: top;\n",
       "    }\n",
       "\n",
       "    .dataframe thead th {\n",
       "        text-align: right;\n",
       "    }\n",
       "</style>\n",
       "<table border=\"1\" class=\"dataframe\">\n",
       "  <thead>\n",
       "    <tr style=\"text-align: right;\">\n",
       "      <th></th>\n",
       "      <th>종목코드</th>\n",
       "      <th>종목명</th>\n",
       "      <th>시장구분</th>\n",
       "      <th>업종명</th>\n",
       "      <th>종가</th>\n",
       "      <th>대비</th>\n",
       "      <th>등락률</th>\n",
       "      <th>시가총액</th>\n",
       "      <th>EPS</th>\n",
       "      <th>PER</th>\n",
       "      <th>BPS</th>\n",
       "      <th>PBR</th>\n",
       "      <th>주당배당금</th>\n",
       "      <th>배당수익률</th>\n",
       "    </tr>\n",
       "  </thead>\n",
       "  <tbody>\n",
       "    <tr>\n",
       "      <td>0</td>\n",
       "      <td>005930</td>\n",
       "      <td>삼성전자</td>\n",
       "      <td>KOSPI</td>\n",
       "      <td>전기전자</td>\n",
       "      <td>88800</td>\n",
       "      <td>5900</td>\n",
       "      <td>7.120</td>\n",
       "      <td>530116690440000</td>\n",
       "      <td>3166.000</td>\n",
       "      <td>28.050</td>\n",
       "      <td>37528.000</td>\n",
       "      <td>2.370</td>\n",
       "      <td>1416</td>\n",
       "      <td>1.590</td>\n",
       "    </tr>\n",
       "    <tr>\n",
       "      <td>1</td>\n",
       "      <td>000660</td>\n",
       "      <td>SK하이닉스</td>\n",
       "      <td>KOSPI</td>\n",
       "      <td>전기전자</td>\n",
       "      <td>138000</td>\n",
       "      <td>3500</td>\n",
       "      <td>2.600</td>\n",
       "      <td>100464326370000</td>\n",
       "      <td>2943.000</td>\n",
       "      <td>46.890</td>\n",
       "      <td>65836.000</td>\n",
       "      <td>2.100</td>\n",
       "      <td>1000</td>\n",
       "      <td>0.720</td>\n",
       "    </tr>\n",
       "    <tr>\n",
       "      <td>2</td>\n",
       "      <td>051910</td>\n",
       "      <td>LG화학</td>\n",
       "      <td>KOSPI</td>\n",
       "      <td>화학</td>\n",
       "      <td>999000</td>\n",
       "      <td>37000</td>\n",
       "      <td>3.850</td>\n",
       "      <td>70521750657000</td>\n",
       "      <td>4085.000</td>\n",
       "      <td>244.550</td>\n",
       "      <td>217230.000</td>\n",
       "      <td>4.600</td>\n",
       "      <td>2000</td>\n",
       "      <td>0.200</td>\n",
       "    </tr>\n",
       "    <tr>\n",
       "      <td>3</td>\n",
       "      <td>207940</td>\n",
       "      <td>삼성바이오로직스</td>\n",
       "      <td>KOSPI</td>\n",
       "      <td>의약품</td>\n",
       "      <td>837000</td>\n",
       "      <td>18000</td>\n",
       "      <td>2.200</td>\n",
       "      <td>55380105000000</td>\n",
       "      <td>3067.000</td>\n",
       "      <td>272.910</td>\n",
       "      <td>65812.000</td>\n",
       "      <td>12.720</td>\n",
       "      <td>0</td>\n",
       "      <td>0.000</td>\n",
       "    </tr>\n",
       "    <tr>\n",
       "      <td>4</td>\n",
       "      <td>005380</td>\n",
       "      <td>현대차</td>\n",
       "      <td>KOSPI</td>\n",
       "      <td>운수장비</td>\n",
       "      <td>246000</td>\n",
       "      <td>40000</td>\n",
       "      <td>19.420</td>\n",
       "      <td>52562374002000</td>\n",
       "      <td>11310.000</td>\n",
       "      <td>21.750</td>\n",
       "      <td>253001.000</td>\n",
       "      <td>0.970</td>\n",
       "      <td>4000</td>\n",
       "      <td>1.630</td>\n",
       "    </tr>\n",
       "  </tbody>\n",
       "</table>\n",
       "</div>"
      ],
      "text/plain": [
       "     종목코드       종목명   시장구분   업종명      종가     대비    등락률             시가총액  \\\n",
       "0  005930      삼성전자  KOSPI  전기전자   88800   5900  7.120  530116690440000   \n",
       "1  000660    SK하이닉스  KOSPI  전기전자  138000   3500  2.600  100464326370000   \n",
       "2  051910      LG화학  KOSPI    화학  999000  37000  3.850   70521750657000   \n",
       "3  207940  삼성바이오로직스  KOSPI   의약품  837000  18000  2.200   55380105000000   \n",
       "4  005380       현대차  KOSPI  운수장비  246000  40000 19.420   52562374002000   \n",
       "\n",
       "        EPS     PER        BPS    PBR  주당배당금  배당수익률  \n",
       "0  3166.000  28.050  37528.000  2.370   1416  1.590  \n",
       "1  2943.000  46.890  65836.000  2.100   1000  0.720  \n",
       "2  4085.000 244.550 217230.000  4.600   2000  0.200  \n",
       "3  3067.000 272.910  65812.000 12.720      0  0.000  \n",
       "4 11310.000  21.750 253001.000  0.970   4000  1.630  "
      ]
     },
     "execution_count": 65,
     "metadata": {},
     "output_type": "execute_result"
    }
   ],
   "source": [
    "KOR_ticker.head()"
   ]
  },
  {
   "cell_type": "code",
   "execution_count": null,
   "metadata": {},
   "outputs": [],
   "source": [
    "import numpy as np\n",
    "import pandas as pd\n",
    "\n",
    "from IPython.core.interactiveshell import InteractiveShell\n",
    "InteractiveShell.ast_node_interactivity = \"all\"\n",
    "\n",
    "pd.set_option('display.float_format', lambda x: '%.3f' % x)\n",
    "pd.set_option('max_columns', None)"
   ]
  },
  {
   "cell_type": "code",
   "execution_count": null,
   "metadata": {},
   "outputs": [],
   "source": [
    "df = pd.read_csv(\"my_data/data_2359_20211028.csv\", encoding='cp949')"
   ]
  },
  {
   "cell_type": "code",
   "execution_count": null,
   "metadata": {},
   "outputs": [
    {
     "data": {
      "text/html": [
       "<div>\n",
       "<style scoped>\n",
       "    .dataframe tbody tr th:only-of-type {\n",
       "        vertical-align: middle;\n",
       "    }\n",
       "\n",
       "    .dataframe tbody tr th {\n",
       "        vertical-align: top;\n",
       "    }\n",
       "\n",
       "    .dataframe thead th {\n",
       "        text-align: right;\n",
       "    }\n",
       "</style>\n",
       "<table border=\"1\" class=\"dataframe\">\n",
       "  <thead>\n",
       "    <tr style=\"text-align: right;\">\n",
       "      <th></th>\n",
       "      <th>종목코드</th>\n",
       "      <th>종목명</th>\n",
       "      <th>시장구분</th>\n",
       "      <th>업종명</th>\n",
       "      <th>종가</th>\n",
       "      <th>대비</th>\n",
       "      <th>등락률</th>\n",
       "      <th>시가총액</th>\n",
       "    </tr>\n",
       "  </thead>\n",
       "  <tbody>\n",
       "    <tr>\n",
       "      <td>0</td>\n",
       "      <td>095570</td>\n",
       "      <td>AJ네트웍스</td>\n",
       "      <td>KOSPI</td>\n",
       "      <td>서비스업</td>\n",
       "      <td>5550</td>\n",
       "      <td>-50</td>\n",
       "      <td>-0.890</td>\n",
       "      <td>259863737250</td>\n",
       "    </tr>\n",
       "    <tr>\n",
       "      <td>1</td>\n",
       "      <td>006840</td>\n",
       "      <td>AK홀딩스</td>\n",
       "      <td>KOSPI</td>\n",
       "      <td>기타금융</td>\n",
       "      <td>27550</td>\n",
       "      <td>-50</td>\n",
       "      <td>-0.180</td>\n",
       "      <td>364970305550</td>\n",
       "    </tr>\n",
       "    <tr>\n",
       "      <td>2</td>\n",
       "      <td>027410</td>\n",
       "      <td>BGF</td>\n",
       "      <td>KOSPI</td>\n",
       "      <td>기타금융</td>\n",
       "      <td>5770</td>\n",
       "      <td>-30</td>\n",
       "      <td>-0.520</td>\n",
       "      <td>552285884070</td>\n",
       "    </tr>\n",
       "    <tr>\n",
       "      <td>3</td>\n",
       "      <td>282330</td>\n",
       "      <td>BGF리테일</td>\n",
       "      <td>KOSPI</td>\n",
       "      <td>유통업</td>\n",
       "      <td>168500</td>\n",
       "      <td>500</td>\n",
       "      <td>0.300</td>\n",
       "      <td>2912338161000</td>\n",
       "    </tr>\n",
       "    <tr>\n",
       "      <td>4</td>\n",
       "      <td>138930</td>\n",
       "      <td>BNK금융지주</td>\n",
       "      <td>KOSPI</td>\n",
       "      <td>기타금융</td>\n",
       "      <td>9130</td>\n",
       "      <td>60</td>\n",
       "      <td>0.660</td>\n",
       "      <td>2975788795980</td>\n",
       "    </tr>\n",
       "  </tbody>\n",
       "</table>\n",
       "</div>"
      ],
      "text/plain": [
       "     종목코드      종목명   시장구분   업종명      종가   대비    등락률           시가총액\n",
       "0  095570   AJ네트웍스  KOSPI  서비스업    5550  -50 -0.890   259863737250\n",
       "1  006840    AK홀딩스  KOSPI  기타금융   27550  -50 -0.180   364970305550\n",
       "2  027410      BGF  KOSPI  기타금융    5770  -30 -0.520   552285884070\n",
       "3  282330   BGF리테일  KOSPI   유통업  168500  500  0.300  2912338161000\n",
       "4  138930  BNK금융지주  KOSPI  기타금융    9130   60  0.660  2975788795980"
      ]
     },
     "execution_count": 44,
     "metadata": {},
     "output_type": "execute_result"
    }
   ],
   "source": [
    "df.head(5)"
   ]
  },
  {
   "cell_type": "code",
   "execution_count": null,
   "metadata": {},
   "outputs": [],
   "source": [
    "import json\n",
    "import requests as rq\n",
    "\n",
    "\n",
    "url = 'http://www.wiseindex.com/Index/GetIndexComponets?ceil_yn=0&dt=20210210&sec_cd=G10'\n",
    "data = rq.get(url).json()"
   ]
  },
  {
   "cell_type": "code",
   "execution_count": null,
   "metadata": {},
   "outputs": [
    {
     "name": "stderr",
     "output_type": "stream",
     "text": [
      "ERROR: Could not find a version that satisfies the requirement json (from versions: none)\n",
      "ERROR: No matching distribution found for json\n"
     ]
    }
   ],
   "source": [
    "!pip install json"
   ]
  },
  {
   "cell_type": "code",
   "execution_count": null,
   "metadata": {},
   "outputs": [
    {
     "name": "stdout",
     "output_type": "stream",
     "text": [
      "dict_keys(['info', 'list', 'sector', 'size'])\n"
     ]
    }
   ],
   "source": [
    "print(data.keys())"
   ]
  },
  {
   "cell_type": "code",
   "execution_count": null,
   "metadata": {},
   "outputs": [
    {
     "name": "stdout",
     "output_type": "stream",
     "text": [
      "Collecting pandas==1.0.3\n",
      "  Downloading pandas-1.0.3-cp37-cp37m-win_amd64.whl (8.7 MB)\n",
      "Requirement already satisfied: pytz>=2017.2 in c:\\users\\testworks\\appdata\\local\\programs\\python\\python37\\lib\\site-packages (from pandas==1.0.3) (2021.3)\n",
      "Requirement already satisfied: python-dateutil>=2.6.1 in c:\\users\\testworks\\appdata\\local\\programs\\python\\python37\\lib\\site-packages (from pandas==1.0.3) (2.8.2)\n",
      "Requirement already satisfied: numpy>=1.13.3 in c:\\users\\testworks\\appdata\\local\\programs\\python\\python37\\lib\\site-packages (from pandas==1.0.3) (1.17.0)\n",
      "Requirement already satisfied: six>=1.5 in c:\\users\\testworks\\appdata\\local\\programs\\python\\python37\\lib\\site-packages (from python-dateutil>=2.6.1->pandas==1.0.3) (1.16.0)\n",
      "Installing collected packages: pandas\n",
      "Successfully installed pandas-1.0.3\n"
     ]
    },
    {
     "data": {
      "text/plain": [
       "'0.25.1'"
      ]
     },
     "execution_count": 75,
     "metadata": {},
     "output_type": "execute_result"
    }
   ],
   "source": [
    "!pip install --user pandas==1.0.3\n",
    "import pandas as pd\n",
    "pd.__version__"
   ]
  },
  {
   "cell_type": "code",
   "execution_count": null,
   "metadata": {},
   "outputs": [
    {
     "ename": "AttributeError",
     "evalue": "module 'pandas' has no attribute 'json_normalize'",
     "output_type": "error",
     "traceback": [
      "\u001b[1;31m---------------------------------------------------------------------------\u001b[0m",
      "\u001b[1;31mAttributeError\u001b[0m                            Traceback (most recent call last)",
      "\u001b[1;32mC:\\Users\\TESTWO~1\\AppData\\Local\\Temp/ipykernel_17232/3783997842.py\u001b[0m in \u001b[0;36m<module>\u001b[1;34m\u001b[0m\n\u001b[1;32m----> 1\u001b[1;33m \u001b[0mdata_pd\u001b[0m \u001b[1;33m=\u001b[0m \u001b[0mpd\u001b[0m\u001b[1;33m.\u001b[0m\u001b[0mjson_normalize\u001b[0m\u001b[1;33m(\u001b[0m\u001b[0mdata\u001b[0m\u001b[1;33m[\u001b[0m\u001b[1;34m'list'\u001b[0m\u001b[1;33m]\u001b[0m\u001b[1;33m)\u001b[0m\u001b[1;33m\u001b[0m\u001b[1;33m\u001b[0m\u001b[0m\n\u001b[0m\u001b[0;32m      2\u001b[0m \u001b[0mdata_pd\u001b[0m\u001b[1;33m.\u001b[0m\u001b[0mhead\u001b[0m\u001b[1;33m(\u001b[0m\u001b[1;33m)\u001b[0m\u001b[1;33m\u001b[0m\u001b[1;33m\u001b[0m\u001b[0m\n",
      "\u001b[1;32m~\\AppData\\Local\\Programs\\Python\\Python37\\lib\\site-packages\\pandas\\__init__.py\u001b[0m in \u001b[0;36m__getattr__\u001b[1;34m(name)\u001b[0m\n\u001b[0;32m    212\u001b[0m \u001b[1;33m\u001b[0m\u001b[0m\n\u001b[0;32m    213\u001b[0m             \u001b[1;32mreturn\u001b[0m \u001b[0mPanel\u001b[0m\u001b[1;33m\u001b[0m\u001b[1;33m\u001b[0m\u001b[0m\n\u001b[1;32m--> 214\u001b[1;33m         \u001b[1;32mraise\u001b[0m \u001b[0mAttributeError\u001b[0m\u001b[1;33m(\u001b[0m\u001b[1;34m\"module 'pandas' has no attribute '{}'\"\u001b[0m\u001b[1;33m.\u001b[0m\u001b[0mformat\u001b[0m\u001b[1;33m(\u001b[0m\u001b[0mname\u001b[0m\u001b[1;33m)\u001b[0m\u001b[1;33m)\u001b[0m\u001b[1;33m\u001b[0m\u001b[1;33m\u001b[0m\u001b[0m\n\u001b[0m\u001b[0;32m    215\u001b[0m \u001b[1;33m\u001b[0m\u001b[0m\n\u001b[0;32m    216\u001b[0m \u001b[1;33m\u001b[0m\u001b[0m\n",
      "\u001b[1;31mAttributeError\u001b[0m: module 'pandas' has no attribute 'json_normalize'"
     ]
    }
   ],
   "source": [
    "data_pd = pd.json_normalize(data['list'])\n",
    "data_pd.head()"
   ]
  }
 ],
 "metadata": {
  "interpreter": {
   "hash": "cc07735d28a0d4da7c204b7621a4e8051814cf7e137f5c0f118b7d9ce33f12a9"
  },
  "kernelspec": {
   "display_name": "Python 3.7.8rc1 64-bit",
   "name": "python3"
  },
  "language_info": {
   "codemirror_mode": {
    "name": "ipython",
    "version": 3
   },
   "file_extension": ".py",
   "mimetype": "text/x-python",
   "name": "python",
   "nbconvert_exporter": "python",
   "pygments_lexer": "ipython3",
   "version": "3.7.8"
  },
  "orig_nbformat": 4
 },
 "nbformat": 4,
 "nbformat_minor": 2
}
