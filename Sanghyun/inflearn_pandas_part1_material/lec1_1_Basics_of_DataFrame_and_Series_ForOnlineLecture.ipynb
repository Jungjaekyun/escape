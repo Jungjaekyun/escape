{
 "cells": [
  {
   "cell_type": "code",
   "execution_count": 4,
   "metadata": {},
   "outputs": [],
   "source": [
    "from IPython.core.interactiveshell import InteractiveShell\n",
    "InteractiveShell.ast_node_interactivity = \"all\""
   ]
  },
  {
   "cell_type": "markdown",
   "metadata": {},
   "source": [
    " "
   ]
  },
  {
   "cell_type": "markdown",
   "metadata": {},
   "source": [
    " "
   ]
  },
  {
   "cell_type": "markdown",
   "metadata": {},
   "source": [
    " "
   ]
  },
  {
   "cell_type": "markdown",
   "metadata": {},
   "source": [
    "**Pandas version 0.25.1 (`pip install pandas==0.25.1`)**"
   ]
  },
  {
   "cell_type": "markdown",
   "metadata": {},
   "source": [
    " "
   ]
  },
  {
   "cell_type": "markdown",
   "metadata": {},
   "source": [
    " "
   ]
  },
  {
   "cell_type": "markdown",
   "metadata": {},
   "source": [
    " "
   ]
  },
  {
   "cell_type": "markdown",
   "metadata": {},
   "source": [
    "# `Series` Data type"
   ]
  },
  {
   "cell_type": "markdown",
   "metadata": {},
   "source": [
    "-  Numpy's ndarray + 숫자가 아닌 다른 type의 index (E.g. 문자열)"
   ]
  },
  {
   "cell_type": "code",
   "execution_count": 5,
   "metadata": {},
   "outputs": [],
   "source": [
    "import pandas as pd"
   ]
  },
  {
   "cell_type": "code",
   "execution_count": 6,
   "metadata": {},
   "outputs": [
    {
     "data": {
      "text/plain": [
       "'1.3.0'"
      ]
     },
     "execution_count": 6,
     "metadata": {},
     "output_type": "execute_result"
    }
   ],
   "source": [
    "pd.__version__"
   ]
  },
  {
   "cell_type": "code",
   "execution_count": 7,
   "metadata": {},
   "outputs": [
    {
     "data": {
      "text/plain": [
       "0    1\n",
       "1    2\n",
       "2    3\n",
       "3    4\n",
       "dtype: int64"
      ]
     },
     "execution_count": 7,
     "metadata": {},
     "output_type": "execute_result"
    }
   ],
   "source": [
    "a = pd.Series([1,2,3,4])\n",
    "a"
   ]
  },
  {
   "cell_type": "code",
   "execution_count": 8,
   "metadata": {},
   "outputs": [
    {
     "data": {
      "text/plain": [
       "a    1\n",
       "b    2\n",
       "c    3\n",
       "d    4\n",
       "dtype: int64"
      ]
     },
     "execution_count": 8,
     "metadata": {},
     "output_type": "execute_result"
    }
   ],
   "source": [
    "# 첫번째 방법\n",
    "s2 = pd.Series(\n",
    "    [1, 2, 3, 4],\n",
    "    index=['a', 'b', 'c', 'd']\n",
    ")\n",
    "s2"
   ]
  },
  {
   "cell_type": "code",
   "execution_count": 9,
   "metadata": {},
   "outputs": [
    {
     "data": {
      "text/plain": [
       "a    1\n",
       "b    2\n",
       "dtype: int64"
      ]
     },
     "execution_count": 9,
     "metadata": {},
     "output_type": "execute_result"
    }
   ],
   "source": [
    "s2.head(2) "
   ]
  },
  {
   "cell_type": "code",
   "execution_count": 10,
   "metadata": {},
   "outputs": [
    {
     "data": {
      "text/plain": [
       "a    1\n",
       "b    2\n",
       "c    3\n",
       "d    4\n",
       "e    5\n",
       "dtype: int64"
      ]
     },
     "execution_count": 10,
     "metadata": {},
     "output_type": "execute_result"
    }
   ],
   "source": [
    "# 두번째방법\n",
    "s2 = pd.Series({'a': 1, 'b': 2, 'c': 3, 'd': 4, 'e': 5})\n",
    "s2.head()"
   ]
  },
  {
   "cell_type": "markdown",
   "metadata": {},
   "source": [
    "\n",
    "- 한가지 data type만 가지고 있을 수 있음 "
   ]
  },
  {
   "cell_type": "markdown",
   "metadata": {},
   "source": [
    " "
   ]
  },
  {
   "cell_type": "markdown",
   "metadata": {},
   "source": [
    " "
   ]
  },
  {
   "cell_type": "markdown",
   "metadata": {},
   "source": [
    " "
   ]
  },
  {
   "cell_type": "markdown",
   "metadata": {},
   "source": [
    "## `nan`과 관련된 함수"
   ]
  },
  {
   "cell_type": "code",
   "execution_count": 11,
   "metadata": {},
   "outputs": [],
   "source": [
    "import numpy as np"
   ]
  },
  {
   "cell_type": "code",
   "execution_count": 12,
   "metadata": {},
   "outputs": [
    {
     "data": {
      "text/plain": [
       "nan"
      ]
     },
     "execution_count": 12,
     "metadata": {},
     "output_type": "execute_result"
    }
   ],
   "source": [
    "np.nan"
   ]
  },
  {
   "cell_type": "code",
   "execution_count": 13,
   "metadata": {},
   "outputs": [
    {
     "data": {
      "text/plain": [
       "0    10.0\n",
       "1     0.0\n",
       "2     1.0\n",
       "3     1.0\n",
       "4     2.0\n",
       "5     3.0\n",
       "6     4.0\n",
       "7     5.0\n",
       "8     6.0\n",
       "9     NaN\n",
       "dtype: float64"
      ]
     },
     "execution_count": 13,
     "metadata": {},
     "output_type": "execute_result"
    }
   ],
   "source": [
    "s = pd.Series([10, 0, 1, 1, 2, 3, 4, 5, 6, np.nan])\n",
    "s"
   ]
  },
  {
   "cell_type": "code",
   "execution_count": 14,
   "metadata": {},
   "outputs": [
    {
     "data": {
      "text/plain": [
       "10"
      ]
     },
     "execution_count": 14,
     "metadata": {},
     "output_type": "execute_result"
    },
    {
     "data": {
      "text/plain": [
       "(10,)"
      ]
     },
     "execution_count": 14,
     "metadata": {},
     "output_type": "execute_result"
    },
    {
     "data": {
      "text/plain": [
       "9"
      ]
     },
     "execution_count": 14,
     "metadata": {},
     "output_type": "execute_result"
    }
   ],
   "source": [
    "len(s)\n",
    "s.shape\n",
    "s.count()    # not count `nan`"
   ]
  },
  {
   "cell_type": "code",
   "execution_count": 15,
   "metadata": {},
   "outputs": [
    {
     "data": {
      "text/plain": [
       "array([10.,  0.,  1.,  2.,  3.,  4.,  5.,  6., nan])"
      ]
     },
     "execution_count": 15,
     "metadata": {},
     "output_type": "execute_result"
    }
   ],
   "source": [
    "s.unique()\n",
    "\n",
    "# 수업에서는 다루지 않았지만, nunique()는 unique한 값들의 총 갯수를 알려주는 함수입니다.\n",
    "# s.nunique()"
   ]
  },
  {
   "cell_type": "code",
   "execution_count": 16,
   "metadata": {},
   "outputs": [
    {
     "data": {
      "text/plain": [
       "1.0     2\n",
       "10.0    1\n",
       "0.0     1\n",
       "2.0     1\n",
       "3.0     1\n",
       "4.0     1\n",
       "5.0     1\n",
       "6.0     1\n",
       "dtype: int64"
      ]
     },
     "execution_count": 16,
     "metadata": {},
     "output_type": "execute_result"
    }
   ],
   "source": [
    "s.value_counts()"
   ]
  },
  {
   "cell_type": "markdown",
   "metadata": {},
   "source": [
    "- 이 외의 함수들에 대해서는 이후 수업에서 하나씩 다룰 예정!"
   ]
  },
  {
   "cell_type": "markdown",
   "metadata": {},
   "source": [
    " "
   ]
  },
  {
   "cell_type": "markdown",
   "metadata": {},
   "source": [
    " "
   ]
  },
  {
   "cell_type": "markdown",
   "metadata": {},
   "source": [
    " "
   ]
  },
  {
   "cell_type": "markdown",
   "metadata": {},
   "source": [
    " "
   ]
  },
  {
   "cell_type": "markdown",
   "metadata": {},
   "source": [
    " "
   ]
  },
  {
   "cell_type": "markdown",
   "metadata": {},
   "source": [
    " "
   ]
  },
  {
   "cell_type": "markdown",
   "metadata": {},
   "source": [
    " "
   ]
  },
  {
   "cell_type": "markdown",
   "metadata": {},
   "source": [
    "## index label을 기준으로 Series간에 operation이 일어남"
   ]
  },
  {
   "cell_type": "markdown",
   "metadata": {},
   "source": [
    "- Data의 '순서'가 아니라 index label이 자동으로 정렬되어 연산이 진행됨!"
   ]
  },
  {
   "cell_type": "code",
   "execution_count": 17,
   "metadata": {},
   "outputs": [],
   "source": [
    "s3 = pd.Series([1, 2, 3, 4], index=['a', 'b', 'c', 'd'])\n",
    "s4 = pd.Series([4, 3, 2, 1], index=['d', 'c', 'b', 'a']) "
   ]
  },
  {
   "cell_type": "code",
   "execution_count": 18,
   "metadata": {},
   "outputs": [
    {
     "data": {
      "text/plain": [
       "a    2\n",
       "b    4\n",
       "c    6\n",
       "d    8\n",
       "dtype: int64"
      ]
     },
     "execution_count": 18,
     "metadata": {},
     "output_type": "execute_result"
    }
   ],
   "source": [
    "s3 + s4"
   ]
  },
  {
   "cell_type": "markdown",
   "metadata": {},
   "source": [
    " "
   ]
  },
  {
   "cell_type": "markdown",
   "metadata": {},
   "source": [
    " "
   ]
  },
  {
   "cell_type": "markdown",
   "metadata": {},
   "source": [
    " "
   ]
  },
  {
   "cell_type": "markdown",
   "metadata": {},
   "source": [
    " "
   ]
  },
  {
   "cell_type": "markdown",
   "metadata": {},
   "source": [
    " "
   ]
  },
  {
   "cell_type": "markdown",
   "metadata": {},
   "source": [
    " "
   ]
  },
  {
   "cell_type": "markdown",
   "metadata": {},
   "source": [
    " "
   ]
  },
  {
   "cell_type": "markdown",
   "metadata": {},
   "source": [
    " "
   ]
  },
  {
   "cell_type": "markdown",
   "metadata": {},
   "source": [
    " "
   ]
  },
  {
   "cell_type": "markdown",
   "metadata": {},
   "source": [
    " "
   ]
  },
  {
   "cell_type": "markdown",
   "metadata": {},
   "source": [
    " "
   ]
  },
  {
   "cell_type": "markdown",
   "metadata": {},
   "source": [
    " "
   ]
  },
  {
   "cell_type": "markdown",
   "metadata": {},
   "source": [
    " "
   ]
  },
  {
   "cell_type": "markdown",
   "metadata": {},
   "source": [
    " "
   ]
  },
  {
   "cell_type": "markdown",
   "metadata": {},
   "source": [
    " "
   ]
  },
  {
   "cell_type": "markdown",
   "metadata": {},
   "source": [
    "# `DataFrame` Data type"
   ]
  },
  {
   "cell_type": "markdown",
   "metadata": {},
   "source": [
    "- 다수의 Series를 하나의 변수로 관리할 수 있도록 만든 자료형\n",
    "    - Series의 dict 형태라고 보면됨\n",
    "        - `{'컬럼명1': Series1, '컬럼명2': Series2}`\n",
    "        - 각 Series는 DataFrame의 column을 이룸\n",
    "        - 당연히 DataFrame을 이루는 Series간의 index는 서로 다 같음! => 동일 index 사용"
   ]
  },
  {
   "cell_type": "markdown",
   "metadata": {},
   "source": [
    " "
   ]
  },
  {
   "cell_type": "markdown",
   "metadata": {},
   "source": [
    " "
   ]
  },
  {
   "cell_type": "markdown",
   "metadata": {},
   "source": [
    "## DataFrame을 만드는 다양한 방법들"
   ]
  },
  {
   "cell_type": "code",
   "execution_count": 19,
   "metadata": {},
   "outputs": [
    {
     "data": {
      "text/plain": [
       "array([1, 2, 3, 4, 5])"
      ]
     },
     "execution_count": 19,
     "metadata": {},
     "output_type": "execute_result"
    },
    {
     "data": {
      "text/plain": [
       "array([ 6,  7,  8,  9, 10])"
      ]
     },
     "execution_count": 19,
     "metadata": {},
     "output_type": "execute_result"
    }
   ],
   "source": [
    "s1 = np.arange(1, 6, 1)\n",
    "s2 = np.arange(6, 11, 1)\n",
    "s1\n",
    "s2"
   ]
  },
  {
   "cell_type": "code",
   "execution_count": 20,
   "metadata": {},
   "outputs": [
    {
     "data": {
      "text/html": [
       "<div>\n",
       "<style scoped>\n",
       "    .dataframe tbody tr th:only-of-type {\n",
       "        vertical-align: middle;\n",
       "    }\n",
       "\n",
       "    .dataframe tbody tr th {\n",
       "        vertical-align: top;\n",
       "    }\n",
       "\n",
       "    .dataframe thead th {\n",
       "        text-align: right;\n",
       "    }\n",
       "</style>\n",
       "<table border=\"1\" class=\"dataframe\">\n",
       "  <thead>\n",
       "    <tr style=\"text-align: right;\">\n",
       "      <th></th>\n",
       "      <th>c1</th>\n",
       "      <th>c2</th>\n",
       "    </tr>\n",
       "  </thead>\n",
       "  <tbody>\n",
       "    <tr>\n",
       "      <th>0</th>\n",
       "      <td>1</td>\n",
       "      <td>6</td>\n",
       "    </tr>\n",
       "    <tr>\n",
       "      <th>1</th>\n",
       "      <td>2</td>\n",
       "      <td>7</td>\n",
       "    </tr>\n",
       "    <tr>\n",
       "      <th>2</th>\n",
       "      <td>3</td>\n",
       "      <td>8</td>\n",
       "    </tr>\n",
       "    <tr>\n",
       "      <th>3</th>\n",
       "      <td>4</td>\n",
       "      <td>9</td>\n",
       "    </tr>\n",
       "    <tr>\n",
       "      <th>4</th>\n",
       "      <td>5</td>\n",
       "      <td>10</td>\n",
       "    </tr>\n",
       "  </tbody>\n",
       "</table>\n",
       "</div>"
      ],
      "text/plain": [
       "   c1  c2\n",
       "0   1   6\n",
       "1   2   7\n",
       "2   3   8\n",
       "3   4   9\n",
       "4   5  10"
      ]
     },
     "execution_count": 20,
     "metadata": {},
     "output_type": "execute_result"
    }
   ],
   "source": [
    "df = pd.DataFrame(\n",
    "    {\n",
    "        'c1': s1,\n",
    "        'c2': s2\n",
    "    }\n",
    ")\n",
    "df"
   ]
  },
  {
   "cell_type": "code",
   "execution_count": 21,
   "metadata": {},
   "outputs": [
    {
     "data": {
      "text/html": [
       "<div>\n",
       "<style scoped>\n",
       "    .dataframe tbody tr th:only-of-type {\n",
       "        vertical-align: middle;\n",
       "    }\n",
       "\n",
       "    .dataframe tbody tr th {\n",
       "        vertical-align: top;\n",
       "    }\n",
       "\n",
       "    .dataframe thead th {\n",
       "        text-align: right;\n",
       "    }\n",
       "</style>\n",
       "<table border=\"1\" class=\"dataframe\">\n",
       "  <thead>\n",
       "    <tr style=\"text-align: right;\">\n",
       "      <th></th>\n",
       "      <th>0</th>\n",
       "      <th>1</th>\n",
       "    </tr>\n",
       "  </thead>\n",
       "  <tbody>\n",
       "    <tr>\n",
       "      <th>0</th>\n",
       "      <td>10</td>\n",
       "      <td>11</td>\n",
       "    </tr>\n",
       "    <tr>\n",
       "      <th>1</th>\n",
       "      <td>10</td>\n",
       "      <td>12</td>\n",
       "    </tr>\n",
       "  </tbody>\n",
       "</table>\n",
       "</div>"
      ],
      "text/plain": [
       "    0   1\n",
       "0  10  11\n",
       "1  10  12"
      ]
     },
     "execution_count": 21,
     "metadata": {},
     "output_type": "execute_result"
    },
    {
     "data": {
      "text/html": [
       "<div>\n",
       "<style scoped>\n",
       "    .dataframe tbody tr th:only-of-type {\n",
       "        vertical-align: middle;\n",
       "    }\n",
       "\n",
       "    .dataframe tbody tr th {\n",
       "        vertical-align: top;\n",
       "    }\n",
       "\n",
       "    .dataframe thead th {\n",
       "        text-align: right;\n",
       "    }\n",
       "</style>\n",
       "<table border=\"1\" class=\"dataframe\">\n",
       "  <thead>\n",
       "    <tr style=\"text-align: right;\">\n",
       "      <th></th>\n",
       "      <th>0</th>\n",
       "      <th>1</th>\n",
       "    </tr>\n",
       "  </thead>\n",
       "  <tbody>\n",
       "    <tr>\n",
       "      <th>0</th>\n",
       "      <td>10</td>\n",
       "      <td>11</td>\n",
       "    </tr>\n",
       "    <tr>\n",
       "      <th>1</th>\n",
       "      <td>20</td>\n",
       "      <td>21</td>\n",
       "    </tr>\n",
       "  </tbody>\n",
       "</table>\n",
       "</div>"
      ],
      "text/plain": [
       "    0   1\n",
       "0  10  11\n",
       "1  20  21"
      ]
     },
     "execution_count": 21,
     "metadata": {},
     "output_type": "execute_result"
    }
   ],
   "source": [
    "# 1번째 방법  (Default index and columns would be set)\n",
    "pd.DataFrame(\n",
    "    [\n",
    "        [10,11],\n",
    "        [10,12]\n",
    "    ]\n",
    ")\n",
    "pd.DataFrame(\n",
    "    np.array(\n",
    "        [\n",
    "            [10, 11],\n",
    "            [20, 21]\n",
    "        ]\n",
    "    )\n",
    ") "
   ]
  },
  {
   "cell_type": "code",
   "execution_count": 22,
   "metadata": {},
   "outputs": [
    {
     "data": {
      "text/html": [
       "<div>\n",
       "<style scoped>\n",
       "    .dataframe tbody tr th:only-of-type {\n",
       "        vertical-align: middle;\n",
       "    }\n",
       "\n",
       "    .dataframe tbody tr th {\n",
       "        vertical-align: top;\n",
       "    }\n",
       "\n",
       "    .dataframe thead th {\n",
       "        text-align: right;\n",
       "    }\n",
       "</style>\n",
       "<table border=\"1\" class=\"dataframe\">\n",
       "  <thead>\n",
       "    <tr style=\"text-align: right;\">\n",
       "      <th></th>\n",
       "      <th>0</th>\n",
       "      <th>1</th>\n",
       "      <th>2</th>\n",
       "      <th>3</th>\n",
       "      <th>4</th>\n",
       "    </tr>\n",
       "  </thead>\n",
       "  <tbody>\n",
       "    <tr>\n",
       "      <th>0</th>\n",
       "      <td>10</td>\n",
       "      <td>11</td>\n",
       "      <td>12</td>\n",
       "      <td>13</td>\n",
       "      <td>14</td>\n",
       "    </tr>\n",
       "    <tr>\n",
       "      <th>1</th>\n",
       "      <td>15</td>\n",
       "      <td>16</td>\n",
       "      <td>17</td>\n",
       "      <td>18</td>\n",
       "      <td>19</td>\n",
       "    </tr>\n",
       "  </tbody>\n",
       "</table>\n",
       "</div>"
      ],
      "text/plain": [
       "    0   1   2   3   4\n",
       "0  10  11  12  13  14\n",
       "1  15  16  17  18  19"
      ]
     },
     "execution_count": 22,
     "metadata": {},
     "output_type": "execute_result"
    },
    {
     "data": {
      "text/html": [
       "<div>\n",
       "<style scoped>\n",
       "    .dataframe tbody tr th:only-of-type {\n",
       "        vertical-align: middle;\n",
       "    }\n",
       "\n",
       "    .dataframe tbody tr th {\n",
       "        vertical-align: top;\n",
       "    }\n",
       "\n",
       "    .dataframe thead th {\n",
       "        text-align: right;\n",
       "    }\n",
       "</style>\n",
       "<table border=\"1\" class=\"dataframe\">\n",
       "  <thead>\n",
       "    <tr style=\"text-align: right;\">\n",
       "      <th></th>\n",
       "      <th>0</th>\n",
       "      <th>1</th>\n",
       "      <th>2</th>\n",
       "      <th>3</th>\n",
       "      <th>4</th>\n",
       "    </tr>\n",
       "  </thead>\n",
       "  <tbody>\n",
       "    <tr>\n",
       "      <th>0</th>\n",
       "      <td>10</td>\n",
       "      <td>11</td>\n",
       "      <td>12</td>\n",
       "      <td>13</td>\n",
       "      <td>14</td>\n",
       "    </tr>\n",
       "    <tr>\n",
       "      <th>1</th>\n",
       "      <td>15</td>\n",
       "      <td>16</td>\n",
       "      <td>17</td>\n",
       "      <td>18</td>\n",
       "      <td>19</td>\n",
       "    </tr>\n",
       "  </tbody>\n",
       "</table>\n",
       "</div>"
      ],
      "text/plain": [
       "    0   1   2   3   4\n",
       "0  10  11  12  13  14\n",
       "1  15  16  17  18  19"
      ]
     },
     "execution_count": 22,
     "metadata": {},
     "output_type": "execute_result"
    }
   ],
   "source": [
    "# 2번째 방법 (많이 안쓰임)\n",
    "pd.DataFrame(\n",
    "    [\n",
    "        pd.Series(np.arange(10, 15)),   # 굳이 Series가 아니고 list형태이기만 하면 됨(=iterable한 object면 다 가능)\n",
    "        pd.Series(np.arange(15, 20)),   # 굳이 Series가 아니고 list형태이기만 하면 됨(=iterable한 object면 다 가능)\n",
    "    ]\n",
    ")\n",
    "\n",
    "pd.DataFrame(\n",
    "    [\n",
    "        np.arange(10, 15),\n",
    "        np.arange(15, 20),\n",
    "    ]\n",
    ")"
   ]
  },
  {
   "cell_type": "code",
   "execution_count": 23,
   "metadata": {},
   "outputs": [
    {
     "data": {
      "text/html": [
       "<div>\n",
       "<style scoped>\n",
       "    .dataframe tbody tr th:only-of-type {\n",
       "        vertical-align: middle;\n",
       "    }\n",
       "\n",
       "    .dataframe tbody tr th {\n",
       "        vertical-align: top;\n",
       "    }\n",
       "\n",
       "    .dataframe thead th {\n",
       "        text-align: right;\n",
       "    }\n",
       "</style>\n",
       "<table border=\"1\" class=\"dataframe\">\n",
       "  <thead>\n",
       "    <tr style=\"text-align: right;\">\n",
       "      <th></th>\n",
       "      <th>a</th>\n",
       "      <th>b</th>\n",
       "    </tr>\n",
       "  </thead>\n",
       "  <tbody>\n",
       "    <tr>\n",
       "      <th>r1</th>\n",
       "      <td>10</td>\n",
       "      <td>11</td>\n",
       "    </tr>\n",
       "    <tr>\n",
       "      <th>r2</th>\n",
       "      <td>20</td>\n",
       "      <td>21</td>\n",
       "    </tr>\n",
       "  </tbody>\n",
       "</table>\n",
       "</div>"
      ],
      "text/plain": [
       "     a   b\n",
       "r1  10  11\n",
       "r2  20  21"
      ]
     },
     "execution_count": 23,
     "metadata": {},
     "output_type": "execute_result"
    }
   ],
   "source": [
    "# 3번째 방법 (with column & index names)\n",
    "pd.DataFrame(\n",
    "    np.array(\n",
    "        [\n",
    "            [10, 11],\n",
    "            [20, 21]\n",
    "        ]\n",
    "    ), \n",
    "    columns=['a', 'b'],\n",
    "    index=['r1', 'r2']\n",
    ")\n",
    "\n",
    "    "
   ]
  },
  {
   "cell_type": "code",
   "execution_count": 24,
   "metadata": {},
   "outputs": [
    {
     "data": {
      "text/html": [
       "<div>\n",
       "<style scoped>\n",
       "    .dataframe tbody tr th:only-of-type {\n",
       "        vertical-align: middle;\n",
       "    }\n",
       "\n",
       "    .dataframe tbody tr th {\n",
       "        vertical-align: top;\n",
       "    }\n",
       "\n",
       "    .dataframe thead th {\n",
       "        text-align: right;\n",
       "    }\n",
       "</style>\n",
       "<table border=\"1\" class=\"dataframe\">\n",
       "  <thead>\n",
       "    <tr style=\"text-align: right;\">\n",
       "      <th></th>\n",
       "      <th>c1</th>\n",
       "      <th>c2</th>\n",
       "    </tr>\n",
       "  </thead>\n",
       "  <tbody>\n",
       "    <tr>\n",
       "      <th>0</th>\n",
       "      <td>1</td>\n",
       "      <td>4</td>\n",
       "    </tr>\n",
       "    <tr>\n",
       "      <th>1</th>\n",
       "      <td>2</td>\n",
       "      <td>5</td>\n",
       "    </tr>\n",
       "    <tr>\n",
       "      <th>2</th>\n",
       "      <td>3</td>\n",
       "      <td>6</td>\n",
       "    </tr>\n",
       "  </tbody>\n",
       "</table>\n",
       "</div>"
      ],
      "text/plain": [
       "   c1  c2\n",
       "0   1   4\n",
       "1   2   5\n",
       "2   3   6"
      ]
     },
     "execution_count": 24,
     "metadata": {},
     "output_type": "execute_result"
    }
   ],
   "source": [
    "# 4번째 방법\n",
    "s1 = pd.Series(np.arange(1, 6, 1))    # 굳이 Series가 아니고 list형태이기만 하면 됨(=iterable한 object면 다 가능)\n",
    "s2 = pd.Series(np.arange(6, 11, 1))   # 굳이 Series가 아니고 list형태이기만 하면 됨(=iterable한 object면 다 가능)\n",
    "pd.DataFrame(\n",
    "    {\n",
    "        'c1': [1,2,3],    # list, np.array, Series 전부 다 올 수 있음!\n",
    "        'c2': [4,5,6]\n",
    "    }\n",
    ")"
   ]
  },
  {
   "cell_type": "code",
   "execution_count": 25,
   "metadata": {},
   "outputs": [
    {
     "data": {
      "text/html": [
       "<div>\n",
       "<style scoped>\n",
       "    .dataframe tbody tr th:only-of-type {\n",
       "        vertical-align: middle;\n",
       "    }\n",
       "\n",
       "    .dataframe tbody tr th {\n",
       "        vertical-align: top;\n",
       "    }\n",
       "\n",
       "    .dataframe thead th {\n",
       "        text-align: right;\n",
       "    }\n",
       "</style>\n",
       "<table border=\"1\" class=\"dataframe\">\n",
       "  <thead>\n",
       "    <tr style=\"text-align: right;\">\n",
       "      <th></th>\n",
       "      <th>c1</th>\n",
       "      <th>c2</th>\n",
       "    </tr>\n",
       "  </thead>\n",
       "  <tbody>\n",
       "    <tr>\n",
       "      <th>0</th>\n",
       "      <td>0</td>\n",
       "      <td>1</td>\n",
       "    </tr>\n",
       "  </tbody>\n",
       "</table>\n",
       "</div>"
      ],
      "text/plain": [
       "   c1  c2\n",
       "0   0   1"
      ]
     },
     "execution_count": 25,
     "metadata": {},
     "output_type": "execute_result"
    }
   ],
   "source": [
    "# 참고: 1줄짜리 만들 때도 dictionary의 value에 해당하는 값들은 iterable한 data type(e.g. list, np.array, Series 등)으로 설정해줘야함\n",
    "pd.DataFrame({'c1': [0], 'c2': [1]})"
   ]
  },
  {
   "cell_type": "code",
   "execution_count": 26,
   "metadata": {},
   "outputs": [],
   "source": [
    "s1 = pd.Series(np.arange(1, 6, 1), index=['a', 'b', 'c', 'd', 'e'])\n",
    "s2 = pd.Series(np.arange(6, 11, 1), index=['b', 'c', 'd', 'f', 'g'])\n",
    "df = pd.DataFrame(\n",
    "    {\n",
    "        'c1': s1,\n",
    "        'c2': s2\n",
    "    }\n",
    ")"
   ]
  },
  {
   "cell_type": "markdown",
   "metadata": {},
   "source": [
    " "
   ]
  },
  {
   "cell_type": "markdown",
   "metadata": {},
   "source": [
    " "
   ]
  },
  {
   "cell_type": "markdown",
   "metadata": {},
   "source": [
    " "
   ]
  },
  {
   "cell_type": "markdown",
   "metadata": {},
   "source": [
    " "
   ]
  },
  {
   "cell_type": "markdown",
   "metadata": {},
   "source": [
    "## DataFrame 생성시, Series간에 Index 기준으로 자동정렬!"
   ]
  },
  {
   "cell_type": "code",
   "execution_count": 27,
   "metadata": {},
   "outputs": [
    {
     "data": {
      "text/plain": [
       "0    1\n",
       "1    2\n",
       "2    3\n",
       "3    4\n",
       "4    5\n",
       "dtype: int64"
      ]
     },
     "execution_count": 27,
     "metadata": {},
     "output_type": "execute_result"
    },
    {
     "data": {
      "text/plain": [
       "0     6\n",
       "1     7\n",
       "2     8\n",
       "3     9\n",
       "4    10\n",
       "dtype: int64"
      ]
     },
     "execution_count": 27,
     "metadata": {},
     "output_type": "execute_result"
    },
    {
     "data": {
      "text/plain": [
       "1     12\n",
       "2     13\n",
       "10    14\n",
       "dtype: int64"
      ]
     },
     "execution_count": 27,
     "metadata": {},
     "output_type": "execute_result"
    }
   ],
   "source": [
    "s1 = pd.Series(np.arange(1, 6, 1))\n",
    "s2 = pd.Series(np.arange(6, 11, 1))\n",
    "s3 = pd.Series(np.arange(12, 15), index=[1, 2, 10])  # this one has index values unlike s1, s2\n",
    "s1\n",
    "s2\n",
    "s3"
   ]
  },
  {
   "cell_type": "code",
   "execution_count": 28,
   "metadata": {},
   "outputs": [
    {
     "data": {
      "text/html": [
       "<div>\n",
       "<style scoped>\n",
       "    .dataframe tbody tr th:only-of-type {\n",
       "        vertical-align: middle;\n",
       "    }\n",
       "\n",
       "    .dataframe tbody tr th {\n",
       "        vertical-align: top;\n",
       "    }\n",
       "\n",
       "    .dataframe thead th {\n",
       "        text-align: right;\n",
       "    }\n",
       "</style>\n",
       "<table border=\"1\" class=\"dataframe\">\n",
       "  <thead>\n",
       "    <tr style=\"text-align: right;\">\n",
       "      <th></th>\n",
       "      <th>c1</th>\n",
       "      <th>c2</th>\n",
       "      <th>c3</th>\n",
       "    </tr>\n",
       "  </thead>\n",
       "  <tbody>\n",
       "    <tr>\n",
       "      <th>0</th>\n",
       "      <td>1.0</td>\n",
       "      <td>6.0</td>\n",
       "      <td>NaN</td>\n",
       "    </tr>\n",
       "    <tr>\n",
       "      <th>1</th>\n",
       "      <td>2.0</td>\n",
       "      <td>7.0</td>\n",
       "      <td>12.0</td>\n",
       "    </tr>\n",
       "    <tr>\n",
       "      <th>2</th>\n",
       "      <td>3.0</td>\n",
       "      <td>8.0</td>\n",
       "      <td>13.0</td>\n",
       "    </tr>\n",
       "    <tr>\n",
       "      <th>3</th>\n",
       "      <td>4.0</td>\n",
       "      <td>9.0</td>\n",
       "      <td>NaN</td>\n",
       "    </tr>\n",
       "    <tr>\n",
       "      <th>4</th>\n",
       "      <td>5.0</td>\n",
       "      <td>10.0</td>\n",
       "      <td>NaN</td>\n",
       "    </tr>\n",
       "    <tr>\n",
       "      <th>10</th>\n",
       "      <td>NaN</td>\n",
       "      <td>NaN</td>\n",
       "      <td>14.0</td>\n",
       "    </tr>\n",
       "  </tbody>\n",
       "</table>\n",
       "</div>"
      ],
      "text/plain": [
       "     c1    c2    c3\n",
       "0   1.0   6.0   NaN\n",
       "1   2.0   7.0  12.0\n",
       "2   3.0   8.0  13.0\n",
       "3   4.0   9.0   NaN\n",
       "4   5.0  10.0   NaN\n",
       "10  NaN   NaN  14.0"
      ]
     },
     "execution_count": 28,
     "metadata": {},
     "output_type": "execute_result"
    }
   ],
   "source": [
    "df = pd.DataFrame({'c1': s1, 'c2': s2, 'c3': s3}) \n",
    "df"
   ]
  },
  {
   "cell_type": "markdown",
   "metadata": {},
   "source": [
    " "
   ]
  },
  {
   "cell_type": "markdown",
   "metadata": {},
   "source": [
    " "
   ]
  },
  {
   "cell_type": "markdown",
   "metadata": {},
   "source": [
    " "
   ]
  },
  {
   "cell_type": "markdown",
   "metadata": {},
   "source": [
    " "
   ]
  },
  {
   "cell_type": "markdown",
   "metadata": {},
   "source": [
    " "
   ]
  },
  {
   "cell_type": "markdown",
   "metadata": {},
   "source": [
    " "
   ]
  },
  {
   "cell_type": "markdown",
   "metadata": {},
   "source": [
    " "
   ]
  },
  {
   "cell_type": "markdown",
   "metadata": {},
   "source": [
    " "
   ]
  },
  {
   "cell_type": "markdown",
   "metadata": {},
   "source": [
    " "
   ]
  },
  {
   "cell_type": "markdown",
   "metadata": {},
   "source": [
    "## DataFrame에 새로운 column 추가하기"
   ]
  },
  {
   "cell_type": "code",
   "execution_count": 29,
   "metadata": {},
   "outputs": [],
   "source": [
    "# my_dict['a'] = 1"
   ]
  },
  {
   "cell_type": "code",
   "execution_count": 30,
   "metadata": {},
   "outputs": [],
   "source": [
    "df['c4'] = pd.Series([1,2,3,4], index=[0, 1, 2, 10])"
   ]
  },
  {
   "cell_type": "code",
   "execution_count": 31,
   "metadata": {},
   "outputs": [
    {
     "data": {
      "text/html": [
       "<div>\n",
       "<style scoped>\n",
       "    .dataframe tbody tr th:only-of-type {\n",
       "        vertical-align: middle;\n",
       "    }\n",
       "\n",
       "    .dataframe tbody tr th {\n",
       "        vertical-align: top;\n",
       "    }\n",
       "\n",
       "    .dataframe thead th {\n",
       "        text-align: right;\n",
       "    }\n",
       "</style>\n",
       "<table border=\"1\" class=\"dataframe\">\n",
       "  <thead>\n",
       "    <tr style=\"text-align: right;\">\n",
       "      <th></th>\n",
       "      <th>c1</th>\n",
       "      <th>c2</th>\n",
       "      <th>c3</th>\n",
       "      <th>c4</th>\n",
       "    </tr>\n",
       "  </thead>\n",
       "  <tbody>\n",
       "    <tr>\n",
       "      <th>0</th>\n",
       "      <td>1.0</td>\n",
       "      <td>6.0</td>\n",
       "      <td>NaN</td>\n",
       "      <td>1.0</td>\n",
       "    </tr>\n",
       "    <tr>\n",
       "      <th>1</th>\n",
       "      <td>2.0</td>\n",
       "      <td>7.0</td>\n",
       "      <td>12.0</td>\n",
       "      <td>2.0</td>\n",
       "    </tr>\n",
       "    <tr>\n",
       "      <th>2</th>\n",
       "      <td>3.0</td>\n",
       "      <td>8.0</td>\n",
       "      <td>13.0</td>\n",
       "      <td>3.0</td>\n",
       "    </tr>\n",
       "    <tr>\n",
       "      <th>3</th>\n",
       "      <td>4.0</td>\n",
       "      <td>9.0</td>\n",
       "      <td>NaN</td>\n",
       "      <td>NaN</td>\n",
       "    </tr>\n",
       "    <tr>\n",
       "      <th>4</th>\n",
       "      <td>5.0</td>\n",
       "      <td>10.0</td>\n",
       "      <td>NaN</td>\n",
       "      <td>NaN</td>\n",
       "    </tr>\n",
       "    <tr>\n",
       "      <th>10</th>\n",
       "      <td>NaN</td>\n",
       "      <td>NaN</td>\n",
       "      <td>14.0</td>\n",
       "      <td>4.0</td>\n",
       "    </tr>\n",
       "  </tbody>\n",
       "</table>\n",
       "</div>"
      ],
      "text/plain": [
       "     c1    c2    c3   c4\n",
       "0   1.0   6.0   NaN  1.0\n",
       "1   2.0   7.0  12.0  2.0\n",
       "2   3.0   8.0  13.0  3.0\n",
       "3   4.0   9.0   NaN  NaN\n",
       "4   5.0  10.0   NaN  NaN\n",
       "10  NaN   NaN  14.0  4.0"
      ]
     },
     "execution_count": 31,
     "metadata": {},
     "output_type": "execute_result"
    }
   ],
   "source": [
    "df"
   ]
  },
  {
   "cell_type": "markdown",
   "metadata": {},
   "source": [
    " "
   ]
  },
  {
   "cell_type": "markdown",
   "metadata": {},
   "source": [
    " \n",
    " "
   ]
  },
  {
   "cell_type": "markdown",
   "metadata": {},
   "source": [
    " \n",
    " "
   ]
  },
  {
   "cell_type": "markdown",
   "metadata": {},
   "source": [
    " \n",
    " "
   ]
  },
  {
   "cell_type": "markdown",
   "metadata": {},
   "source": [
    " \n",
    " "
   ]
  },
  {
   "cell_type": "markdown",
   "metadata": {},
   "source": [
    " \n",
    " "
   ]
  },
  {
   "cell_type": "markdown",
   "metadata": {},
   "source": [
    " \n",
    " "
   ]
  },
  {
   "cell_type": "markdown",
   "metadata": {},
   "source": [
    " \n",
    " "
   ]
  },
  {
   "cell_type": "markdown",
   "metadata": {},
   "source": [
    "## Reindexing"
   ]
  },
  {
   "cell_type": "markdown",
   "metadata": {},
   "source": [
    "- 새로운 index label을 기반으로 기존의 \"index-value\" mapping은 유지한채 재배열하는 것\n"
   ]
  },
  {
   "cell_type": "markdown",
   "metadata": {},
   "source": [
    "### 참고: index 자체를 바꾸는 것(\"index-value\" mapping이 깨짐)"
   ]
  },
  {
   "cell_type": "code",
   "execution_count": 32,
   "metadata": {},
   "outputs": [
    {
     "data": {
      "text/plain": [
       "0    1\n",
       "1    2\n",
       "2    3\n",
       "3    4\n",
       "4    5\n",
       "dtype: int64"
      ]
     },
     "execution_count": 32,
     "metadata": {},
     "output_type": "execute_result"
    }
   ],
   "source": [
    "s = pd.Series([1,2,3,4,5])\n",
    "s"
   ]
  },
  {
   "cell_type": "code",
   "execution_count": 33,
   "metadata": {},
   "outputs": [
    {
     "data": {
      "text/plain": [
       "a    1\n",
       "b    2\n",
       "c    3\n",
       "d    4\n",
       "e    5\n",
       "dtype: int64"
      ]
     },
     "execution_count": 33,
     "metadata": {},
     "output_type": "execute_result"
    }
   ],
   "source": [
    "s.index = ['a', 'b', 'c', 'd', 'e']\n",
    "s"
   ]
  },
  {
   "cell_type": "markdown",
   "metadata": {},
   "source": [
    "### 2.4.2 참고 :  `set_index()` : 특정 column을 index로 만듦"
   ]
  },
  {
   "cell_type": "code",
   "execution_count": 34,
   "metadata": {},
   "outputs": [
    {
     "data": {
      "text/html": [
       "<div>\n",
       "<style scoped>\n",
       "    .dataframe tbody tr th:only-of-type {\n",
       "        vertical-align: middle;\n",
       "    }\n",
       "\n",
       "    .dataframe tbody tr th {\n",
       "        vertical-align: top;\n",
       "    }\n",
       "\n",
       "    .dataframe thead th {\n",
       "        text-align: right;\n",
       "    }\n",
       "</style>\n",
       "<table border=\"1\" class=\"dataframe\">\n",
       "  <thead>\n",
       "    <tr style=\"text-align: right;\">\n",
       "      <th></th>\n",
       "      <th>c1</th>\n",
       "      <th>c2</th>\n",
       "      <th>c3</th>\n",
       "      <th>c4</th>\n",
       "    </tr>\n",
       "  </thead>\n",
       "  <tbody>\n",
       "    <tr>\n",
       "      <th>0</th>\n",
       "      <td>1.0</td>\n",
       "      <td>6.0</td>\n",
       "      <td>NaN</td>\n",
       "      <td>1.0</td>\n",
       "    </tr>\n",
       "    <tr>\n",
       "      <th>1</th>\n",
       "      <td>2.0</td>\n",
       "      <td>7.0</td>\n",
       "      <td>12.0</td>\n",
       "      <td>2.0</td>\n",
       "    </tr>\n",
       "    <tr>\n",
       "      <th>2</th>\n",
       "      <td>3.0</td>\n",
       "      <td>8.0</td>\n",
       "      <td>13.0</td>\n",
       "      <td>3.0</td>\n",
       "    </tr>\n",
       "    <tr>\n",
       "      <th>3</th>\n",
       "      <td>4.0</td>\n",
       "      <td>9.0</td>\n",
       "      <td>NaN</td>\n",
       "      <td>NaN</td>\n",
       "    </tr>\n",
       "    <tr>\n",
       "      <th>4</th>\n",
       "      <td>5.0</td>\n",
       "      <td>10.0</td>\n",
       "      <td>NaN</td>\n",
       "      <td>NaN</td>\n",
       "    </tr>\n",
       "    <tr>\n",
       "      <th>10</th>\n",
       "      <td>NaN</td>\n",
       "      <td>NaN</td>\n",
       "      <td>14.0</td>\n",
       "      <td>4.0</td>\n",
       "    </tr>\n",
       "  </tbody>\n",
       "</table>\n",
       "</div>"
      ],
      "text/plain": [
       "     c1    c2    c3   c4\n",
       "0   1.0   6.0   NaN  1.0\n",
       "1   2.0   7.0  12.0  2.0\n",
       "2   3.0   8.0  13.0  3.0\n",
       "3   4.0   9.0   NaN  NaN\n",
       "4   5.0  10.0   NaN  NaN\n",
       "10  NaN   NaN  14.0  4.0"
      ]
     },
     "execution_count": 34,
     "metadata": {},
     "output_type": "execute_result"
    }
   ],
   "source": [
    "# 위의 'DataFrame 생성시, Series간에 Index 기준으로 자동정렬!' 챕터에서 정의한 dataframe입니다\n",
    "df"
   ]
  },
  {
   "cell_type": "code",
   "execution_count": 35,
   "metadata": {},
   "outputs": [
    {
     "data": {
      "text/html": [
       "<div>\n",
       "<style scoped>\n",
       "    .dataframe tbody tr th:only-of-type {\n",
       "        vertical-align: middle;\n",
       "    }\n",
       "\n",
       "    .dataframe tbody tr th {\n",
       "        vertical-align: top;\n",
       "    }\n",
       "\n",
       "    .dataframe thead th {\n",
       "        text-align: right;\n",
       "    }\n",
       "</style>\n",
       "<table border=\"1\" class=\"dataframe\">\n",
       "  <thead>\n",
       "    <tr style=\"text-align: right;\">\n",
       "      <th></th>\n",
       "      <th>c1</th>\n",
       "      <th>c2</th>\n",
       "      <th>c3</th>\n",
       "      <th>c4</th>\n",
       "      <th>c5</th>\n",
       "    </tr>\n",
       "  </thead>\n",
       "  <tbody>\n",
       "    <tr>\n",
       "      <th>0</th>\n",
       "      <td>1.0</td>\n",
       "      <td>6.0</td>\n",
       "      <td>NaN</td>\n",
       "      <td>1.0</td>\n",
       "      <td>1</td>\n",
       "    </tr>\n",
       "    <tr>\n",
       "      <th>1</th>\n",
       "      <td>2.0</td>\n",
       "      <td>7.0</td>\n",
       "      <td>12.0</td>\n",
       "      <td>2.0</td>\n",
       "      <td>2</td>\n",
       "    </tr>\n",
       "    <tr>\n",
       "      <th>2</th>\n",
       "      <td>3.0</td>\n",
       "      <td>8.0</td>\n",
       "      <td>13.0</td>\n",
       "      <td>3.0</td>\n",
       "      <td>3</td>\n",
       "    </tr>\n",
       "    <tr>\n",
       "      <th>3</th>\n",
       "      <td>4.0</td>\n",
       "      <td>9.0</td>\n",
       "      <td>NaN</td>\n",
       "      <td>NaN</td>\n",
       "      <td>4</td>\n",
       "    </tr>\n",
       "    <tr>\n",
       "      <th>4</th>\n",
       "      <td>5.0</td>\n",
       "      <td>10.0</td>\n",
       "      <td>NaN</td>\n",
       "      <td>NaN</td>\n",
       "      <td>5</td>\n",
       "    </tr>\n",
       "    <tr>\n",
       "      <th>10</th>\n",
       "      <td>NaN</td>\n",
       "      <td>NaN</td>\n",
       "      <td>14.0</td>\n",
       "      <td>4.0</td>\n",
       "      <td>6</td>\n",
       "    </tr>\n",
       "  </tbody>\n",
       "</table>\n",
       "</div>"
      ],
      "text/plain": [
       "     c1    c2    c3   c4  c5\n",
       "0   1.0   6.0   NaN  1.0   1\n",
       "1   2.0   7.0  12.0  2.0   2\n",
       "2   3.0   8.0  13.0  3.0   3\n",
       "3   4.0   9.0   NaN  NaN   4\n",
       "4   5.0  10.0   NaN  NaN   5\n",
       "10  NaN   NaN  14.0  4.0   6"
      ]
     },
     "execution_count": 35,
     "metadata": {},
     "output_type": "execute_result"
    }
   ],
   "source": [
    "df['c5'] = pd.Series([1,2,3,4,5,6], index=[0,1,2,3,4,10])\n",
    "df"
   ]
  },
  {
   "cell_type": "code",
<<<<<<< HEAD
   "execution_count": 36,
=======
   "execution_count": 33,
>>>>>>> c8a6048a010ad4722aab3b08e5101acf3c8a82ca
   "metadata": {},
   "outputs": [
    {
     "data": {
      "text/html": [
       "<div>\n",
       "<style scoped>\n",
       "    .dataframe tbody tr th:only-of-type {\n",
       "        vertical-align: middle;\n",
       "    }\n",
       "\n",
       "    .dataframe tbody tr th {\n",
       "        vertical-align: top;\n",
       "    }\n",
       "\n",
       "    .dataframe thead th {\n",
       "        text-align: right;\n",
       "    }\n",
       "</style>\n",
       "<table border=\"1\" class=\"dataframe\">\n",
       "  <thead>\n",
       "    <tr style=\"text-align: right;\">\n",
       "      <th></th>\n",
       "      <th>c1</th>\n",
       "      <th>c2</th>\n",
       "      <th>c3</th>\n",
       "      <th>c4</th>\n",
       "    </tr>\n",
       "    <tr>\n",
       "      <th>c5</th>\n",
       "      <th></th>\n",
       "      <th></th>\n",
       "      <th></th>\n",
       "      <th></th>\n",
       "    </tr>\n",
       "  </thead>\n",
       "  <tbody>\n",
       "    <tr>\n",
       "      <th>1</th>\n",
       "      <td>1.0</td>\n",
       "      <td>6.0</td>\n",
       "      <td>NaN</td>\n",
       "      <td>1.0</td>\n",
       "    </tr>\n",
       "    <tr>\n",
       "      <th>2</th>\n",
       "      <td>2.0</td>\n",
       "      <td>7.0</td>\n",
       "      <td>12.0</td>\n",
       "      <td>2.0</td>\n",
       "    </tr>\n",
       "    <tr>\n",
       "      <th>3</th>\n",
       "      <td>3.0</td>\n",
       "      <td>8.0</td>\n",
       "      <td>13.0</td>\n",
       "      <td>3.0</td>\n",
       "    </tr>\n",
       "    <tr>\n",
       "      <th>4</th>\n",
       "      <td>4.0</td>\n",
       "      <td>9.0</td>\n",
       "      <td>NaN</td>\n",
       "      <td>NaN</td>\n",
       "    </tr>\n",
       "    <tr>\n",
       "      <th>5</th>\n",
       "      <td>5.0</td>\n",
       "      <td>10.0</td>\n",
       "      <td>NaN</td>\n",
       "      <td>NaN</td>\n",
       "    </tr>\n",
       "    <tr>\n",
       "      <th>6</th>\n",
       "      <td>NaN</td>\n",
       "      <td>NaN</td>\n",
       "      <td>14.0</td>\n",
       "      <td>4.0</td>\n",
       "    </tr>\n",
       "  </tbody>\n",
       "</table>\n",
       "</div>"
      ],
      "text/plain": [
       "     c1    c2    c3   c4\n",
       "c5                      \n",
       "1   1.0   6.0   NaN  1.0\n",
       "2   2.0   7.0  12.0  2.0\n",
       "3   3.0   8.0  13.0  3.0\n",
       "4   4.0   9.0   NaN  NaN\n",
       "5   5.0  10.0   NaN  NaN\n",
       "6   NaN   NaN  14.0  4.0"
      ]
     },
<<<<<<< HEAD
     "execution_count": 36,
=======
     "execution_count": 33,
>>>>>>> c8a6048a010ad4722aab3b08e5101acf3c8a82ca
     "metadata": {},
     "output_type": "execute_result"
    }
   ],
   "source": [
    "df.set_index(\"c5\")"
   ]
  },
  {
   "cell_type": "markdown",
   "metadata": {},
   "source": [
    " "
   ]
  },
  {
   "cell_type": "markdown",
   "metadata": {},
   "source": [
    "### Reindex"
   ]
  },
  {
   "cell_type": "code",
<<<<<<< HEAD
   "execution_count": 37,
=======
   "execution_count": 34,
>>>>>>> c8a6048a010ad4722aab3b08e5101acf3c8a82ca
   "metadata": {},
   "outputs": [
    {
     "data": {
      "text/plain": [
       "a    1.0\n",
       "c    3.0\n",
       "e    5.0\n",
       "g    NaN\n",
       "dtype: float64"
      ]
     },
<<<<<<< HEAD
     "execution_count": 37,
=======
     "execution_count": 34,
>>>>>>> c8a6048a010ad4722aab3b08e5101acf3c8a82ca
     "metadata": {},
     "output_type": "execute_result"
    }
   ],
   "source": [
    "s2 = s.reindex(\n",
    "    ['a', 'c', 'e', 'g']\n",
    ")\n",
    "s2"
   ]
  },
  {
   "cell_type": "code",
<<<<<<< HEAD
   "execution_count": 38,
=======
   "execution_count": 35,
>>>>>>> c8a6048a010ad4722aab3b08e5101acf3c8a82ca
   "metadata": {},
   "outputs": [
    {
     "data": {
      "text/plain": [
       "a    0.0\n",
       "c    3.0\n",
       "e    5.0\n",
       "g    NaN\n",
       "dtype: float64"
      ]
     },
<<<<<<< HEAD
     "execution_count": 38,
=======
     "execution_count": 35,
>>>>>>> c8a6048a010ad4722aab3b08e5101acf3c8a82ca
     "metadata": {},
     "output_type": "execute_result"
    }
   ],
   "source": [
    "# Copied\n",
    "s2['a'] = 0\n",
    "s2"
   ]
  },
  {
   "cell_type": "code",
<<<<<<< HEAD
   "execution_count": 39,
=======
   "execution_count": 36,
>>>>>>> c8a6048a010ad4722aab3b08e5101acf3c8a82ca
   "metadata": {},
   "outputs": [
    {
     "data": {
      "text/plain": [
       "a    1\n",
       "b    2\n",
       "c    3\n",
       "d    4\n",
       "e    5\n",
       "dtype: int64"
      ]
     },
<<<<<<< HEAD
     "execution_count": 39,
=======
     "execution_count": 36,
>>>>>>> c8a6048a010ad4722aab3b08e5101acf3c8a82ca
     "metadata": {},
     "output_type": "execute_result"
    }
   ],
   "source": [
    "# s는 s2의 값을 바꿔도 안 건드려짐\n",
    "s"
   ]
  },
  {
   "cell_type": "code",
<<<<<<< HEAD
   "execution_count": 40,
=======
   "execution_count": 37,
>>>>>>> c8a6048a010ad4722aab3b08e5101acf3c8a82ca
   "metadata": {},
   "outputs": [
    {
     "data": {
      "text/plain": [
       "0    0\n",
       "1    1\n",
       "2    2\n",
       "dtype: int64"
      ]
     },
<<<<<<< HEAD
     "execution_count": 40,
=======
     "execution_count": 37,
>>>>>>> c8a6048a010ad4722aab3b08e5101acf3c8a82ca
     "metadata": {},
     "output_type": "execute_result"
    },
    {
     "data": {
      "text/plain": [
       "0    3\n",
       "1    4\n",
       "2    5\n",
       "dtype: int64"
      ]
     },
<<<<<<< HEAD
     "execution_count": 40,
=======
     "execution_count": 37,
>>>>>>> c8a6048a010ad4722aab3b08e5101acf3c8a82ca
     "metadata": {},
     "output_type": "execute_result"
    }
   ],
   "source": [
    "# [X] 이렇게 하면 안됨\n",
    "s1 = pd.Series([0, 1, 2], index=[0, 1, 2])\n",
    "s2 = pd.Series([3, 4, 5], index=['0', '1', '2'])\n",
    "s1\n",
    "s2"
   ]
  },
  {
   "cell_type": "code",
<<<<<<< HEAD
   "execution_count": 41,
=======
   "execution_count": 38,
>>>>>>> c8a6048a010ad4722aab3b08e5101acf3c8a82ca
   "metadata": {},
   "outputs": [
    {
     "data": {
      "text/plain": [
       "0   NaN\n",
       "1   NaN\n",
       "2   NaN\n",
       "0   NaN\n",
       "1   NaN\n",
       "2   NaN\n",
       "dtype: float64"
      ]
     },
<<<<<<< HEAD
     "execution_count": 41,
=======
     "execution_count": 38,
>>>>>>> c8a6048a010ad4722aab3b08e5101acf3c8a82ca
     "metadata": {},
     "output_type": "execute_result"
    }
   ],
   "source": [
    "s1 + s2"
   ]
  },
  {
   "cell_type": "code",
<<<<<<< HEAD
   "execution_count": 42,
=======
   "execution_count": 39,
>>>>>>> c8a6048a010ad4722aab3b08e5101acf3c8a82ca
   "metadata": {},
   "outputs": [
    {
     "data": {
      "text/plain": [
       "Int64Index([0, 1, 2], dtype='int64')"
      ]
     },
<<<<<<< HEAD
     "execution_count": 42,
=======
     "execution_count": 39,
>>>>>>> c8a6048a010ad4722aab3b08e5101acf3c8a82ca
     "metadata": {},
     "output_type": "execute_result"
    }
   ],
   "source": [
    "s1.index"
   ]
  },
  {
   "cell_type": "code",
<<<<<<< HEAD
   "execution_count": 43,
=======
   "execution_count": 40,
>>>>>>> c8a6048a010ad4722aab3b08e5101acf3c8a82ca
   "metadata": {},
   "outputs": [
    {
     "data": {
      "text/plain": [
       "0   NaN\n",
       "1   NaN\n",
       "2   NaN\n",
       "dtype: float64"
      ]
     },
<<<<<<< HEAD
     "execution_count": 43,
=======
     "execution_count": 40,
>>>>>>> c8a6048a010ad4722aab3b08e5101acf3c8a82ca
     "metadata": {},
     "output_type": "execute_result"
    }
   ],
   "source": [
    "s2 = s2.reindex(s1.index)\n",
    "s2"
   ]
  },
  {
   "cell_type": "code",
<<<<<<< HEAD
   "execution_count": 44,
=======
   "execution_count": 41,
>>>>>>> c8a6048a010ad4722aab3b08e5101acf3c8a82ca
   "metadata": {},
   "outputs": [],
   "source": [
    "# 첫번째 방법\n",
    "s1 = pd.Series([0, 1, 2], index=[0, 1, 2])\n",
    "s2 = pd.Series([3, 4, 5], index=['0', '1', '2'])"
   ]
  },
  {
   "cell_type": "code",
<<<<<<< HEAD
   "execution_count": 45,
=======
   "execution_count": 42,
>>>>>>> c8a6048a010ad4722aab3b08e5101acf3c8a82ca
   "metadata": {},
   "outputs": [],
   "source": [
    "s2.index = s2.index.astype(int)"
   ]
  },
  {
   "cell_type": "code",
<<<<<<< HEAD
   "execution_count": 46,
=======
   "execution_count": 43,
>>>>>>> c8a6048a010ad4722aab3b08e5101acf3c8a82ca
   "metadata": {},
   "outputs": [
    {
     "data": {
      "text/plain": [
       "0    3\n",
       "1    4\n",
       "2    5\n",
       "dtype: int64"
      ]
     },
<<<<<<< HEAD
     "execution_count": 46,
=======
     "execution_count": 43,
>>>>>>> c8a6048a010ad4722aab3b08e5101acf3c8a82ca
     "metadata": {},
     "output_type": "execute_result"
    }
   ],
   "source": [
    "s2"
   ]
  },
  {
   "cell_type": "code",
<<<<<<< HEAD
   "execution_count": 47,
=======
   "execution_count": 44,
>>>>>>> c8a6048a010ad4722aab3b08e5101acf3c8a82ca
   "metadata": {},
   "outputs": [
    {
     "data": {
      "text/plain": [
       "Int64Index([0, 1, 2], dtype='int64')"
      ]
     },
<<<<<<< HEAD
     "execution_count": 47,
=======
     "execution_count": 44,
>>>>>>> c8a6048a010ad4722aab3b08e5101acf3c8a82ca
     "metadata": {},
     "output_type": "execute_result"
    }
   ],
   "source": [
    "s2.index"
   ]
  },
  {
   "cell_type": "code",
<<<<<<< HEAD
   "execution_count": 48,
=======
   "execution_count": 45,
>>>>>>> c8a6048a010ad4722aab3b08e5101acf3c8a82ca
   "metadata": {},
   "outputs": [
    {
     "data": {
      "text/plain": [
       "0    3\n",
       "1    5\n",
       "2    7\n",
       "dtype: int64"
      ]
     },
<<<<<<< HEAD
     "execution_count": 48,
=======
     "execution_count": 45,
>>>>>>> c8a6048a010ad4722aab3b08e5101acf3c8a82ca
     "metadata": {},
     "output_type": "execute_result"
    }
   ],
   "source": [
    "s1 + s2"
   ]
  },
  {
   "cell_type": "code",
<<<<<<< HEAD
   "execution_count": 49,
=======
   "execution_count": 46,
>>>>>>> c8a6048a010ad4722aab3b08e5101acf3c8a82ca
   "metadata": {},
   "outputs": [],
   "source": [
    "# 두번째 방법\n",
    "s1 = pd.Series([0, 1, 2], index=[0, 1, 2])\n",
    "s2 = pd.Series([3, 4, 5], index=['0', '1', '2'])"
   ]
  },
  {
   "cell_type": "code",
<<<<<<< HEAD
   "execution_count": 50,
=======
   "execution_count": 47,
>>>>>>> c8a6048a010ad4722aab3b08e5101acf3c8a82ca
   "metadata": {},
   "outputs": [],
   "source": [
    "s1.index = ['a', 'b', 'c']\n",
    "s2.index = ['a', 'b', 'c']"
   ]
  },
  {
   "cell_type": "code",
<<<<<<< HEAD
   "execution_count": 51,
=======
   "execution_count": 48,
>>>>>>> c8a6048a010ad4722aab3b08e5101acf3c8a82ca
   "metadata": {},
   "outputs": [
    {
     "data": {
      "text/plain": [
       "a    3\n",
       "b    5\n",
       "c    7\n",
       "dtype: int64"
      ]
     },
<<<<<<< HEAD
     "execution_count": 51,
=======
     "execution_count": 48,
>>>>>>> c8a6048a010ad4722aab3b08e5101acf3c8a82ca
     "metadata": {},
     "output_type": "execute_result"
    }
   ],
   "source": [
    "s1 + s2"
   ]
  },
  {
   "cell_type": "markdown",
   "metadata": {},
   "source": [
    " "
   ]
  },
  {
   "cell_type": "markdown",
   "metadata": {},
   "source": [
    " "
   ]
  },
  {
   "cell_type": "markdown",
   "metadata": {},
   "source": [
    "#### `reindex()`의 유용한 Arguments"
   ]
  },
  {
   "cell_type": "markdown",
   "metadata": {},
   "source": [
    "- `fill_value`"
   ]
  },
  {
   "cell_type": "code",
<<<<<<< HEAD
   "execution_count": 52,
=======
   "execution_count": 49,
>>>>>>> c8a6048a010ad4722aab3b08e5101acf3c8a82ca
   "metadata": {},
   "outputs": [
    {
     "data": {
      "text/plain": [
       "a    1\n",
       "b    2\n",
       "c    3\n",
       "d    4\n",
       "e    5\n",
       "dtype: int64"
      ]
     },
<<<<<<< HEAD
     "execution_count": 52,
=======
     "execution_count": 49,
>>>>>>> c8a6048a010ad4722aab3b08e5101acf3c8a82ca
     "metadata": {},
     "output_type": "execute_result"
    }
   ],
   "source": [
    "s2 = s.copy()\n",
    "s2"
   ]
  },
  {
   "cell_type": "code",
<<<<<<< HEAD
   "execution_count": 53,
=======
   "execution_count": 50,
>>>>>>> c8a6048a010ad4722aab3b08e5101acf3c8a82ca
   "metadata": {},
   "outputs": [
    {
     "data": {
      "text/plain": [
       "a    1.0\n",
       "f    NaN\n",
       "dtype: float64"
      ]
     },
<<<<<<< HEAD
     "execution_count": 53,
=======
     "execution_count": 50,
>>>>>>> c8a6048a010ad4722aab3b08e5101acf3c8a82ca
     "metadata": {},
     "output_type": "execute_result"
    }
   ],
   "source": [
    "s2.reindex(['a', 'f'])"
   ]
  },
  {
   "cell_type": "code",
<<<<<<< HEAD
   "execution_count": 54,
=======
   "execution_count": 51,
>>>>>>> c8a6048a010ad4722aab3b08e5101acf3c8a82ca
   "metadata": {},
   "outputs": [
    {
     "data": {
      "text/plain": [
       "a    1\n",
       "f    0\n",
       "dtype: int64"
      ]
     },
<<<<<<< HEAD
     "execution_count": 54,
=======
     "execution_count": 51,
>>>>>>> c8a6048a010ad4722aab3b08e5101acf3c8a82ca
     "metadata": {},
     "output_type": "execute_result"
    }
   ],
   "source": [
    "s2.reindex(['a', 'f'], fill_value=0)  # fill 0 insteand of Nan"
   ]
  },
  {
   "cell_type": "markdown",
   "metadata": {},
   "source": [
    "- `method`"
   ]
  },
  {
   "cell_type": "code",
<<<<<<< HEAD
   "execution_count": 55,
=======
   "execution_count": 52,
>>>>>>> c8a6048a010ad4722aab3b08e5101acf3c8a82ca
   "metadata": {},
   "outputs": [
    {
     "data": {
      "text/plain": [
       "0      red\n",
       "3    green\n",
       "5     blue\n",
       "dtype: object"
      ]
     },
<<<<<<< HEAD
     "execution_count": 55,
=======
     "execution_count": 52,
>>>>>>> c8a6048a010ad4722aab3b08e5101acf3c8a82ca
     "metadata": {},
     "output_type": "execute_result"
    }
   ],
   "source": [
    "s3 = pd.Series(['red', 'green', 'blue'], index=[0, 3, 5])\n",
    "s3"
   ]
  },
  {
   "cell_type": "code",
<<<<<<< HEAD
   "execution_count": 56,
=======
   "execution_count": 53,
>>>>>>> c8a6048a010ad4722aab3b08e5101acf3c8a82ca
   "metadata": {},
   "outputs": [
    {
     "data": {
      "text/plain": [
       "0      red\n",
       "1      NaN\n",
       "2      NaN\n",
       "3    green\n",
       "4      NaN\n",
       "5     blue\n",
       "6      NaN\n",
       "dtype: object"
      ]
     },
<<<<<<< HEAD
     "execution_count": 56,
=======
     "execution_count": 53,
>>>>>>> c8a6048a010ad4722aab3b08e5101acf3c8a82ca
     "metadata": {},
     "output_type": "execute_result"
    }
   ],
   "source": [
    "s3.reindex(np.arange(0,7))"
   ]
  },
  {
   "cell_type": "code",
<<<<<<< HEAD
   "execution_count": 57,
=======
   "execution_count": 54,
>>>>>>> c8a6048a010ad4722aab3b08e5101acf3c8a82ca
   "metadata": {},
   "outputs": [
    {
     "data": {
      "text/plain": [
       "0      red\n",
       "1      red\n",
       "2      red\n",
       "3    green\n",
       "4    green\n",
       "5     blue\n",
       "6     blue\n",
       "dtype: object"
      ]
     },
<<<<<<< HEAD
     "execution_count": 57,
=======
     "execution_count": 54,
>>>>>>> c8a6048a010ad4722aab3b08e5101acf3c8a82ca
     "metadata": {},
     "output_type": "execute_result"
    }
   ],
   "source": [
    "s3.reindex(np.arange(0,7), method='ffill')"
   ]
  },
  {
   "cell_type": "markdown",
   "metadata": {},
   "source": [
    " "
   ]
  },
  {
   "cell_type": "markdown",
   "metadata": {},
   "source": [
    " "
   ]
  },
  {
   "cell_type": "markdown",
   "metadata": {},
   "source": [
    " "
   ]
  },
  {
   "cell_type": "markdown",
   "metadata": {},
   "source": [
    " "
   ]
  },
  {
   "cell_type": "markdown",
   "metadata": {},
   "source": [
    "#### 예제"
   ]
  },
  {
   "cell_type": "code",
<<<<<<< HEAD
   "execution_count": 58,
=======
   "execution_count": 55,
>>>>>>> c8a6048a010ad4722aab3b08e5101acf3c8a82ca
   "metadata": {},
   "outputs": [
    {
     "name": "stdout",
     "output_type": "stream",
     "text": [
<<<<<<< HEAD
      "Requirement already satisfied: finance_datareader in c:\\users\\testworks\\appdata\\local\\programs\\python\\python37\\lib\\site-packages (0.9.31)\n",
      "Requirement already satisfied: requests>=2.3.0 in c:\\users\\testworks\\appdata\\local\\programs\\python\\python37\\lib\\site-packages (from finance_datareader) (2.26.0)\n",
      "Requirement already satisfied: tqdm in c:\\users\\testworks\\appdata\\local\\programs\\python\\python37\\lib\\site-packages (from finance_datareader) (4.62.3)\n",
      "Requirement already satisfied: pandas>=0.19.2 in c:\\users\\testworks\\appdata\\roaming\\python\\python37\\site-packages (from finance_datareader) (1.0.3)\n",
      "Requirement already satisfied: lxml in c:\\users\\testworks\\appdata\\local\\programs\\python\\python37\\lib\\site-packages (from finance_datareader) (4.6.3)\n",
      "Requirement already satisfied: requests-file in c:\\users\\testworks\\appdata\\local\\programs\\python\\python37\\lib\\site-packages (from finance_datareader) (1.5.1)\n",
      "Requirement already satisfied: python-dateutil>=2.6.1 in c:\\users\\testworks\\appdata\\local\\programs\\python\\python37\\lib\\site-packages (from pandas>=0.19.2->finance_datareader) (2.8.2)\n",
      "Requirement already satisfied: numpy>=1.13.3 in c:\\users\\testworks\\appdata\\local\\programs\\python\\python37\\lib\\site-packages (from pandas>=0.19.2->finance_datareader) (1.17.0)\n",
      "Requirement already satisfied: pytz>=2017.2 in c:\\users\\testworks\\appdata\\local\\programs\\python\\python37\\lib\\site-packages (from pandas>=0.19.2->finance_datareader) (2021.3)\n",
      "Requirement already satisfied: idna<4,>=2.5 in c:\\users\\testworks\\appdata\\local\\programs\\python\\python37\\lib\\site-packages (from requests>=2.3.0->finance_datareader) (3.3)\n",
      "Requirement already satisfied: urllib3<1.27,>=1.21.1 in c:\\users\\testworks\\appdata\\local\\programs\\python\\python37\\lib\\site-packages (from requests>=2.3.0->finance_datareader) (1.26.6)\n",
      "Requirement already satisfied: charset-normalizer~=2.0.0 in c:\\users\\testworks\\appdata\\local\\programs\\python\\python37\\lib\\site-packages (from requests>=2.3.0->finance_datareader) (2.0.7)\n",
      "Requirement already satisfied: certifi>=2017.4.17 in c:\\users\\testworks\\appdata\\local\\programs\\python\\python37\\lib\\site-packages (from requests>=2.3.0->finance_datareader) (2021.10.8)\n",
      "Requirement already satisfied: six in c:\\users\\testworks\\appdata\\local\\programs\\python\\python37\\lib\\site-packages (from requests-file->finance_datareader) (1.16.0)\n",
      "Requirement already satisfied: colorama in c:\\users\\testworks\\appdata\\local\\programs\\python\\python37\\lib\\site-packages (from tqdm->finance_datareader) (0.4.4)\n"
=======
      "Collecting finance_datareader\n",
      "  Downloading finance_datareader-0.9.31-py3-none-any.whl (17 kB)\n",
      "Requirement already satisfied: tqdm in /Users/kimsanghyeon/miniforge3/envs/mlp/lib/python3.8/site-packages (from finance_datareader) (4.61.2)\n",
      "Requirement already satisfied: pandas>=0.19.2 in /Users/kimsanghyeon/miniforge3/envs/mlp/lib/python3.8/site-packages (from finance_datareader) (1.3.0)\n",
      "Collecting lxml\n",
      "  Using cached lxml-4.6.3.tar.gz (3.2 MB)\n",
      "Requirement already satisfied: requests>=2.3.0 in /Users/kimsanghyeon/miniforge3/envs/mlp/lib/python3.8/site-packages (from finance_datareader) (2.25.1)\n",
      "Collecting requests-file\n",
      "  Using cached requests_file-1.5.1-py2.py3-none-any.whl (3.7 kB)\n",
      "Requirement already satisfied: numpy>=1.17.3 in /Users/kimsanghyeon/miniforge3/envs/mlp/lib/python3.8/site-packages (from pandas>=0.19.2->finance_datareader) (1.19.5)\n",
      "Requirement already satisfied: python-dateutil>=2.7.3 in /Users/kimsanghyeon/miniforge3/envs/mlp/lib/python3.8/site-packages (from pandas>=0.19.2->finance_datareader) (2.8.1)\n",
      "Requirement already satisfied: pytz>=2017.3 in /Users/kimsanghyeon/miniforge3/envs/mlp/lib/python3.8/site-packages (from pandas>=0.19.2->finance_datareader) (2021.1)\n",
      "Requirement already satisfied: six>=1.5 in /Users/kimsanghyeon/miniforge3/envs/mlp/lib/python3.8/site-packages (from python-dateutil>=2.7.3->pandas>=0.19.2->finance_datareader) (1.15.0)\n",
      "Requirement already satisfied: chardet<5,>=3.0.2 in /Users/kimsanghyeon/miniforge3/envs/mlp/lib/python3.8/site-packages (from requests>=2.3.0->finance_datareader) (4.0.0)\n",
      "Requirement already satisfied: certifi>=2017.4.17 in /Users/kimsanghyeon/miniforge3/envs/mlp/lib/python3.8/site-packages (from requests>=2.3.0->finance_datareader) (2021.5.30)\n",
      "Requirement already satisfied: urllib3<1.27,>=1.21.1 in /Users/kimsanghyeon/miniforge3/envs/mlp/lib/python3.8/site-packages (from requests>=2.3.0->finance_datareader) (1.26.6)\n",
      "Requirement already satisfied: idna<3,>=2.5 in /Users/kimsanghyeon/miniforge3/envs/mlp/lib/python3.8/site-packages (from requests>=2.3.0->finance_datareader) (2.10)\n",
      "Building wheels for collected packages: lxml\n",
      "  Building wheel for lxml (setup.py) ... \u001b[?25ldone\n",
      "\u001b[?25h  Created wheel for lxml: filename=lxml-4.6.3-cp38-cp38-macosx_11_0_arm64.whl size=1471665 sha256=6e183ab3b5301e902917b27157253bc39ca0d68812c8bd88cc43d62e1cba187a\n",
      "  Stored in directory: /Users/kimsanghyeon/Library/Caches/pip/wheels/d3/4b/8d/471241f6711106f3a02642e3fbd41ee7302225b502eccfa285\n",
      "Successfully built lxml\n",
      "Installing collected packages: requests-file, lxml, finance-datareader\n",
      "Successfully installed finance-datareader-0.9.31 lxml-4.6.3 requests-file-1.5.1\n"
>>>>>>> c8a6048a010ad4722aab3b08e5101acf3c8a82ca
     ]
    }
   ],
   "source": [
    "# 맨 첫 강의에서 라이브러리를 설치할 때 requirements.txt를 이용해서 설치를 했으면, 건너뛰셔도 됩니다. \n",
    "!pip install finance_datareader"
   ]
  },
  {
   "cell_type": "code",
<<<<<<< HEAD
   "execution_count": 59,
=======
   "execution_count": 56,
>>>>>>> c8a6048a010ad4722aab3b08e5101acf3c8a82ca
   "metadata": {},
   "outputs": [
    {
     "name": "stdout",
     "output_type": "stream",
     "text": [
<<<<<<< HEAD
      "Requirement already satisfied: bs4 in c:\\users\\testworks\\appdata\\local\\programs\\python\\python37\\lib\\site-packages (0.0.1)\n",
      "Requirement already satisfied: beautifulsoup4 in c:\\users\\testworks\\appdata\\local\\programs\\python\\python37\\lib\\site-packages (from bs4) (4.10.0)\n",
      "Requirement already satisfied: soupsieve>1.2 in c:\\users\\testworks\\appdata\\local\\programs\\python\\python37\\lib\\site-packages (from beautifulsoup4->bs4) (2.2.1)\n"
=======
      "Collecting bs4\n",
      "  Using cached bs4-0.0.1.tar.gz (1.1 kB)\n",
      "Collecting beautifulsoup4\n",
      "  Downloading beautifulsoup4-4.10.0-py3-none-any.whl (97 kB)\n",
      "\u001b[K     |████████████████████████████████| 97 kB 9.5 MB/s \n",
      "\u001b[?25hCollecting soupsieve>1.2\n",
      "  Using cached soupsieve-2.2.1-py3-none-any.whl (33 kB)\n",
      "Building wheels for collected packages: bs4\n",
      "  Building wheel for bs4 (setup.py) ... \u001b[?25ldone\n",
      "\u001b[?25h  Created wheel for bs4: filename=bs4-0.0.1-py3-none-any.whl size=1273 sha256=53029b90d86802c03d67986cf77939483d7865070dbe4e1f9be09fc164abc5ba\n",
      "  Stored in directory: /Users/kimsanghyeon/Library/Caches/pip/wheels/75/78/21/68b124549c9bdc94f822c02fb9aa3578a669843f9767776bca\n",
      "Successfully built bs4\n",
      "Installing collected packages: soupsieve, beautifulsoup4, bs4\n",
      "Successfully installed beautifulsoup4-4.10.0 bs4-0.0.1 soupsieve-2.2.1\n"
>>>>>>> c8a6048a010ad4722aab3b08e5101acf3c8a82ca
     ]
    }
   ],
   "source": [
    "!pip install bs4"
   ]
  },
  {
   "cell_type": "code",
<<<<<<< HEAD
   "execution_count": 60,
=======
   "execution_count": 57,
>>>>>>> c8a6048a010ad4722aab3b08e5101acf3c8a82ca
   "metadata": {},
   "outputs": [],
   "source": [
    "import FinanceDataReader as fdr"
   ]
  },
  {
   "cell_type": "code",
<<<<<<< HEAD
   "execution_count": 61,
=======
   "execution_count": 58,
>>>>>>> c8a6048a010ad4722aab3b08e5101acf3c8a82ca
   "metadata": {},
   "outputs": [],
   "source": [
    "# 삼성전자\n",
    "df1 = fdr.DataReader(\"005930\", '2021-01-02', '2021-01-06')\n",
    "\n",
    "# KODEX 200 (ETF)\n",
    "df2 = fdr.DataReader(\"069500\", '2021-01-02', '2021-01-06')"
   ]
  },
  {
   "cell_type": "code",
<<<<<<< HEAD
   "execution_count": 62,
=======
   "execution_count": 59,
>>>>>>> c8a6048a010ad4722aab3b08e5101acf3c8a82ca
   "metadata": {},
   "outputs": [
    {
     "data": {
      "text/html": [
       "<div>\n",
       "<style scoped>\n",
       "    .dataframe tbody tr th:only-of-type {\n",
       "        vertical-align: middle;\n",
       "    }\n",
       "\n",
       "    .dataframe tbody tr th {\n",
       "        vertical-align: top;\n",
       "    }\n",
       "\n",
       "    .dataframe thead th {\n",
       "        text-align: right;\n",
       "    }\n",
       "</style>\n",
       "<table border=\"1\" class=\"dataframe\">\n",
       "  <thead>\n",
       "    <tr style=\"text-align: right;\">\n",
       "      <th></th>\n",
       "      <th>Open</th>\n",
       "      <th>High</th>\n",
       "      <th>Low</th>\n",
       "      <th>Close</th>\n",
       "      <th>Volume</th>\n",
       "      <th>Change</th>\n",
       "    </tr>\n",
       "    <tr>\n",
       "      <th>Date</th>\n",
       "      <th></th>\n",
       "      <th></th>\n",
       "      <th></th>\n",
       "      <th></th>\n",
       "      <th></th>\n",
       "      <th></th>\n",
       "    </tr>\n",
       "  </thead>\n",
       "  <tbody>\n",
       "    <tr>\n",
       "      <th>2021-01-04</th>\n",
       "      <td>81000</td>\n",
       "      <td>84400</td>\n",
       "      <td>80200</td>\n",
       "      <td>83000</td>\n",
       "      <td>38655276</td>\n",
       "      <td>0.024691</td>\n",
       "    </tr>\n",
       "    <tr>\n",
       "      <th>2021-01-05</th>\n",
       "      <td>81600</td>\n",
       "      <td>83900</td>\n",
       "      <td>81600</td>\n",
       "      <td>83900</td>\n",
       "      <td>35335669</td>\n",
       "      <td>0.010843</td>\n",
       "    </tr>\n",
       "  </tbody>\n",
       "</table>\n",
       "</div>"
      ],
      "text/plain": [
       "             Open   High    Low  Close    Volume    Change\n",
       "Date                                                      \n",
       "2021-01-04  81000  84400  80200  83000  38655276  0.024691\n",
       "2021-01-05  81600  83900  81600  83900  35335669  0.010843"
      ]
     },
<<<<<<< HEAD
     "execution_count": 62,
=======
     "execution_count": 59,
>>>>>>> c8a6048a010ad4722aab3b08e5101acf3c8a82ca
     "metadata": {},
     "output_type": "execute_result"
    },
    {
     "data": {
      "text/html": [
       "<div>\n",
       "<style scoped>\n",
       "    .dataframe tbody tr th:only-of-type {\n",
       "        vertical-align: middle;\n",
       "    }\n",
       "\n",
       "    .dataframe tbody tr th {\n",
       "        vertical-align: top;\n",
       "    }\n",
       "\n",
       "    .dataframe thead th {\n",
       "        text-align: right;\n",
       "    }\n",
       "</style>\n",
       "<table border=\"1\" class=\"dataframe\">\n",
       "  <thead>\n",
       "    <tr style=\"text-align: right;\">\n",
       "      <th></th>\n",
       "      <th>Open</th>\n",
       "      <th>High</th>\n",
       "      <th>Low</th>\n",
       "      <th>Close</th>\n",
       "      <th>Volume</th>\n",
       "      <th>Change</th>\n",
       "    </tr>\n",
       "    <tr>\n",
       "      <th>Date</th>\n",
       "      <th></th>\n",
       "      <th></th>\n",
       "      <th></th>\n",
       "      <th></th>\n",
       "      <th></th>\n",
       "      <th></th>\n",
       "    </tr>\n",
       "  </thead>\n",
       "  <tbody>\n",
       "    <tr>\n",
       "      <th>2021-01-05</th>\n",
       "      <td>81600</td>\n",
       "      <td>83900</td>\n",
       "      <td>81600</td>\n",
       "      <td>83900</td>\n",
       "      <td>35335669</td>\n",
       "      <td>0.010843</td>\n",
       "    </tr>\n",
       "    <tr>\n",
       "      <th>2021-01-06</th>\n",
       "      <td>83300</td>\n",
       "      <td>84500</td>\n",
       "      <td>82100</td>\n",
       "      <td>82200</td>\n",
       "      <td>42089013</td>\n",
       "      <td>-0.020262</td>\n",
       "    </tr>\n",
       "  </tbody>\n",
       "</table>\n",
       "</div>"
      ],
      "text/plain": [
       "             Open   High    Low  Close    Volume    Change\n",
       "Date                                                      \n",
       "2021-01-05  81600  83900  81600  83900  35335669  0.010843\n",
       "2021-01-06  83300  84500  82100  82200  42089013 -0.020262"
      ]
     },
<<<<<<< HEAD
     "execution_count": 62,
=======
     "execution_count": 59,
>>>>>>> c8a6048a010ad4722aab3b08e5101acf3c8a82ca
     "metadata": {},
     "output_type": "execute_result"
    }
   ],
   "source": [
    "df1.head(2)\n",
    "df1.tail(2)"
   ]
  },
  {
   "cell_type": "code",
<<<<<<< HEAD
   "execution_count": 63,
=======
   "execution_count": 60,
>>>>>>> c8a6048a010ad4722aab3b08e5101acf3c8a82ca
   "metadata": {},
   "outputs": [
    {
     "data": {
      "text/html": [
       "<div>\n",
       "<style scoped>\n",
       "    .dataframe tbody tr th:only-of-type {\n",
       "        vertical-align: middle;\n",
       "    }\n",
       "\n",
       "    .dataframe tbody tr th {\n",
       "        vertical-align: top;\n",
       "    }\n",
       "\n",
       "    .dataframe thead th {\n",
       "        text-align: right;\n",
       "    }\n",
       "</style>\n",
       "<table border=\"1\" class=\"dataframe\">\n",
       "  <thead>\n",
       "    <tr style=\"text-align: right;\">\n",
       "      <th></th>\n",
       "      <th>Open</th>\n",
       "      <th>High</th>\n",
       "      <th>Low</th>\n",
       "      <th>Close</th>\n",
       "      <th>Volume</th>\n",
       "      <th>Change</th>\n",
       "    </tr>\n",
       "    <tr>\n",
       "      <th>Date</th>\n",
       "      <th></th>\n",
       "      <th></th>\n",
       "      <th></th>\n",
       "      <th></th>\n",
       "      <th></th>\n",
       "      <th></th>\n",
       "    </tr>\n",
       "  </thead>\n",
       "  <tbody>\n",
       "    <tr>\n",
<<<<<<< HEAD
       "      <td>2021-01-04</td>\n",
=======
       "      <th>2021-01-04</th>\n",
>>>>>>> c8a6048a010ad4722aab3b08e5101acf3c8a82ca
       "      <td>38793</td>\n",
       "      <td>39802</td>\n",
       "      <td>38618</td>\n",
       "      <td>39732</td>\n",
       "      <td>12433230</td>\n",
       "      <td>0.026348</td>\n",
       "    </tr>\n",
       "    <tr>\n",
<<<<<<< HEAD
       "      <td>2021-01-05</td>\n",
=======
       "      <th>2021-01-05</th>\n",
>>>>>>> c8a6048a010ad4722aab3b08e5101acf3c8a82ca
       "      <td>39520</td>\n",
       "      <td>40328</td>\n",
       "      <td>39397</td>\n",
       "      <td>40329</td>\n",
       "      <td>9312423</td>\n",
       "      <td>0.015026</td>\n",
       "    </tr>\n",
       "  </tbody>\n",
       "</table>\n",
       "</div>"
      ],
      "text/plain": [
       "             Open   High    Low  Close    Volume    Change\n",
       "Date                                                      \n",
       "2021-01-04  38793  39802  38618  39732  12433230  0.026348\n",
       "2021-01-05  39520  40328  39397  40329   9312423  0.015026"
      ]
     },
<<<<<<< HEAD
     "execution_count": 63,
=======
     "execution_count": 60,
>>>>>>> c8a6048a010ad4722aab3b08e5101acf3c8a82ca
     "metadata": {},
     "output_type": "execute_result"
    },
    {
     "data": {
      "text/html": [
       "<div>\n",
       "<style scoped>\n",
       "    .dataframe tbody tr th:only-of-type {\n",
       "        vertical-align: middle;\n",
       "    }\n",
       "\n",
       "    .dataframe tbody tr th {\n",
       "        vertical-align: top;\n",
       "    }\n",
       "\n",
       "    .dataframe thead th {\n",
       "        text-align: right;\n",
       "    }\n",
       "</style>\n",
       "<table border=\"1\" class=\"dataframe\">\n",
       "  <thead>\n",
       "    <tr style=\"text-align: right;\">\n",
       "      <th></th>\n",
       "      <th>Open</th>\n",
       "      <th>High</th>\n",
       "      <th>Low</th>\n",
       "      <th>Close</th>\n",
       "      <th>Volume</th>\n",
       "      <th>Change</th>\n",
       "    </tr>\n",
       "    <tr>\n",
       "      <th>Date</th>\n",
       "      <th></th>\n",
       "      <th></th>\n",
       "      <th></th>\n",
       "      <th></th>\n",
       "      <th></th>\n",
       "      <th></th>\n",
       "    </tr>\n",
       "  </thead>\n",
       "  <tbody>\n",
       "    <tr>\n",
<<<<<<< HEAD
       "      <td>2021-01-05</td>\n",
=======
       "      <th>2021-01-05</th>\n",
>>>>>>> c8a6048a010ad4722aab3b08e5101acf3c8a82ca
       "      <td>39520</td>\n",
       "      <td>40328</td>\n",
       "      <td>39397</td>\n",
       "      <td>40329</td>\n",
       "      <td>9312423</td>\n",
       "      <td>0.015026</td>\n",
       "    </tr>\n",
       "    <tr>\n",
<<<<<<< HEAD
       "      <td>2021-01-06</td>\n",
=======
       "      <th>2021-01-06</th>\n",
>>>>>>> c8a6048a010ad4722aab3b08e5101acf3c8a82ca
       "      <td>40445</td>\n",
       "      <td>40847</td>\n",
       "      <td>39783</td>\n",
       "      <td>39938</td>\n",
       "      <td>15531391</td>\n",
       "      <td>-0.009695</td>\n",
       "    </tr>\n",
       "  </tbody>\n",
       "</table>\n",
       "</div>"
      ],
      "text/plain": [
       "             Open   High    Low  Close    Volume    Change\n",
       "Date                                                      \n",
       "2021-01-05  39520  40328  39397  40329   9312423  0.015026\n",
       "2021-01-06  40445  40847  39783  39938  15531391 -0.009695"
      ]
     },
<<<<<<< HEAD
     "execution_count": 63,
=======
     "execution_count": 60,
>>>>>>> c8a6048a010ad4722aab3b08e5101acf3c8a82ca
     "metadata": {},
     "output_type": "execute_result"
    }
   ],
   "source": [
    "df2.head(2)\n",
    "df2.tail(2)"
   ]
  },
  {
   "cell_type": "code",
<<<<<<< HEAD
   "execution_count": 64,
=======
   "execution_count": 61,
>>>>>>> c8a6048a010ad4722aab3b08e5101acf3c8a82ca
   "metadata": {},
   "outputs": [],
   "source": [
    "# 삼성전자\n",
    "df1 = fdr.DataReader(\"005930\", '2018-01-02', '2018-10-30')\n",
    "\n",
    "# KODEX 200 (ETF)\n",
    "df2 = fdr.DataReader(\"069500\", '2018-01-02', '2018-10-30')"
   ]
  },
  {
   "cell_type": "code",
<<<<<<< HEAD
   "execution_count": 65,
=======
   "execution_count": 62,
>>>>>>> c8a6048a010ad4722aab3b08e5101acf3c8a82ca
   "metadata": {},
   "outputs": [
    {
     "data": {
      "text/plain": [
       "(202, 6)"
      ]
     },
<<<<<<< HEAD
     "execution_count": 65,
=======
     "execution_count": 62,
>>>>>>> c8a6048a010ad4722aab3b08e5101acf3c8a82ca
     "metadata": {},
     "output_type": "execute_result"
    },
    {
     "data": {
      "text/plain": [
       "(202, 6)"
      ]
     },
<<<<<<< HEAD
     "execution_count": 65,
=======
     "execution_count": 62,
>>>>>>> c8a6048a010ad4722aab3b08e5101acf3c8a82ca
     "metadata": {},
     "output_type": "execute_result"
    }
   ],
   "source": [
    "df1.shape\n",
    "df2.shape"
   ]
  },
  {
   "cell_type": "code",
<<<<<<< HEAD
   "execution_count": 66,
=======
   "execution_count": 63,
>>>>>>> c8a6048a010ad4722aab3b08e5101acf3c8a82ca
   "metadata": {},
   "outputs": [
    {
     "data": {
      "text/html": [
       "<div>\n",
       "<style scoped>\n",
       "    .dataframe tbody tr th:only-of-type {\n",
       "        vertical-align: middle;\n",
       "    }\n",
       "\n",
       "    .dataframe tbody tr th {\n",
       "        vertical-align: top;\n",
       "    }\n",
       "\n",
       "    .dataframe thead th {\n",
       "        text-align: right;\n",
       "    }\n",
       "</style>\n",
       "<table border=\"1\" class=\"dataframe\">\n",
       "  <thead>\n",
       "    <tr style=\"text-align: right;\">\n",
       "      <th></th>\n",
       "      <th>Open</th>\n",
       "      <th>High</th>\n",
       "      <th>Low</th>\n",
       "      <th>Close</th>\n",
       "      <th>Volume</th>\n",
       "      <th>Change</th>\n",
       "    </tr>\n",
       "    <tr>\n",
       "      <th>Date</th>\n",
       "      <th></th>\n",
       "      <th></th>\n",
       "      <th></th>\n",
       "      <th></th>\n",
       "      <th></th>\n",
       "      <th></th>\n",
       "    </tr>\n",
       "  </thead>\n",
       "  <tbody>\n",
       "    <tr>\n",
<<<<<<< HEAD
       "      <td>2018-01-02</td>\n",
=======
       "      <th>2018-01-02</th>\n",
>>>>>>> c8a6048a010ad4722aab3b08e5101acf3c8a82ca
       "      <td>30295</td>\n",
       "      <td>30384</td>\n",
       "      <td>30200</td>\n",
       "      <td>30317</td>\n",
       "      <td>5008027</td>\n",
       "      <td>0.004406</td>\n",
       "    </tr>\n",
       "    <tr>\n",
<<<<<<< HEAD
       "      <td>2018-01-04</td>\n",
=======
       "      <th>2018-01-04</th>\n",
>>>>>>> c8a6048a010ad4722aab3b08e5101acf3c8a82ca
       "      <td>30618</td>\n",
       "      <td>30633</td>\n",
       "      <td>30195</td>\n",
       "      <td>30206</td>\n",
       "      <td>8899496</td>\n",
       "      <td>-0.007883</td>\n",
       "    </tr>\n",
       "    <tr>\n",
<<<<<<< HEAD
       "      <td>2018-01-05</td>\n",
=======
       "      <th>2018-01-05</th>\n",
>>>>>>> c8a6048a010ad4722aab3b08e5101acf3c8a82ca
       "      <td>30282</td>\n",
       "      <td>30609</td>\n",
       "      <td>30282</td>\n",
       "      <td>30616</td>\n",
       "      <td>8108218</td>\n",
       "      <td>0.013573</td>\n",
       "    </tr>\n",
       "    <tr>\n",
<<<<<<< HEAD
       "      <td>2018-01-08</td>\n",
=======
       "      <th>2018-01-08</th>\n",
>>>>>>> c8a6048a010ad4722aab3b08e5101acf3c8a82ca
       "      <td>30738</td>\n",
       "      <td>30866</td>\n",
       "      <td>30568</td>\n",
       "      <td>30822</td>\n",
       "      <td>8010076</td>\n",
       "      <td>0.006729</td>\n",
       "    </tr>\n",
       "    <tr>\n",
<<<<<<< HEAD
       "      <td>2018-01-09</td>\n",
=======
       "      <th>2018-01-09</th>\n",
>>>>>>> c8a6048a010ad4722aab3b08e5101acf3c8a82ca
       "      <td>30729</td>\n",
       "      <td>30949</td>\n",
       "      <td>30563</td>\n",
       "      <td>30700</td>\n",
       "      <td>7957288</td>\n",
       "      <td>-0.003958</td>\n",
       "    </tr>\n",
       "  </tbody>\n",
       "</table>\n",
       "</div>"
      ],
      "text/plain": [
       "             Open   High    Low  Close   Volume    Change\n",
       "Date                                                     \n",
       "2018-01-02  30295  30384  30200  30317  5008027  0.004406\n",
       "2018-01-04  30618  30633  30195  30206  8899496 -0.007883\n",
       "2018-01-05  30282  30609  30282  30616  8108218  0.013573\n",
       "2018-01-08  30738  30866  30568  30822  8010076  0.006729\n",
       "2018-01-09  30729  30949  30563  30700  7957288 -0.003958"
      ]
     },
<<<<<<< HEAD
     "execution_count": 66,
=======
     "execution_count": 63,
>>>>>>> c8a6048a010ad4722aab3b08e5101acf3c8a82ca
     "metadata": {},
     "output_type": "execute_result"
    }
   ],
   "source": [
    "df2 = df2.drop(pd.to_datetime(\"2018-01-03\"))\n",
    "df2.head()"
   ]
  },
  {
   "cell_type": "code",
<<<<<<< HEAD
   "execution_count": 67,
=======
   "execution_count": 64,
>>>>>>> c8a6048a010ad4722aab3b08e5101acf3c8a82ca
   "metadata": {},
   "outputs": [
    {
     "data": {
      "text/html": [
       "<div>\n",
       "<style scoped>\n",
       "    .dataframe tbody tr th:only-of-type {\n",
       "        vertical-align: middle;\n",
       "    }\n",
       "\n",
       "    .dataframe tbody tr th {\n",
       "        vertical-align: top;\n",
       "    }\n",
       "\n",
       "    .dataframe thead th {\n",
       "        text-align: right;\n",
       "    }\n",
       "</style>\n",
       "<table border=\"1\" class=\"dataframe\">\n",
       "  <thead>\n",
       "    <tr style=\"text-align: right;\">\n",
       "      <th></th>\n",
       "      <th>Open</th>\n",
       "      <th>High</th>\n",
       "      <th>Low</th>\n",
       "      <th>Close</th>\n",
       "      <th>Volume</th>\n",
       "      <th>Change</th>\n",
       "    </tr>\n",
       "    <tr>\n",
       "      <th>Date</th>\n",
       "      <th></th>\n",
       "      <th></th>\n",
       "      <th></th>\n",
       "      <th></th>\n",
       "      <th></th>\n",
       "      <th></th>\n",
       "    </tr>\n",
       "  </thead>\n",
       "  <tbody>\n",
       "    <tr>\n",
       "      <th>2018-01-02</th>\n",
       "      <td>51380</td>\n",
       "      <td>51400</td>\n",
       "      <td>50780</td>\n",
       "      <td>51020</td>\n",
       "      <td>169485</td>\n",
       "      <td>0.001177</td>\n",
       "    </tr>\n",
       "    <tr>\n",
       "      <th>2018-01-03</th>\n",
       "      <td>52540</td>\n",
       "      <td>52560</td>\n",
       "      <td>51420</td>\n",
       "      <td>51620</td>\n",
       "      <td>200270</td>\n",
       "      <td>0.011760</td>\n",
       "    </tr>\n",
       "    <tr>\n",
       "      <th>2018-01-04</th>\n",
       "      <td>52120</td>\n",
       "      <td>52180</td>\n",
       "      <td>50640</td>\n",
       "      <td>51080</td>\n",
       "      <td>233909</td>\n",
       "      <td>-0.010461</td>\n",
       "    </tr>\n",
       "    <tr>\n",
       "      <th>2018-01-05</th>\n",
       "      <td>51300</td>\n",
       "      <td>52120</td>\n",
       "      <td>51200</td>\n",
       "      <td>52120</td>\n",
       "      <td>189623</td>\n",
       "      <td>0.020360</td>\n",
       "    </tr>\n",
       "    <tr>\n",
       "      <th>2018-01-08</th>\n",
       "      <td>52400</td>\n",
       "      <td>52520</td>\n",
       "      <td>51500</td>\n",
       "      <td>52020</td>\n",
       "      <td>167673</td>\n",
       "      <td>-0.001919</td>\n",
       "    </tr>\n",
       "  </tbody>\n",
       "</table>\n",
       "</div>"
      ],
      "text/plain": [
       "             Open   High    Low  Close  Volume    Change\n",
       "Date                                                    \n",
       "2018-01-02  51380  51400  50780  51020  169485  0.001177\n",
       "2018-01-03  52540  52560  51420  51620  200270  0.011760\n",
       "2018-01-04  52120  52180  50640  51080  233909 -0.010461\n",
       "2018-01-05  51300  52120  51200  52120  189623  0.020360\n",
       "2018-01-08  52400  52520  51500  52020  167673 -0.001919"
      ]
     },
<<<<<<< HEAD
     "execution_count": 67,
=======
     "execution_count": 64,
>>>>>>> c8a6048a010ad4722aab3b08e5101acf3c8a82ca
     "metadata": {},
     "output_type": "execute_result"
    }
   ],
   "source": [
    "df1.head()"
   ]
  },
  {
   "cell_type": "code",
<<<<<<< HEAD
   "execution_count": 68,
=======
   "execution_count": 65,
>>>>>>> c8a6048a010ad4722aab3b08e5101acf3c8a82ca
   "metadata": {},
   "outputs": [
    {
     "data": {
      "text/html": [
       "<div>\n",
       "<style scoped>\n",
       "    .dataframe tbody tr th:only-of-type {\n",
       "        vertical-align: middle;\n",
       "    }\n",
       "\n",
       "    .dataframe tbody tr th {\n",
       "        vertical-align: top;\n",
       "    }\n",
       "\n",
       "    .dataframe thead th {\n",
       "        text-align: right;\n",
       "    }\n",
       "</style>\n",
       "<table border=\"1\" class=\"dataframe\">\n",
       "  <thead>\n",
       "    <tr style=\"text-align: right;\">\n",
       "      <th></th>\n",
       "      <th>Open</th>\n",
       "      <th>High</th>\n",
       "      <th>Low</th>\n",
       "      <th>Close</th>\n",
       "      <th>Volume</th>\n",
       "      <th>Change</th>\n",
       "    </tr>\n",
       "    <tr>\n",
       "      <th>Date</th>\n",
       "      <th></th>\n",
       "      <th></th>\n",
       "      <th></th>\n",
       "      <th></th>\n",
       "      <th></th>\n",
       "      <th></th>\n",
       "    </tr>\n",
       "  </thead>\n",
       "  <tbody>\n",
       "    <tr>\n",
<<<<<<< HEAD
       "      <td>2018-01-02</td>\n",
=======
       "      <th>2018-01-02</th>\n",
>>>>>>> c8a6048a010ad4722aab3b08e5101acf3c8a82ca
       "      <td>30295.0</td>\n",
       "      <td>30384.0</td>\n",
       "      <td>30200.0</td>\n",
       "      <td>30317.0</td>\n",
       "      <td>5008027.0</td>\n",
       "      <td>0.004406</td>\n",
       "    </tr>\n",
       "    <tr>\n",
       "      <th>2018-01-03</th>\n",
       "      <td>NaN</td>\n",
       "      <td>NaN</td>\n",
       "      <td>NaN</td>\n",
       "      <td>NaN</td>\n",
       "      <td>NaN</td>\n",
       "      <td>NaN</td>\n",
       "    </tr>\n",
       "    <tr>\n",
<<<<<<< HEAD
       "      <td>2018-01-04</td>\n",
=======
       "      <th>2018-01-04</th>\n",
>>>>>>> c8a6048a010ad4722aab3b08e5101acf3c8a82ca
       "      <td>30618.0</td>\n",
       "      <td>30633.0</td>\n",
       "      <td>30195.0</td>\n",
       "      <td>30206.0</td>\n",
       "      <td>8899496.0</td>\n",
       "      <td>-0.007883</td>\n",
       "    </tr>\n",
       "    <tr>\n",
<<<<<<< HEAD
       "      <td>2018-01-05</td>\n",
=======
       "      <th>2018-01-05</th>\n",
>>>>>>> c8a6048a010ad4722aab3b08e5101acf3c8a82ca
       "      <td>30282.0</td>\n",
       "      <td>30609.0</td>\n",
       "      <td>30282.0</td>\n",
       "      <td>30616.0</td>\n",
       "      <td>8108218.0</td>\n",
       "      <td>0.013573</td>\n",
       "    </tr>\n",
       "    <tr>\n",
<<<<<<< HEAD
       "      <td>2018-01-08</td>\n",
=======
       "      <th>2018-01-08</th>\n",
>>>>>>> c8a6048a010ad4722aab3b08e5101acf3c8a82ca
       "      <td>30738.0</td>\n",
       "      <td>30866.0</td>\n",
       "      <td>30568.0</td>\n",
       "      <td>30822.0</td>\n",
       "      <td>8010076.0</td>\n",
       "      <td>0.006729</td>\n",
       "    </tr>\n",
       "  </tbody>\n",
       "</table>\n",
       "</div>"
      ],
      "text/plain": [
       "               Open     High      Low    Close     Volume    Change\n",
       "Date                                                               \n",
       "2018-01-02  30295.0  30384.0  30200.0  30317.0  5008027.0  0.004406\n",
       "2018-01-03      NaN      NaN      NaN      NaN        NaN       NaN\n",
       "2018-01-04  30618.0  30633.0  30195.0  30206.0  8899496.0 -0.007883\n",
       "2018-01-05  30282.0  30609.0  30282.0  30616.0  8108218.0  0.013573\n",
       "2018-01-08  30738.0  30866.0  30568.0  30822.0  8010076.0  0.006729"
      ]
     },
<<<<<<< HEAD
     "execution_count": 68,
=======
     "execution_count": 65,
>>>>>>> c8a6048a010ad4722aab3b08e5101acf3c8a82ca
     "metadata": {},
     "output_type": "execute_result"
    }
   ],
   "source": [
    "new_df2 = df2.reindex(df1.index)\n",
    "new_df2.head()"
   ]
  },
  {
   "cell_type": "code",
<<<<<<< HEAD
   "execution_count": 69,
=======
   "execution_count": 66,
>>>>>>> c8a6048a010ad4722aab3b08e5101acf3c8a82ca
   "metadata": {},
   "outputs": [
    {
     "data": {
      "text/plain": [
       "(202, 6)"
      ]
     },
<<<<<<< HEAD
     "execution_count": 69,
=======
     "execution_count": 66,
>>>>>>> c8a6048a010ad4722aab3b08e5101acf3c8a82ca
     "metadata": {},
     "output_type": "execute_result"
    },
    {
     "data": {
      "text/plain": [
       "(202, 6)"
      ]
     },
<<<<<<< HEAD
     "execution_count": 69,
=======
     "execution_count": 66,
>>>>>>> c8a6048a010ad4722aab3b08e5101acf3c8a82ca
     "metadata": {},
     "output_type": "execute_result"
    }
   ],
   "source": [
    "df1.shape\n",
    "new_df2.shape"
   ]
  },
  {
   "cell_type": "code",
<<<<<<< HEAD
   "execution_count": 70,
=======
   "execution_count": 67,
>>>>>>> c8a6048a010ad4722aab3b08e5101acf3c8a82ca
   "metadata": {},
   "outputs": [
    {
     "data": {
      "text/html": [
       "<div>\n",
       "<style scoped>\n",
       "    .dataframe tbody tr th:only-of-type {\n",
       "        vertical-align: middle;\n",
       "    }\n",
       "\n",
       "    .dataframe tbody tr th {\n",
       "        vertical-align: top;\n",
       "    }\n",
       "\n",
       "    .dataframe thead th {\n",
       "        text-align: right;\n",
       "    }\n",
       "</style>\n",
       "<table border=\"1\" class=\"dataframe\">\n",
       "  <thead>\n",
       "    <tr style=\"text-align: right;\">\n",
       "      <th></th>\n",
       "      <th>Open</th>\n",
       "      <th>High</th>\n",
       "      <th>Low</th>\n",
       "      <th>Close</th>\n",
       "      <th>Volume</th>\n",
       "      <th>Change</th>\n",
       "    </tr>\n",
       "    <tr>\n",
       "      <th>Date</th>\n",
       "      <th></th>\n",
       "      <th></th>\n",
       "      <th></th>\n",
       "      <th></th>\n",
       "      <th></th>\n",
       "      <th></th>\n",
       "    </tr>\n",
       "  </thead>\n",
       "  <tbody>\n",
       "    <tr>\n",
<<<<<<< HEAD
       "      <td>2018-01-02</td>\n",
=======
       "      <th>2018-01-02</th>\n",
>>>>>>> c8a6048a010ad4722aab3b08e5101acf3c8a82ca
       "      <td>30295.0</td>\n",
       "      <td>30384.0</td>\n",
       "      <td>30200.0</td>\n",
       "      <td>30317.0</td>\n",
       "      <td>5008027.0</td>\n",
       "      <td>0.004406</td>\n",
       "    </tr>\n",
       "    <tr>\n",
<<<<<<< HEAD
       "      <td>2018-01-03</td>\n",
=======
       "      <th>2018-01-03</th>\n",
>>>>>>> c8a6048a010ad4722aab3b08e5101acf3c8a82ca
       "      <td>30295.0</td>\n",
       "      <td>30384.0</td>\n",
       "      <td>30200.0</td>\n",
       "      <td>30317.0</td>\n",
       "      <td>5008027.0</td>\n",
       "      <td>0.004406</td>\n",
       "    </tr>\n",
       "    <tr>\n",
<<<<<<< HEAD
       "      <td>2018-01-04</td>\n",
=======
       "      <th>2018-01-04</th>\n",
>>>>>>> c8a6048a010ad4722aab3b08e5101acf3c8a82ca
       "      <td>30618.0</td>\n",
       "      <td>30633.0</td>\n",
       "      <td>30195.0</td>\n",
       "      <td>30206.0</td>\n",
       "      <td>8899496.0</td>\n",
       "      <td>-0.007883</td>\n",
       "    </tr>\n",
       "    <tr>\n",
<<<<<<< HEAD
       "      <td>2018-01-05</td>\n",
=======
       "      <th>2018-01-05</th>\n",
>>>>>>> c8a6048a010ad4722aab3b08e5101acf3c8a82ca
       "      <td>30282.0</td>\n",
       "      <td>30609.0</td>\n",
       "      <td>30282.0</td>\n",
       "      <td>30616.0</td>\n",
       "      <td>8108218.0</td>\n",
       "      <td>0.013573</td>\n",
       "    </tr>\n",
       "    <tr>\n",
<<<<<<< HEAD
       "      <td>2018-01-08</td>\n",
=======
       "      <th>2018-01-08</th>\n",
>>>>>>> c8a6048a010ad4722aab3b08e5101acf3c8a82ca
       "      <td>30738.0</td>\n",
       "      <td>30866.0</td>\n",
       "      <td>30568.0</td>\n",
       "      <td>30822.0</td>\n",
       "      <td>8010076.0</td>\n",
       "      <td>0.006729</td>\n",
       "    </tr>\n",
       "    <tr>\n",
       "      <th>...</th>\n",
       "      <td>...</td>\n",
       "      <td>...</td>\n",
       "      <td>...</td>\n",
       "      <td>...</td>\n",
       "      <td>...</td>\n",
       "      <td>...</td>\n",
<<<<<<< HEAD
       "      <td>...</td>\n",
       "    </tr>\n",
       "    <tr>\n",
       "      <td>2018-10-24</td>\n",
       "      <td>25765.0</td>\n",
       "      <td>25787.0</td>\n",
       "      <td>25457.0</td>\n",
       "      <td>25504.0</td>\n",
       "      <td>12077177.0</td>\n",
       "      <td>-0.005149</td>\n",
       "    </tr>\n",
       "    <tr>\n",
       "      <td>2018-10-25</td>\n",
=======
       "    </tr>\n",
       "    <tr>\n",
       "      <th>2018-10-24</th>\n",
       "      <td>25765.0</td>\n",
       "      <td>25787.0</td>\n",
       "      <td>25457.0</td>\n",
       "      <td>25504.0</td>\n",
       "      <td>12077177.0</td>\n",
       "      <td>-0.005149</td>\n",
       "    </tr>\n",
       "    <tr>\n",
       "      <th>2018-10-25</th>\n",
>>>>>>> c8a6048a010ad4722aab3b08e5101acf3c8a82ca
       "      <td>24971.0</td>\n",
       "      <td>25107.0</td>\n",
       "      <td>24730.0</td>\n",
       "      <td>25097.0</td>\n",
       "      <td>11660441.0</td>\n",
       "      <td>-0.015958</td>\n",
       "    </tr>\n",
       "    <tr>\n",
<<<<<<< HEAD
       "      <td>2018-10-26</td>\n",
=======
       "      <th>2018-10-26</th>\n",
>>>>>>> c8a6048a010ad4722aab3b08e5101acf3c8a82ca
       "      <td>25121.0</td>\n",
       "      <td>25126.0</td>\n",
       "      <td>24474.0</td>\n",
       "      <td>24699.0</td>\n",
       "      <td>8216927.0</td>\n",
       "      <td>-0.015858</td>\n",
       "    </tr>\n",
       "    <tr>\n",
<<<<<<< HEAD
       "      <td>2018-10-29</td>\n",
=======
       "      <th>2018-10-29</th>\n",
>>>>>>> c8a6048a010ad4722aab3b08e5101acf3c8a82ca
       "      <td>24783.0</td>\n",
       "      <td>24947.0</td>\n",
       "      <td>24451.0</td>\n",
       "      <td>24499.0</td>\n",
       "      <td>5292654.0</td>\n",
       "      <td>-0.008097</td>\n",
       "    </tr>\n",
       "    <tr>\n",
<<<<<<< HEAD
       "      <td>2018-10-30</td>\n",
=======
       "      <th>2018-10-30</th>\n",
>>>>>>> c8a6048a010ad4722aab3b08e5101acf3c8a82ca
       "      <td>24465.0</td>\n",
       "      <td>24888.0</td>\n",
       "      <td>24376.0</td>\n",
       "      <td>24668.0</td>\n",
       "      <td>7997606.0</td>\n",
       "      <td>0.006898</td>\n",
       "    </tr>\n",
       "  </tbody>\n",
       "</table>\n",
       "<p>202 rows × 6 columns</p>\n",
       "</div>"
      ],
      "text/plain": [
       "               Open     High      Low    Close      Volume    Change\n",
       "Date                                                                \n",
       "2018-01-02  30295.0  30384.0  30200.0  30317.0   5008027.0  0.004406\n",
       "2018-01-03  30295.0  30384.0  30200.0  30317.0   5008027.0  0.004406\n",
       "2018-01-04  30618.0  30633.0  30195.0  30206.0   8899496.0 -0.007883\n",
       "2018-01-05  30282.0  30609.0  30282.0  30616.0   8108218.0  0.013573\n",
       "2018-01-08  30738.0  30866.0  30568.0  30822.0   8010076.0  0.006729\n",
       "...             ...      ...      ...      ...         ...       ...\n",
       "2018-10-24  25765.0  25787.0  25457.0  25504.0  12077177.0 -0.005149\n",
       "2018-10-25  24971.0  25107.0  24730.0  25097.0  11660441.0 -0.015958\n",
       "2018-10-26  25121.0  25126.0  24474.0  24699.0   8216927.0 -0.015858\n",
       "2018-10-29  24783.0  24947.0  24451.0  24499.0   5292654.0 -0.008097\n",
       "2018-10-30  24465.0  24888.0  24376.0  24668.0   7997606.0  0.006898\n",
       "\n",
       "[202 rows x 6 columns]"
      ]
     },
<<<<<<< HEAD
     "execution_count": 70,
=======
     "execution_count": 67,
>>>>>>> c8a6048a010ad4722aab3b08e5101acf3c8a82ca
     "metadata": {},
     "output_type": "execute_result"
    }
   ],
   "source": [
    "new_df2.fillna(method=\"ffill\") "
   ]
  },
  {
   "cell_type": "code",
   "execution_count": null,
   "metadata": {},
   "outputs": [],
   "source": []
  }
 ],
 "metadata": {
  "interpreter": {
   "hash": "cc07735d28a0d4da7c204b7621a4e8051814cf7e137f5c0f118b7d9ce33f12a9"
  },
  "kernelspec": {
   "display_name": "Python 3.7.8rc1 64-bit",
   "name": "python3"
  },
  "language_info": {
   "codemirror_mode": {
    "name": "ipython",
    "version": 3
   },
   "file_extension": ".py",
   "mimetype": "text/x-python",
   "name": "python",
   "nbconvert_exporter": "python",
   "pygments_lexer": "ipython3",
<<<<<<< HEAD
   "version": "3.7.8"
=======
   "version": "3.8.10"
>>>>>>> c8a6048a010ad4722aab3b08e5101acf3c8a82ca
  },
  "toc": {
   "base_numbering": 1,
   "nav_menu": {},
   "number_sections": true,
   "sideBar": true,
   "skip_h1_title": false,
   "title_cell": "Table of Contents",
   "title_sidebar": "Contents",
   "toc_cell": false,
   "toc_position": {},
   "toc_section_display": true,
   "toc_window_display": false
  },
  "toc-autonumbering": true
 },
 "nbformat": 4,
 "nbformat_minor": 4
}
