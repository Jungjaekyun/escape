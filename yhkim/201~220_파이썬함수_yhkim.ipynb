{
 "cells": [
  {
   "cell_type": "markdown",
   "metadata": {},
   "source": [
    "#### 함수란 자주 사용하는 코드에 대한 이름표입니다. 변수가 어떤 값을 바인딩하는 것처럼 함수는 어떤 코드를 바인딩합니다."
   ]
  },
  {
   "cell_type": "code",
   "execution_count": null,
   "metadata": {},
   "outputs": [],
   "source": [
    "#201~203\n",
    "\n",
    "def print_coin() :\n",
    "    print(\"비트코인\")\n",
    "\n",
    "#print_coin(100) # print_coin() takes 0 positional arguments but 1 was given\n",
    "#print_coin() * 100 # unsupported operand type(s) for *: 'NoneType' and 'int'\n",
    "for i in range(100) :\n",
    "    print_coin()"
   ]
  },
  {
   "cell_type": "code",
   "execution_count": 4,
   "metadata": {},
   "outputs": [],
   "source": [
    "# 204\n",
    "def print_coins() :\n",
    "    for i in range(100) :\n",
    "        print(\"비트코인\")"
   ]
  },
  {
   "cell_type": "code",
   "execution_count": 6,
   "metadata": {},
   "outputs": [
    {
     "name": "stdout",
     "output_type": "stream",
     "text": [
      "안녕\n",
      "Hi\n"
     ]
    }
   ],
   "source": [
    "# 211\n",
    "def 함수(문자열) :\n",
    "    print(문자열)\n",
    "\n",
    "함수(\"안녕\")\n",
    "함수(\"Hi\")"
   ]
  },
  {
   "cell_type": "code",
   "execution_count": 5,
   "metadata": {},
   "outputs": [
    {
     "name": "stdout",
     "output_type": "stream",
     "text": [
      "7\n",
      "15\n"
     ]
    }
   ],
   "source": [
    "#212 \n",
    "def 함수(a, b) :\n",
    "    print(a + b)\n",
    "\n",
    "함수(3, 4)\n",
    "함수(7, 8)"
   ]
  },
  {
   "cell_type": "code",
   "execution_count": 25,
   "metadata": {},
   "outputs": [
    {
     "name": "stdout",
     "output_type": "stream",
     "text": [
      "Y:D\n"
     ]
    }
   ],
   "source": [
    "#215\n",
    "def print_with_smile() :           #내가 작성 FAIL\n",
    "    a= input(\"문자열:\")\n",
    "    print(a+\":D\")\n",
    "\n",
    "print_with_smile()"
   ]
  },
  {
   "cell_type": "code",
   "execution_count": 27,
   "metadata": {},
   "outputs": [
    {
     "name": "stdout",
     "output_type": "stream",
     "text": [
      "안녕하세요:D\n"
     ]
    }
   ],
   "source": [
    "#215~ 216\n",
    "def print_with_smile(string) :     # 정답\n",
    "    print(string + \":D\")\n",
    "\n",
    "print_with_smile(\"안녕하세요\")"
   ]
  },
  {
   "cell_type": "code",
   "execution_count": 28,
   "metadata": {},
   "outputs": [],
   "source": [
    "#217\n",
    "def print_upper_price(price) :\n",
    "    print(price * 1.3)\n"
   ]
  },
  {
   "cell_type": "code",
   "execution_count": 29,
   "metadata": {},
   "outputs": [],
   "source": [
    "#218\n",
    "def print_sum(a,b) :\n",
    "    print(a+b)"
   ]
  },
  {
   "cell_type": "code",
   "execution_count": 34,
   "metadata": {},
   "outputs": [
    {
     "name": "stdout",
     "output_type": "stream",
     "text": [
      "10\n"
     ]
    }
   ],
   "source": [
    "#220                           내가 작성 \n",
    "def print_max(a,b,c) :\n",
    "    if a > b :\n",
    "        if a > c :\n",
    "            print(a)\n",
    "        else :\n",
    "            print(c)\n",
    "    else:\n",
    "        if b > c :\n",
    "            print(b)\n",
    "        else :\n",
    "            print(c)\n",
    "print_max(10,10,10)"
   ]
  },
  {
   "cell_type": "code",
   "execution_count": 35,
   "metadata": {},
   "outputs": [
    {
     "name": "stdout",
     "output_type": "stream",
     "text": [
      "10\n"
     ]
    }
   ],
   "source": [
    "#220\n",
    "def print_max(a, b, c) :         # 정답\n",
    "    max_val = 0\n",
    "    if a > max_val :\n",
    "        max_val = a\n",
    "    if b > max_val :\n",
    "        max_val = b\n",
    "    if c > max_val :\n",
    "        max_val = c\n",
    "    print(max_val)\n",
    "\n",
    "print_max(10,10,10)"
   ]
  },
  {
   "cell_type": "code",
   "execution_count": 11,
   "metadata": {},
   "outputs": [],
   "source": [
    "from selenium import webdriver  # selenium 프레임 워크에서 webdriver 가져오기\n",
    "url = 'http://naver.com'        # 접속할 웹 사이트 주소 (네이버)\n",
    "driver = webdriver.Chrome('C:/Users/YHKIM/Downloads/chromedriver_win32/chromedriver.exe')  # 크롬 드라이버로 크롬 켜기\n",
    "driver.get(url)  \n",
    "\n"
   ]
  },
  {
   "cell_type": "code",
   "execution_count": 15,
   "metadata": {},
   "outputs": [],
   "source": [
    "driver = webdriver.Chrome('C:/Users/YHKIM/Downloads/chromedriver_win32/chromedriver.exe') "
   ]
  },
  {
   "cell_type": "code",
   "execution_count": 16,
   "metadata": {},
   "outputs": [],
   "source": [
    "driver.close() "
   ]
  }
 ],
 "metadata": {
  "interpreter": {
   "hash": "1e704d249feb3353f49391135330cd2e7502d93103c58f163d080ea11b99a8f2"
  },
  "kernelspec": {
   "display_name": "Python 3.6.8 64-bit",
   "name": "python3"
  },
  "language_info": {
   "codemirror_mode": {
    "name": "ipython",
    "version": 3
   },
   "file_extension": ".py",
   "mimetype": "text/x-python",
   "name": "python",
   "nbconvert_exporter": "python",
   "pygments_lexer": "ipython3",
   "version": "3.6.8"
  },
  "orig_nbformat": 4
 },
 "nbformat": 4,
 "nbformat_minor": 2
}
