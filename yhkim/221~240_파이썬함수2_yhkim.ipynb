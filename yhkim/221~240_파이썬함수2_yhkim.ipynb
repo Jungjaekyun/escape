{
 "cells": [
  {
   "cell_type": "code",
   "execution_count": null,
   "metadata": {},
   "outputs": [],
   "source": [
    "#221\n",
    "\n",
    "def print_reverse(string) :\n",
    "    #print(sting[-1:]) # FAIL name 'sting' is not defined\n",
    "    print(string[::-1]) # 정답\n",
    "print_reverse(\"python\")"
   ]
  },
  {
   "cell_type": "code",
   "execution_count": null,
   "metadata": {},
   "outputs": [],
   "source": [
    "def print_score(a,b,c) : # (a,b,c)로 기재하니 print_score() missing 2 required positional arguments: 'b' and 'c'\n",
    "    # print_score() takes 0 positional arguments but 1 was given\n",
    "    avg = (a+b+c) /3\n",
    "    print(avg)\n",
    "\n",
    "print_score(1,2,3)   # 리스트 형식이 아니게 됨"
   ]
  },
  {
   "cell_type": "code",
   "execution_count": null,
   "metadata": {},
   "outputs": [],
   "source": [
    "# 222\n",
    "\n",
    "def print_score(score_list) : \n",
    "    avg = sum(score_list)/len(score_list)\n",
    "    print(avg)\n",
    "\n",
    "print_score([1,2,3])"
   ]
  },
  {
   "cell_type": "code",
   "execution_count": null,
   "metadata": {},
   "outputs": [],
   "source": [
    "#223\n",
    "def print_even(a_list) :\n",
    "    for i in a_list :\n",
    "        if i % 2 == 0 :      #  a_list[i] 쓰지 않는 형식\n",
    "            print(i)\n",
    "\n",
    "\n",
    "print_even([1,3,2,10,12,11,15])\n"
   ]
  },
  {
   "cell_type": "code",
   "execution_count": null,
   "metadata": {},
   "outputs": [],
   "source": [
    "#224\n",
    "def print_keys(dic) :\n",
    "    for i in dic.keys() :   # 딕셔너리 형식을 아직 잘 모르겠다\n",
    "        print(i)\n",
    "\n",
    "print_keys({\"이름\":\"김말똥\", \"나이\":30,\"성별\":0})"
   ]
  },
  {
   "cell_type": "code",
   "execution_count": null,
   "metadata": {},
   "outputs": [],
   "source": [
    "#225\n",
    "my_dict = {\"10/26\" : [100, 130, 100, 100],\n",
    "           \"10/27\" : [10, 12, 10, 11]}\n",
    "\n",
    "def print_value_by_key(a_list, key) :\n",
    "    print(a_list[key])\n",
    "\n",
    "\n",
    "print_value_by_key(my_dict, \"10/26\")\n",
    "\n"
   ]
  },
  {
   "cell_type": "code",
   "execution_count": 77,
   "metadata": {},
   "outputs": [
    {
     "name": "stdout",
     "output_type": "stream",
     "text": [
      "아이앰어보\n",
      "이유아러걸\n",
      "\n"
     ]
    }
   ],
   "source": [
    "#226\n",
    "def print_5xn(string) :\n",
    "    print(string[0:5])\n",
    "    print(string[5:10])\n",
    "    print(string[10:15])\n",
    "\n",
    "print_5xn(\"아이앰어보이유아러걸\")"
   ]
  },
  {
   "cell_type": "code",
   "execution_count": 13,
   "metadata": {},
   "outputs": [
    {
     "name": "stdout",
     "output_type": "stream",
     "text": [
      "아이앰어보\n",
      "이앰어보이\n"
     ]
    }
   ],
   "source": [
    "#226\n",
    "def print_5xn(string) :\n",
    "    for i in range(int(len(string)/5)) :\n",
    "        print(string[i:i+5]) # string indices must be integers\n",
    "\n",
    "print_5xn(\"아이앰어보이유아러걸\")"
   ]
  },
  {
   "cell_type": "code",
   "execution_count": 1,
   "metadata": {},
   "outputs": [
    {
     "name": "stdout",
     "output_type": "stream",
     "text": [
      "아이엠어보\n",
      "이유알어걸\n",
      "\n"
     ]
    }
   ],
   "source": [
    "#226 정답\n",
    "def print_5xn(line):\n",
    "    chunk_num = int(len(line) / 5)\n",
    "    for x in range(chunk_num + 1) :\n",
    "        print(line[x * 5: x * 5 + 5])\n",
    "\n",
    "print_5xn(\"아이엠어보이유알어걸\")"
   ]
  },
  {
   "cell_type": "code",
   "execution_count": 4,
   "metadata": {},
   "outputs": [
    {
     "name": "stdout",
     "output_type": "stream",
     "text": [
      "아이엠\n",
      "어보이\n",
      "유아러\n",
      "걸\n"
     ]
    }
   ],
   "source": [
    "#227\n",
    "def printmxn(string, par) :\n",
    "    chunk_num = int(len(string) / par )\n",
    "    for i in range(chunk_num + 1) :\n",
    "        print(string[i*par:i*par+par])\n",
    "\n",
    "printmxn(\"아이엠어보이유아러걸\", 3)"
   ]
  },
  {
   "cell_type": "code",
   "execution_count": 10,
   "metadata": {},
   "outputs": [
    {
     "name": "stdout",
     "output_type": "stream",
     "text": [
      "2916666\n"
     ]
    }
   ],
   "source": [
    "#228\n",
    "def cal_monthly_salary(annual_salary) :\n",
    "    print(int(annual_salary / 12))\n",
    "\n",
    "cal_monthly_salary(35000000)"
   ]
  },
  {
   "cell_type": "code",
   "execution_count": 12,
   "metadata": {},
   "outputs": [
    {
     "name": "stdout",
     "output_type": "stream",
     "text": [
      "왼쪽: 100\n",
      "오른쪽: 200\n",
      "왼쪽: 200\n",
      "오른쪽: 100\n"
     ]
    }
   ],
   "source": [
    "#229~230\n",
    "def my_print (a, b) :\n",
    "    print(\"왼쪽:\", a)\n",
    "    print(\"오른쪽:\", b)\n",
    "\n",
    "my_print(a=100, b=200)   # 홀!! 이렇게 binding되는지는 몰랐네\n",
    "my_print(b=100, a=200)"
   ]
  },
  {
   "cell_type": "markdown",
   "metadata": {},
   "source": [
    "##함수 내부에서 사용한 변수는 함수 밖에서는 접근이 불가능합니다. (문법이 그래요) 함수 내부에서 계산한 값을 전달하기 위해서는 return을 사용해야 합니다."
   ]
  },
  {
   "cell_type": "code",
   "execution_count": 13,
   "metadata": {},
   "outputs": [
    {
     "name": "stdout",
     "output_type": "stream",
     "text": [
      "www.naver.com\n"
     ]
    }
   ],
   "source": [
    "#232\n",
    "def make_url(string) :\n",
    "    print(\"www.\"+string+\".com\") # 내가 작성\n",
    "\n",
    "make_url(\"naver\")"
   ]
  },
  {
   "cell_type": "code",
   "execution_count": 26,
   "metadata": {},
   "outputs": [
    {
     "data": {
      "text/plain": [
       "'www.naver.com'"
      ]
     },
     "execution_count": 26,
     "metadata": {},
     "output_type": "execute_result"
    }
   ],
   "source": [
    "#232\n",
    "def make_url(string) :\n",
    "    url = \"www.\"+string+\".com\"\n",
    "    return url \n",
    "\n",
    "make_url(\"naver\")\n"
   ]
  },
  {
   "cell_type": "code",
   "execution_count": 25,
   "metadata": {},
   "outputs": [
    {
     "data": {
      "text/plain": [
       "['a', 'b', 'c', 'd']"
      ]
     },
     "execution_count": 25,
     "metadata": {},
     "output_type": "execute_result"
    }
   ],
   "source": [
    "# 233\n",
    "def make_list(string) :\n",
    "    #for i in range int(len(string)) : # 이렇게 하면 매번 invalid systax뜨더라\n",
    "    my_list =[]\n",
    "    for i in string :\n",
    "        my_list.append(i)\n",
    "    return my_list\n",
    "\n",
    "make_list(\"abcd\")"
   ]
  },
  {
   "cell_type": "code",
   "execution_count": 37,
   "metadata": {},
   "outputs": [
    {
     "data": {
      "text/plain": [
       "[4, 6, 8]"
      ]
     },
     "execution_count": 37,
     "metadata": {},
     "output_type": "execute_result"
    }
   ],
   "source": [
    "#234\n",
    "def pickup_even(user_list):\n",
    "    answer_list = []\n",
    "    for i in user_list :\n",
    "        if i % 2 == 0 :\n",
    "            answer_list.append(i) #IndentationError: expected an indented block\n",
    "    return answer_list\n",
    "\n",
    "\n",
    "pickup_even([3, 4, 5, 6, 7, 8])"
   ]
  },
  {
   "cell_type": "code",
   "execution_count": 39,
   "metadata": {},
   "outputs": [
    {
     "data": {
      "text/plain": [
       "1234567"
      ]
     },
     "execution_count": 39,
     "metadata": {},
     "output_type": "execute_result"
    }
   ],
   "source": [
    "#235\n",
    "def convert_int(string) :\n",
    "    return int(string.replace(\",\", \"\"))\n",
    "\n",
    "\n",
    "convert_int(\"1,234,567\")\n"
   ]
  }
 ],
 "metadata": {
  "interpreter": {
   "hash": "1e704d249feb3353f49391135330cd2e7502d93103c58f163d080ea11b99a8f2"
  },
  "kernelspec": {
   "display_name": "Python 3.6.8 64-bit",
   "name": "python3"
  },
  "language_info": {
   "codemirror_mode": {
    "name": "ipython",
    "version": 3
   },
   "file_extension": ".py",
   "mimetype": "text/x-python",
   "name": "python",
   "nbconvert_exporter": "python",
   "pygments_lexer": "ipython3",
   "version": "3.6.8"
  },
  "orig_nbformat": 4
 },
 "nbformat": 4,
 "nbformat_minor": 2
}
