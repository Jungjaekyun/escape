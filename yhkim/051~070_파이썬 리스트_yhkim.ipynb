{
 "cells": [
  {
   "cell_type": "markdown",
   "source": [
    "## 051 리스트 생성\r\n",
    "##### 2016년 11월 영화 예매 순위 기준 top3는 다음과 같습니다. 영화 제목을 movie_rank 이름의 리스트에 저장해보세요. (순위 정보는 저장하지 않습니다.)\r\n",
    "\r\n",
    "## 052 리스트에 원소 추가\r\n"
   ],
   "metadata": {}
  },
  {
   "cell_type": "code",
   "execution_count": null,
   "source": [
    "movie_rank = [\"닥터스트레인지\", \"스플릿\", \"럭키\"]\r\n",
    "print(movie_rank)\r\n",
    "movie_rank.append(\"배트맨\") # movie_rank 리스트에 \"배트맨\"을 추가하라.\r\n",
    "print(movie_rank)"
   ],
   "outputs": [],
   "metadata": {}
  },
  {
   "cell_type": "markdown",
   "source": [
    "## 053 리스트의 insert(인덱스, 원소) 메서드\r\n",
    "##### movie_rank 리스트에는 아래와 같이 네 개의 영화 제목이 바인딩되어 있다. \"슈퍼맨\"을 \"닥터 스트레인지\"와 \"스플릿\" 사이에 추가하라.\r\n",
    "## 054 del\r\n",
    "##### movie_rank 리스트에서 '럭키'를 삭제하라."
   ],
   "metadata": {}
  },
  {
   "cell_type": "code",
   "execution_count": null,
   "source": [
    "movie_rank = [\"닥터스트레인지\", \"스플릿\", \"럭키\", \"배트맨\"]\r\n",
    "# movie_rank.append(\"슈퍼맨\": 3) # 오답\r\n",
    "movie_rank.insert(1,\"슈퍼맨\") # 정답 리스트의 insert(인덱스, 원소) 메서드\r\n",
    "print(movie_rank)\r\n",
    "movie_rank.remove(\"럭키\") # 돌아가긴 하다잉\r\n",
    "print(movie_rank)"
   ],
   "outputs": [],
   "metadata": {}
  },
  {
   "cell_type": "code",
   "execution_count": null,
   "source": [
    "movie_rank = ['닥터 스트레인지', '슈퍼맨', '스플릿', '럭키', '배트맨']\r\n",
    "del movie_rank[3] # 정답\r\n",
    "print(movie_rank)"
   ],
   "outputs": [],
   "metadata": {}
  },
  {
   "cell_type": "markdown",
   "source": [
    "#### 055 movie_rank 리스트에서 '스플릿' 과 '배트맨'을 를 삭제하라."
   ],
   "metadata": {}
  },
  {
   "cell_type": "code",
   "execution_count": null,
   "source": [
    "movie_rank = ['닥터 스트레인지', '슈퍼맨', '스플릿', '배트맨']\r\n",
    "del movie_rank[2:] # 돌아가긴 하다잉\r\n",
    "print(movie_rank)"
   ],
   "outputs": [],
   "metadata": {}
  },
  {
   "cell_type": "code",
   "execution_count": null,
   "source": [
    "# del을 이용하여 리스트에서 원소를 삭제할 수 있습니다. \r\n",
    "# 리스트에서 어떤 값을 삭제하면 남은 값들은 새로 인덱싱됩니다. \r\n",
    "# 따라서 여러 값을 삭제할 때는 어떤 값이 먼저 삭제된 후 \r\n",
    "# 남은 원소들에 대해서 순서를 새로 고려한 후 삭제해야 합니다.\r\n",
    "# 정답\r\n",
    "movie_rank = ['닥터 스트레인지', '슈퍼맨', '스플릿', '배트맨']\r\n",
    "del movie_rank[2]\r\n",
    "print(movie_rank)\r\n",
    "del movie_rank[2]\r\n",
    "print(movie_rank)\r\n"
   ],
   "outputs": [],
   "metadata": {}
  },
  {
   "cell_type": "markdown",
   "source": [
    "## 056 합집합\r\n",
    "##### lang1과 lang2 리스트가 있을 때 lang1과 lang2의 원소를 모두 갖고 있는 langs 리스트를 만들어라."
   ],
   "metadata": {}
  },
  {
   "cell_type": "code",
   "execution_count": null,
   "source": [
    "lang1 = [\"C\", \"C++\", \"JAVA\"]\r\n",
    "lang2 = [\"Python\", \"Go\", \"C#\"]\r\n",
    "result = lang1 + lang2\r\n",
    "print(result)\r\n"
   ],
   "outputs": [],
   "metadata": {}
  },
  {
   "cell_type": "markdown",
   "source": [
    "## 057\r\n",
    "##### 다음 리스트에서 최댓값과 최솟값을 출력하라. (힌트: min(), max() 함수 사용)"
   ],
   "metadata": {}
  },
  {
   "cell_type": "code",
   "execution_count": null,
   "source": [
    "nums = [1, 2, 3, 4, 5, 6, 7]\r\n",
    "print(\"최대값: \", max(nums), \"최소값: \", min(nums))\r\n"
   ],
   "outputs": [],
   "metadata": {}
  },
  {
   "cell_type": "markdown",
   "source": [
    "### 058 다음 리스트의 합을 출력하라.\r\n",
    "### 060 다음 리스트의 평균을 출력하라."
   ],
   "metadata": {}
  },
  {
   "cell_type": "code",
   "execution_count": null,
   "source": [
    "nums = [1, 2, 3, 4, 5]\r\n",
    "total = sum(nums)\r\n",
    "print(total)\r\n",
    "average = total / len(nums) # 정답\r\n",
    "print(average)"
   ],
   "outputs": [],
   "metadata": {}
  },
  {
   "cell_type": "markdown",
   "source": [
    "## 059\r\n",
    "#### 다음 리스트에 저장된 데이터의 개수를 화면에 구하하라."
   ],
   "metadata": {}
  },
  {
   "cell_type": "code",
   "execution_count": null,
   "source": [
    "cook = [\"피자\", \"김밥\", \"만두\", \"양념치킨\", \"족발\", \"피자\", \"김치만두\", \"쫄면\", \"소시지\", \"라면\", \"팥빙수\", \"김치전\"]\r\n",
    "print(len(cook))"
   ],
   "outputs": [],
   "metadata": {}
  },
  {
   "cell_type": "markdown",
   "source": [
    "## 061\r\n",
    "##### price 변수에는 날짜와 종가 정보가 저장돼 있다. 날짜 정보를 제외하고 가격 정보만을 출력하라. (힌트 : 슬라이싱)"
   ],
   "metadata": {}
  },
  {
   "cell_type": "code",
   "execution_count": null,
   "source": [
    "price = ['20180728', 100, 130, 140, 150, 160, 170]\r\n",
    "print(price[1:])"
   ],
   "outputs": [],
   "metadata": {}
  },
  {
   "cell_type": "markdown",
   "source": [
    "## 062 ~ 064\r\n",
    "#### 슬라이싱을 사용해서 홀수만 출력하라.\r\n",
    "#### 슬라이싱을 사용해서 짝수만 출력하라.\r\n",
    "#### 슬라이싱을 사용해서 리스트의 숫자를 역 방향으로 출력하라."
   ],
   "metadata": {}
  },
  {
   "cell_type": "code",
   "execution_count": null,
   "source": [
    "nums = [1, 2, 3, 4, 5, 6, 7, 8, 9, 10]\r\n",
    "print(nums[::2])\r\n",
    "print(nums[1::2])"
   ],
   "outputs": [],
   "metadata": {}
  },
  {
   "cell_type": "code",
   "execution_count": null,
   "source": [
    "nums = [1, 2, 3, 4, 5]\r\n",
    "print(nums[::-1])"
   ],
   "outputs": [],
   "metadata": {}
  },
  {
   "cell_type": "markdown",
   "source": [
    "## 065 interest 리스트에는 아래의 데이터가 바인딩되어 있다.\r\n",
    "##### interest 리스트를 사용하여 아래와 같이 화면에 출력하라. 삼성전자 Naver"
   ],
   "metadata": {}
  },
  {
   "cell_type": "code",
   "execution_count": null,
   "source": [
    "interest = ['삼성전자', 'LG전자', 'Naver']\r\n",
    "print(interest[0], interest[2])"
   ],
   "outputs": [],
   "metadata": {}
  },
  {
   "cell_type": "markdown",
   "source": [
    "## 066 ~068 join 메서드\r\n",
    "##### 출력 예시:\r\n",
    "##### 삼성전자 LG전자 Naver SK하이닉스 미래에셋대우"
   ],
   "metadata": {}
  },
  {
   "cell_type": "code",
   "execution_count": null,
   "source": [
    "interest = ['삼성전자', 'LG전자', 'Naver', 'SK하이닉스', '미래에셋대우']\r\n",
    "print(interest)\r\n",
    "print(\" \".join(interest)) # 정답\r\n",
    "print(\"/\".join(interest)) # 문자열의 join 메서드를 사용하면 리스트를 문자열로 붙일 수 있습니다.\r\n",
    "print(\"\\n\".join(interest)) # "
   ],
   "outputs": [],
   "metadata": {}
  },
  {
   "cell_type": "markdown",
   "source": [
    "## 069 문자열 split 메서드\r\n",
    "#### 회사 이름이 슬래시 ('/')로 구분되어 하나의 문자열로 저장되어 있다.\r\n",
    "#### 이를 interest 이름의 리스트로 분리 저장하라."
   ],
   "metadata": {}
  },
  {
   "cell_type": "code",
   "execution_count": null,
   "source": [
    "string = \"삼성전자/LG전자/Naver\"\r\n",
    "# interest=string.split(sep=\"/\") # 돌아는 간다잉\r\n",
    "interest =  string.split(\"/\")\r\n",
    "print(interest)"
   ],
   "outputs": [],
   "metadata": {}
  },
  {
   "cell_type": "markdown",
   "source": [
    "## 070 리스트 정렬\r\n",
    "#### 리스트에 있는 값을 오름차순으로 정렬하세요."
   ],
   "metadata": {}
  },
  {
   "cell_type": "code",
   "execution_count": null,
   "source": [
    "data = [2, 4, 3, 1, 5, 10, 9]\r\n",
    "data.sort() # 정답\r\n",
    "print(data)"
   ],
   "outputs": [],
   "metadata": {}
  },
  {
   "cell_type": "code",
   "execution_count": null,
   "source": [
    "data = [2, 4, 3, 1, 5, 10, 9]\r\n",
    "data_sort = sorted(data)\r\n",
    "print(data_sort)"
   ],
   "outputs": [],
   "metadata": {}
  }
 ],
 "metadata": {
  "orig_nbformat": 4,
  "language_info": {
   "name": "python",
   "version": "3.6.8",
   "mimetype": "text/x-python",
   "codemirror_mode": {
    "name": "ipython",
    "version": 3
   },
   "pygments_lexer": "ipython3",
   "nbconvert_exporter": "python",
   "file_extension": ".py"
  },
  "kernelspec": {
   "name": "python3",
   "display_name": "Python 3.6.8 64-bit"
  },
  "interpreter": {
   "hash": "1e704d249feb3353f49391135330cd2e7502d93103c58f163d080ea11b99a8f2"
  }
 },
 "nbformat": 4,
 "nbformat_minor": 2
}