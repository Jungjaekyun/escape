{
 "cells": [
  {
   "cell_type": "markdown",
   "metadata": {},
   "source": [
    "#### 171 아래와 같이 리스트의 데이터를 출력하라. 단, for문과 range문을 사용하라.\n"
   ]
  },
  {
   "cell_type": "code",
   "execution_count": null,
   "metadata": {},
   "outputs": [],
   "source": [
    "price_list = [32100, 32150, 32000, 32500]\n",
    "print(price_list)\n",
    "end = len(price_list)\n",
    "print(type(end))\n",
    "for i in range(end):               #range()\n",
    "    i =+1\n",
    "    print(price_list[i])\n",
    "\n",
    "for j in range(len(price_list)):\n",
    "    print(price_list[j])"
   ]
  },
  {
   "cell_type": "code",
   "execution_count": null,
   "metadata": {},
   "outputs": [],
   "source": [
    "#171\n",
    "price_list = [32100, 32150, 32000, 32500]\n",
    "for int in price_list : \n",
    "    print(int)"
   ]
  },
  {
   "cell_type": "markdown",
   "metadata": {},
   "source": [
    "#### 172 아래와 같이 리스트의 데이터를 출력하라. 단, for문과 range문을 사용하라"
   ]
  },
  {
   "cell_type": "code",
   "execution_count": null,
   "metadata": {},
   "outputs": [],
   "source": [
    "price_list = [32100, 32150, 32000, 32500]          # 내가 작성 1\n",
    "for j in range(len(price_list)):\n",
    "    print(j, price_list[j])"
   ]
  },
  {
   "cell_type": "code",
   "execution_count": null,
   "metadata": {},
   "outputs": [],
   "source": [
    "# 172\n",
    "price_list = [32100, 32150, 32000, 32500]          # 내가 작성 2\n",
    "i = -1\n",
    "for int in price_list :\n",
    "    i += 1\n",
    "    print(i, int)"
   ]
  },
  {
   "cell_type": "code",
   "execution_count": null,
   "metadata": {},
   "outputs": [],
   "source": [
    "# enumerate 연습 : 열거하다, 차례로 들다, 늘어놓다\n",
    "data = enumerate((1, 2, 3))\n",
    "print(data, type(data))\n",
    "\n",
    "for i, value in data:\n",
    "    print(i, \":\", value)\n",
    "print()\n",
    "\n",
    "data = enumerate({1, 2, 3})\n",
    "for i, value in data:\n",
    "    print(i, \":\", value)\n",
    "print()\n",
    "\n",
    "data = enumerate([1, 2, 3])\n",
    "for i, value in data:\n",
    "    print(i, \":\", value)\n",
    "print()\n",
    "\n",
    "dict1 = {'이름': '한사람', '나이': 33}\n",
    "data = enumerate(dict1)\n",
    "for i, key in data:\n",
    "    print(i, \":\", key, dict1[key])\n",
    "print()\n",
    "\n",
    "data = enumerate(\"재미있는 파이썬\")\n",
    "for i, value in data:\n",
    "    print(i, \":\", value)\n",
    "print()"
   ]
  },
  {
   "cell_type": "code",
   "execution_count": null,
   "metadata": {},
   "outputs": [],
   "source": [
    "# 172\n",
    "price_list = [32100, 32150, 32000, 32500]\n",
    "for i, data in enumerate(price_list):\n",
    "    print(i, data)"
   ]
  },
  {
   "cell_type": "markdown",
   "metadata": {},
   "source": [
    "#### 173 위 172번을 역순으로 출력"
   ]
  },
  {
   "cell_type": "code",
   "execution_count": null,
   "metadata": {},
   "outputs": [],
   "source": [
    "price_list = [32100, 32150, 32000, 32500]\n",
    "for j in range(len(price_list)):\n",
    "    k = len(price_list) - j -1           # 내가 짠 것\n",
    "    print(k, price_list[k])"
   ]
  },
  {
   "cell_type": "code",
   "execution_count": null,
   "metadata": {},
   "outputs": [],
   "source": [
    "for i in range(len(price_list)):\n",
    "    print((len(price_list) - 1) - i, price_list[i]) # 정답"
   ]
  },
  {
   "cell_type": "code",
   "execution_count": null,
   "metadata": {},
   "outputs": [],
   "source": [
    "#173\n",
    "price_list = [32100, 32150, 32000, 32500]\n",
    "for int in range(len(price_list)):\n",
    "    #print(3-int, price_list[3-int])\n",
    "    i = len(price_list)-int-1\n",
    "    print(i, price_list[i])"
   ]
  },
  {
   "cell_type": "markdown",
   "metadata": {},
   "source": [
    "### 174 두번째 데이터부터 출력\n"
   ]
  },
  {
   "cell_type": "code",
   "execution_count": null,
   "metadata": {},
   "outputs": [],
   "source": [
    "price_list = [32100, 32150, 32000, 32500]\n",
    "for j in range(1, len(price_list)):\n",
    "    num = 10 * j + 90\n",
    "    print(num, price_list[j])"
   ]
  },
  {
   "cell_type": "code",
   "execution_count": null,
   "metadata": {},
   "outputs": [],
   "source": [
    "price_list = [32100, 32150, 32000, 32500]     #내가 작성\n",
    "for int in range(len(price_list)-1) :\n",
    "    print((int*10 +100), price_list[int+1])"
   ]
  },
  {
   "cell_type": "markdown",
   "metadata": {},
   "source": [
    "#### 175 my_list를 아래와 같이 출력하라."
   ]
  },
  {
   "cell_type": "code",
   "execution_count": null,
   "metadata": {},
   "outputs": [],
   "source": [
    "my_list = [\"가\", \"나\", \"다\", \"라\"]\n",
    "for j in range(len(my_list)-1):\n",
    "    print(my_list[j], my_list[j+1])"
   ]
  },
  {
   "cell_type": "code",
   "execution_count": null,
   "metadata": {},
   "outputs": [],
   "source": [
    "#175\n",
    "my_list = [\"가\", \"나\", \"다\", \"라\"]\n",
    "for int in range(len(my_list)-1) :\n",
    "    print(my_list[int], my_list[int+1])"
   ]
  },
  {
   "cell_type": "markdown",
   "metadata": {},
   "source": [
    "#### 176 가나다 출력"
   ]
  },
  {
   "cell_type": "code",
   "execution_count": null,
   "metadata": {},
   "outputs": [],
   "source": [
    "my_list = [\"가\", \"나\", \"다\", \"라\", \"마\"]\n",
    "for j in range(len(my_list)-2):\n",
    "    print(my_list[j], my_list[j+1], my_list[j+2])"
   ]
  },
  {
   "cell_type": "markdown",
   "metadata": {},
   "source": [
    "#### 177 "
   ]
  },
  {
   "cell_type": "code",
   "execution_count": null,
   "metadata": {},
   "outputs": [],
   "source": [
    "my_list = [\"가\", \"나\", \"다\", \"라\"]\n",
    "for j in range(len(my_list)-1, 0, -1):\n",
    "    \n",
    "    print(my_list[j], my_list[j-1])"
   ]
  },
  {
   "cell_type": "code",
   "execution_count": null,
   "metadata": {},
   "outputs": [],
   "source": [
    "my_list = [\"가\", \"나\", \"다\", \"라\"]\n",
    "def print_decending():\n",
    "    print(my_list[j], my_list[j-1])\n",
    "\n",
    "for j in range(3, 0, -1):\n",
    "    print_decending()"
   ]
  },
  {
   "cell_type": "code",
   "execution_count": null,
   "metadata": {},
   "outputs": [],
   "source": [
    "my_list = [\"가\", \"나\", \"다\", \"라\"]\n",
    "def print_decending():\n",
    "    for j in range(3, 0, -1):\n",
    "        print(my_list[j], my_list[j-1])\n",
    "\n",
    "print_decending()"
   ]
  },
  {
   "cell_type": "code",
   "execution_count": 10,
   "metadata": {},
   "outputs": [
    {
     "name": "stdout",
     "output_type": "stream",
     "text": [
      "나 가\n",
      "다 나\n",
      "라 다\n"
     ]
    }
   ],
   "source": [
    "my_list = [\"가\", \"나\", \"다\", \"라\"]\n",
    "\n",
    "class Descending :\n",
    "    def a(self) :\n",
    "        for i in [3,2,1]:\n",
    "            print(my_list[i],my_list[i-1])\n",
    "\n",
    "    def b(self) :\n",
    "        for i in range(3,0,-1):\n",
    "            print(my_list[i],my_list[i-1])\n",
    "\n",
    "    def c(self) :\n",
    "        for i in range(len(my_list)-1,0,-1):\n",
    "            print(my_list[i],my_list[i-1])\n",
    "    \n",
    "class Ascending :\n",
    "    def a(self) :\n",
    "        for i in [0,1,2]:\n",
    "            print(my_list[i+1],my_list[i])\n",
    "\n",
    "    def b(self) :\n",
    "        for i in range(0,3):\n",
    "           print(my_list[i+1],my_list[i])\n",
    "\n",
    "    def c(self) :\n",
    "        for i in range(0,len(my_list)-2):\n",
    "           print(my_list[i+1],my_list[i])\n",
    "        return\n",
    "\n",
    "x, y = input(\"올림/내림 a/b/c\").split()\n",
    "\n",
    "\n",
    "\n",
    "if x == \"올림\":\n",
    "    put = Ascending()\n",
    "    if y == 'a':\n",
    "        put.a()\n",
    "    elif y == 'b':\n",
    "        put.b()\n",
    "    elif y == 'c':\n",
    "        put.c()\n",
    "    else :\n",
    "        print(\"a,b,c 중에 입력하세요\")\n",
    "\n",
    "elif x == \"내림\":\n",
    "    put = Descending()\n",
    "    if y == 'a':\n",
    "        put.a()\n",
    "    elif y == 'b':\n",
    "        put.b()\n",
    "    elif y == 'c':\n",
    "        put.c()\n",
    "    else :\n",
    "        print(\"a,b,c 중에 입력하세요\")\n",
    "else: \n",
    "    print(\"올림, 내림 중에 입력하세요\")"
   ]
  },
  {
   "cell_type": "code",
   "execution_count": 3,
   "metadata": {},
   "outputs": [
    {
     "name": "stdout",
     "output_type": "stream",
     "text": [
      "마 라\n",
      "라 다\n",
      "다 나\n",
      "나 가\n"
     ]
    }
   ],
   "source": [
    "def print_decending() :\n",
    "    for j in range(len(my_list)-1) :\n",
    "        i = (len(my_list) - j - 1)\n",
    "        print(my_list[i], my_list[i-1])\n",
    "\n",
    "my_list = [\"가\", \"나\", \"다\", \"라\", \"마\"]\n",
    "\n",
    "print_decending()"
   ]
  },
  {
   "cell_type": "code",
   "execution_count": null,
   "metadata": {},
   "outputs": [],
   "source": [
    "# 178\n",
    "my_list = [100, 200, 400, 800, 600]\n",
    "for i in range(len(my_list)-1) : \n",
    "    difference = my_list[i+1] - my_list[i]         # 내가 작성\n",
    "    print(difference)\n",
    "    \n",
    "# abs 절대값\n",
    "for i in range(len(my_list)-1) :                   # 정답\n",
    "    print(abs(my_list[i+1] - my_list[i]))"
   ]
  },
  {
   "cell_type": "code",
   "execution_count": null,
   "metadata": {},
   "outputs": [],
   "source": [
    "# 179\n",
    "my_list = [100, 200, 400, 800, 1000, 1300]\n",
    "for i in range(len(my_list) - 2) :\n",
    "    avg = (my_list[i] + my_list[i+1] + my_list[i+2]) / 3\n",
    "    print(avg) "
   ]
  },
  {
   "cell_type": "code",
   "execution_count": null,
   "metadata": {},
   "outputs": [],
   "source": [
    "# 180\n",
    "low_prices  = [100, 200, 400, 800, 1000]\n",
    "high_prices = [150, 300, 430, 880, 1000]\n",
    "volatility = []\n",
    "\n",
    "for int in range(len(low_prices)) :\n",
    "    gap = high_prices[int] - low_prices[int]\n",
    "        \n",
    "    volatility.append(gap)\n",
    "    # print(volatility)\n",
    "\n"
   ]
  },
  {
   "cell_type": "code",
   "execution_count": null,
   "metadata": {},
   "outputs": [],
   "source": [
    "#181\n",
    "apartment = [(\"101호\", \"102호\"), (\"201호\", \"202호\"), (\"301호\", \"302호\")] # 내가 작성, 각 행이 list가 아닌 튜플임\n",
    "print(apartment, type(apartment))\n",
    "print(apartment[0], type(apartment[0]))\n",
    "\n"
   ]
  },
  {
   "cell_type": "code",
   "execution_count": null,
   "metadata": {},
   "outputs": [],
   "source": [
    "apartment = [ [\"101호\", \"102호\"], [\"201호\", \"202호\"], [\"301호\", \"302호\"]] # 리스트와 튜플의 가장 큰 차이점은 값을 변경할 수 있는가의 여부, 변경되면 안 되는 경우에는 튜플을 사용하면 된다\n",
    "print(apartment, type(apartment))\n",
    "print(apartment[0], type(apartment[0]))"
   ]
  },
  {
   "cell_type": "code",
   "execution_count": 13,
   "metadata": {},
   "outputs": [
    {
     "name": "stdout",
     "output_type": "stream",
     "text": [
      "[['시가', 100, 200, 300], ['종가', 80, 210, 330]]\n"
     ]
    }
   ],
   "source": [
    "# 182 2개의 리스트로 표현\n",
    "\n",
    "stock = [[\"시가\", 100, 200, 300], [\"종가\", 80, 210, 330]] # 정답\n",
    "print(stock)"
   ]
  },
  {
   "cell_type": "code",
   "execution_count": 14,
   "metadata": {},
   "outputs": [
    {
     "name": "stdout",
     "output_type": "stream",
     "text": [
      "{'시가': [100, 200, 300], '종가': [80, 210, 330]}\n"
     ]
    }
   ],
   "source": [
    "#183 딕셔너리로 표현\n",
    "stock = {\"시가\": [100, 200, 300], \"종가\": [80, 210, 330]}\n",
    "print(stock)\n"
   ]
  },
  {
   "cell_type": "code",
   "execution_count": null,
   "metadata": {},
   "outputs": [],
   "source": [
    "#184\n",
    "stock ={\"10/10\": [80, 11, 70, 90], \"10/11\": [210, 230, 190, 200]}"
   ]
  },
  {
   "cell_type": "code",
   "execution_count": 64,
   "metadata": {},
   "outputs": [
    {
     "name": "stdout",
     "output_type": "stream",
     "text": [
      "[101, 102]\n",
      "[201, 202]\n",
      "[301, 302]\n"
     ]
    }
   ],
   "source": [
    "#185\n",
    "apart = [ [101, 102], [201, 202], [301, 302] ]\n",
    "for int in apart :\n",
    "    # print(apart[int]) # list indices must be integers or slices, not list\n",
    "    print(int)"
   ]
  },
  {
   "cell_type": "code",
   "execution_count": 43,
   "metadata": {},
   "outputs": [
    {
     "name": "stdout",
     "output_type": "stream",
     "text": [
      "101 호\n",
      "102 호\n",
      "201 호\n",
      "202 호\n",
      "301 호\n",
      "302 호\n"
     ]
    }
   ],
   "source": [
    "# 185\n",
    "apart = [ [101, 102], [201, 202], [301, 302] ] \n",
    "for i in range(len(apart)) :              # 내가 작성\n",
    "    for j in range(len(apart[0])) :\n",
    "        print(apart[i][j],\"호\") \n"
   ]
  },
  {
   "cell_type": "code",
   "execution_count": 44,
   "metadata": {},
   "outputs": [
    {
     "name": "stdout",
     "output_type": "stream",
     "text": [
      "101 호\n",
      "102 호\n",
      "201 호\n",
      "202 호\n",
      "301 호\n",
      "302 호\n"
     ]
    }
   ],
   "source": [
    "# 185 \n",
    "apart = [ [101, 102], [201, 202], [301, 302] ]\n",
    "for 층 in apart:                #정답\n",
    "    for 호 in 층:\n",
    "        print(호,\"호\")"
   ]
  },
  {
   "cell_type": "code",
   "execution_count": 60,
   "metadata": {},
   "outputs": [
    {
     "name": "stdout",
     "output_type": "stream",
     "text": [
      "301 호\n",
      "302 호\n",
      "201 호\n",
      "202 호\n",
      "101 호\n",
      "102 호\n",
      "\n",
      "301 호\n",
      "302 호\n",
      "201 호\n",
      "202 호\n",
      "101 호\n",
      "102 호\n"
     ]
    }
   ],
   "source": [
    "# 186\n",
    "apart = [ [101, 102], [201, 202], [301, 302] ]\n",
    "for int in range(len(apart)-1,-1,-1) :           # 내가 작성\n",
    "    for j in range(len(apart[int])) :\n",
    "        print(apart[int][j],\"호\")\n",
    "\n",
    "print()\n",
    "for 층 in apart[::-1] :                          # 정답\n",
    "    for 호 in 층 :\n",
    "        print(호, \"호\")"
   ]
  },
  {
   "cell_type": "code",
   "execution_count": 61,
   "metadata": {},
   "outputs": [
    {
     "name": "stdout",
     "output_type": "stream",
     "text": [
      "302 호\n",
      "301 호\n",
      "202 호\n",
      "201 호\n",
      "102 호\n",
      "101 호\n"
     ]
    }
   ],
   "source": [
    "# 187\n",
    "for floor in apart[::-1] :\n",
    "    for unit in floor[::-1] :\n",
    "        print(unit, \"호\")"
   ]
  },
  {
   "cell_type": "code",
   "execution_count": 65,
   "metadata": {},
   "outputs": [
    {
     "name": "stdout",
     "output_type": "stream",
     "text": [
      "101 호 \n",
      "---- \n",
      "102 호 \n",
      "---- \n",
      "201 호 \n",
      "---- \n",
      "202 호 \n",
      "---- \n",
      "301 호 \n",
      "---- \n",
      "302 호 \n",
      "---- \n"
     ]
    }
   ],
   "source": [
    "#188\n",
    "for 층 in apart :\n",
    "    for 호 in 층 :\n",
    "        print(호, \"호 \\n----- \") # 내가 작성\n",
    "    \n"
   ]
  },
  {
   "cell_type": "code",
   "execution_count": 66,
   "metadata": {},
   "outputs": [
    {
     "name": "stdout",
     "output_type": "stream",
     "text": [
      "101 호\n",
      "102 호\n",
      "-----\n",
      "201 호\n",
      "202 호\n",
      "-----\n",
      "301 호\n",
      "302 호\n",
      "-----\n"
     ]
    }
   ],
   "source": [
    "#189\n",
    "for 층 in apart :\n",
    "    for 호 in 층 :\n",
    "        print(호, \"호\") # 내가 작성\n",
    "    print(\"-\"*5)"
   ]
  },
  {
   "cell_type": "code",
   "execution_count": 67,
   "metadata": {},
   "outputs": [
    {
     "name": "stdout",
     "output_type": "stream",
     "text": [
      "101 호\n",
      "102 호\n",
      "201 호\n",
      "202 호\n",
      "301 호\n",
      "302 호\n",
      "-----\n"
     ]
    }
   ],
   "source": [
    "#190\n",
    "for 층 in apart :\n",
    "    for 호 in 층 :\n",
    "        print(호, \"호\") # 내가 작성\n",
    "print(\"-\"*5)\n"
   ]
  },
  {
   "cell_type": "code",
   "execution_count": 88,
   "metadata": {},
   "outputs": [
    {
     "name": "stdout",
     "output_type": "stream",
     "text": [
      "2000.28\n",
      "3050.427\n",
      "2050.2870000000003\n",
      "1980.2772\n",
      "-----\n",
      "7501.05\n",
      "2050.2870000000003\n",
      "2050.2870000000003\n",
      "1980.2772\n",
      "-----\n",
      "15452.163\n",
      "15052.107\n",
      "15552.177\n",
      "14902.086000000001\n",
      "-----\n",
      "[2000.28, 3050.427, 2050.2870000000003, 1980.2772, 7501.05, 2050.2870000000003, 2050.2870000000003, 1980.2772, 15452.163, 15052.107, 15552.177, 14902.086000000001]\n"
     ]
    }
   ],
   "source": [
    "#191 # 192 # 193\n",
    "data = [\n",
    "    [ 2000,  3050,  2050,  1980],\n",
    "    [ 7500,  2050,  2050,  1980],\n",
    "    [15450, 15050, 15550, 14900]\n",
    "]\n",
    "\n",
    "result = []\n",
    "rate = 0.00014 \n",
    "for 종목 in data :\n",
    "    for 가격 in 종목 :\n",
    "        print(가격*(1+rate))\n",
    "        result.append(가격*(1+rate))\n",
    "    print(\"-\"*5)\n",
    "print(result)"
   ]
  },
  {
   "cell_type": "code",
   "execution_count": 96,
   "metadata": {},
   "outputs": [
    {
     "name": "stdout",
     "output_type": "stream",
     "text": [
      "[[2000.28, 3050.427, 2050.2870000000003, 1980.2772, 7501.05, 2050.2870000000003, 2050.2870000000003, 1980.2772, 15452.163, 15052.107, 15552.177, 14902.086000000001], [2000.28, 3050.427, 2050.2870000000003, 1980.2772, 7501.05, 2050.2870000000003, 2050.2870000000003, 1980.2772, 15452.163, 15052.107, 15552.177, 14902.086000000001], [2000.28, 3050.427, 2050.2870000000003, 1980.2772, 7501.05, 2050.2870000000003, 2050.2870000000003, 1980.2772, 15452.163, 15052.107, 15552.177, 14902.086000000001]]\n"
     ]
    }
   ],
   "source": [
    "# 194\n",
    "data = [\n",
    "    [ 2000,  3050,  2050,  1980],\n",
    "    [ 7500,  2050,  2050,  1980],\n",
    "    [15450, 15050, 15550, 14900]\n",
    "]\n",
    "\n",
    "result = []; med = []\n",
    "rate = 0.00014 \n",
    "for 종목 in data :\n",
    "    for 가격 in 종목 :\n",
    "        med.append(가격*(1+rate))\n",
    "    #result.append(종목)                # FAIL 원래 목록처럼 저장\n",
    "    result.append(result1)             # 여러번 찍힘\n",
    "    \n",
    "print(result)"
   ]
  },
  {
   "cell_type": "code",
   "execution_count": 104,
   "metadata": {},
   "outputs": [
    {
     "name": "stdout",
     "output_type": "stream",
     "text": [
      "[[2000.28, 3050.427, 2050.2870000000003, 1980.2772]]\n",
      "[[2000.28, 3050.427, 2050.2870000000003, 1980.2772], [7501.05, 2050.2870000000003, 2050.2870000000003, 1980.2772]]\n",
      "[[2000.28, 3050.427, 2050.2870000000003, 1980.2772], [7501.05, 2050.2870000000003, 2050.2870000000003, 1980.2772], [15452.163, 15052.107, 15552.177, 14902.086000000001]]\n"
     ]
    }
   ],
   "source": [
    "data = [\n",
    "    [ 2000,  3050,  2050,  1980],\n",
    "    [ 7500,  2050,  2050,  1980],\n",
    "    [15450, 15050, 15550, 14900]\n",
    "]\n",
    "\n",
    "result = []\n",
    "for 종목 in data :\n",
    "    med = [] \n",
    "    for 가격 in 종목 :\n",
    "        med.append(가격*1.00014)\n",
    "    result.append(med)\n",
    "\n",
    "print(result)\n"
   ]
  },
  {
   "cell_type": "code",
   "execution_count": 113,
   "metadata": {},
   "outputs": [
    {
     "name": "stdout",
     "output_type": "stream",
     "text": [
      "close\n",
      "100\n",
      "190\n",
      "310\n",
      "100\n",
      "190\n",
      "310\n"
     ]
    }
   ],
   "source": [
    "ohlc = [[\"open\", \"high\", \"low\", \"close\"],\n",
    "        [100, 110, 70, 100],\n",
    "        [200, 210, 180, 190],\n",
    "        [300, 310, 300, 310]]\n",
    "for close in ohlc :\n",
    "        print(close[3])\n",
    "\n",
    "\n",
    "for close in ohlc[1::] :         # 정답\n",
    "    print(close[3])\n",
    "\n"
   ]
  },
  {
   "cell_type": "code",
   "execution_count": 114,
   "metadata": {},
   "outputs": [
    {
     "name": "stdout",
     "output_type": "stream",
     "text": [
      "190\n",
      "310\n"
     ]
    }
   ],
   "source": [
    "# 197\n",
    "ohlc = [[\"open\", \"high\", \"low\", \"close\"],\n",
    "        [100, 110, 70, 100],\n",
    "        [200, 210, 180, 190],\n",
    "        [300, 310, 300, 310]]\n",
    "\n",
    "for day in ohlc[1::] :\n",
    "    if day[3] > 150 :\n",
    "        print(day[3])"
   ]
  },
  {
   "cell_type": "code",
   "execution_count": 123,
   "metadata": {},
   "outputs": [
    {
     "name": "stdout",
     "output_type": "stream",
     "text": [
      "[40, 30, 10]\n",
      "[40, 30, 10]\n"
     ]
    }
   ],
   "source": [
    "# 198\n",
    "ohlc = [[\"open\", \"high\", \"low\", \"close\"],\n",
    "        [100, 110, 70, 100],\n",
    "        [200, 210, 180, 190],\n",
    "        [300, 310, 300, 310]]\n",
    "\n",
    "volatility = [] \n",
    "\n",
    "for day in ohlc[1::] :\n",
    "    vol = day[1] - day[2]\n",
    "    volatility.append(vol)\n",
    "print(volatility)\n",
    "\n",
    "vola =[]\n",
    "\n",
    "for int in range(1, len(ohlc)) :\n",
    "    vol = ohlc[int][1] - ohlc[int][2]\n",
    "    vola.append(vol)\n",
    "print(vola)"
   ]
  },
  {
   "cell_type": "code",
   "execution_count": null,
   "metadata": {},
   "outputs": [],
   "source": [
    "# 199 종가가 시가보다 높은 날의 변동성\n"
   ]
  }
 ],
 "metadata": {
  "interpreter": {
   "hash": "1e704d249feb3353f49391135330cd2e7502d93103c58f163d080ea11b99a8f2"
  },
  "kernelspec": {
   "display_name": "Python 3.6.8 64-bit",
   "name": "python3"
  },
  "language_info": {
   "codemirror_mode": {
    "name": "ipython",
    "version": 3
   },
   "file_extension": ".py",
   "mimetype": "text/x-python",
   "name": "python",
   "nbconvert_exporter": "python",
   "pygments_lexer": "ipython3",
   "version": "3.6.8"
  },
  "orig_nbformat": 4
 },
 "nbformat": 4,
 "nbformat_minor": 2
}
