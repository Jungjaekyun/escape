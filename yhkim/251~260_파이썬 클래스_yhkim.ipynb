{
 "cells": [
  {
   "cell_type": "markdown",
   "metadata": {},
   "source": [
    "## 클래스 = 타입을 만들어 내는 도구\n",
    "#### int, float, str ....."
   ]
  },
  {
   "cell_type": "markdown",
   "metadata": {},
   "source": [
    "#### class : 똑같은 무언거를 계속해서 만들어 낼 수 있는 설계, 틀 (자동차 설계도)\n",
    "#### object : 클래스에 의해 만들어진 실체 (자동차)\n",
    "####            구현 대상\n",
    "#### instance : 클래스에 의해 만들어진 object\n",
    "\n",
    "트럭은 object\n",
    "트럭은 자동차의 instence (특정 object가 어떤 클래스의 객체인지 관계를 설명할 때)\n"
   ]
  },
  {
   "cell_type": "code",
   "execution_count": null,
   "metadata": {},
   "outputs": [],
   "source": [
    "#252\n",
    "class Human() :\n",
    "    pass\n",
    "\n",
    "print(Human)"
   ]
  },
  {
   "cell_type": "code",
   "execution_count": null,
   "metadata": {},
   "outputs": [],
   "source": [
    "#253\n",
    "class Human() :\n",
    "    pass\n",
    "\n",
    "areum = Human()"
   ]
  },
  {
   "cell_type": "markdown",
   "metadata": {},
   "source": [
    "## 생성자\n",
    "#### 일반적으로 함수는 사용자가 함수이름( )과 같은 형태로 호출해야 코드가 수행\n",
    "#### 이와 달리 클래스 내에서 특별한 이름(__init__)을 갖기만 하면 객체가 생성될 때 자동으로 호출되는 함수가 있는 이를 생성자라고 합니다."
   ]
  },
  {
   "cell_type": "code",
   "execution_count": null,
   "metadata": {},
   "outputs": [],
   "source": [
    "#254 클래스 생성자\n",
    "class Human() :\n",
    "    #print(\"응애응애\")   # 내가 작성 \n",
    "    def __init__(self): # 정답\n",
    "        print(\"응애응애\")\n",
    "\n",
    "areum = Human()"
   ]
  },
  {
   "cell_type": "code",
   "execution_count": null,
   "metadata": {},
   "outputs": [],
   "source": [
    "#255~256 클래스 생성자 추가, 생성한 인스턴스 출력\n",
    "class Human() :\n",
    "    def __init__(self, name, age, sex): # 정답\n",
    "        self.name = name\n",
    "        self.age = age\n",
    "        self.sex = sex\n",
    "\n",
    "areum = Human(\"아름\", 25, \"여자\")\n",
    "print(areum.name)\n",
    "print(areum.age)\n",
    "print(areum.sex)\n",
    "print(areum)\n"
   ]
  },
  {
   "cell_type": "code",
   "execution_count": null,
   "metadata": {},
   "outputs": [],
   "source": [
    "# 257\n",
    "class Human() :\n",
    "    def __init__(self, name, age, sex): # 정답\n",
    "        self.name = name\n",
    "        self.age = age\n",
    "        self.sex = sex\n",
    "    \n",
    "    def who(self) :\n",
    "        print(self.name, self.age, self.sex)\n",
    "        print(\"이름: {} 나이: {} 성별: {}\".format(self.name, self.age, self.sex))\n",
    "\n",
    "areum = Human(\"아름\", 25, \"여자\")\n",
    "areum.who()\n"
   ]
  },
  {
   "cell_type": "code",
   "execution_count": null,
   "metadata": {},
   "outputs": [],
   "source": [
    "# 258\n",
    "class Human() :\n",
    "    def __init__(self, name, age, sex): # 정답\n",
    "        self.name = name\n",
    "        self.age = age\n",
    "        self.sex = sex\n",
    "    \n",
    "    def who(self) :\n",
    "        print(self.name, self.age, self.sex)\n",
    "        print(\"이름: {} 나이: {} 성별: {}\".format(self.name, self.age, self.sex))\n",
    "    \n",
    "    def setInfo(self, name, age, sex) :\n",
    "        #self.write(self.name, self.age, self.sex) # 내가 작성 FAIL\n",
    "        self.name = name                           # 정답\n",
    "        self.age = age\n",
    "        self.sex = sex\n",
    "\n",
    "\n",
    "areum = Human(\"모름\", 0, \"모름\")\n",
    "areum.who()\n",
    "areum.setInfo(\"아름\", 25, \"여자\")\n",
    "areum.who()"
   ]
  },
  {
   "cell_type": "code",
   "execution_count": null,
   "metadata": {},
   "outputs": [],
   "source": [
    "# 259 소멸자\n",
    "class Human() :\n",
    "    def __init__(self, name, age, sex): # 정답\n",
    "        self.name = name\n",
    "        self.age = age\n",
    "        self.sex = sex\n",
    "    \n",
    "    def __del__(self) :\n",
    "        print(\"나의 죽음을 알리지 말라\")\n",
    "\n",
    "areum = Human(\"모름\", 0, \"모름\")\n",
    "del areum"
   ]
  },
  {
   "cell_type": "code",
   "execution_count": null,
   "metadata": {},
   "outputs": [],
   "source": [
    "# 260\n",
    "class OMG :\n",
    "    def print() :\n",
    "        print(\"Oh my god\")\n",
    "\n",
    "myStock = OMG(50)\n",
    "OMG.print(myStock)   # ??? 모르겠는데 ????\n"
   ]
  },
  {
   "cell_type": "code",
   "execution_count": 6,
   "metadata": {},
   "outputs": [
    {
     "name": "stdout",
     "output_type": "stream",
     "text": [
      "입력값이 음수여서 0으로 치환!\n"
     ]
    }
   ],
   "source": [
    "a = input(\"Please enter an integer:\")\n",
    "if int(a) < 0 :\n",
    "    a = 0\n",
    "    print(\"입력값이 음수여서 0 으로 치환!\")\n",
    "elif int(a)  == 0 :\n",
    "    print(a)\n",
    "else :\n",
    "    print(\"1 이상\") "
   ]
  }
 ],
 "metadata": {
  "interpreter": {
   "hash": "1e704d249feb3353f49391135330cd2e7502d93103c58f163d080ea11b99a8f2"
  },
  "kernelspec": {
   "display_name": "Python 3.6.8 64-bit",
   "language": "python",
   "name": "python3"
  },
  "language_info": {
   "codemirror_mode": {
    "name": "ipython",
    "version": 3
   },
   "file_extension": ".py",
   "mimetype": "text/x-python",
   "name": "python",
   "nbconvert_exporter": "python",
   "pygments_lexer": "ipython3",
   "version": "3.6.8"
  },
  "orig_nbformat": 4
 },
 "nbformat": 4,
 "nbformat_minor": 2
}
