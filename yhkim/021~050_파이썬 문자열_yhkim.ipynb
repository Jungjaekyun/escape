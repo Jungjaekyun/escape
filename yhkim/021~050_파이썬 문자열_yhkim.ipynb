{
 "cells": [
  {
   "cell_type": "markdown",
   "source": [
    "## 021 문자열 인덱싱\r\n",
    "#### letters가 바인딩하는 문자열에서 첫번째와 세번째 문자를 출력하세요."
   ],
   "metadata": {}
  },
  {
   "cell_type": "code",
   "execution_count": null,
   "source": [
    "letters = 'python'\r\n",
    "# print(letters(0,2))\r\n",
    "print(letters[0], letters[2]) # 정답"
   ],
   "outputs": [],
   "metadata": {}
  },
  {
   "cell_type": "markdown",
   "source": [
    "## 022 문자열 슬라이싱\r\n",
    "#### 자동차 번호가 다음과 같을 때 뒤에 4자리만 출력하세요."
   ],
   "metadata": {}
  },
  {
   "cell_type": "code",
   "execution_count": null,
   "source": [
    "license_plate = \"24가 2210\"\r\n",
    "# print(license_plate[-4])\r\n",
    "print(license_plate[-4:]) # 정답"
   ],
   "outputs": [],
   "metadata": {}
  },
  {
   "cell_type": "markdown",
   "source": [
    "## 023 문자열 인덱싱\r\n",
    "#### 아래의 문자열에서 '홀' 만 출력하세요."
   ],
   "metadata": {}
  },
  {
   "cell_type": "code",
   "execution_count": null,
   "source": [
    "string = \"홀짝홀짝홀짝\"\r\n",
    "print(string[0], string[2], string[4])\r\n",
    "print(string[::2]) # 정답 # 슬라이싱할 때 시작인덱스:끝인덱스:오프셋을 지정할 수 있습니다."
   ],
   "outputs": [],
   "metadata": {}
  },
  {
   "cell_type": "markdown",
   "source": [
    "## 024 문자열 슬라이싱\r\n",
    "#### 문자열을 거꾸로 뒤집어 출력하세요."
   ],
   "metadata": {}
  },
  {
   "cell_type": "code",
   "execution_count": null,
   "source": [
    "string = \"PYTHON\"\r\n",
    "# print(string[-])\r\n",
    "print(string[::-1]) # 정답"
   ],
   "outputs": [],
   "metadata": {}
  },
  {
   "cell_type": "markdown",
   "source": [
    "## 025 문자열 치환\r\n",
    "#### 아래의 전화번호에서 하이푼 ('-')을 제거하고 출력하세요."
   ],
   "metadata": {}
  },
  {
   "cell_type": "code",
   "execution_count": null,
   "source": [
    "phone_number = \"010-1111-2222\"\r\n",
    "result = phone_number.replace(\"-\", \" \") # 정답 \r\n",
    "print(result)\r\n",
    "# 파이썬 문자열에서 replace 메서드를 사용하면 문자열을 일부를 치환할 수 있습니다.\r\n",
    "# 문자열은 수정할 수 없는 자료형이므로 \r\n",
    "# 기존 문자열은 그대로 두고 치환된 새로운 문자열이 리턴됩니다."
   ],
   "outputs": [],
   "metadata": {}
  },
  {
   "cell_type": "markdown",
   "source": [
    "## 026 문자열 다루기\r\n",
    "#### 25번 문제의 전화번호를 아래와 같이 모두 붙여 출력하세요."
   ],
   "metadata": {}
  },
  {
   "cell_type": "code",
   "execution_count": null,
   "source": [
    "phone_number = \"010-1111-2222\"\r\n",
    "result = phone_number.replace(\"-\", \"\") \r\n",
    "print(result)"
   ],
   "outputs": [],
   "metadata": {}
  },
  {
   "cell_type": "markdown",
   "source": [
    "## 027 문자열 다루기\r\n",
    "#### url 에 저장된 웹 페이지 주소에서 도메인을 출력하세요."
   ],
   "metadata": {}
  },
  {
   "cell_type": "code",
   "execution_count": null,
   "source": [
    "url = \"http://sharebook.kr\"\r\n",
    "print(url[-2:])\r\n",
    "url_split = url.split('.') # 정답\r\n",
    "print(url_split[-1])\r\n",
    "# 문자열로 표현된 url에서 .을 기준으로 분리합니다. \r\n",
    "# 분리된 url 중 마지막을 인덱싱하면 도메인만 출력할 수 있습니다."
   ],
   "outputs": [],
   "metadata": {}
  },
  {
   "cell_type": "markdown",
   "source": [
    "## 028 문자열은 immutable\r\n",
    "#### 아래 코드의 실행 결과를 예상해보세요."
   ],
   "metadata": {}
  },
  {
   "cell_type": "code",
   "execution_count": null,
   "source": [
    "lang = 'python'\r\n",
    "lang[0] = 'P'\r\n",
    "print(lang)"
   ],
   "outputs": [],
   "metadata": {}
  },
  {
   "cell_type": "markdown",
   "source": [
    "## 029 ~ 030 replace 메서드\r\n",
    "#### 아래 문자열에서 소문자 'a'를 대문자 'A'로 변경하세요."
   ],
   "metadata": {}
  },
  {
   "cell_type": "code",
   "execution_count": null,
   "source": [
    "string = 'abcdfe2a354a32a'\r\n",
    "string = string.replace('a', 'A') # 정답\r\n",
    "print(string) \r\n",
    "\r\n",
    "# string_replace = string.replace('a', 'A') \r\n",
    "# print(string_replace) \r\n",
    "\r\n",
    "string = 'abcd'\r\n",
    "string.replace('b', 'B')\r\n",
    "print(string)\r\n",
    "# abcd가 그대로 출력됩니다. 왜냐하면 문자열은 변경할 수 없는 자료형이기 때문입니다"
   ],
   "outputs": [],
   "metadata": {}
  },
  {
   "cell_type": "markdown",
   "source": [
    "## 031 ~ 034 문자열 합치기, 곱하기\r\n",
    "#### 아래 코드의 실행 결과를 예상해보세요."
   ],
   "metadata": {}
  },
  {
   "cell_type": "code",
   "execution_count": null,
   "source": [
    "t1 = 'python'\r\n",
    "t2 = 'java'\r\n",
    "result = t1 +' '+ t2 # 공백 안넣으면 pythonjavapythonjavapythonjavapythonjava 출력\r\n",
    "print(result * 4)"
   ],
   "outputs": [],
   "metadata": {}
  },
  {
   "cell_type": "markdown",
   "source": [
    "## 035 문자열 출력\r\n",
    "#### 변수에 다음과 같이 문자열과 정수가 바인딩되어 있을 때 % formatting을 사용해서 다음과 같이 출력해보세요\r\n",
    "## 036 문자열 출력\r\n",
    "#### format( ) 메서드를 사용해서\r\n",
    "## 037 문자열 출력\r\n",
    "#### 파이썬 3.6부터 지원하는 f-string을 사용해서"
   ],
   "metadata": {}
  },
  {
   "cell_type": "code",
   "execution_count": 42,
   "source": [
    "name1 = \"김민수\" \r\n",
    "age1 = 10\r\n",
    "name2 = \"이철희\"\r\n",
    "age2 = 13\r\n",
    "\r\n",
    "print(\"이름: %s 나이: %d\" % (name1, age1)) # 정답\r\n",
    "print(\"이름: %s 나이: %d\" % (name2, age2))\r\n",
    "# print 포맷팅에서 \r\n",
    "# %s는 문자열 데이터 타입의 값을 \r\n",
    "# %d는 정수형 데이터 타입 값의 출력을 의미합니다.\r\n",
    "\r\n",
    "print(\"이름: {} 나이: {}\".format(name1, age1)) # 정답\r\n",
    "print(\"이름: {} 나이: {}\".format(name2, age2))\r\n",
    "# 문자열의 포맷 메서드는 타입과 상관없이 값이 출력될 위치에 { }를 적어주면 됩니다\r\n",
    "\r\n",
    "print(f\"이름: {name1} 나이: {age1}\")\r\n",
    "print(f\"이름: {name2} 나이: {age2}\")\r\n",
    "# f-string은 문자열 앞에 f가 붙은 형태입니다. \r\n",
    "# f-string을 사용하면 {변수}와 같은 형태로 문자열 사이에 \r\n",
    "# 타입과 상관없이 값을 출력할 수 있습니다."
   ],
   "outputs": [
    {
     "output_type": "stream",
     "name": "stdout",
     "text": [
      "이름: 김민수 나이: 10\n",
      "이름: 이철희 나이: 13\n",
      "이름: 김민수 나이: 10\n",
      "이름: 이철희 나이: 13\n",
      "이름: 김민수 나이: 10\n",
      "이름: 이철희 나이: 13\n"
     ]
    }
   ],
   "metadata": {}
  },
  {
   "cell_type": "markdown",
   "source": [
    "## 038 컴마 제거하기\r\n",
    "#### 삼성전자의 상장주식수가 다음과 같습니다. 컴마를 제거한 후 이를 정수 타입으로 변환해보세요."
   ],
   "metadata": {}
  },
  {
   "cell_type": "code",
   "execution_count": 1,
   "source": [
    "# 038 컴마 제거하기\r\n",
    "# 삼성전자의 상장주식수가 다음과 같습니다. 컴마를 제거한 후 이를 정수 타입으로 변환해보세요.\r\n",
    "상장주식수 = \"5,969,782,550\"\r\n",
    "콤마제거 = 상장주식수.replace(',','')\r\n",
    "타입변환 = int(콤마제거)\r\n",
    "print(타입변환)\r\n"
   ],
   "outputs": [
    {
     "output_type": "stream",
     "name": "stdout",
     "text": [
      "5969782550\n"
     ]
    }
   ],
   "metadata": {}
  },
  {
   "cell_type": "code",
   "execution_count": 1,
   "source": [
    "상장주식수 = \"5,969,782,550\"\r\n",
    "aaa = 상장주식수.replace(\",\", \"\")\r\n",
    "\r\n",
    "print(aaa, type(aaa))\r\n",
    "\r\n",
    "print(aaa)\r\n",
    "# 타입변환 = int(컴마제거)\r\n",
    "# print(타입변환, type(타입변환))\r\n"
   ],
   "outputs": [
    {
     "output_type": "stream",
     "name": "stdout",
     "text": [
      "5969782550 <class 'str'>\n",
      "5969782550\n"
     ]
    }
   ],
   "metadata": {}
  },
  {
   "cell_type": "code",
   "execution_count": 2,
   "source": [
    "상장주식수 = \"5,969,782,550\"\r\n",
    "컴마제거 = 상장주식수.replace(\",\", \"\")\r\n",
    "타입변환 = int(컴마제거)\r\n",
    "print(타입변환, type(타입변환))"
   ],
   "outputs": [
    {
     "output_type": "stream",
     "name": "stdout",
     "text": [
      "5969782550 <class 'int'>\n"
     ]
    }
   ],
   "metadata": {}
  },
  {
   "cell_type": "code",
   "execution_count": null,
   "source": [],
   "outputs": [],
   "metadata": {}
  }
 ],
 "metadata": {
  "orig_nbformat": 4,
  "language_info": {
   "name": "python",
   "version": "3.6.8",
   "mimetype": "text/x-python",
   "codemirror_mode": {
    "name": "ipython",
    "version": 3
   },
   "pygments_lexer": "ipython3",
   "nbconvert_exporter": "python",
   "file_extension": ".py"
  },
  "kernelspec": {
   "name": "python3",
   "display_name": "Python 3.6.8 64-bit"
  },
  "interpreter": {
   "hash": "1e704d249feb3353f49391135330cd2e7502d93103c58f163d080ea11b99a8f2"
  }
 },
 "nbformat": 4,
 "nbformat_minor": 2
}