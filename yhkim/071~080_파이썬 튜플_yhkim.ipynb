{
 "cells": [
  {
   "cell_type": "markdown",
   "metadata": {},
   "source": [
    "## 071\n",
    "#### my_variable 이름의 비어있는 튜플을 만들라."
   ]
  },
  {
   "cell_type": "code",
   "execution_count": null,
   "metadata": {},
   "outputs": [],
   "source": [
    "# my_variable = {} # 이건 딕셔너리\n",
    "my_variable = () # 정답 이것이 튜플\n",
    "print(type(my_variable))\n",
    "type(my_variable)"
   ]
  },
  {
   "cell_type": "markdown",
   "metadata": {},
   "source": [
    "## 072\n",
    "#### 2016년 11월 영화 예매 순위 기준 top3는 다음과 같다. 영화 제목을 movie_rank 이름의 튜플에 저장하라. (순위 정보는 저장하지 않는다.)\n",
    "\n",
    "#### 순위\t영화\n",
    "#### 1\t닥터 스트레인지\n",
    "#### 2\t스플릿\n",
    "#### 3\t럭키"
   ]
  },
  {
   "cell_type": "code",
   "execution_count": null,
   "metadata": {},
   "outputs": [],
   "source": [
    "movie_rank = ('닥터 스트레인지', '스플릿', '럭키')"
   ]
  },
  {
   "cell_type": "markdown",
   "metadata": {},
   "source": [
    "## 073\n",
    "#### 숫자 1 이 저장된 튜플을 생성하라."
   ]
  },
  {
   "cell_type": "code",
   "execution_count": null,
   "metadata": {},
   "outputs": [],
   "source": [
    "data = (1) # 오답, 숫자만 입력하면 정수로 인식\n",
    "print(type(data))\n",
    "my_tuple = (1, ) # 정답, 하나의 데이터가 저장되는 경우, 쉼표를 입력해야 튜플로 인식합니다. \n",
    "type(my_tuple)"
   ]
  },
  {
   "cell_type": "markdown",
   "metadata": {},
   "source": [
    "## 074 \n",
    "#### 다음 코드를 실행해보고 오류가 발생하는 원인을 설명하라."
   ]
  },
  {
   "cell_type": "code",
   "execution_count": null,
   "metadata": {},
   "outputs": [],
   "source": [
    "t = (1, 2, 3)\n",
    "t[0] = 'a'  # tuple은 원소(element)의 값을 변경할 수 없습니다."
   ]
  },
  {
   "cell_type": "markdown",
   "metadata": {},
   "source": [
    "## 075\n",
    "#### 아래와 같이 t에는 1, 2, 3, 4 데이터가 바인딩되어 있다. t가 바인딩하는 데이터 타입은 무엇인가?"
   ]
  },
  {
   "cell_type": "code",
   "execution_count": null,
   "metadata": {},
   "outputs": [],
   "source": [
    "t = 1, 2, 3, 4 # 원칙적으로 튜플은 괄호와 함께 데이터를 정의해야 하지만, 사용자 편의를 위해 괄호 없이도 동작합니다.\n",
    "type(t)"
   ]
  },
  {
   "cell_type": "markdown",
   "metadata": {},
   "source": [
    "## 076\n",
    "#### 변수 t에는 아래와 같은 값이 저장되어 있다. 변수 t가 ('A', 'b', 'c') 튜플을 가리키도록 수정 하라."
   ]
  },
  {
   "cell_type": "code",
   "execution_count": null,
   "metadata": {},
   "outputs": [],
   "source": [
    "t = ('a', 'b', 'c')\n",
    "# t[0] = 'A' # 튜플의 값은 변경할 수 없기 때문에, \n",
    "t = ('A', 'b', 'c') # 새로운 튜플을 만들고 t 라는 변수를 업데이트 해야 합니다. \n",
    "print(t) # 기존의 튜플 ('a', 'b', 'c')은 자동으로 삭제됩니다."
   ]
  },
  {
   "cell_type": "markdown",
   "metadata": {},
   "source": [
    "## 077 ~ 078 \n",
    "##### 튜플을 리스트로 변환/ 리스트를 튜플로 변경하라."
   ]
  },
  {
   "cell_type": "code",
   "execution_count": null,
   "metadata": {},
   "outputs": [],
   "source": [
    "interest = ('삼성전자', 'LG전자', 'SK Hynix')\n",
    "# data = interest.join() # 오답\n",
    "data = list(interest)\n",
    "print(data)"
   ]
  },
  {
   "cell_type": "code",
   "execution_count": null,
   "metadata": {},
   "outputs": [],
   "source": [
    "interest = ['삼성전자', 'LG전자', 'SK Hynix']\n",
    "data = tuple(interest)\n",
    "print(data)"
   ]
  },
  {
   "cell_type": "markdown",
   "metadata": {},
   "source": [
    "## 079 튜플 언팩킹\n",
    "#### 다음 코드의 실행 결과는?"
   ]
  },
  {
   "cell_type": "code",
   "execution_count": 6,
   "metadata": {},
   "outputs": [
    {
     "name": "stdout",
     "output_type": "stream",
     "text": [
      "apple banana cake\n",
      "('apple', 'banana', 'cake')\n"
     ]
    }
   ],
   "source": [
    "temp = ('apple', 'banana', 'cake')\n",
    "a, b, c = temp\n",
    "print(a, b, c)"
   ]
  },
  {
   "cell_type": "markdown",
   "metadata": {},
   "source": [
    "## 080 range 함수\n",
    "#### 1 부터 99까지의 정수 중 짝수만 저장된 튜플을 생성하라."
   ]
  },
  {
   "cell_type": "code",
   "execution_count": 9,
   "metadata": {},
   "outputs": [
    {
     "name": "stdout",
     "output_type": "stream",
     "text": [
      "(2, 4, 6, 8, 10, 12, 14, 16, 18, 20, 22, 24, 26, 28, 30, 32, 34, 36, 38, 40, 42, 44, 46, 48, 50, 52, 54, 56, 58, 60, 62, 64, 66, 68, 70, 72, 74, 76, 78, 80, 82, 84, 86, 88, 90, 92, 94, 96, 98)\n"
     ]
    }
   ],
   "source": [
    "data = tuple(range(2, 100, 2)) # 정답\n",
    "print( data )"
   ]
  }
 ],
 "metadata": {
  "interpreter": {
   "hash": "1e704d249feb3353f49391135330cd2e7502d93103c58f163d080ea11b99a8f2"
  },
  "kernelspec": {
   "display_name": "Python 3.6.8 64-bit",
   "name": "python3"
  },
  "language_info": {
   "codemirror_mode": {
    "name": "ipython",
    "version": 3
   },
   "file_extension": ".py",
   "mimetype": "text/x-python",
   "name": "python",
   "nbconvert_exporter": "python",
   "pygments_lexer": "ipython3",
   "version": "3.6.8"
  },
  "orig_nbformat": 4
 },
 "nbformat": 4,
 "nbformat_minor": 2
}
