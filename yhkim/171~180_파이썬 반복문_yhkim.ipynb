{
 "cells": [
  {
   "cell_type": "markdown",
   "metadata": {},
   "source": [
    "#### 171 아래와 같이 리스트의 데이터를 출력하라. 단, for문과 range문을 사용하라.\n"
   ]
  },
  {
   "cell_type": "code",
   "execution_count": null,
   "metadata": {},
   "outputs": [],
   "source": [
    "price_list = [32100, 32150, 32000, 32500]\n",
    "print(price_list)\n",
    "end = len(price_list)\n",
    "print(type(end))\n",
    "for i in range(end):               #range()\n",
    "    i =+1\n",
    "    print(price_list[i])\n",
    "\n",
    "for j in range(len(price_list)):\n",
    "    print(price_list[j])"
   ]
  },
  {
   "cell_type": "markdown",
   "metadata": {},
   "source": [
    "#### 172 아래와 같이 리스트의 데이터를 출력하라. 단, for문과 range문을 사용하라"
   ]
  },
  {
   "cell_type": "code",
   "execution_count": null,
   "metadata": {},
   "outputs": [],
   "source": [
    "price_list = [32100, 32150, 32000, 32500]\n",
    "for j in range(len(price_list)):\n",
    "    print(j, price_list[j])"
   ]
  },
  {
   "cell_type": "markdown",
   "metadata": {},
   "source": [
    "#### 173 위 172번을 역순으로 출력"
   ]
  },
  {
   "cell_type": "code",
   "execution_count": null,
   "metadata": {},
   "outputs": [],
   "source": [
    "price_list = [32100, 32150, 32000, 32500]\n",
    "for j in range(len(price_list)):\n",
    "    k = len(price_list) - j -1           # 내가 짠 것\n",
    "    print(k, price_list[k])"
   ]
  },
  {
   "cell_type": "code",
   "execution_count": null,
   "metadata": {},
   "outputs": [],
   "source": [
    "for i in range(len(price_list)):\n",
    "    print((len(price_list) - 1) - i, price_list[i]) # 정답"
   ]
  },
  {
   "cell_type": "markdown",
   "metadata": {},
   "source": [
    "### 174 두번째 데이터부터 출력\n"
   ]
  },
  {
   "cell_type": "code",
   "execution_count": 35,
   "metadata": {},
   "outputs": [
    {
     "name": "stdout",
     "output_type": "stream",
     "text": [
      "100 32150\n",
      "110 32000\n",
      "120 32500\n"
     ]
    }
   ],
   "source": [
    "price_list = [32100, 32150, 32000, 32500]\n",
    "for j in range(1, len(price_list)):\n",
    "    num = 10 * j + 90\n",
    "    print(num, price_list[j])"
   ]
  },
  {
   "cell_type": "markdown",
   "metadata": {},
   "source": [
    "#### 175 my_list를 아래와 같이 출력하라."
   ]
  },
  {
   "cell_type": "code",
   "execution_count": 39,
   "metadata": {},
   "outputs": [
    {
     "name": "stdout",
     "output_type": "stream",
     "text": [
      "가 나\n",
      "나 다\n",
      "다 라\n"
     ]
    }
   ],
   "source": [
    "my_list = [\"가\", \"나\", \"다\", \"라\"]\n",
    "for j in range(len(my_list)-1):\n",
    "    print(my_list[j], my_list[j+1])"
   ]
  },
  {
   "cell_type": "markdown",
   "metadata": {},
   "source": [
    "#### 176 가나다 출력"
   ]
  },
  {
   "cell_type": "code",
   "execution_count": 43,
   "metadata": {},
   "outputs": [
    {
     "name": "stdout",
     "output_type": "stream",
     "text": [
      "가 나 다\n",
      "나 다 라\n",
      "다 라 마\n"
     ]
    }
   ],
   "source": [
    "my_list = [\"가\", \"나\", \"다\", \"라\", \"마\"]\n",
    "for j in range(len(my_list)-2):\n",
    "    print(my_list[j], my_list[j+1], my_list[j+2])"
   ]
  },
  {
   "cell_type": "markdown",
   "metadata": {},
   "source": [
    "#### 177 "
   ]
  },
  {
   "cell_type": "code",
   "execution_count": 85,
   "metadata": {},
   "outputs": [
    {
     "name": "stdout",
     "output_type": "stream",
     "text": [
      "라 다\n",
      "다 나\n",
      "나 가\n"
     ]
    }
   ],
   "source": [
    "my_list = [\"가\", \"나\", \"다\", \"라\"]\n",
    "for j in range(len(my_list)-1, 0, -1):\n",
    "    \n",
    "    print(my_list[j], my_list[j-1])"
   ]
  },
  {
   "cell_type": "code",
   "execution_count": 91,
   "metadata": {},
   "outputs": [
    {
     "name": "stdout",
     "output_type": "stream",
     "text": [
      "라 다\n",
      "다 나\n",
      "나 가\n"
     ]
    }
   ],
   "source": [
    "my_list = [\"가\", \"나\", \"다\", \"라\"]\n",
    "def print_decending():\n",
    "    print(my_list[j], my_list[j-1])\n",
    "\n",
    "for j in range(3, 0, -1):\n",
    "    print_decending()"
   ]
  },
  {
   "cell_type": "code",
   "execution_count": 92,
   "metadata": {},
   "outputs": [
    {
     "name": "stdout",
     "output_type": "stream",
     "text": [
      "라 다\n",
      "다 나\n",
      "나 가\n"
     ]
    }
   ],
   "source": [
    "my_list = [\"가\", \"나\", \"다\", \"라\"]\n",
    "def print_decending():\n",
    "    for j in range(3, 0, -1):\n",
    "        print(my_list[j], my_list[j-1])\n",
    "\n",
    "print_decending()"
   ]
  },
  {
   "cell_type": "code",
   "execution_count": 94,
   "metadata": {},
   "outputs": [
    {
     "name": "stdout",
     "output_type": "stream",
     "text": [
      "라 다\n",
      "다 나\n",
      "나 가\n"
     ]
    }
   ],
   "source": [
    "my_list = [\"가\", \"나\", \"다\", \"라\"]\n",
    "\n",
    "print_decending()\n",
    "\n",
    "def print_decending():\n",
    "    for j in range(len(my_list)-1, len(my_list)-4, -1):\n",
    "        print(my_list[j], my_list[j-1])"
   ]
  },
  {
   "cell_type": "code",
   "execution_count": 53,
   "metadata": {},
   "outputs": [
    {
     "name": "stdout",
     "output_type": "stream",
     "text": [
      "나 가\n",
      "다 나\n",
      "라 다\n"
     ]
    }
   ],
   "source": [
    "# ## 176 # 김상현\n",
    "# 리스트를 아래와 같이 출력하라.\n",
    "\n",
    "# my_list = [\"가\", \"나\", \"다\", \"라\"]\n",
    "\n",
    "#올림\n",
    "# 라 다\n",
    "# 다 나\n",
    "# 나 가\n",
    "\n",
    "#내림\n",
    "# 나 가\n",
    "# 다 나\n",
    "# 라 다\n",
    "\n",
    "\n",
    "my_list = [\"가\", \"나\", \"다\", \"라\"]\n",
    "\n",
    "class Ascending :\n",
    "    def Ascending_a() :\n",
    "        for i in [3,2,1]:\n",
    "            print(my_list[i],my_list[i-1])\n",
    "\n",
    "    def Ascending_b() :\n",
    "        for i in range(3,0,-1):\n",
    "            print(my_list[i],my_list[i-1])\n",
    "\n",
    "    def Ascending_c() :\n",
    "        for i in range(len(my_list)-1,0,-1):\n",
    "            print(my_list[i],my_list[i-1])\n",
    "    \n",
    "class Descending :\n",
    "    def Descending_a() :\n",
    "        for i in [1,2,3]:\n",
    "            print(my_list[i],my_list[i-1])\n",
    "\n",
    "    def Descending_b() :\n",
    "        for i in range(1,4):\n",
    "            print(my_list[i],my_list[i-1])\n",
    "\n",
    "    def Descending_c() :\n",
    "        for i in range(1,len(my_list)-1):\n",
    "            print(my_list[i],my_list[i-1])\n",
    "        return\n",
    "\n",
    "x, y = input(\"올림/내림 a/b/c\").split()\n",
    "\n",
    "if x == \"올림\":\n",
    "    if y == 'a':\n",
    "        Ascending.Ascending_a()\n",
    "    elif y == 'b':\n",
    "        Ascending.Ascending_b()\n",
    "    elif y == 'c':\n",
    "        Ascending.Ascending_c()\n",
    "    else :\n",
    "        print(\"a,b,c 중에 입력하세요\")\n",
    "\n",
    "elif x == \"내림\":\n",
    "    if y == 'a':\n",
    "        Descending.Descending_a()\n",
    "    elif y == 'b':\n",
    "        Descending.Descending_a()\n",
    "    elif y == 'c':\n",
    "        Descending.Descending_a()\n",
    "    else :\n",
    "        print(\"a,b,c 중에 입력하세요\")\n",
    "\n",
    "\n",
    "\n",
    "    print(\"올림, 내림 중에 입력하세요\")"
   ]
  }
 ],
 "metadata": {
  "interpreter": {
   "hash": "1e704d249feb3353f49391135330cd2e7502d93103c58f163d080ea11b99a8f2"
  },
  "kernelspec": {
   "display_name": "Python 3.6.8 64-bit",
   "name": "python3"
  },
  "language_info": {
   "codemirror_mode": {
    "name": "ipython",
    "version": 3
   },
   "file_extension": ".py",
   "mimetype": "text/x-python",
   "name": "python",
   "nbconvert_exporter": "python",
   "pygments_lexer": "ipython3",
   "version": "3.6.8"
  },
  "orig_nbformat": 4
 },
 "nbformat": 4,
 "nbformat_minor": 2
}
