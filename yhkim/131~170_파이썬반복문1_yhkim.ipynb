{
 "cells": [
  {
   "cell_type": "markdown",
   "metadata": {},
   "source": [
    "### 133"
   ]
  },
  {
   "cell_type": "code",
   "execution_count": null,
   "metadata": {},
   "outputs": [],
   "source": [
    "for 변수 in [\"A\", \"B\", \"C\"]:\n",
    "    print(변수)"
   ]
  },
  {
   "cell_type": "code",
   "execution_count": null,
   "metadata": {},
   "outputs": [],
   "source": [
    "변수 = [\"A\", \"B\", \"C\"]\n",
    "#for i in range(3): # 이것은 내가 짠 것\n",
    "\n",
    "for i in range(len(변수)):\n",
    "    print(변수[i])\n",
    "\n"
   ]
  },
  {
   "cell_type": "code",
   "execution_count": null,
   "metadata": {},
   "outputs": [],
   "source": [
    "for 변수 in [\"A\", \"B\", \"C\"]:\n",
    "    b = 변수.lower()\n",
    "    print(\"변환: \", b)"
   ]
  },
  {
   "cell_type": "markdown",
   "metadata": {},
   "source": [
    "#### 136 ~ 137\n"
   ]
  },
  {
   "cell_type": "code",
   "execution_count": null,
   "metadata": {},
   "outputs": [],
   "source": [
    "for 변수 in [\"10\", \"20\", \"30\"]:\n",
    "    print(변수)"
   ]
  },
  {
   "cell_type": "code",
   "execution_count": null,
   "metadata": {},
   "outputs": [],
   "source": [
    "# 138\n",
    "for 변수 in [\"10\", \"20\", \"30\"]:\n",
    "    print(변수)\n",
    "    print(\"-------\")"
   ]
  },
  {
   "cell_type": "code",
   "execution_count": null,
   "metadata": {},
   "outputs": [],
   "source": [
    "# 139\n",
    "print(\"++++\")\n",
    "for 변수 in [\"10\", \"20\", \"30\"]:\n",
    "    print(변수)"
   ]
  },
  {
   "cell_type": "code",
   "execution_count": null,
   "metadata": {},
   "outputs": [],
   "source": [
    "# 140\n",
    "for i in range(4):\n",
    "    print(\"-------\")"
   ]
  },
  {
   "cell_type": "code",
   "execution_count": null,
   "metadata": {},
   "outputs": [],
   "source": [
    "#141 \n",
    "리스트 = [100, 200, 300]\n",
    "for i in range(len(리스트)):  ## 내가 작성 돌아간다잉\n",
    "    print(리스트[i]+10)\n",
    "\n",
    "for 변수 in 리스트:           ## 정답\n",
    "    print(변수 +  10)"
   ]
  },
  {
   "cell_type": "code",
   "execution_count": null,
   "metadata": {},
   "outputs": [],
   "source": [
    "#142\n",
    "리스트 = [\"김밥\", \"라면\", \"튀김\"]\n",
    "for 메뉴 in 리스트:\n",
    "    print(\"오늘의 메뉴:\", 메뉴)\n"
   ]
  },
  {
   "cell_type": "code",
   "execution_count": null,
   "metadata": {},
   "outputs": [],
   "source": [
    "#143\n",
    "리스트 = [\"SK하이닉스\", \"삼성전자\", \"LG전자\"]\n",
    "for company in 리스트:\n",
    "    print(len(company))"
   ]
  },
  {
   "cell_type": "code",
   "execution_count": null,
   "metadata": {},
   "outputs": [],
   "source": [
    "#144\n",
    "리스트 = ['dog', 'cat', 'parrot']\n",
    "for name in 리스트:\n",
    "    print(name,len(name))"
   ]
  },
  {
   "cell_type": "code",
   "execution_count": null,
   "metadata": {},
   "outputs": [],
   "source": [
    "#145\n",
    "리스트 = ['dog', 'cat', 'parrot']\n",
    "for name in 리스트:\n",
    "    print(name[0])"
   ]
  },
  {
   "cell_type": "code",
   "execution_count": null,
   "metadata": {},
   "outputs": [],
   "source": [
    "#146\n",
    "리스트 = [1, 2, 3]\n",
    "for int in 리스트:\n",
    "    print(\"3 x\", int)"
   ]
  },
  {
   "cell_type": "code",
   "execution_count": null,
   "metadata": {},
   "outputs": [],
   "source": [
    "#147\n",
    "리스트 = [1, 2, 3]\n",
    "for int in 리스트:\n",
    "    print(\"3 x\", int, \"=\", 3*int)           #내가 작성\n",
    "for int in 리스트:         \n",
    "    print(\"3 x {} = {}\".format(int, 3*int)) #문자열 함수!!!!!!"
   ]
  },
  {
   "cell_type": "code",
   "execution_count": null,
   "metadata": {},
   "outputs": [],
   "source": [
    "#148\n",
    "리스트 = [\"가\", \"나\", \"다\", \"라\"]\n",
    "for i in range(1,4):                      #내가 작성\n",
    "    print(리스트[i])\n",
    "\n",
    "for 한글 in 리스트[1:]:                    # 정답. 이게 더 보기 좋긴한 거 같드\n",
    "    print(한글)"
   ]
  },
  {
   "cell_type": "code",
   "execution_count": null,
   "metadata": {},
   "outputs": [],
   "source": [
    "#149\n",
    "리스트 = [\"가\", \"나\", \"다\", \"라\"]\n",
    "\n",
    "for i in range(0,4,2):\n",
    "    print(리스트[i])\n",
    "\n",
    "for 한글 in 리스트[: : 2]:\n",
    "    print(한글)"
   ]
  },
  {
   "cell_type": "code",
   "execution_count": null,
   "metadata": {},
   "outputs": [],
   "source": [
    "#150\n",
    "리스트 = [\"가\", \"나\", \"다\", \"라\"]\n",
    "for 한글 in 리스트[: :-1]:        #증감폭을 음수로 설정하면 끝에서 앞방향으로 값을 슬라이싱합니다.\n",
    "    print(한글)"
   ]
  },
  {
   "cell_type": "code",
   "execution_count": null,
   "metadata": {},
   "outputs": [],
   "source": [
    "#151\n",
    "리스트 = [3, -20, -3, 44]\n",
    "for var in 리스트:\n",
    "    if var < 0 :\n",
    "        print(var)\n",
    "    \n"
   ]
  },
  {
   "cell_type": "code",
   "execution_count": null,
   "metadata": {},
   "outputs": [],
   "source": [
    "# 152\n",
    "리스트 = [3, 100, 23, 44]\n",
    "for var in 리스트:\n",
    "    if var % 3 == 0:\n",
    "        print(var)\n"
   ]
  },
  {
   "cell_type": "code",
   "execution_count": null,
   "metadata": {},
   "outputs": [],
   "source": [
    "#153\n",
    "리스트 = [13, 21, 12, 14, 30, 18]\n",
    "for var in 리스트:\n",
    "    if var < 20 and var % 3 == 0:\n",
    "        print(var)\n",
    "\n"
   ]
  },
  {
   "cell_type": "code",
   "execution_count": null,
   "metadata": {},
   "outputs": [],
   "source": [
    "#154\n",
    "리스트 = [\"I\", \"study\", \"python\", \"language\", \"!\"]\n",
    "for var in 리스트:\n",
    "    if len(var) >= 3:\n",
    "        print(var)"
   ]
  },
  {
   "cell_type": "code",
   "execution_count": null,
   "metadata": {},
   "outputs": [],
   "source": [
    "#155\n",
    "리스트 = [\"A\", \"b\", \"c\", \"D\"]\n",
    "for var in 리스트:\n",
    "    if var.upper() == var:            # 내가 작성\n",
    "        print(var)\n",
    "\n",
    "for var in 리스트:\n",
    "    if var.isupper():                 # 정답 isupper() 메서드는 대문자 여부를 판별\n",
    "        print(var)"
   ]
  },
  {
   "cell_type": "code",
   "execution_count": null,
   "metadata": {},
   "outputs": [],
   "source": [
    "#156\n",
    "리스트 = [\"A\", \"b\", \"c\", \"D\"]\n",
    "for var in 리스트:\n",
    "    if var.isupper() == False:       # 내가 작성 false X False O\n",
    "        print(var)\n",
    "\n",
    "for var in 리스트:\n",
    "    if var.isupper() != True:\n",
    "        print(var)\n",
    "\n",
    "for var in 리스트:\n",
    "    if not var.isupper():\n",
    "        print(var)"
   ]
  },
  {
   "cell_type": "code",
   "execution_count": null,
   "metadata": {},
   "outputs": [],
   "source": [
    "#157\n",
    "리스트 = ['dog', 'cat', 'parrot']\n",
    "for var in 리스트:\n",
    "    print(var.capitalize())            # 내가 작성\n",
    "\n",
    "for var in 리스트:\n",
    "    print(var[0].upper()+var[1:])"
   ]
  },
  {
   "cell_type": "code",
   "execution_count": null,
   "metadata": {},
   "outputs": [],
   "source": [
    "#158\n",
    "리스트 = ['hello.py', 'ex01.py', 'intro.hwp']\n",
    "\n",
    "for var in 리스트:\n",
    "    print(var.split(\".\")[0])          # 내가 작성    var.split()  OO     리스트.split() XX\n",
    "\n",
    "for var in 리스트:\n",
    "    split = var.split(\".\")\n",
    "    print(split[0])"
   ]
  },
  {
   "cell_type": "code",
   "execution_count": null,
   "metadata": {},
   "outputs": [],
   "source": [
    "# 160\n",
    "리스트 = ['intra.h', 'intra.c', 'define.h', 'run.py']\n",
    "for var in 리스트:\n",
    "    if var.split(\".\")[1] == \"h\":\n",
    "        print(var)\n",
    "    elif var.split(\".\")[1] == \"c\":\n",
    "        print(var)\n",
    "\n",
    "for var in 리스트:\n",
    "    if var.split(\".\")[1] == \"h\" or var.split(\".\")[1] == \"c\":\n",
    "        print(var)\n"
   ]
  },
  {
   "cell_type": "code",
   "execution_count": null,
   "metadata": {},
   "outputs": [],
   "source": [
    "# 161\n",
    "for int in range(100):\n",
    "    print(int)"
   ]
  },
  {
   "cell_type": "code",
   "execution_count": null,
   "metadata": {},
   "outputs": [],
   "source": [
    "# 162\n",
    "for year in range(2002, 2050, 4):    # 내가 작성 range는 : 아닌 ,\n",
    "    print(year)                      # FAIL 2050이 미출력\n",
    "\n",
    "print()\n",
    "for year in range(2002, 2051, 4):    \n",
    "    print(year)     "
   ]
  },
  {
   "cell_type": "code",
   "execution_count": null,
   "metadata": {},
   "outputs": [],
   "source": [
    "# 163\n",
    "for int in range(3, 31, 3):\n",
    "    print(int)"
   ]
  },
  {
   "cell_type": "code",
   "execution_count": null,
   "metadata": {},
   "outputs": [],
   "source": [
    "#164\n",
    "#for int in range(99, -1, -1): # 내가 작성\n",
    "#    print(int)\n",
    "\n",
    "for int in range(100):       # 정답\n",
    "    print(99-int)"
   ]
  },
  {
   "cell_type": "code",
   "execution_count": null,
   "metadata": {},
   "outputs": [],
   "source": [
    "#165\n",
    "for int in range(10):\n",
    "    print(\"0.{}\".format(int)) # 내가 작성\n",
    "\n",
    "for int in range(10):    \n",
    "    print(int / 10)        #정답"
   ]
  },
  {
   "cell_type": "code",
   "execution_count": null,
   "metadata": {},
   "outputs": [],
   "source": [
    "#166\n",
    "for int in range(9) :\n",
    "\n",
    "    subsum = (int+1) * 3\n",
    "    print(\"3 x {} = \".format(int+1), subsum)    \n",
    "\n",
    "for int in range(1,10,1) :\n",
    "    print(\"3 x {} = \".format(int), int*3)"
   ]
  },
  {
   "cell_type": "code",
   "execution_count": null,
   "metadata": {},
   "outputs": [],
   "source": [
    "#167\n",
    "for int in range(1,10,2):                            # 방법 1, 내가 작성\n",
    "    print(\"3 x {} = \".format(int), 3 * int) \n",
    "\n",
    "for int in range(10):\n",
    "    if (int % 2) == 1:                               # 방법 2, 괄호 씌어줘야 한다\n",
    "        print(\"3 x {} = \".format(int), 3 * int) "
   ]
  },
  {
   "cell_type": "code",
   "execution_count": null,
   "metadata": {},
   "outputs": [],
   "source": [
    "# 168\n",
    "sum = 0\n",
    "#for int in range(11) :                              # 0~10까지의 합이네.\n",
    "for int in range(1,11) :\n",
    "    sum += int\n",
    "    \n",
    "print(\"합 :\", sum) "
   ]
  },
  {
   "cell_type": "code",
   "execution_count": null,
   "metadata": {},
   "outputs": [],
   "source": [
    "# 169\n",
    "sum = 0\n",
    "for int in range(1,11,2) :\n",
    "    sum += int\n",
    "print(\"합:\", sum)"
   ]
  },
  {
   "cell_type": "code",
   "execution_count": null,
   "metadata": {},
   "outputs": [],
   "source": [
    "#170 # 1 * 2 * 3 * 4 * 5 * 6 * 7 * 8 * 9 * 10\n",
    "sum = 1\n",
    "for int in range(1,11) :                    # range(10,0, -1) <- 처음엔 이렇게 작성함\n",
    "    sum *= int\n",
    "    \n",
    "print(\"곱한 값:\", sum)"
   ]
  }
 ],
 "metadata": {
  "interpreter": {
   "hash": "1e704d249feb3353f49391135330cd2e7502d93103c58f163d080ea11b99a8f2"
  },
  "kernelspec": {
   "display_name": "Python 3.6.8 64-bit",
   "name": "python3"
  },
  "language_info": {
   "codemirror_mode": {
    "name": "ipython",
    "version": 3
   },
   "file_extension": ".py",
   "mimetype": "text/x-python",
   "name": "python",
   "nbconvert_exporter": "python",
   "pygments_lexer": "ipython3",
   "version": "3.6.8"
  },
  "orig_nbformat": 4
 },
 "nbformat": 4,
 "nbformat_minor": 2
}
