{
 "cells": [
  {
   "cell_type": "markdown",
   "metadata": {},
   "source": [
    "### 133"
   ]
  },
  {
   "cell_type": "code",
   "execution_count": null,
   "metadata": {},
   "outputs": [],
   "source": [
    "for 변수 in [\"A\", \"B\", \"C\"]:\n",
    "    print(변수)"
   ]
  },
  {
   "cell_type": "code",
   "execution_count": null,
   "metadata": {},
   "outputs": [],
   "source": [
    "변수 = [\"A\", \"B\", \"C\"]\n",
    "#for i in range(3): # 이것은 내가 짠 것\n",
    "\n",
    "for i in range(len(변수)):\n",
    "    print(변수[i])\n",
    "\n"
   ]
  },
  {
   "cell_type": "code",
   "execution_count": null,
   "metadata": {},
   "outputs": [],
   "source": [
    "for 변수 in [\"A\", \"B\", \"C\"]:\n",
    "    b = 변수.lower()\n",
    "    print(\"변환: \", b)"
   ]
  },
  {
   "cell_type": "markdown",
   "metadata": {},
   "source": [
    "#### 136 ~ 137\n"
   ]
  },
  {
   "cell_type": "code",
   "execution_count": null,
   "metadata": {},
   "outputs": [],
   "source": [
    "for 변수 in [\"10\", \"20\", \"30\"]:\n",
    "    print(변수)"
   ]
  },
  {
   "cell_type": "code",
   "execution_count": null,
   "metadata": {},
   "outputs": [],
   "source": [
    "# 138\n",
    "for 변수 in [\"10\", \"20\", \"30\"]:\n",
    "    print(변수)\n",
    "    print(\"-------\")"
   ]
  },
  {
   "cell_type": "code",
   "execution_count": null,
   "metadata": {},
   "outputs": [],
   "source": [
    "# 139\n",
    "print(\"++++\")\n",
    "for 변수 in [\"10\", \"20\", \"30\"]:\n",
    "    print(변수)"
   ]
  },
  {
   "cell_type": "code",
   "execution_count": null,
   "metadata": {},
   "outputs": [],
   "source": [
    "# 140\n",
    "for i in range(4):\n",
    "    print(\"-------\")"
   ]
  },
  {
   "cell_type": "code",
   "execution_count": null,
   "metadata": {},
   "outputs": [],
   "source": [
    "#141 \n",
    "리스트 = [100, 200, 300]\n",
    "for i in range(len(리스트)):  ## 내가 작성 돌아간다잉\n",
    "    print(리스트[i]+10)\n",
    "\n",
    "for 변수 in 리스트:           ## 정답\n",
    "    print(변수 +  10)"
   ]
  },
  {
   "cell_type": "code",
   "execution_count": null,
   "metadata": {},
   "outputs": [],
   "source": [
    "#142\n",
    "리스트 = [\"김밥\", \"라면\", \"튀김\"]\n",
    "for 메뉴 in 리스트:\n",
    "    print(\"오늘의 메뉴:\", 메뉴)\n"
   ]
  },
  {
   "cell_type": "code",
   "execution_count": null,
   "metadata": {},
   "outputs": [],
   "source": [
    "#143\n",
    "리스트 = [\"SK하이닉스\", \"삼성전자\", \"LG전자\"]\n",
    "for company in 리스트:\n",
    "    print(len(company))"
   ]
  },
  {
   "cell_type": "code",
   "execution_count": null,
   "metadata": {},
   "outputs": [],
   "source": [
    "#144\n",
    "리스트 = ['dog', 'cat', 'parrot']\n",
    "for name in 리스트:\n",
    "    print(name,len(name))"
   ]
  },
  {
   "cell_type": "code",
   "execution_count": null,
   "metadata": {},
   "outputs": [],
   "source": [
    "#145\n",
    "리스트 = ['dog', 'cat', 'parrot']\n",
    "for name in 리스트:\n",
    "    print(name[0])"
   ]
  },
  {
   "cell_type": "code",
   "execution_count": null,
   "metadata": {},
   "outputs": [],
   "source": [
    "#146\n",
    "리스트 = [1, 2, 3]\n",
    "for int in 리스트:\n",
    "    print(\"3 x\", int)"
   ]
  },
  {
   "cell_type": "code",
   "execution_count": null,
   "metadata": {},
   "outputs": [],
   "source": [
    "#147\n",
    "리스트 = [1, 2, 3]\n",
    "for int in 리스트:\n",
    "    print(\"3 x\", int, \"=\", 3*int)           #내가 작성\n",
    "for int in 리스트:         \n",
    "    print(\"3 x {} = {}\".format(int, 3*int)) #문자열 함수!!!!!!"
   ]
  },
  {
   "cell_type": "code",
   "execution_count": null,
   "metadata": {},
   "outputs": [],
   "source": [
    "#148\n",
    "리스트 = [\"가\", \"나\", \"다\", \"라\"]\n",
    "for i in range(1,4):                      #내가 작성\n",
    "    print(리스트[i])\n",
    "\n",
    "for 한글 in 리스트[1:]:                    # 정답. 이게 더 보기 좋긴한 거 같드\n",
    "    print(한글)"
   ]
  },
  {
   "cell_type": "code",
   "execution_count": null,
   "metadata": {},
   "outputs": [],
   "source": [
    "#149\n",
    "리스트 = [\"가\", \"나\", \"다\", \"라\"]\n",
    "\n",
    "for i in range(0,4,2):\n",
    "    print(리스트[i])\n",
    "\n",
    "for 한글 in 리스트[: : 2]:\n",
    "    print(한글)"
   ]
  },
  {
   "cell_type": "code",
   "execution_count": null,
   "metadata": {},
   "outputs": [],
   "source": [
    "#150\n",
    "리스트 = [\"가\", \"나\", \"다\", \"라\"]\n",
    "for 한글 in 리스트[: :-1]:        #증감폭을 음수로 설정하면 끝에서 앞방향으로 값을 슬라이싱합니다.\n",
    "    print(한글)"
   ]
  },
  {
   "cell_type": "code",
   "execution_count": null,
   "metadata": {},
   "outputs": [],
   "source": [
    "#151\n",
    "리스트 = [3, -20, -3, 44]\n",
    "for var in 리스트:\n",
    "    if var < 0 :\n",
    "        print(var)\n",
    "    \n"
   ]
  },
  {
   "cell_type": "code",
   "execution_count": null,
   "metadata": {},
   "outputs": [],
   "source": [
    "# 152\n",
    "리스트 = [3, 100, 23, 44]\n",
    "for var in 리스트:\n",
    "    if var % 3 == 0:\n",
    "        print(var)\n"
   ]
  },
  {
   "cell_type": "code",
   "execution_count": null,
   "metadata": {},
   "outputs": [],
   "source": [
    "#153\n",
    "리스트 = [13, 21, 12, 14, 30, 18]\n",
    "for var in 리스트:\n",
    "    if var < 20 and var % 3 == 0:\n",
    "        print(var)\n",
    "\n"
   ]
  },
  {
   "cell_type": "code",
   "execution_count": null,
   "metadata": {},
   "outputs": [],
   "source": [
    "#154\n",
    "리스트 = [\"I\", \"study\", \"python\", \"language\", \"!\"]\n",
    "for var in 리스트:\n",
    "    if len(var) >= 3:\n",
    "        print(var)"
   ]
  },
  {
   "cell_type": "code",
   "execution_count": null,
   "metadata": {},
   "outputs": [],
   "source": [
    "#155\n",
    "리스트 = [\"A\", \"b\", \"c\", \"D\"]\n",
    "for var in 리스트:\n",
    "    if var.upper() == var:            # 내가 작성\n",
    "        print(var)\n",
    "\n",
    "for var in 리스트:\n",
    "    if var.isupper():                 # 정답 isupper() 메서드는 대문자 여부를 판별\n",
    "        print(var)"
   ]
  },
  {
   "cell_type": "code",
   "execution_count": null,
   "metadata": {},
   "outputs": [],
   "source": [
    "#156\n",
    "리스트 = [\"A\", \"b\", \"c\", \"D\"]\n",
    "for var in 리스트:\n",
    "    if var.isupper() == False:       # 내가 작성 false X False O\n",
    "        print(var)\n",
    "\n",
    "for var in 리스트:\n",
    "    if var.isupper() != True:\n",
    "        print(var)\n",
    "\n",
    "for var in 리스트:\n",
    "    if not var.isupper():\n",
    "        print(var)"
   ]
  },
  {
   "cell_type": "code",
   "execution_count": null,
   "metadata": {},
   "outputs": [],
   "source": [
    "#157\n",
    "리스트 = ['dog', 'cat', 'parrot']\n",
    "for var in 리스트:\n",
    "    print(var.capitalize())            # 내가 작성\n",
    "\n",
    "for var in 리스트:\n",
    "    print(var[0].upper()+var[1:])"
   ]
  },
  {
   "cell_type": "code",
   "execution_count": null,
   "metadata": {},
   "outputs": [],
   "source": [
    "#158\n",
    "리스트 = ['hello.py', 'ex01.py', 'intro.hwp']\n",
    "\n",
    "for var in 리스트:\n",
    "    print(var.split(\".\")[0])          # 내가 작성    var.split()  OO     리스트.split() XX\n",
    "\n",
    "for var in 리스트:\n",
    "    split = var.split(\".\")\n",
    "    print(split[0])"
   ]
  },
  {
   "cell_type": "code",
   "execution_count": null,
   "metadata": {},
   "outputs": [],
   "source": [
    "# 160\n",
    "리스트 = ['intra.h', 'intra.c', 'define.h', 'run.py']\n",
    "for var in 리스트:\n",
    "    if var.split(\".\")[1] == \"h\":\n",
    "        print(var)\n",
    "    elif var.split(\".\")[1] == \"c\":\n",
    "        print(var)\n",
    "\n",
    "for var in 리스트:\n",
    "    if var.split(\".\")[1] == \"h\" or var.split(\".\")[1] == \"c\":\n",
    "        print(var)\n"
   ]
  },
  {
   "cell_type": "code",
   "execution_count": null,
   "metadata": {},
   "outputs": [],
   "source": [
    "# 161\n",
    "for int in range(100):\n",
    "    print(int)"
   ]
  },
  {
   "cell_type": "code",
   "execution_count": null,
   "metadata": {},
   "outputs": [],
   "source": [
    "# 162\n",
    "for year in range(2002, 2050, 4):    # 내가 작성 range는 : 아닌 ,\n",
    "    print(year)                      # FAIL 2050이 미출력\n",
    "\n",
    "print()\n",
    "for year in range(2002, 2051, 4):    \n",
    "    print(year)     "
   ]
  },
  {
   "cell_type": "code",
   "execution_count": 67,
   "metadata": {},
   "outputs": [
    {
     "name": "stdout",
     "output_type": "stream",
     "text": [
      "3\n",
      "6\n",
      "9\n",
      "12\n",
      "15\n",
      "18\n",
      "21\n",
      "24\n",
      "27\n",
      "30\n"
     ]
    }
   ],
   "source": [
    "# 163\n",
    "for int in range(3, 31, 3):\n",
    "    print(int)"
   ]
  },
  {
   "cell_type": "code",
   "execution_count": 74,
   "metadata": {},
   "outputs": [
    {
     "name": "stdout",
     "output_type": "stream",
     "text": [
      "99\n",
      "98\n",
      "97\n",
      "96\n",
      "95\n",
      "94\n",
      "93\n",
      "92\n",
      "91\n",
      "90\n",
      "89\n",
      "88\n",
      "87\n",
      "86\n",
      "85\n",
      "84\n",
      "83\n",
      "82\n",
      "81\n",
      "80\n",
      "79\n",
      "78\n",
      "77\n",
      "76\n",
      "75\n",
      "74\n",
      "73\n",
      "72\n",
      "71\n",
      "70\n",
      "69\n",
      "68\n",
      "67\n",
      "66\n",
      "65\n",
      "64\n",
      "63\n",
      "62\n",
      "61\n",
      "60\n",
      "59\n",
      "58\n",
      "57\n",
      "56\n",
      "55\n",
      "54\n",
      "53\n",
      "52\n",
      "51\n",
      "50\n",
      "49\n",
      "48\n",
      "47\n",
      "46\n",
      "45\n",
      "44\n",
      "43\n",
      "42\n",
      "41\n",
      "40\n",
      "39\n",
      "38\n",
      "37\n",
      "36\n",
      "35\n",
      "34\n",
      "33\n",
      "32\n",
      "31\n",
      "30\n",
      "29\n",
      "28\n",
      "27\n",
      "26\n",
      "25\n",
      "24\n",
      "23\n",
      "22\n",
      "21\n",
      "20\n",
      "19\n",
      "18\n",
      "17\n",
      "16\n",
      "15\n",
      "14\n",
      "13\n",
      "12\n",
      "11\n",
      "10\n",
      "9\n",
      "8\n",
      "7\n",
      "6\n",
      "5\n",
      "4\n",
      "3\n",
      "2\n",
      "1\n",
      "0\n"
     ]
    }
   ],
   "source": [
    "#164\n",
    "#for int in range(99, -1, -1): # 내가 작성\n",
    "#    print(int)\n",
    "\n",
    "for int in range(100):       # 정답\n",
    "    print(99-int)"
   ]
  }
 ],
 "metadata": {
  "interpreter": {
   "hash": "1e704d249feb3353f49391135330cd2e7502d93103c58f163d080ea11b99a8f2"
  },
  "kernelspec": {
   "display_name": "Python 3.6.8 64-bit",
   "name": "python3"
  },
  "language_info": {
   "codemirror_mode": {
    "name": "ipython",
    "version": 3
   },
   "file_extension": ".py",
   "mimetype": "text/x-python",
   "name": "python",
   "nbconvert_exporter": "python",
   "pygments_lexer": "ipython3",
   "version": "3.6.8"
  },
  "orig_nbformat": 4
 },
 "nbformat": 4,
 "nbformat_minor": 2
}
