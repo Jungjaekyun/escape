{
 "cells": [
  {
   "cell_type": "markdown",
   "metadata": {},
   "source": [
    "## 106 아래 코드 에러의 원인은? "
   ]
  },
  {
   "cell_type": "code",
   "execution_count": 1,
   "metadata": {},
   "outputs": [
    {
     "ename": "SyntaxError",
     "evalue": "invalid syntax (<ipython-input-1-73d1778316a7>, line 1)",
     "output_type": "error",
     "traceback": [
      "\u001b[1;36m  File \u001b[1;32m\"<ipython-input-1-73d1778316a7>\"\u001b[1;36m, line \u001b[1;32m1\u001b[0m\n\u001b[1;33m    print(3 => 4)\u001b[0m\n\u001b[1;37m             ^\u001b[0m\n\u001b[1;31mSyntaxError\u001b[0m\u001b[1;31m:\u001b[0m invalid syntax\n"
     ]
    }
   ],
   "source": [
    "print(3 => 4)"
   ]
  },
  {
   "cell_type": "markdown",
   "metadata": {},
   "source": [
    "#### 111 사용자로부터 입력받은 문자열을 두 번 출력하라. "
   ]
  },
  {
   "cell_type": "code",
   "execution_count": 4,
   "metadata": {},
   "outputs": [
    {
     "name": "stdout",
     "output_type": "stream",
     "text": [
      "오랜만이야오랜만이야\n"
     ]
    }
   ],
   "source": [
    "str = input(\"문자열을 입력하세요: \")   # read가 아니고 input!\n",
    "print(str * 2)"
   ]
  },
  {
   "cell_type": "markdown",
   "metadata": {},
   "source": [
    "#### 112 사용자로부터 하나의 숫자를 입력받고, 입력 받은 숫자에 10을 더해 출력하라."
   ]
  },
  {
   "cell_type": "code",
   "execution_count": 6,
   "metadata": {},
   "outputs": [
    {
     "name": "stdout",
     "output_type": "stream",
     "text": [
      "65\n"
     ]
    }
   ],
   "source": [
    "user = input(\"숫자를 입력하세요: \")\n",
    "\n",
    "print(int(user) + 10)  # 그냥 더하면 TypeError: must be str, not int"
   ]
  },
  {
   "cell_type": "markdown",
   "metadata": {},
   "source": [
    "#### 113 사용자로부터 하나의 숫자를 입력 받고 짝수/홀수를 판별하라."
   ]
  },
  {
   "cell_type": "code",
   "execution_count": 13,
   "metadata": {},
   "outputs": [
    {
     "name": "stdout",
     "output_type": "stream",
     "text": [
      "짝수입니다\n"
     ]
    }
   ],
   "source": [
    "user = input(\"숫자를 입력하세요: \")\n",
    "remainder = int(user) % 2\n",
    "if remainder == 0 :\n",
    "    print(\"짝수입니다\")\n",
    "else :                               # 들여쓰기 하니까 systax error 남\n",
    "    print(\"홀수입니다\")               # fi 로 닫아주지 않는다\n"
   ]
  },
  {
   "cell_type": "markdown",
   "metadata": {},
   "source": [
    "#### 114 사용자로부터 값을 입력받은 후 해당 값에 20을 더한 값을 출력하라. 단 사용자가 입력한 값과 20을 더한 계산 값이 255를 초과하는 경우 255를 출력해야 한다."
   ]
  },
  {
   "cell_type": "code",
   "execution_count": 23,
   "metadata": {},
   "outputs": [
    {
     "name": "stdout",
     "output_type": "stream",
     "text": [
      "출력값:  220\n"
     ]
    }
   ],
   "source": [
    "user = input(\"값을 입력하세요: \")\n",
    "value = int(user) + 20\n",
    "if value < 255 :\n",
    "    print(\"출력값: \", value)\n",
    "else:\n",
    "    print(\"출력값: 255\")"
   ]
  },
  {
   "cell_type": "markdown",
   "metadata": {},
   "source": [
    "#### 115 사용자로부터 하나의 값을 입력받은 후 해당 값에 20을 뺀 값을 출력하라. 단 출력 값의 범위는 0~255이다. 예를 들어 결괏값이 0보다 작은 값이되는 경우 0을 출력하고 255보다 큰 값이 되는 경우 255를 출력해야 한다."
   ]
  },
  {
   "cell_type": "code",
   "execution_count": 31,
   "metadata": {},
   "outputs": [
    {
     "name": "stdout",
     "output_type": "stream",
     "text": [
      "83\n"
     ]
    }
   ],
   "source": [
    "user = input(\"값을 입력하세요: \")\n",
    "value = int(user) - 20\n",
    "if value < 0 :\n",
    "    print(\"0\")\n",
    "elif value > 255 :\n",
    "    print(\"255\")\n",
    "else:\n",
    "    print(value)\n",
    "\n"
   ]
  },
  {
   "cell_type": "markdown",
   "metadata": {},
   "source": [
    "#### 116 사용자로부터 입력 받은 시간이 정각인지 판별하라."
   ]
  },
  {
   "cell_type": "code",
   "execution_count": 1,
   "metadata": {},
   "outputs": [
    {
     "name": "stdout",
     "output_type": "stream",
     "text": [
      "정각이 아닙니다\n"
     ]
    }
   ],
   "source": [
    "user = input(\"현재시각 : \")\n",
    "# clock = slice() <- 망한 생각\n",
    "if user[-2:] == \"00\":\n",
    "    print(\"정각입니다\")\n",
    "else:\n",
    "    print(\"정각이 아닙니다\")"
   ]
  },
  {
   "cell_type": "markdown",
   "metadata": {},
   "source": []
  },
  {
   "cell_type": "markdown",
   "metadata": {},
   "source": [
    "#### 117 사용자로 입력받은 단어가 아래 fruit 리스트에 포함되어 있는지를 확인하라. 포함되었다면 \"정답입니다\"를 아닐 경우 \"오답입니다\" 출력하라."
   ]
  },
  {
   "cell_type": "code",
   "execution_count": 9,
   "metadata": {},
   "outputs": [
    {
     "name": "stdout",
     "output_type": "stream",
     "text": [
      "정답입니다\n"
     ]
    }
   ],
   "source": [
    "fruit = [\"사과\", \"포도\", \"홍시\"]\n",
    "answer = input(\"좋아하는 과일은? \")\n",
    "\n",
    "# if answer == fruit: # 정답을 넣어도 오답으로 출력\n",
    "if answer in fruit:   # 정답\n",
    "    print(\"정답입니다\")\n",
    "else: \n",
    "    print(\"오답입니다\")"
   ]
  },
  {
   "cell_type": "markdown",
   "metadata": {},
   "source": [
    "#### 118 투자 경고 종목 리스트가 있을 때 사용자로부터 종목명을 입력 받은 후 해당 종목이 투자 경고 종목이라면 '투자 경고 종목입니다'를 아니면 \"투자 경고 종목이 아닙니다.\"를 출력하는 프로그램을 작성하라."
   ]
  },
  {
   "cell_type": "code",
   "execution_count": 13,
   "metadata": {},
   "outputs": [
    {
     "name": "stdout",
     "output_type": "stream",
     "text": [
      "samsung 는 투자 경고 종목이 아닙니다\n"
     ]
    }
   ],
   "source": [
    "warn_investment_list = [\"Microsoft\", \"Google\", \"Naver\", \"Kakao\", \"SAMSUNG\", \"LG\"]\n",
    "user = input(\"종목명: \")\n",
    "if user in warn_investment_list:\n",
    "    print(user,\"는 투자 경고 종목입니다\")\n",
    "else:\n",
    "    print(user,\"는 투자 경고 종목이 아닙니다\")  # 대소문자 구분하여, 대소문자 다르면 투자 경고 종목임에도, 아니라고 출력된다. 해결책??"
   ]
  },
  {
   "cell_type": "markdown",
   "metadata": {},
   "source": [
    "#### 119 아래와 같이 fruit 딕셔너리가 정의되어 있다. 사용자가 입력한 값이 딕셔너리 키 (key) 값에 포함되었다면 \"정답입니다\"를 아닐 경우 \"오답입니다\" 출력하라."
   ]
  },
  {
   "cell_type": "code",
   "execution_count": 24,
   "metadata": {},
   "outputs": [
    {
     "name": "stdout",
     "output_type": "stream",
     "text": [
      "정답입니다\n"
     ]
    }
   ],
   "source": [
    "fruit = {\"봄\" : \"딸기\", \"여름\" : \"토마토\", \"가을\" : \"사과\"}\n",
    "user = input(\"제가 좋아하는 계절은: \")\n",
    "if user in fruit:\n",
    "    print(\"정답입니다\")\n",
    "else:\n",
    "    print(user,\"은 제가 좋아하는 계절이 아닙니다\")"
   ]
  },
  {
   "cell_type": "markdown",
   "metadata": {},
   "source": [
    "#### 120 사용자가 입력한 값이 딕셔너리 값 (value)에 포함되었다면 \"정답입니다\"를 아닐 경우 \"오답입니다\" 출력하라."
   ]
  },
  {
   "cell_type": "code",
   "execution_count": 33,
   "metadata": {},
   "outputs": [
    {
     "name": "stdout",
     "output_type": "stream",
     "text": [
      "정답입니다\n"
     ]
    }
   ],
   "source": [
    "fruit = {\"봄\" : \"딸기\", \"여름\" : \"토마토\", \"가을\" : \"사과\"}\n",
    "user = input(\"제가 좋아하는 과일은: \")\n",
    "# if user in fruit:                                 # 이렇게 하면 키값만 읽네. 과일은 정답을 넣어도 오답으로 출력되네\n",
    "if user in fruit.values():\n",
    "    print(\"정답입니다\")\n",
    "else:\n",
    "    print(user+\"은(는) 제가 좋아하는 과일이 아닙니다\") # 콤마 대신 + 쓰니까 띄어쓰기 없이 붙여 출력되네"
   ]
  },
  {
   "cell_type": "markdown",
   "metadata": {},
   "source": [
    "#### 121 사용자로부터 문자 한 개를 입력 받고, 소문자일 경우 대문자로, 대문자 일 경우, 소문자로 변경해서 출력하라.\n",
    "##### 힌트-1 : islower() 함수는 문자의 소문자 여부를 판별합니다. \n",
    "##### 만약 소문자일 경우 True, 대문자일 경우 False를 반환합니다. \n",
    "##### 힌트-2 : upper() 함수는 대문자로, lower() 함수는 소문자로 변경합니다."
   ]
  },
  {
   "cell_type": "code",
   "execution_count": 48,
   "metadata": {},
   "outputs": [
    {
     "name": "stdout",
     "output_type": "stream",
     "text": [
      "A\n"
     ]
    }
   ],
   "source": [
    "user = input() # 문자 1개만 입력받으려면, 자릿수 제한이 있어야 하지 않을까??\n",
    "# if islower(user) == True:       # NameError: name 'islower' is not defined\n",
    "if user.islower() == True:\n",
    "    print(user.upper())\n",
    "else: \n",
    "    print(user.lower())\n",
    "\n"
   ]
  },
  {
   "cell_type": "code",
   "execution_count": 51,
   "metadata": {},
   "outputs": [
    {
     "name": "stdout",
     "output_type": "stream",
     "text": [
      "DFS\n"
     ]
    }
   ],
   "source": [
    "user = input(\"\") # 일단 정답은 이거라는데.. 이것도 자릿수 제한은 되지 않는다\n",
    "if user.islower(): \n",
    "    print(user.upper())\n",
    "else:\n",
    "    print(user.lower())"
   ]
  },
  {
   "cell_type": "markdown",
   "metadata": {},
   "source": [
    "#### 122 점수 구간에 해당하는 학점이 아래와 같이 정의되어 있다. 사용자로부터 score를 입력받아 학점을 출력하라."
   ]
  },
  {
   "cell_type": "code",
   "execution_count": 75,
   "metadata": {},
   "outputs": [
    {
     "name": "stdout",
     "output_type": "stream",
     "text": [
      "grade is A\n"
     ]
    }
   ],
   "source": [
    "score = input(\"점수를 입력하세요: \")\n",
    "# if int(score) < 0 or int(score) > 100:             # 예외처리를 어떻게 할지? 이렇게 if문으로 하니 1회만 예외처리 되고 2회째 부터는 예외처리가 되지 않는다\n",
    "#    score = input(\"점수를 다시 입력하세요: \")\n",
    "if 80 < int(score) <= 100: \n",
    "    print(\"grade is A\")\n",
    "elif 60 < int(score) <= 80:\n",
    "    print(\"grade is B\")\n",
    "elif 40 < int(score) <= 60:\n",
    "    print(\"grade is C\")\n",
    "elif 20 < int(score) <= 40:\n",
    "    print(\"grade is D\")\n",
    "else:\n",
    "    print(\"grade is E\")\n"
   ]
  },
  {
   "cell_type": "markdown",
   "metadata": {},
   "source": [
    "##### 123 사용자로부터 달러, 엔, 유로, 또는 위안 금액을 입력받은 후 이를 원으로 변환하는 프로그램을 작성하라. 각 통화별 환율은 다음과 같다. 사용자는 100 달러, 1000 엔, 13 유로, 100 위안과 같이 금액과 통화명 사이에 공백을 넣어 입력한다고 가정한다."
   ]
  },
  {
   "cell_type": "code",
   "execution_count": 78,
   "metadata": {},
   "outputs": [
    {
     "name": "stdout",
     "output_type": "stream",
     "text": [
      "10.96 원\n"
     ]
    }
   ],
   "source": [
    "money = input()                       \n",
    "money_split = money.split(\" \")\n",
    "value=int(money_split[0])\n",
    "currency = money_split[1]\n",
    "if currency == \"달러\":                    # 망한 답\n",
    "    print(value * 1167, \"원\")\n",
    "elif currency == \"엔\":\n",
    "    print(value * 1.096, \"원\")\n",
    "elif currency == \"유로\":\n",
    "    print(value * 1268, \"원\")\n",
    "elif currency == \"위안\":\n",
    "    print(value * 171,\"원\")"
   ]
  },
  {
   "cell_type": "code",
   "execution_count": 77,
   "metadata": {},
   "outputs": [
    {
     "name": "stdout",
     "output_type": "stream",
     "text": [
      "11670.0 원\n"
     ]
    }
   ],
   "source": [
    "환율 = {\"달러\": 1167, \n",
    "        \"엔\": 1.096, \n",
    "        \"유로\": 1268, \n",
    "        \"위안\": 171}\n",
    "user = input(\"입력: \")\n",
    "num, currency = user.split()\n",
    "print(float(num) * 환율[currency], \"원\")  #int 아닌 float으로 받았네?"
   ]
  },
  {
   "cell_type": "markdown",
   "metadata": {},
   "source": [
    "#### 124 사용자로부터 세 개의 숫자를 입력 받은 후 가장 큰 숫자를 출력하라."
   ]
  },
  {
   "cell_type": "code",
   "execution_count": 85,
   "metadata": {},
   "outputs": [
    {
     "ename": "SyntaxError",
     "evalue": "can't assign to function call (<ipython-input-85-da32f5df0853>, line 5)",
     "output_type": "error",
     "traceback": [
      "\u001b[1;36m  File \u001b[1;32m\"<ipython-input-85-da32f5df0853>\"\u001b[1;36m, line \u001b[1;32m5\u001b[0m\n\u001b[1;33m    num.add() = input(\"input number2: \")\u001b[0m\n\u001b[1;37m                                        ^\u001b[0m\n\u001b[1;31mSyntaxError\u001b[0m\u001b[1;31m:\u001b[0m can't assign to function call\n"
     ]
    }
   ],
   "source": [
    "number = []\n",
    "for val in 3:\n",
    "    num = input(\"input number $val : \")\n",
    "    number = num.add()\n",
    "\n",
    "\n"
   ]
  },
  {
   "cell_type": "markdown",
   "metadata": {},
   "source": []
  }
 ],
 "metadata": {
  "interpreter": {
   "hash": "1e704d249feb3353f49391135330cd2e7502d93103c58f163d080ea11b99a8f2"
  },
  "kernelspec": {
   "display_name": "Python 3.6.8 64-bit",
   "name": "python3"
  },
  "language_info": {
   "codemirror_mode": {
    "name": "ipython",
    "version": 3
   },
   "file_extension": ".py",
   "mimetype": "text/x-python",
   "name": "python",
   "nbconvert_exporter": "python",
   "pygments_lexer": "ipython3",
   "version": "3.6.8"
  },
  "orig_nbformat": 4
 },
 "nbformat": 4,
 "nbformat_minor": 2
}
