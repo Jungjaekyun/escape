{
 "cells": [
  {
   "cell_type": "code",
   "execution_count": null,
   "metadata": {},
   "outputs": [],
   "source": [
    "#파이썬과 셀레늄을 활용한 웹테스트 자동화 예제\n",
    "#숫자를 입력 받아서 그 숫자가 0인지 1인지 그 이상인지 알아내는 코드 구현\n",
    "\n",
    "a = input(\"Please enter an integer:\") # 내가 작성\n",
    "if int(a) < 0 :\n",
    "    print(\"입력값이 음수여서 0 으로 치환!\")\n",
    "elif int(a)  == 0 :\n",
    "    print(a)\n",
    "else :\n",
    "    print(\"1 이상\") "
   ]
  },
  {
   "cell_type": "code",
   "execution_count": null,
   "metadata": {},
   "outputs": [],
   "source": [
    "a = int(input(\"Please enter an integer:\")) #정답\n",
    "if a < 0 :\n",
    "    a = 0\n",
    "    print(\"입력값이 음수여서 0 으로 치환!\")\n",
    "elif a == 0 :\n",
    "    print(\"0\")\n",
    "elif a == 1 :\n",
    "    print(\"1\")\n",
    "else:\n",
    "    print(\"1 이상\")\n"
   ]
  },
  {
   "cell_type": "code",
   "execution_count": null,
   "metadata": {},
   "outputs": [],
   "source": [
    "print(3 => 4)"
   ]
  },
  {
   "cell_type": "markdown",
   "metadata": {},
   "source": [
    "## 106 아래 코드 에러의 원인은? "
   ]
  },
  {
   "cell_type": "markdown",
   "metadata": {},
   "source": [
    "#### 111 사용자로부터 입력받은 문자열을 두 번 출력하라. "
   ]
  },
  {
   "cell_type": "code",
   "execution_count": null,
   "metadata": {},
   "outputs": [],
   "source": [
    "str = input(\"문자열을 입력하세요: \")   # read가 아니고 input!\n",
    "print(str * 2)"
   ]
  },
  {
   "cell_type": "markdown",
   "metadata": {},
   "source": [
    "#### 112 사용자로부터 하나의 숫자를 입력받고, 입력 받은 숫자에 10을 더해 출력하라."
   ]
  },
  {
   "cell_type": "code",
   "execution_count": null,
   "metadata": {},
   "outputs": [],
   "source": [
    "user = input(\"숫자를 입력하세요: \")\n",
    "\n",
    "print(int(user) + 10)  # 그냥 더하면 TypeError: must be str, not int"
   ]
  },
  {
   "cell_type": "markdown",
   "metadata": {},
   "source": [
    "#### 113 사용자로부터 하나의 숫자를 입력 받고 짝수/홀수를 판별하라."
   ]
  },
  {
   "cell_type": "code",
   "execution_count": null,
   "metadata": {},
   "outputs": [],
   "source": [
    "user = input(\"숫자를 입력하세요: \")\n",
    "remainder = int(user) % 2\n",
    "if remainder == 0 :\n",
    "    print(\"짝수입니다\")\n",
    "else :                               # 들여쓰기 하니까 systax error 남\n",
    "    print(\"홀수입니다\")               # fi 로 닫아주지 않는다\n"
   ]
  },
  {
   "cell_type": "markdown",
   "metadata": {},
   "source": [
    "#### 114 사용자로부터 값을 입력받은 후 해당 값에 20을 더한 값을 출력하라. 단 사용자가 입력한 값과 20을 더한 계산 값이 255를 초과하는 경우 255를 출력해야 한다."
   ]
  },
  {
   "cell_type": "code",
   "execution_count": null,
   "metadata": {},
   "outputs": [],
   "source": [
    "user = input(\"값을 입력하세요: \")\n",
    "value = int(user) + 20\n",
    "if value < 255 :\n",
    "    print(\"출력값: \", value)\n",
    "else:\n",
    "    print(\"출력값: 255\")"
   ]
  },
  {
   "cell_type": "markdown",
   "metadata": {},
   "source": [
    "#### 115 사용자로부터 하나의 값을 입력받은 후 해당 값에 20을 뺀 값을 출력하라. 단 출력 값의 범위는 0~255이다. 예를 들어 결괏값이 0보다 작은 값이되는 경우 0을 출력하고 255보다 큰 값이 되는 경우 255를 출력해야 한다."
   ]
  },
  {
   "cell_type": "code",
   "execution_count": null,
   "metadata": {},
   "outputs": [],
   "source": [
    "user = input(\"값을 입력하세요: \")\n",
    "value = int(user) - 20\n",
    "if value < 0 :\n",
    "    print(\"0\")\n",
    "elif value > 255 :\n",
    "    print(\"255\")\n",
    "else:\n",
    "    print(value)\n",
    "\n"
   ]
  },
  {
   "cell_type": "markdown",
   "metadata": {},
   "source": [
    "#### 116 사용자로부터 입력 받은 시간이 정각인지 판별하라."
   ]
  },
  {
   "cell_type": "code",
   "execution_count": null,
   "metadata": {},
   "outputs": [],
   "source": [
    "user = input(\"현재시각 : \")\n",
    "# clock = slice() <- 망한 생각\n",
    "if user[-2:] == \"00\":\n",
    "    print(\"정각입니다\")\n",
    "else:\n",
    "    print(\"정각이 아닙니다\")"
   ]
  },
  {
   "cell_type": "markdown",
   "metadata": {},
   "source": []
  },
  {
   "cell_type": "markdown",
   "metadata": {},
   "source": [
    "#### 117 사용자로 입력받은 단어가 아래 fruit 리스트에 포함되어 있는지를 확인하라. 포함되었다면 \"정답입니다\"를 아닐 경우 \"오답입니다\" 출력하라."
   ]
  },
  {
   "cell_type": "code",
   "execution_count": null,
   "metadata": {},
   "outputs": [],
   "source": [
    "fruit = [\"사과\", \"포도\", \"홍시\"]\n",
    "answer = input(\"좋아하는 과일은? \")\n",
    "\n",
    "# if answer == fruit: # 정답을 넣어도 오답으로 출력\n",
    "if answer in fruit:   # 정답\n",
    "    print(\"정답입니다\")\n",
    "else: \n",
    "    print(\"오답입니다\")"
   ]
  },
  {
   "cell_type": "markdown",
   "metadata": {},
   "source": [
    "#### 118 투자 경고 종목 리스트가 있을 때 사용자로부터 종목명을 입력 받은 후 해당 종목이 투자 경고 종목이라면 '투자 경고 종목입니다'를 아니면 \"투자 경고 종목이 아닙니다.\"를 출력하는 프로그램을 작성하라."
   ]
  },
  {
   "cell_type": "code",
   "execution_count": null,
   "metadata": {},
   "outputs": [],
   "source": [
    "warn_investment_list = [\"Microsoft\", \"Google\", \"Naver\", \"Kakao\", \"SAMSUNG\", \"LG\"]\n",
    "\n",
    "user = input(\"종목명: \").capitalize()\n",
    "if user in warn_investment_list:\n",
    "    print(user,\"는 투자 경고 종목입니다\")\n",
    "else:\n",
    "    print(user,\"는 투자 경고 종목이 아닙니다\")  # 대소문자 구분하여, 대소문자 다르면 투자 경고 종목임에도, 아니라고 출력된다. 해결책??"
   ]
  },
  {
   "cell_type": "code",
   "execution_count": null,
   "metadata": {},
   "outputs": [],
   "source": [
    "my_list = [\"가\", \"나\", \"다\", \"라\"]\n",
    "\n",
    "# print(my_list[0])\n",
    "\n",
    "#print(type(list(my_list)))\n",
    "\n",
    "\n",
    "for i in range(3,0,-1): \n",
    "    \n",
    "    print(my_list[i],my_list[i-1]) \n",
    "\n",
    "\n",
    "\n"
   ]
  },
  {
   "cell_type": "markdown",
   "metadata": {},
   "source": [
    "#### 119 아래와 같이 fruit 딕셔너리가 정의되어 있다. 사용자가 입력한 값이 딕셔너리 키 (key) 값에 포함되었다면 \"정답입니다\"를 아닐 경우 \"오답입니다\" 출력하라."
   ]
  },
  {
   "cell_type": "code",
   "execution_count": null,
   "metadata": {},
   "outputs": [],
   "source": [
    "fruit = {\"봄\" : \"딸기\", \"여름\" : \"토마토\", \"가을\" : \"사과\"}\n",
    "user = input(\"제가 좋아하는 계절은: \")\n",
    "if user in fruit:\n",
    "    print(\"정답입니다\")\n",
    "else:\n",
    "    print(user,\"은 제가 좋아하는 계절이 아닙니다\")"
   ]
  },
  {
   "cell_type": "markdown",
   "metadata": {},
   "source": [
    "#### 120 사용자가 입력한 값이 딕셔너리 값 (value)에 포함되었다면 \"정답입니다\"를 아닐 경우 \"오답입니다\" 출력하라."
   ]
  },
  {
   "cell_type": "code",
   "execution_count": null,
   "metadata": {},
   "outputs": [],
   "source": [
    "fruit = {\"봄\" : \"딸기\", \"여름\" : \"토마토\", \"가을\" : \"사과\"}\n",
    "user = input(\"제가 좋아하는 과일은: \")\n",
    "# if user in fruit:                                 # 이렇게 하면 키값만 읽네. 과일은 정답을 넣어도 오답으로 출력되네\n",
    "if user in fruit.values():\n",
    "    print(\"정답입니다\")\n",
    "else:\n",
    "    print(user+\"은(는) 제가 좋아하는 과일이 아닙니다\") # 콤마 대신 + 쓰니까 띄어쓰기 없이 붙여 출력되네"
   ]
  },
  {
   "cell_type": "markdown",
   "metadata": {},
   "source": [
    "#### 121 사용자로부터 문자 한 개를 입력 받고, 소문자일 경우 대문자로, 대문자 일 경우, 소문자로 변경해서 출력하라.\n",
    "##### 힌트-1 : islower() 함수는 문자의 소문자 여부를 판별합니다. \n",
    "##### 만약 소문자일 경우 True, 대문자일 경우 False를 반환합니다. \n",
    "##### 힌트-2 : upper() 함수는 대문자로, lower() 함수는 소문자로 변경합니다."
   ]
  },
  {
   "cell_type": "code",
   "execution_count": null,
   "metadata": {},
   "outputs": [],
   "source": [
    "user = input() # 문자 1개만 입력받으려면, 자릿수 제한이 있어야 하지 않을까??\n",
    "# if islower(user) == True:       # NameError: name 'islower' is not defined\n",
    "if user.islower() == True:\n",
    "    print(user.upper())\n",
    "else: \n",
    "    print(user.lower())\n",
    "\n"
   ]
  },
  {
   "cell_type": "code",
   "execution_count": null,
   "metadata": {},
   "outputs": [],
   "source": [
    "user = input(\"\") # 일단 정답은 이거라는데.. 이것도 자릿수 제한은 되지 않는다\n",
    "if user.islower(): \n",
    "    print(user.upper())\n",
    "else:\n",
    "    print(user.lower())"
   ]
  },
  {
   "cell_type": "markdown",
   "metadata": {},
   "source": [
    "#### 122 점수 구간에 해당하는 학점이 아래와 같이 정의되어 있다. 사용자로부터 score를 입력받아 학점을 출력하라."
   ]
  },
  {
   "cell_type": "code",
   "execution_count": null,
   "metadata": {},
   "outputs": [],
   "source": [
    "score = input(\"점수를 입력하세요: \")\n",
    "# if int(score) < 0 or int(score) > 100:             # 예외처리를 어떻게 할지? 이렇게 if문으로 하니 1회만 예외처리 되고 2회째 부터는 예외처리가 되지 않는다\n",
    "#    score = input(\"점수를 다시 입력하세요: \")\n",
    "if 80 < int(score) <= 100: \n",
    "    print(\"grade is A\")\n",
    "elif 60 < int(score) <= 80:\n",
    "    print(\"grade is B\")\n",
    "elif 40 < int(score) <= 60:\n",
    "    print(\"grade is C\")\n",
    "elif 20 < int(score) <= 40:\n",
    "    print(\"grade is D\")\n",
    "else:\n",
    "    print(\"grade is E\")\n"
   ]
  },
  {
   "cell_type": "markdown",
   "metadata": {},
   "source": [
    "##### 123 사용자로부터 달러, 엔, 유로, 또는 위안 금액을 입력받은 후 이를 원으로 변환하는 프로그램을 작성하라. 각 통화별 환율은 다음과 같다. 사용자는 100 달러, 1000 엔, 13 유로, 100 위안과 같이 금액과 통화명 사이에 공백을 넣어 입력한다고 가정한다."
   ]
  },
  {
   "cell_type": "code",
   "execution_count": null,
   "metadata": {},
   "outputs": [],
   "source": [
    "money = input()                       \n",
    "money_split = money.split(\" \")\n",
    "value=int(money_split[0])\n",
    "currency = money_split[1]\n",
    "if currency == \"달러\":                    # 망한 답\n",
    "    print(value * 1167, \"원\")\n",
    "elif currency == \"엔\":\n",
    "    print(value * 1.096, \"원\")\n",
    "elif currency == \"유로\":\n",
    "    print(value * 1268, \"원\")\n",
    "elif currency == \"위안\":\n",
    "    print(value * 171,\"원\")"
   ]
  },
  {
   "cell_type": "code",
   "execution_count": null,
   "metadata": {},
   "outputs": [],
   "source": [
    "환율 = {\"달러\": 1167, \n",
    "        \"엔\": 1.096, \n",
    "        \"유로\": 1268, \n",
    "        \"위안\": 171}\n",
    "user = input(\"입력: \")\n",
    "num, currency = user.split()\n",
    "print(float(num) * 환율[currency], \"원\")  #int 아닌 float으로 받았네?"
   ]
  },
  {
   "cell_type": "markdown",
   "metadata": {},
   "source": [
    "#### 124 사용자로부터 세 개의 숫자를 입력 받은 후 가장 큰 숫자를 출력하라.\n",
    "##### num1 = input(\"input number1: \")\n",
    "##### num2 = input(\"input number2: \")\n",
    "##### num3 = input(\"input number3: \") 를 for문으로 돌리고 싶으면?"
   ]
  },
  {
   "cell_type": "code",
   "execution_count": null,
   "metadata": {},
   "outputs": [],
   "source": [
    "number = []\n",
    "for val in range(3):\n",
    "    num = input(\"input number :\") #### 어떻게??\n",
    "    number.append(num)  # 리스트 추가는 .add .insert 아니고 .append #052\n",
    "\n",
    "\n",
    "print(max(number)) # FAIL 자리수가 다를 때, 첫번째 큰 수를 출력합니다 10 12 3 일때 max 3출력 <-- 이건 리스트의 값을 int로 인식안하고 str로 인식해서 그런 것 같다\n",
    "print(number)\n",
    "print(type(number[0]))\n",
    "number = []\n",
    "\n"
   ]
  },
  {
   "cell_type": "code",
   "execution_count": null,
   "metadata": {},
   "outputs": [],
   "source": [
    "number = []\n",
    "for val in range(3):\n",
    "    num = input(\"input number {} :\".format(val)) #### number 1/ number 2 / number 3 로 출력하려면 어떻게??\n",
    "    number.append(int(num))  # 추가시 int로 변환\n",
    "print(max(number))\n",
    "print(number)\n",
    "number = []"
   ]
  },
  {
   "cell_type": "markdown",
   "metadata": {},
   "source": [
    "#### 125 휴대폰 번호 앞자리에 따라 통신사는 아래와 같이 구분된다. 사용자로부터 휴대전화 번호를 입력 받고, 통신사를 출력하는 프로그램을 작성하라."
   ]
  },
  {
   "cell_type": "code",
   "execution_count": null,
   "metadata": {},
   "outputs": [],
   "source": [
    "carrier = {\"011\":\"SKT\", \"016\": \"KT\", \"019\":\"LGU\",\"010\":\"알수없음\"}\n",
    "user = input(\"휴대전화 번호 입력\")\n",
    "number = user.split(\"-\") #049\n",
    "\n",
    "sep = number[0]\n",
    "print(sep)\n",
    "if sep in carrier: # 에 있으면?? ## 082 \n",
    "    print(\"당신은 \" + carrier.values(sep)+\" 사용자 입니다.\")\n",
    "\n"
   ]
  },
  {
   "cell_type": "markdown",
   "metadata": {},
   "source": [
    "#### 126 우편번호는 5자리로 구성되는데, 앞의 세자리는 구를 나타낸다. 예를들어, 강북구의 경우 010, 011, 012 세 자리로 시작한다.\n",
    "#### 사용자로 부터 5자리 우편번호를 입력받고 구를 판별하라"
   ]
  },
  {
   "cell_type": "code",
   "execution_count": null,
   "metadata": {},
   "outputs": [],
   "source": [
    "user = input(\"우편번호 :\")\n",
    "# sep = user.split[0:2] ## 이거 아닌가봐? 'builtin_function_or_method' object is not subscriptable\n",
    "sep3 = user[0:3]  \n",
    "sep=int(sep)               #int로 제대로 변환이 안된다\n",
    "print(user, sep)\n",
    "if sep <= 12 or sep >= 10: #012 SyntaxError: invalid token\n",
    "    print(\"강북구\")\n",
    "elif sep <= 15 or sep >=13:\n",
    "    print(\"도봉구\")\n",
    "elif sep <= 19 or sep >= 16:\n",
    "    print(\"노원구\")"
   ]
  },
  {
   "cell_type": "code",
   "execution_count": null,
   "metadata": {},
   "outputs": [],
   "source": [
    "user = input(\"우편번호 :\")\n",
    "user = user[0:3]\n",
    "if user in [\"010\", \"011\", \"012\"]:\n",
    "    print(\"강북구\")\n",
    "elif user in [\"013\", \"014\", \"015\"]:\n",
    "    print(\"도봉구\")\n",
    "elif user in [\"016\", \"017\", \"018\", \"019\"]:\n",
    "    print(\"노원구\")\n",
    "else:\n",
    "    input(\"잘못입력하셨습니다\")\n",
    "\n"
   ]
  },
  {
   "cell_type": "markdown",
   "metadata": {},
   "source": [
    "### 127\n",
    "##### 주민등록번호 뒷 자리 7자리 중 첫째 자리는 성별을 나타내는데, 1, 3은 남자 2, 4는 여자를 의미한다. 사용자로부터 13자리의 주민등록번호를 입력 받은 후 성별 (남자, 여자)를 출력하는 프로그램을 작성하라."
   ]
  },
  {
   "cell_type": "code",
   "execution_count": null,
   "metadata": {},
   "outputs": [],
   "source": [
    "user = input(\"주민등록번호: \")\n",
    "sex = user[7]                        # 내가 짠 거 .. 돌아감\n",
    "\n",
    "if sex == \"2\" or sex == \"4\": \n",
    "    print(\"여자\")\n",
    "else:\n",
    "    print(\"남자\")\n"
   ]
  },
  {
   "cell_type": "code",
   "execution_count": null,
   "metadata": {},
   "outputs": [],
   "source": [
    "user = input(\"주민등록번호: \")\n",
    "user = user.split(\"-\")[1]\n",
    "\n",
    "if user[0] == \"2\" or user[0] == \"4\":\n",
    "    print(\"여자\")\n",
    "else:\n",
    "    print(\"남자\")"
   ]
  },
  {
   "cell_type": "markdown",
   "metadata": {},
   "source": [
    "#### 128\n",
    "주민등록번호의 뒷 자리 7자리 중 두번째와 세번째는 지역코드를 의미한다. 주민 등록 번호를 입력 받은 후 출생지가 서울인지 아닌지 판단하는 코드를 작성하라"
   ]
  },
  {
   "cell_type": "code",
   "execution_count": null,
   "metadata": {},
   "outputs": [],
   "source": [
    "user = input(\"주민등록번호: \")\n",
    "id = str(user)\n",
    "check = id[8]+id[9]\n",
    "# print(check)\n",
    "if int(check) <= 8:\n",
    "    print(\"서울입니다\")\n",
    "else:\n",
    "    print(\"서울이 아닙니다\")"
   ]
  },
  {
   "cell_type": "markdown",
   "metadata": {},
   "source": [
    "### 129\n",
    "##### 주민등록번호는 13자리로 구성되는데 마지막 자리수는 주민등록번호의 유효성을 체크하는데 사용된다. 먼저 앞에서부터 12자리의 숫자에 2, 3, 4, 5, 6, 7, 8, 9, 2, 3, 4, 5를 차례로 곱한 뒤 그 값을 전부 더한다. 연산 결과 값을 11로 나누면 나머지가 나오는데 11에서 나머지를 뺀 값이 주민등록번호의 마지막 번호가 된다.\n",
    "\n",
    "##### 위와 같이 821010-1635210에 대해서 계산을 해보면 마지막 자리는 4가 되어야 함을 알 수 있다. 즉, 821010-1635210은 유효하지 않은 주민등록번호임을 알 수 있다.\n",
    "\n",
    "다음과 같이 사용자로부터 주민등록번호를 입력받은 후 주민등록번호가 유효한지를 출력하는 프로그램을 작성하라."
   ]
  },
  {
   "cell_type": "code",
   "execution_count": null,
   "metadata": {},
   "outputs": [],
   "source": [
    "#id = input(\"주민등록번호: \")\n",
    "id = \"821010-1635210\"\n",
    "print(type(id), id)\n",
    "#id1, id2 = id.split(\"-\")   ## int타입은 split 되지 않습니다 ## FAIL\n",
    "#print(id1, id2)\n",
    "#for i in range(2, 7):\n",
    "#    subtotal = int(id1[i-2]) * i\n",
    "#    sum = subtotal.add()\n",
    "#for j in range ()"
   ]
  },
  {
   "cell_type": "code",
   "execution_count": null,
   "metadata": {},
   "outputs": [],
   "source": [
    "#id = input(\"주민등록번호: \")\n",
    "id = \"821010-1635210\" # int로 인식. 821010-1635210을 계산해서 -814200 로 인식함!!\n",
    "\n",
    "id_str = id.split(\"-\")\n",
    "print(id_str)\n",
    "sum =0 \n",
    "for i in range(0,6):\n",
    "    sum1 = int(id_str[0][i]) * (i+2)\n",
    "    \n",
    "    sum += sum1   # 먼저 sum 이 정의되어야 한다잉\n",
    "    print(sum)\n",
    "for i "
   ]
  },
  {
   "cell_type": "code",
   "execution_count": null,
   "metadata": {},
   "outputs": [],
   "source": [
    "id0 = input(\"주민등록번호: \")\n",
    "#id0 = \"821010-1635210\" # int로 인식. 821010-1635210을 계산해서 -814200 로 인식함!!\n",
    "\n",
    "id = id0.replace(\"-\",\"\")\n",
    "# print(type(id), id)\n",
    "\n",
    "sum = 0\n",
    "for i in range(0, 11):\n",
    "    if i >= 8:\n",
    "        subsum = int(id[i])*(i+2-10)\n",
    "        sum += subsum\n",
    "        # print(id[i], subsum, sum)\n",
    "    else: #(i+2) 가 10보다 작을 때\n",
    "        subsum = int(id[i])*(i+2)\n",
    "        sum += subsum\n",
    "        # print(id[i], subsum, sum)\n",
    "checksum = 11 - (sum % 11)\n",
    "if checksum == id[12]:\n",
    "    print(id0, \"는 유효한 주민등록번호\")\n",
    "else: \n",
    "    print(id0, \"는 유효하지 않은 주민등록번호\")\n"
   ]
  },
  {
   "cell_type": "markdown",
   "metadata": {},
   "source": [
    "#### 130\n",
    "아래 코드는 비트코인의 가격 정보를 딕셔너리로 가져오는 코드이다.\n",
    "btc 딕셔너리 안에는 시가, 종가, 최고가, 최저가 등이 저장되어 있다. \n",
    "최고가와 최저가의 차이를 변동폭으로 정의할 때 (시가 + 변동폭)이 최고가 보다 높을 경우 \"상승장\", 그렇지 않은 경우 \"하락장\" 문자열을 출력하라."
   ]
  },
  {
   "cell_type": "code",
   "execution_count": null,
   "metadata": {},
   "outputs": [],
   "source": [
    "import requests\n",
    "btc = requests.get(\"https://api.bithumb.com/public/ticker/\").json()['data']\n",
    "\n",
    "# 변동폭 = max_price - min_price\n",
    "# 기준 = openint_price + 변동폭\n",
    "if 기준 > max_price:\n",
    "    print(\"상승장\")\n",
    "else:\n",
    "    print(\"하락장\")"
   ]
  },
  {
   "cell_type": "code",
   "execution_count": null,
   "metadata": {},
   "outputs": [],
   "source": [
    "import requests\n",
    "btc = requests.get(\"https://api.bithumb.com/public/ticker/\").json()['data']\n",
    "\n",
    "변동폭 = float(btc['max_price']) - float(btc['min_price'])\n",
    "기준 = float(btc['opening_price']) + 변동폭\n",
    "\n",
    "if 기준 > float(btc['max_price']):\n",
    "    print(\"상승장\")\n",
    "else:\n",
    "    print(\"하락장\")\n"
   ]
  },
  {
   "cell_type": "code",
   "execution_count": null,
   "metadata": {},
   "outputs": [],
   "source": [
    "!pip install requests"
   ]
  },
  {
   "cell_type": "code",
   "execution_count": null,
   "metadata": {},
   "outputs": [],
   "source": [
    "import requests\n",
    "btc = requests.get(\"https://api.bithumb.com/public/ticker/\").json()['data']\n",
    "\n",
    "변동폭 = float(btc['max_price']) - float(btc['min_price'])\n",
    "시가 = float(btc['opening_price'])\n",
    "최고가 = float(btc['max_price'])\n",
    "\n",
    "if (시가+변동폭) > 최고가:\n",
    "    print(\"상승장\")\n",
    "else:\n",
    "    print(\"하락장\")"
   ]
  }
 ],
 "metadata": {
  "interpreter": {
   "hash": "1e704d249feb3353f49391135330cd2e7502d93103c58f163d080ea11b99a8f2"
  },
  "kernelspec": {
   "display_name": "Python 3.6.8 64-bit",
   "name": "python3"
  },
  "language_info": {
   "codemirror_mode": {
    "name": "ipython",
    "version": 3
   },
   "file_extension": ".py",
   "mimetype": "text/x-python",
   "name": "python",
   "nbconvert_exporter": "python",
   "pygments_lexer": "ipython3",
   "version": "3.6.8"
  },
  "orig_nbformat": 4
 },
 "nbformat": 4,
 "nbformat_minor": 2
}
