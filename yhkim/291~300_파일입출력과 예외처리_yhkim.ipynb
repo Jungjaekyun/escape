{
 "cells": [
  {
   "cell_type": "markdown",
   "metadata": {},
   "source": [
    "## 291 파일 쓰기\n",
    "#### 바탕화면에 '매수종목1.txt' 파일을 생성한 후 다음과 같이 종목코드를 파일에 써보세요."
   ]
  },
  {
   "cell_type": "code",
   "execution_count": 3,
   "metadata": {},
   "outputs": [],
   "source": [
    "f = open(\"C:/Users/YHKIM/Desktop/매수종목1.txt\", mode=\"wt\", encoding=\"utf-8\")\n",
    "f.write(\"005930\\n\")\n",
    "f.write(\"005380\\n\")\n",
    "f.write(\"035420\\n\")\n",
    "f.close()"
   ]
  },
  {
   "cell_type": "markdown",
   "metadata": {},
   "source": [
    "## 292\n",
    "##### 바탕화면에 '매수종목2.txt' 파일을 생성한 후 다음과 같이 종목코드와 종목명을 파일에 써보세요."
   ]
  },
  {
   "cell_type": "code",
   "execution_count": 2,
   "metadata": {},
   "outputs": [],
   "source": [
    "f = open(\"C:/Users/YHKIM/Desktop/매수종목2.txt\", mode=\"wt\", encoding=\"utf-8\")\n",
    "f.write(\"005930 삼성전자\\n\")\n",
    "f.write(\"005380 현대차\\n\")\n",
    "f.write(\"035420 NAVER\\n\")\n",
    "f.close()"
   ]
  },
  {
   "cell_type": "markdown",
   "metadata": {},
   "source": [
    "## 293 CSV 파일 쓰기\n",
    "#### 바탕화면에 '매수종목.csv' 파일을 생성한 후 다음과 같이 종목코드와 종목명을 파일에 써보세요. 인코딩은 'cp949'를 사용해야합니다"
   ]
  },
  {
   "cell_type": "code",
   "execution_count": 5,
   "metadata": {},
   "outputs": [],
   "source": [
    "f = open(\"C:/Users/YHKIM/Desktop/매수종목.csv\", mode=\"wt\", encoding=\"cp949\") ## FAIL 이렇게 했더니 첫번째 라인(A1~A3)에 쓰여짐\n",
    "f.write(\"종목명\\t종목코드\\t PER\\n\")\n",
    "f.write(\"삼성전자\\t005930\\t 15.79\\n\")\n",
    "f.write(\"NAVER\\t035420\\t 55.82\\n\")\n",
    "f.close()"
   ]
  },
  {
   "cell_type": "code",
   "execution_count": 12,
   "metadata": {},
   "outputs": [],
   "source": [
    "import csv\n",
    "\n",
    "f = open(\"C:/Users/YHKIM/Desktop/매수종목_293.csv\", mode=\"wt\", encoding=\"cp949\", newline='') # 정답\n",
    "writer = csv.writer(f)\n",
    "writer.writerow([\"종목명\", \"종목코드\", \"PER\"])\n",
    "writer.writerow([\"삼성전자\", \"005930\", \"15.79\"])\n",
    "writer.writerow([\"NAVER\", \"035420\", \"55.82\"])\n",
    "f.close()"
   ]
  },
  {
   "cell_type": "markdown",
   "metadata": {},
   "source": [
    "## 294 파일 읽기\n",
    "##### 바탕화면에 생성한 '매수종목1.txt' 파일을 읽은 후 종목코드를 리스트에 저장해보세요."
   ]
  },
  {
   "cell_type": "code",
   "execution_count": 17,
   "metadata": {},
   "outputs": [
    {
     "name": "stdout",
     "output_type": "stream",
     "text": [
      "['005930\\n', '005380\\n', '035420\\n']\n"
     ]
    }
   ],
   "source": [
    "# f = open(\"C:/Users/YHKIM/Desktop/매수종목1.txt\", mode=\"rd\", encoding=\"utf-8\") # FAIL ..value error\n",
    "f = open(\"C:/Users/YHKIM/Desktop/매수종목1.txt\", encoding=\"utf-8\")\n",
    "# data = list(f.read()) # FAIL .. 숫자 1개 씩 저장됨\n",
    "# data = list(f.readline()) # FAIL.. 첫째줄의 값이 1개 씩 저장됨\n",
    "data = list(f.readlines()) # FAIL ['005930\\n', '005380\\n', '035420\\n']\n",
    "print(data)\n",
    "f.close()\n"
   ]
  },
  {
   "cell_type": "code",
   "execution_count": 19,
   "metadata": {},
   "outputs": [
    {
     "name": "stdout",
     "output_type": "stream",
     "text": [
      "['005930', '005380', '035420']\n"
     ]
    }
   ],
   "source": [
    "f = open(\"C:/Users/YHKIM/Desktop/매수종목1.txt\", encoding=\"utf-8\") ## 정답\n",
    "lines = f.readlines()\n",
    "\n",
    "codes = []\n",
    "for line in lines:\n",
    "    code = line.strip() #\\n 제거\n",
    "    codes.append(code)\n",
    "print(codes)\n",
    "\n",
    "f.close()"
   ]
  },
  {
   "cell_type": "markdown",
   "metadata": {},
   "source": [
    "#### 개행문자 제거 https://docs.python.org/ko/3/tutorial/inputoutput.html"
   ]
  },
  {
   "cell_type": "code",
   "execution_count": 4,
   "metadata": {},
   "outputs": [
    {
     "name": "stdout",
     "output_type": "stream",
     "text": [
      "Old String:\n",
      "'\tHello, how are you\n",
      "'\n",
      "New String:\n",
      "'\tHello, how are you'\n"
     ]
    }
   ],
   "source": [
    "string = \"\\tHello, how are you\\n\"\n",
    "print(\"Old String:\")\n",
    "print(\"'\" + string + \"'\")\n",
    "\n",
    "string = string.strip('\\n')\n",
    "print(\"New String:\")\n",
    "print(\"'\" + string + \"'\")\n"
   ]
  }
 ],
 "metadata": {
  "interpreter": {
   "hash": "1e704d249feb3353f49391135330cd2e7502d93103c58f163d080ea11b99a8f2"
  },
  "kernelspec": {
   "display_name": "Python 3.6.8 64-bit",
   "name": "python3"
  },
  "language_info": {
   "codemirror_mode": {
    "name": "ipython",
    "version": 3
   },
   "file_extension": ".py",
   "mimetype": "text/x-python",
   "name": "python",
   "nbconvert_exporter": "python",
   "pygments_lexer": "ipython3",
   "version": "3.6.8"
  },
  "orig_nbformat": 4
 },
 "nbformat": 4,
 "nbformat_minor": 2
}
