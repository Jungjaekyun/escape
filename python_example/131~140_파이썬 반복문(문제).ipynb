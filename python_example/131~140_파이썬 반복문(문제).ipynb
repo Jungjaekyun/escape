{
 "cells": [
  {
   "cell_type": "markdown",
   "source": [
    "https://wikidocs.net/78562\r\n"
   ],
   "metadata": {}
  },
  {
   "cell_type": "code",
   "execution_count": null,
   "source": [
    "# 131\r\n",
    "# for문의 실행결과를 예측하라.\r\n",
    "\r\n",
    "# 과일 = [\"사과\", \"귤\", \"수박\"]\r\n",
    "# for 변수 in 과일:\r\n",
    "#     print(변수)\r\n",
    "# 정답확인\r\n"
   ],
   "outputs": [],
   "metadata": {}
  },
  {
   "cell_type": "code",
   "execution_count": null,
   "source": [
    "# 132\r\n",
    "# for문의 실행결과를 예측하라.\r\n",
    "\r\n",
    "# 과일 = [\"사과\", \"귤\", \"수박\"]\r\n",
    "# for 변수 in 과일:\r\n",
    "#   print(\"#####\")\r\n"
   ],
   "outputs": [],
   "metadata": {}
  },
  {
   "cell_type": "code",
   "execution_count": null,
   "source": [
    "# 정답확인\r\n",
    "# 133\r\n",
    "# 다음 for 문과 동일한 기능을 수행하는 코드를 작성하세요.\r\n",
    "\r\n",
    "# for 변수 in [\"A\", \"B\", \"C\"]:\r\n",
    "#   print(변수)\r\n",
    "# 정답확인\r\n"
   ],
   "outputs": [],
   "metadata": {}
  },
  {
   "cell_type": "code",
   "execution_count": null,
   "source": [
    "# 134\r\n",
    "# for문을 풀어서 동일한 동작을하는 코드를 작성하라.\r\n",
    "\r\n",
    "# for 변수 in [\"A\", \"B\", \"C\"]:\r\n",
    "#   print(\"출력:\", 변수)\r\n",
    "# 정답확인\r\n"
   ],
   "outputs": [],
   "metadata": {}
  },
  {
   "cell_type": "code",
   "execution_count": null,
   "source": [
    "# 135\r\n",
    "# for문을 풀어서 동일한 동작을 하는 코드를 작성하라.\r\n",
    "\r\n",
    "# for 변수 in [\"A\", \"B\", \"C\"]:\r\n",
    "#   b = 변수.lower()\r\n",
    "#   print(\"변환:\", b)\r\n",
    "# 정답확인\r\n"
   ],
   "outputs": [],
   "metadata": {}
  },
  {
   "cell_type": "code",
   "execution_count": null,
   "source": [
    "\r\n",
    "# 136\r\n",
    "# 다음 코드를 for문으로 작성하라.\r\n",
    "\r\n",
    "# 변수 = 10\r\n",
    "# print(변수)\r\n",
    "# 변수 = 20\r\n",
    "# print(변수)\r\n",
    "# 변수 = 30\r\n",
    "# print(변수)\r\n",
    "# 정답확인\r\n"
   ],
   "outputs": [],
   "metadata": {}
  },
  {
   "cell_type": "code",
   "execution_count": null,
   "source": [
    "# 137\r\n",
    "# 다음 코드를 for문으로 작성하라.\r\n",
    "\r\n",
    "# print(10)\r\n",
    "# print(20)\r\n",
    "# print(30)\r\n",
    "# 정답확인\r\n"
   ],
   "outputs": [],
   "metadata": {}
  },
  {
   "cell_type": "code",
   "execution_count": null,
   "source": [
    "# 138\r\n",
    "# 다음 코드를 for문으로 작성하라.\r\n",
    "\r\n",
    "# print(10)\r\n",
    "# print(\"-------\")\r\n",
    "# print(20)\r\n",
    "# print(\"-------\")\r\n",
    "# print(30)\r\n",
    "# print(\"-------\")\r\n",
    "# 정답확인\r\n"
   ],
   "outputs": [],
   "metadata": {}
  },
  {
   "cell_type": "code",
   "execution_count": null,
   "source": [
    "# 139\r\n",
    "# 다음 코드를 for문으로 작성하라.\r\n",
    "\r\n",
    "# print(\"++++\")\r\n",
    "# print(10)\r\n",
    "# print(20)\r\n",
    "# print(30)\r\n",
    "# 정답확인\r\n"
   ],
   "outputs": [],
   "metadata": {}
  },
  {
   "cell_type": "code",
   "execution_count": null,
   "source": [
    "# 140\r\n",
    "# 다음 코드를 for문으로 작성하라.\r\n",
    "\r\n",
    "# print(\"-------\")\r\n",
    "# print(\"-------\")\r\n",
    "# print(\"-------\")\r\n",
    "# print(\"-------\")\r\n",
    "# 정답확인\r\n"
   ],
   "outputs": [],
   "metadata": {}
  }
 ],
 "metadata": {
  "orig_nbformat": 4,
  "language_info": {
   "name": "python"
  }
 },
 "nbformat": 4,
 "nbformat_minor": 2
}